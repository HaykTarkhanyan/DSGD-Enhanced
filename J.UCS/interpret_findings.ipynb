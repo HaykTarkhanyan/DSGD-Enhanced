{
 "cells": [
  {
   "cell_type": "code",
   "execution_count": 1,
   "id": "f02bab61",
   "metadata": {},
   "outputs": [],
   "source": [
    "import os\n",
    "import pandas as pd\n"
   ]
  },
  {
   "cell_type": "code",
   "execution_count": 2,
   "id": "a01b30bd",
   "metadata": {},
   "outputs": [],
   "source": [
    "df = pd.read_csv(os.path.join('res', \"MAF_Comparison.csv\"))"
   ]
  },
  {
   "cell_type": "code",
   "execution_count": 3,
   "id": "de069fc2",
   "metadata": {},
   "outputs": [
    {
     "data": {
      "application/vnd.microsoft.datawrangler.viewer.v0+json": {
       "columns": [
        {
         "name": "index",
         "rawType": "int64",
         "type": "integer"
        },
        {
         "name": "MAF method",
         "rawType": "object",
         "type": "string"
        },
        {
         "name": "dataset",
         "rawType": "object",
         "type": "string"
        },
        {
         "name": "accuracy",
         "rawType": "float64",
         "type": "float"
        },
        {
         "name": "f1",
         "rawType": "float64",
         "type": "float"
        },
        {
         "name": "training_time",
         "rawType": "float64",
         "type": "float"
        },
        {
         "name": "epochs",
         "rawType": "int64",
         "type": "integer"
        },
        {
         "name": "min_loss",
         "rawType": "float64",
         "type": "float"
        },
        {
         "name": "initial_loss",
         "rawType": "float64",
         "type": "float"
        }
       ],
       "ref": "a990e830-f719-4db7-91fd-05fad30b144a",
       "rows": [
        [
         "0",
         "clustering",
         "Brain Tumor",
         "0.981",
         "0.98",
         "138.469",
         "117",
         "0.018",
         "0.181"
        ],
        [
         "1",
         "random",
         "Brain Tumor",
         "0.983",
         "0.981",
         "157.075",
         "132",
         "0.026",
         "0.245"
        ],
        [
         "2",
         "clustering",
         "Breast Cancer",
         "0.976",
         "0.966",
         "17.243",
         "73",
         "0.023",
         "0.228"
        ],
        [
         "3",
         "random",
         "Breast Cancer",
         "0.976",
         "0.966",
         "19.63",
         "117",
         "0.031",
         "0.308"
        ],
        [
         "4",
         "clustering",
         "Gaussian",
         "0.987",
         "0.988",
         "15.792",
         "100",
         "0.017",
         "0.083"
        ],
        [
         "5",
         "random",
         "Gaussian",
         "0.987",
         "0.988",
         "39.059",
         "264",
         "0.024",
         "0.265"
        ],
        [
         "6",
         "clustering",
         "Rectangle",
         "1.0",
         "1.0",
         "61.032",
         "167",
         "0.006",
         "0.252"
        ],
        [
         "7",
         "random",
         "Rectangle",
         "1.0",
         "1.0",
         "98.64",
         "275",
         "0.008",
         "0.235"
        ],
        [
         "8",
         "clustering",
         "Uniform",
         "0.973",
         "0.97",
         "20.683",
         "120",
         "0.035",
         "0.197"
        ],
        [
         "9",
         "random",
         "Uniform",
         "0.973",
         "0.97",
         "39.208",
         "273",
         "0.037",
         "0.255"
        ]
       ],
       "shape": {
        "columns": 8,
        "rows": 10
       }
      },
      "text/html": [
       "<div>\n",
       "<style scoped>\n",
       "    .dataframe tbody tr th:only-of-type {\n",
       "        vertical-align: middle;\n",
       "    }\n",
       "\n",
       "    .dataframe tbody tr th {\n",
       "        vertical-align: top;\n",
       "    }\n",
       "\n",
       "    .dataframe thead th {\n",
       "        text-align: right;\n",
       "    }\n",
       "</style>\n",
       "<table border=\"1\" class=\"dataframe\">\n",
       "  <thead>\n",
       "    <tr style=\"text-align: right;\">\n",
       "      <th></th>\n",
       "      <th>MAF method</th>\n",
       "      <th>dataset</th>\n",
       "      <th>accuracy</th>\n",
       "      <th>f1</th>\n",
       "      <th>training_time</th>\n",
       "      <th>epochs</th>\n",
       "      <th>min_loss</th>\n",
       "      <th>initial_loss</th>\n",
       "    </tr>\n",
       "  </thead>\n",
       "  <tbody>\n",
       "    <tr>\n",
       "      <th>0</th>\n",
       "      <td>clustering</td>\n",
       "      <td>Brain Tumor</td>\n",
       "      <td>0.981</td>\n",
       "      <td>0.980</td>\n",
       "      <td>138.469</td>\n",
       "      <td>117</td>\n",
       "      <td>0.018</td>\n",
       "      <td>0.181</td>\n",
       "    </tr>\n",
       "    <tr>\n",
       "      <th>1</th>\n",
       "      <td>random</td>\n",
       "      <td>Brain Tumor</td>\n",
       "      <td>0.983</td>\n",
       "      <td>0.981</td>\n",
       "      <td>157.075</td>\n",
       "      <td>132</td>\n",
       "      <td>0.026</td>\n",
       "      <td>0.245</td>\n",
       "    </tr>\n",
       "    <tr>\n",
       "      <th>2</th>\n",
       "      <td>clustering</td>\n",
       "      <td>Breast Cancer</td>\n",
       "      <td>0.976</td>\n",
       "      <td>0.966</td>\n",
       "      <td>17.243</td>\n",
       "      <td>73</td>\n",
       "      <td>0.023</td>\n",
       "      <td>0.228</td>\n",
       "    </tr>\n",
       "    <tr>\n",
       "      <th>3</th>\n",
       "      <td>random</td>\n",
       "      <td>Breast Cancer</td>\n",
       "      <td>0.976</td>\n",
       "      <td>0.966</td>\n",
       "      <td>19.630</td>\n",
       "      <td>117</td>\n",
       "      <td>0.031</td>\n",
       "      <td>0.308</td>\n",
       "    </tr>\n",
       "    <tr>\n",
       "      <th>4</th>\n",
       "      <td>clustering</td>\n",
       "      <td>Gaussian</td>\n",
       "      <td>0.987</td>\n",
       "      <td>0.988</td>\n",
       "      <td>15.792</td>\n",
       "      <td>100</td>\n",
       "      <td>0.017</td>\n",
       "      <td>0.083</td>\n",
       "    </tr>\n",
       "    <tr>\n",
       "      <th>5</th>\n",
       "      <td>random</td>\n",
       "      <td>Gaussian</td>\n",
       "      <td>0.987</td>\n",
       "      <td>0.988</td>\n",
       "      <td>39.059</td>\n",
       "      <td>264</td>\n",
       "      <td>0.024</td>\n",
       "      <td>0.265</td>\n",
       "    </tr>\n",
       "    <tr>\n",
       "      <th>6</th>\n",
       "      <td>clustering</td>\n",
       "      <td>Rectangle</td>\n",
       "      <td>1.000</td>\n",
       "      <td>1.000</td>\n",
       "      <td>61.032</td>\n",
       "      <td>167</td>\n",
       "      <td>0.006</td>\n",
       "      <td>0.252</td>\n",
       "    </tr>\n",
       "    <tr>\n",
       "      <th>7</th>\n",
       "      <td>random</td>\n",
       "      <td>Rectangle</td>\n",
       "      <td>1.000</td>\n",
       "      <td>1.000</td>\n",
       "      <td>98.640</td>\n",
       "      <td>275</td>\n",
       "      <td>0.008</td>\n",
       "      <td>0.235</td>\n",
       "    </tr>\n",
       "    <tr>\n",
       "      <th>8</th>\n",
       "      <td>clustering</td>\n",
       "      <td>Uniform</td>\n",
       "      <td>0.973</td>\n",
       "      <td>0.970</td>\n",
       "      <td>20.683</td>\n",
       "      <td>120</td>\n",
       "      <td>0.035</td>\n",
       "      <td>0.197</td>\n",
       "    </tr>\n",
       "    <tr>\n",
       "      <th>9</th>\n",
       "      <td>random</td>\n",
       "      <td>Uniform</td>\n",
       "      <td>0.973</td>\n",
       "      <td>0.970</td>\n",
       "      <td>39.208</td>\n",
       "      <td>273</td>\n",
       "      <td>0.037</td>\n",
       "      <td>0.255</td>\n",
       "    </tr>\n",
       "  </tbody>\n",
       "</table>\n",
       "</div>"
      ],
      "text/plain": [
       "   MAF method        dataset  accuracy     f1  training_time  epochs  \\\n",
       "0  clustering    Brain Tumor     0.981  0.980        138.469     117   \n",
       "1      random    Brain Tumor     0.983  0.981        157.075     132   \n",
       "2  clustering  Breast Cancer     0.976  0.966         17.243      73   \n",
       "3      random  Breast Cancer     0.976  0.966         19.630     117   \n",
       "4  clustering       Gaussian     0.987  0.988         15.792     100   \n",
       "5      random       Gaussian     0.987  0.988         39.059     264   \n",
       "6  clustering      Rectangle     1.000  1.000         61.032     167   \n",
       "7      random      Rectangle     1.000  1.000         98.640     275   \n",
       "8  clustering        Uniform     0.973  0.970         20.683     120   \n",
       "9      random        Uniform     0.973  0.970         39.208     273   \n",
       "\n",
       "   min_loss  initial_loss  \n",
       "0     0.018         0.181  \n",
       "1     0.026         0.245  \n",
       "2     0.023         0.228  \n",
       "3     0.031         0.308  \n",
       "4     0.017         0.083  \n",
       "5     0.024         0.265  \n",
       "6     0.006         0.252  \n",
       "7     0.008         0.235  \n",
       "8     0.035         0.197  \n",
       "9     0.037         0.255  "
      ]
     },
     "execution_count": 3,
     "metadata": {},
     "output_type": "execute_result"
    }
   ],
   "source": [
    "df"
   ]
  },
  {
   "cell_type": "code",
   "execution_count": 4,
   "id": "ea9b50c0",
   "metadata": {},
   "outputs": [
    {
     "data": {
      "text/plain": [
       "Index(['MAF method', 'dataset', 'accuracy', 'f1', 'training_time', 'epochs',\n",
       "       'min_loss', 'initial_loss'],\n",
       "      dtype='object')"
      ]
     },
     "execution_count": 4,
     "metadata": {},
     "output_type": "execute_result"
    }
   ],
   "source": [
    "df.columns"
   ]
  },
  {
   "cell_type": "code",
   "execution_count": 8,
   "id": "694ac4d4",
   "metadata": {},
   "outputs": [
    {
     "data": {
      "text/plain": [
       "<Axes: xlabel='dataset'>"
      ]
     },
     "execution_count": 8,
     "metadata": {},
     "output_type": "execute_result"
    },
    {
     "data": {
      "image/png": "[encoded data removed]",
      "text/plain": [
       "<Figure size 1200x600 with 1 Axes>"
      ]
     },
     "metadata": {},
     "output_type": "display_data"
    }
   ],
   "source": [
    "# bar plot of min_loss per method for each dataset\n",
    "df.groupby(['dataset', 'MAF method'])['min_loss'].mean().unstack().plot(kind='bar', figsize=(12, 6))\n"
   ]
  },
  {
   "cell_type": "code",
   "execution_count": 18,
   "id": "56e6a8bc",
   "metadata": {},
   "outputs": [
    {
     "data": {
      "application/vnd.microsoft.datawrangler.viewer.v0+json": {
       "columns": [
        {
         "name": "index",
         "rawType": "int64",
         "type": "integer"
        },
        {
         "name": "MAF method",
         "rawType": "object",
         "type": "string"
        },
        {
         "name": "dataset",
         "rawType": "object",
         "type": "string"
        },
        {
         "name": "accuracy",
         "rawType": "float64",
         "type": "float"
        },
        {
         "name": "f1",
         "rawType": "float64",
         "type": "float"
        },
        {
         "name": "training_time",
         "rawType": "float64",
         "type": "float"
        },
        {
         "name": "epochs",
         "rawType": "int64",
         "type": "integer"
        },
        {
         "name": "min_loss",
         "rawType": "float64",
         "type": "float"
        },
        {
         "name": "initial_loss",
         "rawType": "float64",
         "type": "float"
        },
        {
         "name": "baseline_loss",
         "rawType": "float64",
         "type": "float"
        },
        {
         "name": "loss_diff",
         "rawType": "float64",
         "type": "float"
        },
        {
         "name": "min_loss_diff",
         "rawType": "float64",
         "type": "float"
        }
       ],
       "ref": "7cd2c5c8-e435-4926-bae3-24d3f9898ac5",
       "rows": [
        [
         "0",
         "clustering",
         "Brain Tumor",
         "0.981",
         "0.98",
         "138.469",
         "117",
         "0.018",
         "0.181",
         null,
         null,
         "0.0"
        ],
        [
         "1",
         "random",
         "Brain Tumor",
         "0.983",
         "0.981",
         "157.075",
         "132",
         "0.026",
         "0.245",
         null,
         null,
         "11.84529683272322"
        ],
        [
         "2",
         "clustering",
         "Breast Cancer",
         "0.976",
         "0.966",
         "17.243",
         "73",
         "0.023",
         "0.228",
         null,
         null,
         "0.0"
        ],
        [
         "3",
         "random",
         "Breast Cancer",
         "0.976",
         "0.966",
         "19.63",
         "117",
         "0.031",
         "0.308",
         null,
         null,
         "12.159959246051963"
        ],
        [
         "4",
         "clustering",
         "Gaussian",
         "0.987",
         "0.988",
         "15.792",
         "100",
         "0.017",
         "0.083",
         null,
         null,
         "0.0"
        ],
        [
         "5",
         "random",
         "Gaussian",
         "0.987",
         "0.988",
         "39.059",
         "264",
         "0.024",
         "0.265",
         null,
         null,
         "59.56885736962031"
        ],
        [
         "6",
         "clustering",
         "Rectangle",
         "1.0",
         "1.0",
         "61.032",
         "167",
         "0.006",
         "0.252",
         null,
         null,
         "0.0"
        ],
        [
         "7",
         "random",
         "Rectangle",
         "1.0",
         "1.0",
         "98.64",
         "275",
         "0.008",
         "0.235",
         null,
         null,
         "38.126520681265205"
        ],
        [
         "8",
         "clustering",
         "Uniform",
         "0.973",
         "0.97",
         "20.683",
         "120",
         "0.035",
         "0.197",
         null,
         null,
         "0.0"
        ],
        [
         "9",
         "random",
         "Uniform",
         "0.973",
         "0.97",
         "39.208",
         "273",
         "0.037",
         "0.255",
         null,
         null,
         "47.248010610079575"
        ]
       ],
       "shape": {
        "columns": 11,
        "rows": 10
       }
      },
      "text/html": [
       "<div>\n",
       "<style scoped>\n",
       "    .dataframe tbody tr th:only-of-type {\n",
       "        vertical-align: middle;\n",
       "    }\n",
       "\n",
       "    .dataframe tbody tr th {\n",
       "        vertical-align: top;\n",
       "    }\n",
       "\n",
       "    .dataframe thead th {\n",
       "        text-align: right;\n",
       "    }\n",
       "</style>\n",
       "<table border=\"1\" class=\"dataframe\">\n",
       "  <thead>\n",
       "    <tr style=\"text-align: right;\">\n",
       "      <th></th>\n",
       "      <th>MAF method</th>\n",
       "      <th>dataset</th>\n",
       "      <th>accuracy</th>\n",
       "      <th>f1</th>\n",
       "      <th>training_time</th>\n",
       "      <th>epochs</th>\n",
       "      <th>min_loss</th>\n",
       "      <th>initial_loss</th>\n",
       "      <th>baseline_loss</th>\n",
       "      <th>loss_diff</th>\n",
       "      <th>min_loss_diff</th>\n",
       "    </tr>\n",
       "  </thead>\n",
       "  <tbody>\n",
       "    <tr>\n",
       "      <th>0</th>\n",
       "      <td>clustering</td>\n",
       "      <td>Brain Tumor</td>\n",
       "      <td>0.981</td>\n",
       "      <td>0.980</td>\n",
       "      <td>138.469</td>\n",
       "      <td>117</td>\n",
       "      <td>0.018</td>\n",
       "      <td>0.181</td>\n",
       "      <td>NaN</td>\n",
       "      <td>NaN</td>\n",
       "      <td>0.000000</td>\n",
       "    </tr>\n",
       "    <tr>\n",
       "      <th>1</th>\n",
       "      <td>random</td>\n",
       "      <td>Brain Tumor</td>\n",
       "      <td>0.983</td>\n",
       "      <td>0.981</td>\n",
       "      <td>157.075</td>\n",
       "      <td>132</td>\n",
       "      <td>0.026</td>\n",
       "      <td>0.245</td>\n",
       "      <td>NaN</td>\n",
       "      <td>NaN</td>\n",
       "      <td>11.845297</td>\n",
       "    </tr>\n",
       "    <tr>\n",
       "      <th>2</th>\n",
       "      <td>clustering</td>\n",
       "      <td>Breast Cancer</td>\n",
       "      <td>0.976</td>\n",
       "      <td>0.966</td>\n",
       "      <td>17.243</td>\n",
       "      <td>73</td>\n",
       "      <td>0.023</td>\n",
       "      <td>0.228</td>\n",
       "      <td>NaN</td>\n",
       "      <td>NaN</td>\n",
       "      <td>0.000000</td>\n",
       "    </tr>\n",
       "    <tr>\n",
       "      <th>3</th>\n",
       "      <td>random</td>\n",
       "      <td>Breast Cancer</td>\n",
       "      <td>0.976</td>\n",
       "      <td>0.966</td>\n",
       "      <td>19.630</td>\n",
       "      <td>117</td>\n",
       "      <td>0.031</td>\n",
       "      <td>0.308</td>\n",
       "      <td>NaN</td>\n",
       "      <td>NaN</td>\n",
       "      <td>12.159959</td>\n",
       "    </tr>\n",
       "    <tr>\n",
       "      <th>4</th>\n",
       "      <td>clustering</td>\n",
       "      <td>Gaussian</td>\n",
       "      <td>0.987</td>\n",
       "      <td>0.988</td>\n",
       "      <td>15.792</td>\n",
       "      <td>100</td>\n",
       "      <td>0.017</td>\n",
       "      <td>0.083</td>\n",
       "      <td>NaN</td>\n",
       "      <td>NaN</td>\n",
       "      <td>0.000000</td>\n",
       "    </tr>\n",
       "    <tr>\n",
       "      <th>5</th>\n",
       "      <td>random</td>\n",
       "      <td>Gaussian</td>\n",
       "      <td>0.987</td>\n",
       "      <td>0.988</td>\n",
       "      <td>39.059</td>\n",
       "      <td>264</td>\n",
       "      <td>0.024</td>\n",
       "      <td>0.265</td>\n",
       "      <td>NaN</td>\n",
       "      <td>NaN</td>\n",
       "      <td>59.568857</td>\n",
       "    </tr>\n",
       "    <tr>\n",
       "      <th>6</th>\n",
       "      <td>clustering</td>\n",
       "      <td>Rectangle</td>\n",
       "      <td>1.000</td>\n",
       "      <td>1.000</td>\n",
       "      <td>61.032</td>\n",
       "      <td>167</td>\n",
       "      <td>0.006</td>\n",
       "      <td>0.252</td>\n",
       "      <td>NaN</td>\n",
       "      <td>NaN</td>\n",
       "      <td>0.000000</td>\n",
       "    </tr>\n",
       "    <tr>\n",
       "      <th>7</th>\n",
       "      <td>random</td>\n",
       "      <td>Rectangle</td>\n",
       "      <td>1.000</td>\n",
       "      <td>1.000</td>\n",
       "      <td>98.640</td>\n",
       "      <td>275</td>\n",
       "      <td>0.008</td>\n",
       "      <td>0.235</td>\n",
       "      <td>NaN</td>\n",
       "      <td>NaN</td>\n",
       "      <td>38.126521</td>\n",
       "    </tr>\n",
       "    <tr>\n",
       "      <th>8</th>\n",
       "      <td>clustering</td>\n",
       "      <td>Uniform</td>\n",
       "      <td>0.973</td>\n",
       "      <td>0.970</td>\n",
       "      <td>20.683</td>\n",
       "      <td>120</td>\n",
       "      <td>0.035</td>\n",
       "      <td>0.197</td>\n",
       "      <td>NaN</td>\n",
       "      <td>NaN</td>\n",
       "      <td>0.000000</td>\n",
       "    </tr>\n",
       "    <tr>\n",
       "      <th>9</th>\n",
       "      <td>random</td>\n",
       "      <td>Uniform</td>\n",
       "      <td>0.973</td>\n",
       "      <td>0.970</td>\n",
       "      <td>39.208</td>\n",
       "      <td>273</td>\n",
       "      <td>0.037</td>\n",
       "      <td>0.255</td>\n",
       "      <td>NaN</td>\n",
       "      <td>NaN</td>\n",
       "      <td>47.248011</td>\n",
       "    </tr>\n",
       "  </tbody>\n",
       "</table>\n",
       "</div>"
      ],
      "text/plain": [
       "   MAF method        dataset  accuracy     f1  training_time  epochs  \\\n",
       "0  clustering    Brain Tumor     0.981  0.980        138.469     117   \n",
       "1      random    Brain Tumor     0.983  0.981        157.075     132   \n",
       "2  clustering  Breast Cancer     0.976  0.966         17.243      73   \n",
       "3      random  Breast Cancer     0.976  0.966         19.630     117   \n",
       "4  clustering       Gaussian     0.987  0.988         15.792     100   \n",
       "5      random       Gaussian     0.987  0.988         39.059     264   \n",
       "6  clustering      Rectangle     1.000  1.000         61.032     167   \n",
       "7      random      Rectangle     1.000  1.000         98.640     275   \n",
       "8  clustering        Uniform     0.973  0.970         20.683     120   \n",
       "9      random        Uniform     0.973  0.970         39.208     273   \n",
       "\n",
       "   min_loss  initial_loss  baseline_loss  loss_diff  min_loss_diff  \n",
       "0     0.018         0.181            NaN        NaN       0.000000  \n",
       "1     0.026         0.245            NaN        NaN      11.845297  \n",
       "2     0.023         0.228            NaN        NaN       0.000000  \n",
       "3     0.031         0.308            NaN        NaN      12.159959  \n",
       "4     0.017         0.083            NaN        NaN       0.000000  \n",
       "5     0.024         0.265            NaN        NaN      59.568857  \n",
       "6     0.006         0.252            NaN        NaN       0.000000  \n",
       "7     0.008         0.235            NaN        NaN      38.126521  \n",
       "8     0.035         0.197            NaN        NaN       0.000000  \n",
       "9     0.037         0.255            NaN        NaN      47.248011  "
      ]
     },
     "execution_count": 18,
     "metadata": {},
     "output_type": "execute_result"
    }
   ],
   "source": [
    "# calculae the difference between the min_loss of each MAF method per dataset\n",
    "df['min_loss_diff'] = df.groupby('dataset')['training_time'].transform(lambda x: ((x - x.min()) / x.max()) * 100)\n",
    "# bar plot of min_loss_diff per method for each dataset\n",
    "# df.groupby(['dataset', 'MAF method'])['min_loss_diff'].mean().unstack().plot(kind='bar', figsize=(12, 6))\n",
    "df"
   ]
  },
  {
   "cell_type": "code",
   "execution_count": 20,
   "id": "edca3e5a",
   "metadata": {},
   "outputs": [
    {
     "data": {
      "text/plain": [
       "0.4744897959183674"
      ]
     },
     "execution_count": 20,
     "metadata": {},
     "output_type": "execute_result"
    }
   ],
   "source": [
    "(39.2 - 20.6) / 39.2"
   ]
  },
  {
   "cell_type": "code",
   "execution_count": 21,
   "id": "5cb4b2db",
   "metadata": {},
   "outputs": [
    {
     "data": {
      "text/plain": [
       "33.789728947948056"
      ]
     },
     "execution_count": 21,
     "metadata": {},
     "output_type": "execute_result"
    }
   ],
   "source": [
    "df.min_loss_diff.sum() / df.shape[0] * 2"
   ]
  },
  {
   "cell_type": "code",
   "execution_count": null,
   "id": "193cceb9",
   "metadata": {},
   "outputs": [],
   "source": []
  },
  {
   "cell_type": "code",
   "execution_count": 10,
   "id": "f49292fe",
   "metadata": {},
   "outputs": [
    {
     "data": {
      "application/vnd.microsoft.datawrangler.viewer.v0+json": {
       "columns": [
        {
         "name": "index",
         "rawType": "int64",
         "type": "integer"
        },
        {
         "name": "MAF method",
         "rawType": "object",
         "type": "string"
        },
        {
         "name": "dataset",
         "rawType": "object",
         "type": "string"
        },
        {
         "name": "accuracy",
         "rawType": "float64",
         "type": "float"
        },
        {
         "name": "f1",
         "rawType": "float64",
         "type": "float"
        },
        {
         "name": "training_time",
         "rawType": "float64",
         "type": "float"
        },
        {
         "name": "epochs",
         "rawType": "int64",
         "type": "integer"
        },
        {
         "name": "min_loss",
         "rawType": "float64",
         "type": "float"
        },
        {
         "name": "initial_loss",
         "rawType": "float64",
         "type": "float"
        },
        {
         "name": "baseline_loss",
         "rawType": "float64",
         "type": "float"
        },
        {
         "name": "loss_diff",
         "rawType": "float64",
         "type": "float"
        }
       ],
       "ref": "21a01c9c-2af5-48c7-9b74-5202112e7a70",
       "rows": [
        [
         "0",
         "clustering",
         "Brain Tumor",
         "0.981",
         "0.98",
         "138.469",
         "117",
         "0.018",
         "0.181",
         null,
         null
        ],
        [
         "1",
         "random",
         "Brain Tumor",
         "0.983",
         "0.981",
         "157.075",
         "132",
         "0.026",
         "0.245",
         null,
         null
        ],
        [
         "2",
         "clustering",
         "Breast Cancer",
         "0.976",
         "0.966",
         "17.243",
         "73",
         "0.023",
         "0.228",
         null,
         null
        ],
        [
         "3",
         "random",
         "Breast Cancer",
         "0.976",
         "0.966",
         "19.63",
         "117",
         "0.031",
         "0.308",
         null,
         null
        ],
        [
         "4",
         "clustering",
         "Gaussian",
         "0.987",
         "0.988",
         "15.792",
         "100",
         "0.017",
         "0.083",
         null,
         null
        ],
        [
         "5",
         "random",
         "Gaussian",
         "0.987",
         "0.988",
         "39.059",
         "264",
         "0.024",
         "0.265",
         null,
         null
        ],
        [
         "6",
         "clustering",
         "Rectangle",
         "1.0",
         "1.0",
         "61.032",
         "167",
         "0.006",
         "0.252",
         null,
         null
        ],
        [
         "7",
         "random",
         "Rectangle",
         "1.0",
         "1.0",
         "98.64",
         "275",
         "0.008",
         "0.235",
         null,
         null
        ],
        [
         "8",
         "clustering",
         "Uniform",
         "0.973",
         "0.97",
         "20.683",
         "120",
         "0.035",
         "0.197",
         null,
         null
        ],
        [
         "9",
         "random",
         "Uniform",
         "0.973",
         "0.97",
         "39.208",
         "273",
         "0.037",
         "0.255",
         null,
         null
        ]
       ],
       "shape": {
        "columns": 10,
        "rows": 10
       }
      },
      "text/html": [
       "<div>\n",
       "<style scoped>\n",
       "    .dataframe tbody tr th:only-of-type {\n",
       "        vertical-align: middle;\n",
       "    }\n",
       "\n",
       "    .dataframe tbody tr th {\n",
       "        vertical-align: top;\n",
       "    }\n",
       "\n",
       "    .dataframe thead th {\n",
       "        text-align: right;\n",
       "    }\n",
       "</style>\n",
       "<table border=\"1\" class=\"dataframe\">\n",
       "  <thead>\n",
       "    <tr style=\"text-align: right;\">\n",
       "      <th></th>\n",
       "      <th>MAF method</th>\n",
       "      <th>dataset</th>\n",
       "      <th>accuracy</th>\n",
       "      <th>f1</th>\n",
       "      <th>training_time</th>\n",
       "      <th>epochs</th>\n",
       "      <th>min_loss</th>\n",
       "      <th>initial_loss</th>\n",
       "      <th>baseline_loss</th>\n",
       "      <th>loss_diff</th>\n",
       "    </tr>\n",
       "  </thead>\n",
       "  <tbody>\n",
       "    <tr>\n",
       "      <th>0</th>\n",
       "      <td>clustering</td>\n",
       "      <td>Brain Tumor</td>\n",
       "      <td>0.981</td>\n",
       "      <td>0.980</td>\n",
       "      <td>138.469</td>\n",
       "      <td>117</td>\n",
       "      <td>0.018</td>\n",
       "      <td>0.181</td>\n",
       "      <td>NaN</td>\n",
       "      <td>NaN</td>\n",
       "    </tr>\n",
       "    <tr>\n",
       "      <th>1</th>\n",
       "      <td>random</td>\n",
       "      <td>Brain Tumor</td>\n",
       "      <td>0.983</td>\n",
       "      <td>0.981</td>\n",
       "      <td>157.075</td>\n",
       "      <td>132</td>\n",
       "      <td>0.026</td>\n",
       "      <td>0.245</td>\n",
       "      <td>NaN</td>\n",
       "      <td>NaN</td>\n",
       "    </tr>\n",
       "    <tr>\n",
       "      <th>2</th>\n",
       "      <td>clustering</td>\n",
       "      <td>Breast Cancer</td>\n",
       "      <td>0.976</td>\n",
       "      <td>0.966</td>\n",
       "      <td>17.243</td>\n",
       "      <td>73</td>\n",
       "      <td>0.023</td>\n",
       "      <td>0.228</td>\n",
       "      <td>NaN</td>\n",
       "      <td>NaN</td>\n",
       "    </tr>\n",
       "    <tr>\n",
       "      <th>3</th>\n",
       "      <td>random</td>\n",
       "      <td>Breast Cancer</td>\n",
       "      <td>0.976</td>\n",
       "      <td>0.966</td>\n",
       "      <td>19.630</td>\n",
       "      <td>117</td>\n",
       "      <td>0.031</td>\n",
       "      <td>0.308</td>\n",
       "      <td>NaN</td>\n",
       "      <td>NaN</td>\n",
       "    </tr>\n",
       "    <tr>\n",
       "      <th>4</th>\n",
       "      <td>clustering</td>\n",
       "      <td>Gaussian</td>\n",
       "      <td>0.987</td>\n",
       "      <td>0.988</td>\n",
       "      <td>15.792</td>\n",
       "      <td>100</td>\n",
       "      <td>0.017</td>\n",
       "      <td>0.083</td>\n",
       "      <td>NaN</td>\n",
       "      <td>NaN</td>\n",
       "    </tr>\n",
       "    <tr>\n",
       "      <th>5</th>\n",
       "      <td>random</td>\n",
       "      <td>Gaussian</td>\n",
       "      <td>0.987</td>\n",
       "      <td>0.988</td>\n",
       "      <td>39.059</td>\n",
       "      <td>264</td>\n",
       "      <td>0.024</td>\n",
       "      <td>0.265</td>\n",
       "      <td>NaN</td>\n",
       "      <td>NaN</td>\n",
       "    </tr>\n",
       "    <tr>\n",
       "      <th>6</th>\n",
       "      <td>clustering</td>\n",
       "      <td>Rectangle</td>\n",
       "      <td>1.000</td>\n",
       "      <td>1.000</td>\n",
       "      <td>61.032</td>\n",
       "      <td>167</td>\n",
       "      <td>0.006</td>\n",
       "      <td>0.252</td>\n",
       "      <td>NaN</td>\n",
       "      <td>NaN</td>\n",
       "    </tr>\n",
       "    <tr>\n",
       "      <th>7</th>\n",
       "      <td>random</td>\n",
       "      <td>Rectangle</td>\n",
       "      <td>1.000</td>\n",
       "      <td>1.000</td>\n",
       "      <td>98.640</td>\n",
       "      <td>275</td>\n",
       "      <td>0.008</td>\n",
       "      <td>0.235</td>\n",
       "      <td>NaN</td>\n",
       "      <td>NaN</td>\n",
       "    </tr>\n",
       "    <tr>\n",
       "      <th>8</th>\n",
       "      <td>clustering</td>\n",
       "      <td>Uniform</td>\n",
       "      <td>0.973</td>\n",
       "      <td>0.970</td>\n",
       "      <td>20.683</td>\n",
       "      <td>120</td>\n",
       "      <td>0.035</td>\n",
       "      <td>0.197</td>\n",
       "      <td>NaN</td>\n",
       "      <td>NaN</td>\n",
       "    </tr>\n",
       "    <tr>\n",
       "      <th>9</th>\n",
       "      <td>random</td>\n",
       "      <td>Uniform</td>\n",
       "      <td>0.973</td>\n",
       "      <td>0.970</td>\n",
       "      <td>39.208</td>\n",
       "      <td>273</td>\n",
       "      <td>0.037</td>\n",
       "      <td>0.255</td>\n",
       "      <td>NaN</td>\n",
       "      <td>NaN</td>\n",
       "    </tr>\n",
       "  </tbody>\n",
       "</table>\n",
       "</div>"
      ],
      "text/plain": [
       "   MAF method        dataset  accuracy     f1  training_time  epochs  \\\n",
       "0  clustering    Brain Tumor     0.981  0.980        138.469     117   \n",
       "1      random    Brain Tumor     0.983  0.981        157.075     132   \n",
       "2  clustering  Breast Cancer     0.976  0.966         17.243      73   \n",
       "3      random  Breast Cancer     0.976  0.966         19.630     117   \n",
       "4  clustering       Gaussian     0.987  0.988         15.792     100   \n",
       "5      random       Gaussian     0.987  0.988         39.059     264   \n",
       "6  clustering      Rectangle     1.000  1.000         61.032     167   \n",
       "7      random      Rectangle     1.000  1.000         98.640     275   \n",
       "8  clustering        Uniform     0.973  0.970         20.683     120   \n",
       "9      random        Uniform     0.973  0.970         39.208     273   \n",
       "\n",
       "   min_loss  initial_loss  baseline_loss  loss_diff  \n",
       "0     0.018         0.181            NaN        NaN  \n",
       "1     0.026         0.245            NaN        NaN  \n",
       "2     0.023         0.228            NaN        NaN  \n",
       "3     0.031         0.308            NaN        NaN  \n",
       "4     0.017         0.083            NaN        NaN  \n",
       "5     0.024         0.265            NaN        NaN  \n",
       "6     0.006         0.252            NaN        NaN  \n",
       "7     0.008         0.235            NaN        NaN  \n",
       "8     0.035         0.197            NaN        NaN  \n",
       "9     0.037         0.255            NaN        NaN  "
      ]
     },
     "execution_count": 10,
     "metadata": {},
     "output_type": "execute_result"
    }
   ],
   "source": [
    "df"
   ]
  },
  {
   "cell_type": "code",
   "execution_count": null,
   "id": "b0bae6c6",
   "metadata": {},
   "outputs": [],
   "source": [
    "for d in df['Dataset'].unique():\n",
    "    print(f\"Dataset: {d}\")\n",
    "    data = df[df['Dataset'] == d]\n",
    "    \n",
    "    data.loc[]"
   ]
  }
 ],
 "metadata": {
  "kernelspec": {
   "display_name": "Python 3",
   "language": "python",
   "name": "python3"
  },
  "language_info": {
   "codemirror_mode": {
    "name": "ipython",
    "version": 3
   },
   "file_extension": ".py",
   "mimetype": "text/x-python",
   "name": "python",
   "nbconvert_exporter": "python",
   "pygments_lexer": "ipython3",
   "version": "3.10.14"
  }
 },
 "nbformat": 4,
 "nbformat_minor": 5
}
