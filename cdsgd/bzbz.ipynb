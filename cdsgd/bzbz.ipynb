{
 "cells": [
  {
   "cell_type": "markdown",
   "metadata": {},
   "source": [
    "# imports and config"
   ]
  },
  {
   "cell_type": "code",
   "execution_count": 1,
   "metadata": {},
   "outputs": [],
   "source": [
    "!pip install nbformat>=4.2.0 entrypoints toolz"
   ]
  },
  {
   "cell_type": "code",
   "execution_count": 3,
   "metadata": {},
   "outputs": [],
   "source": [
    "from sklearn.cluster import KMeans, AgglomerativeClustering, DBSCAN\n",
    "from sklearn.metrics import silhouette_score\n",
    "import plotly.express as px\n",
    "import pandas as pd\n",
    "import numpy as np\n",
    "import os\n",
    "\n",
    "import datetime \n",
    "import logging\n",
    "\n",
    "from sklearn.metrics import accuracy_score, f1_score\n",
    "from sklearn.metrics import confusion_matrix\n",
    "from sklearn.model_selection import cross_validate, cross_val_score\n",
    "from sklearn.model_selection import train_test_split\n",
    "from utils import filter_by_rule\n",
    "\n",
    "logging.basicConfig(level=logging.DEBUG, format=\"%(asctime)s [%(levelname)s] %(message)s\", \n",
    "                    datefmt=\"%d-%b-%y %H:%M:%S\")\n",
    "\n",
    "DATASET = \"gaussian_df.csv\"\n",
    "PATH = os.path.join(os.getcwd(), \"..\", \"data\", DATASET)\n",
    "LOWER_CONFIDENCE_BY_PROPORTION = True\n",
    "OUTLIER_THRESHOLD_NUM_STD = 2"
   ]
  },
  {
   "cell_type": "markdown",
   "metadata": {},
   "source": [
    "# Loading data"
   ]
  },
  {
   "cell_type": "code",
   "execution_count": 3,
   "metadata": {},
   "outputs": [
    {
     "data": {
      "text/html": [
       "<div>\n",
       "<style scoped>\n",
       "    .dataframe tbody tr th:only-of-type {\n",
       "        vertical-align: middle;\n",
       "    }\n",
       "\n",
       "    .dataframe tbody tr th {\n",
       "        vertical-align: top;\n",
       "    }\n",
       "\n",
       "    .dataframe thead th {\n",
       "        text-align: right;\n",
       "    }\n",
       "</style>\n",
       "<table border=\"1\" class=\"dataframe\">\n",
       "  <thead>\n",
       "    <tr style=\"text-align: right;\">\n",
       "      <th></th>\n",
       "      <th>x</th>\n",
       "      <th>y</th>\n",
       "      <th>labels</th>\n",
       "    </tr>\n",
       "  </thead>\n",
       "  <tbody>\n",
       "    <tr>\n",
       "      <th>0</th>\n",
       "      <td>1.614580</td>\n",
       "      <td>-0.100420</td>\n",
       "      <td>0.0</td>\n",
       "    </tr>\n",
       "    <tr>\n",
       "      <th>1</th>\n",
       "      <td>1.019888</td>\n",
       "      <td>0.312567</td>\n",
       "      <td>0.0</td>\n",
       "    </tr>\n",
       "    <tr>\n",
       "      <th>2</th>\n",
       "      <td>1.493949</td>\n",
       "      <td>0.417392</td>\n",
       "      <td>0.0</td>\n",
       "    </tr>\n",
       "    <tr>\n",
       "      <th>3</th>\n",
       "      <td>0.985614</td>\n",
       "      <td>0.118068</td>\n",
       "      <td>0.0</td>\n",
       "    </tr>\n",
       "    <tr>\n",
       "      <th>4</th>\n",
       "      <td>0.684116</td>\n",
       "      <td>0.219825</td>\n",
       "      <td>0.0</td>\n",
       "    </tr>\n",
       "  </tbody>\n",
       "</table>\n",
       "</div>"
      ],
      "text/plain": [
       "          x         y  labels\n",
       "0  1.614580 -0.100420     0.0\n",
       "1  1.019888  0.312567     0.0\n",
       "2  1.493949  0.417392     0.0\n",
       "3  0.985614  0.118068     0.0\n",
       "4  0.684116  0.219825     0.0"
      ]
     },
     "execution_count": 3,
     "metadata": {},
     "output_type": "execute_result"
    }
   ],
   "source": [
    "\n",
    "df = pd.read_csv(PATH)\n",
    "df.head()"
   ]
  },
  {
   "cell_type": "code",
   "execution_count": 4,
   "metadata": {},
   "outputs": [],
   "source": [
    "data = df[[\"x\", \"y\"]]\n",
    "n_clusters = 2"
   ]
  },
  {
   "cell_type": "code",
   "execution_count": 5,
   "metadata": {},
   "outputs": [],
   "source": [
    "# scatter plot\n",
    "# fig = px.scatter(df, x=\"x\", y=\"y\", color=\"labels\")\n",
    "# fig.show()"
   ]
  },
  {
   "cell_type": "markdown",
   "metadata": {},
   "source": [
    "# KMeans"
   ]
  },
  {
   "cell_type": "code",
   "execution_count": 6,
   "metadata": {},
   "outputs": [
    {
     "name": "stderr",
     "output_type": "stream",
     "text": [
      "Exception in thread Thread-8 (_readerthread):\n",
      "Traceback (most recent call last):\n",
      "  File \"c:\\Users\\hayk_\\.conda\\envs\\thesis\\lib\\threading.py\", line 1016, in _bootstrap_inner\n",
      "    self.run()\n",
      "  File \"c:\\Users\\hayk_\\.conda\\envs\\thesis\\lib\\threading.py\", line 953, in run\n",
      "    self._target(*self._args, **self._kwargs)\n",
      "  File \"c:\\Users\\hayk_\\.conda\\envs\\thesis\\lib\\subprocess.py\", line 1515, in _readerthread\n",
      "    buffer.append(fh.read())\n",
      "  File \"c:\\Users\\hayk_\\.conda\\envs\\thesis\\lib\\codecs.py\", line 322, in decode\n",
      "    (result, consumed) = self._buffer_decode(data, self.errors, final)\n",
      "UnicodeDecodeError: 'utf-8' codec can't decode byte 0x81 in position 3: invalid start byte\n",
      "c:\\Users\\hayk_\\.conda\\envs\\thesis\\lib\\site-packages\\joblib\\externals\\loky\\backend\\context.py:136: UserWarning: Could not find the number of physical cores for the following reason:\n",
      "found 0 physical cores < 1\n",
      "Returning the number of logical cores instead. You can silence this warning by setting LOKY_MAX_CPU_COUNT to the number of cores you want to use.\n",
      "  warnings.warn(\n",
      "  File \"c:\\Users\\hayk_\\.conda\\envs\\thesis\\lib\\site-packages\\joblib\\externals\\loky\\backend\\context.py\", line 282, in _count_physical_cores\n",
      "    raise ValueError(f\"found {cpu_count_physical} physical cores < 1\")\n"
     ]
    }
   ],
   "source": [
    "kmeans = KMeans(n_clusters=n_clusters, random_state=42, n_init=\"auto\")\n",
    "\n",
    "clustering_labels = kmeans.fit_predict(data)\n",
    "# # Calculate metrics\n",
    "# kmeans_silhouette = (silhouette_score(data, clustering_labels)\n",
    "#                      if len(set(clustering_labels)) > 2 else 0)\n"
   ]
  },
  {
   "cell_type": "code",
   "execution_count": 7,
   "metadata": {},
   "outputs": [
    {
     "data": {
      "text/plain": [
       "array([[1.19285911, 0.18145612],\n",
       "       [0.1777886 , 0.90350888]])"
      ]
     },
     "execution_count": 7,
     "metadata": {},
     "output_type": "execute_result"
    }
   ],
   "source": [
    "kmeans.cluster_centers_"
   ]
  },
  {
   "cell_type": "code",
   "execution_count": 8,
   "metadata": {},
   "outputs": [
    {
     "data": {
      "text/plain": [
       "0"
      ]
     },
     "execution_count": 8,
     "metadata": {},
     "output_type": "execute_result"
    }
   ],
   "source": [
    "from utils import get_distance, remove_outliers_and_normalize\n",
    "import matplotlib.pyplot as plt\n",
    "\n",
    "df[\"distance\"] = get_distance(data.values, kmeans)\n",
    "\n",
    "df[\"distance_norm\"] = remove_outliers_and_normalize(df) \n",
    "df.isna().sum().sum()"
   ]
  },
  {
   "cell_type": "code",
   "execution_count": 9,
   "metadata": {},
   "outputs": [
    {
     "data": {
      "text/plain": [
       "1.01"
      ]
     },
     "execution_count": 9,
     "metadata": {},
     "output_type": "execute_result"
    }
   ],
   "source": [
    "df[\"distance_norm\"].max()"
   ]
  },
  {
   "cell_type": "markdown",
   "metadata": {},
   "source": [
    "### KMEANS OPACITY"
   ]
  },
  {
   "cell_type": "code",
   "execution_count": 35,
   "metadata": {},
   "outputs": [
    {
     "name": "stderr",
     "output_type": "stream",
     "text": [
      "29-Apr-24 13:24:18 [DEBUG] locator: <matplotlib.ticker.AutoLocator object at 0x0000027F2124FA00>\n"
     ]
    },
    {
     "data": {
      "image/png": "[encoded data removed]",
      "text/plain": [
       "<Figure size 1000x600 with 2 Axes>"
      ]
     },
     "metadata": {},
     "output_type": "display_data"
    }
   ],
   "source": [
    "point_min = df[df[\"distance_norm\"] == df[\"distance_norm\"].min()].iloc[0]\n",
    "point_min = pd.DataFrame(point_min).T\n",
    "point_max = df[df[\"distance_norm\"] == df[\"distance_norm\"].max()].iloc[8]\n",
    "point_max = pd.DataFrame(point_max).T\n",
    "# Plotting\n",
    "plt.figure(figsize=(10, 6))\n",
    "X = df.values\n",
    "plt.style.use('ggplot')\n",
    "scatter = plt.scatter(X[:, 0], X[:, 1], c=1 - df[\"distance_norm\"].values, cmap='viridis', edgecolor='k', s=50)\n",
    "\n",
    "plt.colorbar(scatter, label='Opacity')\n",
    "plt.title('Opacities estimated by KMeans clustering approach')\n",
    "plt.xlabel('Feature 1')\n",
    "plt.ylabel('Feature 2')\n",
    "\n",
    "# print(\"ok 2\")\n",
    "plt.scatter(point_min[point_min.columns[0]], point_min[point_min.columns[1]], c='blue', s=100, marker='x', label='Min opacity')\n",
    "plt.scatter(point_max[point_max.columns[0]], point_max[point_max.columns[1]], c='green', s=200, marker='x', label='Max opacity')\n",
    "# print(\"ok 3\")\n",
    "\n",
    "\n",
    "# add center of the cluster\n",
    "plt.scatter(kmeans.cluster_centers_[:, 0], kmeans.cluster_centers_[:, 1], c='red', s=200, marker='*', label='Centroids')\n",
    "plt.legend()\n",
    "\n",
    "# save high res\n",
    "plt.savefig(f\"paper/kmeans_opactiy.png\", dpi=1000)\n",
    "# plt.savefig(f\"paper/kmeans_opactiy.png\")\n",
    "\n",
    "# plot circle if radius 2 around the point\n",
    "# circle_min = plt.Circle((point_min[point_min.columns[0]], point_min[point_min.columns[1]]), radius, color='red', fill=False)\n",
    "# circle_max = plt.Circle((point_max[point_max.columns[0]], point_max[point_max.columns[1]]), radius, color='blue', fill=False)\n",
    "# plt.gca().add_artist(circle_min)\n",
    "# plt.gca().add_artist(circle_max)\n",
    "plt.show()"
   ]
  },
  {
   "cell_type": "markdown",
   "metadata": {},
   "source": [
    "### DSBCAN OPACITY"
   ]
  },
  {
   "cell_type": "code",
   "execution_count": 4,
   "metadata": {},
   "outputs": [],
   "source": [
    "from utils import get_distance, remove_outliers_and_normalize, run_dbscan\n",
    "import matplotlib.pyplot as plt"
   ]
  },
  {
   "cell_type": "code",
   "execution_count": 5,
   "metadata": {},
   "outputs": [
    {
     "name": "stdout",
     "output_type": "stream",
     "text": [
      "Found the desired number of clusters: 2 at eps=0.08\n"
     ]
    },
    {
     "data": {
      "text/html": [
       "<style>#sk-container-id-1 {color: black;}#sk-container-id-1 pre{padding: 0;}#sk-container-id-1 div.sk-toggleable {background-color: white;}#sk-container-id-1 label.sk-toggleable__label {cursor: pointer;display: block;width: 100%;margin-bottom: 0;padding: 0.3em;box-sizing: border-box;text-align: center;}#sk-container-id-1 label.sk-toggleable__label-arrow:before {content: \"▸\";float: left;margin-right: 0.25em;color: #696969;}#sk-container-id-1 label.sk-toggleable__label-arrow:hover:before {color: black;}#sk-container-id-1 div.sk-estimator:hover label.sk-toggleable__label-arrow:before {color: black;}#sk-container-id-1 div.sk-toggleable__content {max-height: 0;max-width: 0;overflow: hidden;text-align: left;background-color: #f0f8ff;}#sk-container-id-1 div.sk-toggleable__content pre {margin: 0.2em;color: black;border-radius: 0.25em;background-color: #f0f8ff;}#sk-container-id-1 input.sk-toggleable__control:checked~div.sk-toggleable__content {max-height: 200px;max-width: 100%;overflow: auto;}#sk-container-id-1 input.sk-toggleable__control:checked~label.sk-toggleable__label-arrow:before {content: \"▾\";}#sk-container-id-1 div.sk-estimator input.sk-toggleable__control:checked~label.sk-toggleable__label {background-color: #d4ebff;}#sk-container-id-1 div.sk-label input.sk-toggleable__control:checked~label.sk-toggleable__label {background-color: #d4ebff;}#sk-container-id-1 input.sk-hidden--visually {border: 0;clip: rect(1px 1px 1px 1px);clip: rect(1px, 1px, 1px, 1px);height: 1px;margin: -1px;overflow: hidden;padding: 0;position: absolute;width: 1px;}#sk-container-id-1 div.sk-estimator {font-family: monospace;background-color: #f0f8ff;border: 1px dotted black;border-radius: 0.25em;box-sizing: border-box;margin-bottom: 0.5em;}#sk-container-id-1 div.sk-estimator:hover {background-color: #d4ebff;}#sk-container-id-1 div.sk-parallel-item::after {content: \"\";width: 100%;border-bottom: 1px solid gray;flex-grow: 1;}#sk-container-id-1 div.sk-label:hover label.sk-toggleable__label {background-color: #d4ebff;}#sk-container-id-1 div.sk-serial::before {content: \"\";position: absolute;border-left: 1px solid gray;box-sizing: border-box;top: 0;bottom: 0;left: 50%;z-index: 0;}#sk-container-id-1 div.sk-serial {display: flex;flex-direction: column;align-items: center;background-color: white;padding-right: 0.2em;padding-left: 0.2em;position: relative;}#sk-container-id-1 div.sk-item {position: relative;z-index: 1;}#sk-container-id-1 div.sk-parallel {display: flex;align-items: stretch;justify-content: center;background-color: white;position: relative;}#sk-container-id-1 div.sk-item::before, #sk-container-id-1 div.sk-parallel-item::before {content: \"\";position: absolute;border-left: 1px solid gray;box-sizing: border-box;top: 0;bottom: 0;left: 50%;z-index: -1;}#sk-container-id-1 div.sk-parallel-item {display: flex;flex-direction: column;z-index: 1;position: relative;background-color: white;}#sk-container-id-1 div.sk-parallel-item:first-child::after {align-self: flex-end;width: 50%;}#sk-container-id-1 div.sk-parallel-item:last-child::after {align-self: flex-start;width: 50%;}#sk-container-id-1 div.sk-parallel-item:only-child::after {width: 0;}#sk-container-id-1 div.sk-dashed-wrapped {border: 1px dashed gray;margin: 0 0.4em 0.5em 0.4em;box-sizing: border-box;padding-bottom: 0.4em;background-color: white;}#sk-container-id-1 div.sk-label label {font-family: monospace;font-weight: bold;display: inline-block;line-height: 1.2em;}#sk-container-id-1 div.sk-label-container {text-align: center;}#sk-container-id-1 div.sk-container {/* jupyter's `normalize.less` sets `[hidden] { display: none; }` but bootstrap.min.css set `[hidden] { display: none !important; }` so we also need the `!important` here to be able to override the default hidden behavior on the sphinx rendered scikit-learn.org. See: https://github.com/scikit-learn/scikit-learn/issues/21755 */display: inline-block !important;position: relative;}#sk-container-id-1 div.sk-text-repr-fallback {display: none;}</style><div id=\"sk-container-id-1\" class=\"sk-top-container\"><div class=\"sk-text-repr-fallback\"><pre>DBSCAN(eps=0.08, min_samples=4)</pre><b>In a Jupyter environment, please rerun this cell to show the HTML representation or trust the notebook. <br />On GitHub, the HTML representation is unable to render, please try loading this page with nbviewer.org.</b></div><div class=\"sk-container\" hidden><div class=\"sk-item\"><div class=\"sk-estimator sk-toggleable\"><input class=\"sk-toggleable__control sk-hidden--visually\" id=\"sk-estimator-id-1\" type=\"checkbox\" checked><label for=\"sk-estimator-id-1\" class=\"sk-toggleable__label sk-toggleable__label-arrow\">DBSCAN</label><div class=\"sk-toggleable__content\"><pre>DBSCAN(eps=0.08, min_samples=4)</pre></div></div></div></div></div>"
      ],
      "text/plain": [
       "DBSCAN(eps=0.08, min_samples=4)"
      ]
     },
     "execution_count": 5,
     "metadata": {},
     "output_type": "execute_result"
    }
   ],
   "source": [
    "from sklearn.datasets import make_moons\n",
    "\n",
    "X, y = make_moons(n_samples=100, random_state=42, noise=0.1)\n",
    "\n",
    "df = pd.DataFrame(X, columns=['Feature 1', 'Feature 2'])\n",
    "df[\"labels\"] = y\n",
    "db = run_dbscan(df, eps=0.01, min_samples=2*X.shape[1])\n",
    "db"
   ]
  },
  {
   "cell_type": "code",
   "execution_count": 7,
   "metadata": {},
   "outputs": [
    {
     "data": {
      "text/plain": [
       "[<matplotlib.lines.Line2D at 0x1b2836dc340>]"
      ]
     },
     "execution_count": 7,
     "metadata": {},
     "output_type": "execute_result"
    },
    {
     "data": {
      "image/png": "[encoded data removed]",
      "text/plain": [
       "<Figure size 640x480 with 1 Axes>"
      ]
     },
     "metadata": {},
     "output_type": "display_data"
    }
   ],
   "source": [
    "plt.plot(df['Feature 1'], df['Feature 2'], 'o', markerfacecolor='b', markeredgecolor='k', markersize=6)"
   ]
  },
  {
   "cell_type": "code",
   "execution_count": null,
   "metadata": {},
   "outputs": [],
   "source": []
  },
  {
   "cell_type": "code",
   "execution_count": 8,
   "metadata": {},
   "outputs": [
    {
     "data": {
      "text/plain": [
       "0"
      ]
     },
     "execution_count": 8,
     "metadata": {},
     "output_type": "execute_result"
    }
   ],
   "source": [
    "radius = db.eps * 2\n",
    "\n",
    "df[\"distance\"] = get_distance(df.values, db, alg=\"dbscan\", density_radius=radius, penalty_rate=0)\n",
    "\n",
    "df[\"distance_norm\"] = remove_outliers_and_normalize(df) \n",
    "df.isna().sum().sum()\n"
   ]
  },
  {
   "cell_type": "code",
   "execution_count": 9,
   "metadata": {},
   "outputs": [
    {
     "data": {
      "text/html": [
       "<div>\n",
       "<style scoped>\n",
       "    .dataframe tbody tr th:only-of-type {\n",
       "        vertical-align: middle;\n",
       "    }\n",
       "\n",
       "    .dataframe tbody tr th {\n",
       "        vertical-align: top;\n",
       "    }\n",
       "\n",
       "    .dataframe thead th {\n",
       "        text-align: right;\n",
       "    }\n",
       "</style>\n",
       "<table border=\"1\" class=\"dataframe\">\n",
       "  <thead>\n",
       "    <tr style=\"text-align: right;\">\n",
       "      <th></th>\n",
       "      <th>Feature 1</th>\n",
       "      <th>Feature 2</th>\n",
       "      <th>labels</th>\n",
       "      <th>distance</th>\n",
       "      <th>outlier</th>\n",
       "      <th>distance_norm</th>\n",
       "    </tr>\n",
       "  </thead>\n",
       "  <tbody>\n",
       "    <tr>\n",
       "      <th>25</th>\n",
       "      <td>0.462490</td>\n",
       "      <td>0.911661</td>\n",
       "      <td>0</td>\n",
       "      <td>6.0</td>\n",
       "      <td>True</td>\n",
       "      <td>1.01</td>\n",
       "    </tr>\n",
       "    <tr>\n",
       "      <th>38</th>\n",
       "      <td>-0.628030</td>\n",
       "      <td>0.803525</td>\n",
       "      <td>0</td>\n",
       "      <td>5.0</td>\n",
       "      <td>True</td>\n",
       "      <td>1.01</td>\n",
       "    </tr>\n",
       "    <tr>\n",
       "      <th>49</th>\n",
       "      <td>0.569530</td>\n",
       "      <td>0.814402</td>\n",
       "      <td>0</td>\n",
       "      <td>5.0</td>\n",
       "      <td>True</td>\n",
       "      <td>1.01</td>\n",
       "    </tr>\n",
       "    <tr>\n",
       "      <th>94</th>\n",
       "      <td>0.450905</td>\n",
       "      <td>0.884744</td>\n",
       "      <td>0</td>\n",
       "      <td>5.0</td>\n",
       "      <td>True</td>\n",
       "      <td>1.01</td>\n",
       "    </tr>\n",
       "  </tbody>\n",
       "</table>\n",
       "</div>"
      ],
      "text/plain": [
       "    Feature 1  Feature 2  labels  distance  outlier  distance_norm\n",
       "25   0.462490   0.911661       0       6.0     True           1.01\n",
       "38  -0.628030   0.803525       0       5.0     True           1.01\n",
       "49   0.569530   0.814402       0       5.0     True           1.01\n",
       "94   0.450905   0.884744       0       5.0     True           1.01"
      ]
     },
     "execution_count": 9,
     "metadata": {},
     "output_type": "execute_result"
    }
   ],
   "source": [
    "df[df[\"distance_norm\"] == df[\"distance_norm\"].max()]"
   ]
  },
  {
   "cell_type": "code",
   "execution_count": 10,
   "metadata": {},
   "outputs": [
    {
     "data": {
      "text/plain": [
       "Feature 1       -0.802162\n",
       "Feature 2        0.202718\n",
       "labels                  0\n",
       "distance              0.0\n",
       "outlier             False\n",
       "distance_norm         0.0\n",
       "Name: 4, dtype: object"
      ]
     },
     "execution_count": 10,
     "metadata": {},
     "output_type": "execute_result"
    }
   ],
   "source": [
    "df[df[\"distance_norm\"] == df[\"distance_norm\"].min()].iloc[0]\n"
   ]
  },
  {
   "cell_type": "code",
   "execution_count": 16,
   "metadata": {},
   "outputs": [
    {
     "name": "stderr",
     "output_type": "stream",
     "text": [
      "29-Apr-24 13:54:08 [DEBUG] locator: <matplotlib.ticker.AutoLocator object at 0x000001B285871990>\n",
      "c:\\Users\\hayk_\\.conda\\envs\\thesis\\lib\\site-packages\\matplotlib\\transforms.py:2038: FutureWarning: Calling float on a single element Series is deprecated and will raise a TypeError in the future. Use float(ser.iloc[0]) instead\n",
      "  self._mtx[0, 2] += tx\n",
      "c:\\Users\\hayk_\\.conda\\envs\\thesis\\lib\\site-packages\\matplotlib\\transforms.py:2039: FutureWarning: Calling float on a single element Series is deprecated and will raise a TypeError in the future. Use float(ser.iloc[0]) instead\n",
      "  self._mtx[1, 2] += ty\n"
     ]
    },
    {
     "data": {
      "image/png": "[encoded data removed]",
      "text/plain": [
       "<Figure size 1000x600 with 2 Axes>"
      ]
     },
     "metadata": {},
     "output_type": "display_data"
    }
   ],
   "source": [
    "col = \"distance_norm\"\n",
    "point_min = df[df[col] == df[col].max()].iloc[0]\n",
    "point_min = pd.DataFrame(point_min).T\n",
    "point_max = df[df[col] == df[col].min()].iloc[0]\n",
    "point_max = pd.DataFrame(point_max).T\n",
    "# Plotting\n",
    "plt.figure(figsize=(10, 6))\n",
    "X = df.values\n",
    "plt.style.use('ggplot')\n",
    "scatter = plt.scatter(X[:, 0], X[:, 1], c=df[col].values, cmap='viridis', edgecolor='k', s=50)\n",
    "\n",
    "plt.colorbar(scatter, label='Opacity')\n",
    "plt.title('Opacities estimated by density based approach')\n",
    "plt.xlabel('Feature 1')\n",
    "plt.ylabel('Feature 2')\n",
    "\n",
    "# print(\"ok 2\")\n",
    "plt.scatter(point_min[point_min.columns[0]], point_min[point_min.columns[1]], c='green', s=100, marker='x', label='Max opacity')\n",
    "plt.scatter(point_max[point_max.columns[0]], point_max[point_max.columns[1]], c='blue', s=200, marker='x', label='Min opacity')\n",
    "# print(\"ok 3\")\n",
    "# make the scale uniform\n",
    "plt.axis('equal')\n",
    "\n",
    "# add center of the cluster\n",
    "# plt.scatter(kmeans.cluster_centers_[:, 0], kmeans.cluster_centers_[:, 1], c='red', s=200, marker='*', label='Centroids')\n",
    "plt.legend()\n",
    "\n",
    "# save high res\n",
    "# plt.savefig(f\"paper/kmeans_opactiy.png\")\n",
    "\n",
    "# plot circle if radius 2 around the point\n",
    "circle_min = plt.Circle((point_min[point_min.columns[0]], point_min[point_min.columns[1]]), radius, color='green', fill=False)\n",
    "circle_max = plt.Circle((point_max[point_max.columns[0]], point_max[point_max.columns[1]]), radius, color='blue', fill=False)\n",
    "plt.gca().add_artist(circle_min)\n",
    "plt.gca().add_artist(circle_max)\n",
    "plt.savefig(f\"paper/denisty_opactiy.png\", dpi=1000)\n",
    "\n",
    "plt.show()"
   ]
  },
  {
   "cell_type": "code",
   "execution_count": null,
   "metadata": {},
   "outputs": [],
   "source": []
  },
  {
   "cell_type": "code",
   "execution_count": null,
   "metadata": {},
   "outputs": [],
   "source": []
  },
  {
   "cell_type": "code",
   "execution_count": null,
   "metadata": {},
   "outputs": [],
   "source": []
  },
  {
   "cell_type": "code",
   "execution_count": null,
   "metadata": {},
   "outputs": [],
   "source": []
  },
  {
   "cell_type": "code",
   "execution_count": 7,
   "metadata": {},
   "outputs": [],
   "source": [
    "# calculate each points distance to the centroids\n",
    "df[\"distance\"] = np.min(\n",
    "    np.linalg.norm(data.values[:, np.newaxis] - kmeans.cluster_centers_, axis=2), axis=1)\n",
    "\n"
   ]
  },
  {
   "cell_type": "code",
   "execution_count": 8,
   "metadata": {},
   "outputs": [
    {
     "data": {
      "text/plain": [
       "0"
      ]
     },
     "execution_count": 8,
     "metadata": {},
     "output_type": "execute_result"
    }
   ],
   "source": [
    "df[\"distance\"].isna().sum()"
   ]
  },
  {
   "cell_type": "code",
   "execution_count": 9,
   "metadata": {},
   "outputs": [
    {
     "data": {
      "application/vnd.plotly.v1+json": {
       "config": {
        "plotlyServerURL": "https://plot.ly"
       },
       "data": [
        {
         "customdata": [
          [
           0.5072499137526393
          ],
          [
           0.21704642824320544
          ],
          [
           0.3825191090761441
          ],
          [
           0.2167228179173738
          ],
          [
           0.5101875277036013
          ],
          [
           0.5959237846552492
          ],
          [
           0.26169329509315925
          ],
          [
           0.30976262573251767
          ],
          [
           0.4843668450015278
          ],
          [
           0.3501805559945586
          ],
          [
           0.5894563919717438
          ],
          [
           0.6471766330444453
          ],
          [
           0.23549439754535015
          ],
          [
           0.1206237500622795
          ],
          [
           0.4765376547101482
          ],
          [
           0.16060535921163507
          ],
          [
           0.2370219361517939
          ],
          [
           0.21415626204736904
          ],
          [
           0.3695299208701948
          ],
          [
           0.3994973458504569
          ],
          [
           0.4142466891582873
          ],
          [
           0.1274962857465831
          ],
          [
           0.3410101589517105
          ],
          [
           0.18400842488349517
          ],
          [
           0.23824009293562085
          ],
          [
           0.016959174416339977
          ],
          [
           0.3877905667431242
          ],
          [
           0.2736975496474977
          ],
          [
           0.3974252188814445
          ],
          [
           0.4582547552560939
          ],
          [
           0.16629594121180205
          ],
          [
           0.33861138639902305
          ],
          [
           0.22139662622306927
          ],
          [
           0.40634930251869505
          ],
          [
           0.25348038632229336
          ],
          [
           0.40198217339393283
          ],
          [
           0.21636408379100672
          ],
          [
           0.23244974921935052
          ],
          [
           0.19077261789175742
          ],
          [
           0.16171827713110698
          ],
          [
           0.28444218202532545
          ],
          [
           0.3165314763421889
          ],
          [
           0.06722300419357431
          ],
          [
           0.6223167365565219
          ],
          [
           0.32266615746406874
          ],
          [
           0.09925027549068395
          ],
          [
           0.44841902430143404
          ],
          [
           0.06928201111135136
          ],
          [
           0.196414334147001
          ],
          [
           0.42385031125599343
          ],
          [
           0.4445995334736717
          ],
          [
           0.43240378411443503
          ],
          [
           0.39567629124445924
          ],
          [
           0.15629104683702713
          ],
          [
           0.15488880624837545
          ],
          [
           0.3898153236743287
          ],
          [
           0.31792113111427966
          ],
          [
           0.015001964209363238
          ],
          [
           0.4440350549452493
          ],
          [
           0.1252058775342569
          ],
          [
           0.13356600644040456
          ],
          [
           0.4041306286968824
          ],
          [
           0.5075023591021669
          ],
          [
           0.11293730280266062
          ],
          [
           0.2019849235697159
          ],
          [
           0.4927112333553771
          ],
          [
           0.42765128281424886
          ],
          [
           0.07088640651892379
          ],
          [
           0.08167496334860296
          ],
          [
           0.16305559589399188
          ],
          [
           0.1381713562237043
          ],
          [
           0.448222675991508
          ],
          [
           0.3758612803963656
          ],
          [
           0.17507881416827512
          ],
          [
           0.21372278449160778
          ],
          [
           0.25450281316357637
          ],
          [
           0.39789502563792467
          ],
          [
           0.3966831003019485
          ],
          [
           0.5064213358735415
          ],
          [
           0.2879918529015751
          ],
          [
           0.10585484977691592
          ],
          [
           0.31228792893218993
          ],
          [
           0.2754814723515401
          ],
          [
           0.6049239696299051
          ],
          [
           0.45954452254500566
          ],
          [
           0.5721404388415162
          ],
          [
           0.34511179513079204
          ],
          [
           0.5923235464951696
          ],
          [
           0.3903902822547583
          ],
          [
           0.686879976182091
          ],
          [
           0.20275799035219652
          ],
          [
           0.5905036768689493
          ],
          [
           0.2825837727240211
          ],
          [
           0.46263599904758845
          ],
          [
           0.5230545958771227
          ],
          [
           0.32738680638781353
          ],
          [
           0.37107490915200764
          ],
          [
           0.01421018438342666
          ],
          [
           0.29242703811358006
          ],
          [
           0.18742955871401015
          ],
          [
           0.2149253728925139
          ],
          [
           0.17829036951397514
          ],
          [
           0.47336827569819434
          ],
          [
           0.3214444149759296
          ],
          [
           0.129947537132336
          ],
          [
           0.36595519639796786
          ],
          [
           0.2932518579883636
          ],
          [
           0.35195776146784596
          ],
          [
           0.20474674360346787
          ],
          [
           0.18918397081766172
          ],
          [
           0.11590229352013594
          ],
          [
           0.5931106275747743
          ],
          [
           0.2582879718857601
          ],
          [
           0.4771803659375344
          ],
          [
           0.052644913496536216
          ],
          [
           0.44986503133185035
          ],
          [
           0.12092534207633662
          ],
          [
           0.38771033405967514
          ],
          [
           0.40239813891149545
          ],
          [
           0.45894434121572686
          ],
          [
           0.340608037643725
          ],
          [
           0.4410698762347726
          ],
          [
           0.3248700064699376
          ],
          [
           0.06390795110956353
          ],
          [
           0.18370677581935427
          ],
          [
           0.14030476623578514
          ],
          [
           0.512974404781048
          ],
          [
           0.1961681144815933
          ],
          [
           0.3985803468188209
          ],
          [
           0.1820643363502572
          ],
          [
           0.13275439578414674
          ],
          [
           0.14505262597675211
          ],
          [
           0.1618104929176891
          ],
          [
           0.5853286862978676
          ],
          [
           0.4241299226551373
          ],
          [
           0.3530354011952135
          ],
          [
           0.5025809635955059
          ],
          [
           0.15764719783852202
          ],
          [
           0.09555043028636047
          ],
          [
           0.18901099828846546
          ],
          [
           0.5190908892624345
          ],
          [
           0.29625628339876103
          ],
          [
           0.08239535012578492
          ],
          [
           0.07032518495667887
          ],
          [
           0.523834269217212
          ],
          [
           0.24150143872185958
          ],
          [
           0.1273048169391982
          ],
          [
           0.11557016066942141
          ],
          [
           0.38760264836069214
          ],
          [
           0.38903849076303604
          ],
          [
           0.3044708637794925
          ],
          [
           0.11875534381348961
          ],
          [
           0.5829305696694191
          ],
          [
           0.5936073208389812
          ],
          [
           0.3525552929216245
          ],
          [
           0.2656095528086701
          ],
          [
           0.4068156092139274
          ],
          [
           0.5103954168887284
          ],
          [
           0.39496359867003106
          ],
          [
           0.26023024041706766
          ],
          [
           0.5824662701118368
          ],
          [
           0.17551162900467765
          ],
          [
           0.3402070865253522
          ],
          [
           0.13033024659463854
          ],
          [
           0.15296319128783833
          ],
          [
           0.3563587819272164
          ],
          [
           0.23011884829309678
          ],
          [
           0.09860723850474631
          ],
          [
           0.26489697561077835
          ],
          [
           0.20804111094191674
          ],
          [
           0.42100160576180207
          ],
          [
           0.6302862300839919
          ],
          [
           0.3521747965995865
          ],
          [
           0.24722985016874188
          ],
          [
           0.31500908633797037
          ],
          [
           0.3903830739928273
          ],
          [
           0.12909145620220833
          ],
          [
           0.395430671068056
          ],
          [
           0.275194779973416
          ],
          [
           0.40372939721095263
          ],
          [
           0.30450497703128016
          ],
          [
           0.13886319353567073
          ],
          [
           0.42363050215684567
          ],
          [
           0.3156706164268455
          ],
          [
           0.37807875695025095
          ],
          [
           0.2025246996581341
          ],
          [
           0.23342066228331906
          ],
          [
           0.2695412014082416
          ],
          [
           0.21772178922432114
          ],
          [
           0.02428242421872661
          ],
          [
           0.26281751265843406
          ],
          [
           0.39828924210666306
          ],
          [
           0.4917714451451723
          ],
          [
           0.32879077547898056
          ],
          [
           0.22051241834985133
          ],
          [
           0.17525060697140982
          ],
          [
           0.318181135444091
          ],
          [
           0.1756473829384297
          ],
          [
           0.38592107973293815
          ],
          [
           0.3842471188367508
          ],
          [
           0.05917201137888684
          ],
          [
           0.1725374371368081
          ],
          [
           0.3205200602747848
          ],
          [
           0.21623392128986163
          ],
          [
           0.12777909147049155
          ],
          [
           0.4939791331672937
          ],
          [
           0.4326039989073281
          ],
          [
           0.42308828213491007
          ],
          [
           0.164217034014645
          ],
          [
           0.1181526833312511
          ],
          [
           0.42716875937205123
          ],
          [
           0.20870002614726482
          ],
          [
           0.3847798836418023
          ],
          [
           0.3301355880552983
          ],
          [
           0.5927107153609082
          ],
          [
           0.11098463271240964
          ],
          [
           0.1055835966941206
          ],
          [
           0.37038743436331545
          ],
          [
           0.25781234426720895
          ],
          [
           0.3211718602422767
          ],
          [
           0.16008382360912987
          ],
          [
           0.3300020236608452
          ],
          [
           0.133605968845102
          ],
          [
           0.25767790576962474
          ],
          [
           0.346509296965778
          ],
          [
           0.21168982132750994
          ],
          [
           0.09178898063295178
          ],
          [
           0.511229868339055
          ],
          [
           0.3882588345378209
          ],
          [
           0.2785488619771711
          ],
          [
           0.317208079781739
          ],
          [
           0.3373079782821356
          ],
          [
           0.1977631252330459
          ],
          [
           0.5599295548137715
          ],
          [
           0.13547982435899397
          ],
          [
           0.17421829963476507
          ],
          [
           0.19866424747173567
          ],
          [
           0.7046489167687108
          ],
          [
           0.24956693796465826
          ],
          [
           0.5173011395110676
          ],
          [
           0.25966468903704804
          ],
          [
           0.3670939938053937
          ],
          [
           0.2220979467984245
          ],
          [
           0.10426004263376859
          ],
          [
           0.42777944034517396
          ],
          [
           0.4791411054918711
          ],
          [
           0.34767606730943507
          ],
          [
           0.48441135030836446
          ],
          [
           0.13880453185687944
          ],
          [
           0.5715313867752353
          ]
         ],
         "hovertemplate": "labels_clustering=0<br>x=%{x}<br>y=%{y}<br>distance=%{customdata[0]}<extra></extra>",
         "legendgroup": "0",
         "marker": {
          "color": "#636efa",
          "symbol": "circle"
         },
         "mode": "markers",
         "name": "0",
         "orientation": "v",
         "showlegend": true,
         "type": "scatter",
         "x": [
          1.6145799482244692,
          1.0198878249131398,
          1.4939486294662971,
          0.9856136178632046,
          0.6841163971221067,
          1.395998643145414,
          1.2960659280189148,
          1.0219240676239212,
          1.5065508280847817,
          1.4166322200021333,
          0.7140211421419974,
          1.428570758021482,
          1.2954496383231495,
          1.2717121069048594,
          0.8616568674937184,
          1.201792927722572,
          1.2332715247543635,
          1.342343515303241,
          1.5611679803619578,
          1.498484313923762,
          1.4820237911204492,
          1.2334373349446612,
          1.116102531070687,
          1.2961767471928176,
          1.4298860283325694,
          1.1880813722136114,
          0.8076320469923857,
          1.1242920705746426,
          0.9000131703913764,
          1.3489632271828114,
          1.3263652914521191,
          0.950950970892274,
          1.0393754088189513,
          1.176792724822242,
          1.0083115500151691,
          0.9532631813686702,
          1.345752405529219,
          1.425161516889222,
          1.2993659004063036,
          1.3201458181492511,
          0.9969248475466154,
          0.9327452660054256,
          1.1263734292954006,
          0.9358271786311738,
          1.25418928956775,
          1.146042539252412,
          0.8062602633986098,
          1.2413703558127622,
          1.2250854900407284,
          1.393504093555371,
          1.2143008248923437,
          1.6210634025223645,
          1.4563896618763204,
          1.3152533089469558,
          1.1145264903698084,
          1.404046803619492,
          1.3666695530963957,
          1.2074605289152065,
          1.587260211607788,
          1.1440240729396496,
          1.077760426330013,
          0.9789970696869472,
          0.6899101415290608,
          1.1586505889084024,
          1.3933383580248486,
          1.659953267024675,
          1.0975499023307986,
          1.175833483242511,
          1.1151351354307817,
          1.0860213319946856,
          1.2660939509184896,
          0.7449614862277343,
          1.1569807583367104,
          1.367003277877504,
          1.306930141175734,
          1.2450851107271454,
          1.575064477210231,
          1.5894030947706272,
          0.8510303908901009,
          0.9049033636289056,
          1.2161434406665887,
          1.3964603894547447,
          0.9175111521140202,
          0.817690816574487,
          1.150836247803542,
          1.7205615285593252,
          1.0112585220596175,
          0.650540290730618,
          1.5670587847045114,
          1.103929087773316,
          1.2538632618367953,
          1.3798407016689551,
          1.335698233560099,
          1.328999867522258,
          0.6721726035606655,
          1.1203557501019186,
          1.4944315229998673,
          1.20692551139823,
          1.1732633503294598,
          1.0737940078763788,
          1.1326512606418473,
          1.106576379452496,
          0.7849432113698981,
          1.093131545665016,
          1.1380072911362296,
          1.462267918771933,
          0.9095256395028204,
          1.5428296528470784,
          1.2068707133533056,
          1.2011542186658646,
          1.0822378758137274,
          0.6169595803903515,
          1.3574826272046463,
          1.637777148199294,
          1.1406170909332878,
          0.8966854967926112,
          1.222883706220367,
          0.8276261175918431,
          1.393395191435315,
          1.18815845221523,
          0.8961404904783237,
          1.0358908847316048,
          1.0098466583327748,
          1.2553255382763362,
          1.3765207620305606,
          1.330978019020279,
          1.483762559265858,
          1.236839781862963,
          0.8367285237064688,
          1.314476098360165,
          1.3152110020065917,
          1.0523498612897366,
          1.3522072605301598,
          0.9867364109853116,
          1.566635970234766,
          1.2248297783686894,
          1.1243504537552704,
          1.152252856291177,
          1.1091024261224829,
          1.089924319621551,
          1.6891559753986185,
          1.1463602255355303,
          1.1319315604423974,
          1.1225532451369922,
          1.542437237606433,
          0.9657979244240752,
          1.297560129644504,
          1.0805858400301458,
          0.9432988808250192,
          1.0812269844594764,
          1.1784210490180715,
          1.3054463001682255,
          1.04376526791522,
          0.6042634210478831,
          1.036495127561534,
          1.0883106255057804,
          0.9206004284842486,
          1.233224607538428,
          1.4504515212320157,
          1.0448147629724625,
          1.7228182546756554,
          1.040533184282958,
          1.4289008183476175,
          1.3101447503738222,
          1.2623462772208784,
          1.030916392085366,
          1.4182446501584571,
          1.2914272956679826,
          1.1659078075591496,
          1.396105332751698,
          1.0733194567390043,
          1.451091355803822,
          1.5426028103588676,
          1.1605412853486103,
          1.506671051408662,
          1.215306149790501,
          1.3216147942326388,
          0.8929667169075653,
          1.2534886352342791,
          1.2344531678821475,
          0.9899316057422992,
          1.2008422329076638,
          1.2634703029559338,
          0.9982600738167878,
          1.4355354712451232,
          0.9917649732036012,
          0.9699040497211396,
          0.9290658712650072,
          1.2345933904655493,
          1.2163294737385295,
          1.4334158127692982,
          1.4297028070947575,
          1.5721263020162175,
          1.0632081508915303,
          1.412309928623744,
          1.0659784275894475,
          1.5100453543695287,
          1.033745400601351,
          0.9190933963065948,
          0.8130884668044364,
          1.216398341662238,
          1.1024303892179523,
          0.8747203684816478,
          1.241392604874904,
          1.110856436260396,
          0.7591918939673703,
          1.422611031338562,
          1.5771795181834558,
          1.3418261486578116,
          1.1394404521073582,
          1.61498106221736,
          0.9958680474959656,
          1.3444699899308703,
          0.8798342169656045,
          0.6082253503354216,
          1.2762569653458389,
          1.0876418126178913,
          1.259927889626012,
          1.334586217807173,
          1.330375154985018,
          1.0884488204148897,
          0.946680778189372,
          1.121645340315914,
          1.2072340125283316,
          1.460174531093836,
          1.3570218887502992,
          1.1768624359260933,
          1.0019699040677887,
          0.9997650945856298,
          1.4275047002139656,
          1.4969310090205503,
          0.8726560891847557,
          1.2167920687901663,
          1.398887335591314,
          1.2990837004599594,
          1.1480752907929272,
          1.3650058728316377,
          0.542905279453854,
          1.25976480907293,
          1.67526933073356,
          1.3005044650877076,
          0.948487466322198,
          1.4069637091552123,
          1.2848241921602144,
          0.9047750642714358,
          1.2782262141948837,
          1.1263542972671514,
          1.598657170566149,
          1.1285240492530069,
          0.7190253597062606
         ],
         "xaxis": "x",
         "y": [
          -0.1004197605552046,
          0.3125670865072203,
          0.4173924915630471,
          0.1180677553063417,
          0.219824894442935,
          0.7416877575839302,
          -0.0590261748916988,
          -0.0768733110202568,
          0.550520813299624,
          -0.0878986988375416,
          -0.1623069326958247,
          0.7841812762989455,
          0.393429691744494,
          0.0901747174781012,
          0.5240830437828741,
          0.3418128105798228,
          0.4150074739989021,
          0.0281025479733005,
          0.151440451377488,
          0.4387329464403288,
          0.4780772721561971,
          0.3023226192594814,
          -0.1508033508871246,
          0.0291913278078867,
          0.1574439748417684,
          0.1651838488583002,
          0.2259716403203119,
          -0.0835135191392428,
          0.4501344751136528,
          -0.2493906352385495,
          0.0823075428271016,
          -0.055478727983963,
          0.0218966673784839,
          0.5874876784838855,
          0.0076904630027907,
          0.504230742897507,
          0.0283644550980438,
          0.1731809236455765,
          0.0231826350926714,
          0.2812102961413878,
          0.3876529156039188,
          0.3618250812254294,
          0.1715270606882925,
          0.7482124212683734,
          -0.1353278108463471,
          0.2689708363013626,
          0.4086585648860734,
          0.1319924324326121,
          -0.0122964320473292,
          -0.1918944904079216,
          0.6255383170628848,
          0.121338579713909,
          0.4766024850204214,
          0.0842627452043998,
          0.0478352282387359,
          -0.1461957471020953,
          -0.0847463905304956,
          0.1780126371166302,
          0.385453431090078,
          0.2967455408957819,
          0.2492216749587303,
          0.5243622169950055,
          0.2492866215952824,
          0.0738242875029979,
          0.156839428108769,
          0.3382598515459059,
          0.5983515190711999,
          0.2502675326735845,
          0.1563606416203328,
          0.3046341045681426,
          0.0642896476703436,
          0.1985231513747073,
          -0.1926888333620122,
          0.1995226871859179,
          0.0007208738350368,
          -0.0676304658397138,
          0.0708237975184858,
          0.1919609879046118,
          -0.1921957163122254,
          0.176896077915506,
          0.2847183550931275,
          -0.0553354989871353,
          0.172880440434386,
          0.6559893204012818,
          -0.2761629873793093,
          0.4025326717648096,
          -0.1120117264780433,
          -0.0567401843426297,
          0.2927178733932921,
          -0.4996426635586463,
          -0.0119070010852973,
          -0.3786621516464593,
          -0.0623687645806174,
          -0.2606951695478961,
          0.2311720082322081,
          -0.1378014307419259,
          0.3976751508224669,
          0.1834724937043987,
          -0.1103136162267253,
          0.3262088063061342,
          -0.0248638515453112,
          0.025434499827003,
          0.4216271877015095,
          0.4870390449918484,
          0.2992595154808021,
          0.4291294950384251,
          0.1058334031070523,
          0.2188043030152166,
          0.3857228668794057,
          0.3704581460827894,
          0.1468687863585525,
          0.3233009127611943,
          -0.0175709510998794,
          0.0089770100344263,
          0.1749554972353473,
          0.5200705547559482,
          0.2985947644794656,
          0.3115490190736949,
          -0.1674128290138508,
          -0.2774641481613216,
          0.3487041228419544,
          0.5936497769181759,
          -0.0869595332834226,
          0.1949532257909015,
          0.1773845098637687,
          0.1567863989686755,
          -0.2410576963917837,
          0.3726304637318324,
          0.3604457743845868,
          0.316943134960839,
          0.1299416094163226,
          0.1454364776592905,
          0.2095773458012144,
          -0.3663788034660822,
          -0.0189860216627744,
          -0.1701286796365323,
          0.6793458549777416,
          0.0291282792424902,
          0.1354702282413153,
          0.3399792594210929,
          0.3335901896382303,
          -0.1111282938250298,
          0.1259869649605779,
          0.1798078958721832,
          0.5715810689218266,
          0.2637128015681318,
          0.1090391778757405,
          0.2088636788570379,
          0.4780290511293489,
          -0.191222314568497,
          0.4855844628813916,
          0.2192312023104671,
          -0.3820854268546694,
          0.2584286033162671,
          -0.1345273274015007,
          0.4256241936250171,
          0.4837376916600282,
          -0.32734060644918,
          0.4808595184770905,
          -0.0325594139288704,
          -0.060226034382069,
          0.2686406565053522,
          0.4264564764248254,
          0.2382896690389374,
          0.3177252350640214,
          -0.1359807036550187,
          0.1350229009207947,
          0.1842311456141972,
          0.4449784807466562,
          0.2258642025029641,
          0.5851300259923382,
          0.7564142401195102,
          0.1401471226150669,
          0.4265645789354041,
          0.2088931662005445,
          -0.2082810675037363,
          0.1721513622660796,
          -0.0762839949638973,
          0.4498890309335891,
          -0.2201249566075386,
          -0.045576274609679,
          0.0428225871492375,
          -0.236248156395805,
          0.4300102428117247,
          0.4713728859012063,
          0.1574269481774059,
          0.1123457330520247,
          0.2368238456252434,
          -0.0322282915529688,
          0.1876833399151577,
          0.2873122434139901,
          0.5016738341701059,
          0.4944985340709696,
          0.4836050930349518,
          0.1598444100678751,
          0.3023447750187282,
          0.2065981754871657,
          0.1070596828761944,
          0.4534623922306907,
          0.239937782810115,
          0.2357445310787216,
          0.3283976494411682,
          0.1424580614323859,
          -0.0292607730766159,
          0.2794513097096518,
          0.417989684831285,
          0.5480079926979697,
          0.3583784763216289,
          0.2505651379647089,
          0.2868435158230226,
          0.1159869770313984,
          0.1125342711505539,
          -0.1721958290079176,
          0.0765517763617925,
          0.0839401919411671,
          0.108227799537025,
          0.1902433647563051,
          0.5457206260400768,
          0.3968177514786783,
          -0.1087863685326721,
          0.0601081839791018,
          0.4012231855500378,
          0.2945010378453551,
          -0.0758205124397857,
          -0.0390232670316146,
          0.0478029737841631,
          0.2718404284945085,
          0.6557105748406955,
          -0.1553815606487429,
          0.0313530992184265,
          0.2717957436354432,
          0.2875065604696813,
          -0.014853501470276,
          0.70210329152986,
          0.265546069849092,
          0.3498200861127849,
          0.0822947553067136,
          -0.0907388669823844,
          -0.0589753349180726,
          -0.0053080375118501,
          0.4177572596714299,
          -0.0924790895489898,
          0.2405045717023875,
          0.1323380920244946,
          -0.1347761221356768,
          -0.2900188606185712,
          0.5227122657603371,
          0.4459977844222148,
          0.0584614136182841,
          0.501033497828278
         ],
         "yaxis": "y"
        },
        {
         "customdata": [
          [
           0.5605255904039739
          ],
          [
           0.23063128446740028
          ],
          [
           0.3081814868345219
          ],
          [
           0.09201451534400844
          ],
          [
           0.4998334510353577
          ],
          [
           0.23480655816501053
          ],
          [
           0.3336471726420511
          ],
          [
           0.30292710490836
          ],
          [
           0.1930043244997956
          ],
          [
           0.5000166475499132
          ],
          [
           0.13849321657053507
          ],
          [
           0.42249885498552825
          ],
          [
           0.4911939233227611
          ],
          [
           0.5795853510521628
          ],
          [
           0.49506410427214426
          ],
          [
           0.17712598128621626
          ],
          [
           0.10402606883607655
          ],
          [
           0.42097668527321586
          ],
          [
           0.15732291961818431
          ],
          [
           0.3117653225169885
          ],
          [
           0.23110409582249952
          ],
          [
           0.23120180128061943
          ],
          [
           0.33898896141127116
          ],
          [
           0.3481409131856133
          ],
          [
           0.43285341482779205
          ],
          [
           0.06810794429014037
          ],
          [
           0.6279153218695125
          ],
          [
           0.09174991474392269
          ],
          [
           0.08181620837471758
          ],
          [
           0.3579006085856648
          ],
          [
           0.06313596318062281
          ],
          [
           0.14955403138969653
          ],
          [
           0.39637372379929425
          ],
          [
           0.3781114026238645
          ],
          [
           0.20434744702103447
          ],
          [
           0.14580395006251928
          ],
          [
           0.3166040907193758
          ],
          [
           0.41153488614272754
          ],
          [
           0.31953547242400887
          ],
          [
           0.1378777468712238
          ],
          [
           0.47720808934658504
          ],
          [
           0.1145531405064848
          ],
          [
           0.23854226014643629
          ],
          [
           0.40865829225872874
          ],
          [
           0.24009270884052064
          ],
          [
           0.04640652612938318
          ],
          [
           0.04458312440918516
          ],
          [
           0.43601384891419
          ],
          [
           0.22807140401193712
          ],
          [
           0.09476395331671009
          ],
          [
           0.22832871349000883
          ],
          [
           0.38792148047148217
          ],
          [
           0.28019508390353837
          ],
          [
           0.32586026085181286
          ],
          [
           0.4315888755491958
          ],
          [
           0.22503889161570234
          ],
          [
           0.16794004784026206
          ],
          [
           0.46092601494922364
          ],
          [
           0.3611584341330659
          ],
          [
           0.3396577597937737
          ],
          [
           0.07433812655434095
          ],
          [
           0.6444798372170717
          ],
          [
           0.29840760881884093
          ],
          [
           0.16581020830769685
          ],
          [
           0.3897573640315341
          ],
          [
           0.5306041477002404
          ],
          [
           0.08587073379429165
          ],
          [
           0.28035604526053676
          ],
          [
           0.3722708569863736
          ],
          [
           0.428897570550473
          ],
          [
           0.6286045123514307
          ],
          [
           0.1970908091474195
          ],
          [
           0.3780640396153665
          ],
          [
           0.2539203653207508
          ],
          [
           0.5425486819868712
          ],
          [
           0.45205741772660435
          ],
          [
           0.5893609590230227
          ],
          [
           0.5909722423014246
          ],
          [
           0.4746464427790421
          ],
          [
           0.284009283406493
          ],
          [
           0.20797371924637328
          ],
          [
           0.23976750197496546
          ],
          [
           0.2496281980719028
          ],
          [
           0.3432002008761027
          ],
          [
           0.26155420056675127
          ],
          [
           0.49558968898879874
          ],
          [
           0.5101368028015689
          ],
          [
           0.4759012699772824
          ],
          [
           0.16446810177684798
          ],
          [
           0.14721163534420284
          ],
          [
           0.3639092889977312
          ],
          [
           0.43954440044866866
          ],
          [
           0.17048904190155212
          ],
          [
           0.1787566044548985
          ],
          [
           0.368221242342371
          ],
          [
           0.14512538594189717
          ],
          [
           0.12509569309239205
          ],
          [
           0.32759592048955477
          ],
          [
           0.32355245894579815
          ],
          [
           0.08771422226041663
          ],
          [
           0.24904924557755082
          ],
          [
           0.3808444823934448
          ],
          [
           0.3384111162340843
          ],
          [
           0.520429197746346
          ],
          [
           0.21504849294347536
          ],
          [
           0.1806364870397557
          ],
          [
           0.4510782965435237
          ],
          [
           0.33057492291495405
          ],
          [
           0.5134018744359736
          ],
          [
           0.3406446133780247
          ],
          [
           0.07035920571872212
          ],
          [
           0.30923789158768344
          ],
          [
           0.11825558247408402
          ],
          [
           0.1995320174962614
          ],
          [
           0.5742120706318261
          ],
          [
           0.480454477746614
          ],
          [
           0.38565054356417666
          ],
          [
           0.057621967572871
          ],
          [
           0.3013042333560916
          ],
          [
           0.09099446065076562
          ],
          [
           0.5272828625696419
          ],
          [
           0.04266228420918753
          ],
          [
           0.32164822512906815
          ],
          [
           0.0773820206686742
          ],
          [
           0.2490806134500912
          ],
          [
           0.4927596559053194
          ],
          [
           0.6175563933297386
          ],
          [
           0.14931417048613524
          ],
          [
           0.24777067086721888
          ],
          [
           0.36100901429299376
          ],
          [
           0.23142576589103225
          ],
          [
           0.2691957022261633
          ],
          [
           0.8131515781403371
          ],
          [
           0.34162099887350345
          ],
          [
           0.36361712589415457
          ],
          [
           0.1015918372410801
          ],
          [
           0.6898801800954122
          ],
          [
           0.11203718760073596
          ],
          [
           0.1322999786759906
          ],
          [
           0.27988401140775543
          ],
          [
           0.4188876525973067
          ],
          [
           0.2436367700875344
          ],
          [
           0.6853726526889484
          ],
          [
           0.3151125388647739
          ],
          [
           0.20022371765524716
          ],
          [
           0.4592592140451777
          ],
          [
           0.27175210393860677
          ],
          [
           0.4758948224269683
          ],
          [
           0.1079135798914934
          ],
          [
           0.44980683490405515
          ],
          [
           0.12073383864352047
          ],
          [
           0.3255922450470517
          ],
          [
           0.435111643143097
          ],
          [
           0.3454380768548255
          ],
          [
           0.3426571173743602
          ],
          [
           0.22145713071827688
          ],
          [
           0.15109100732058567
          ],
          [
           0.4749894405383371
          ],
          [
           0.3482361552448572
          ],
          [
           0.38943931122399006
          ],
          [
           0.46687277479604766
          ],
          [
           0.20101086857977568
          ],
          [
           0.6119441127415567
          ],
          [
           0.23694681614226612
          ],
          [
           0.4814109684423213
          ],
          [
           0.5673522221390613
          ],
          [
           0.5157440338863121
          ],
          [
           0.13642277515956436
          ],
          [
           0.4422797055479028
          ],
          [
           0.3410203275449441
          ],
          [
           0.5298604478697885
          ],
          [
           0.2480582065017532
          ],
          [
           0.5292684546135614
          ],
          [
           0.5273216544186652
          ],
          [
           0.555127927113936
          ],
          [
           0.27461583172365334
          ],
          [
           0.4638584711917214
          ],
          [
           0.4446819604723274
          ],
          [
           0.17979203035564195
          ],
          [
           0.5858346564096444
          ],
          [
           0.3890371182241869
          ],
          [
           0.3942082941967049
          ],
          [
           0.5365972523777345
          ],
          [
           0.4647603636260628
          ],
          [
           0.5236744632190233
          ],
          [
           0.48199577036904667
          ],
          [
           0.2044366351493583
          ],
          [
           0.3798300820722816
          ],
          [
           0.10919802643173489
          ],
          [
           0.409087936240252
          ],
          [
           0.3839867927362172
          ],
          [
           0.4798650167196302
          ],
          [
           0.38280318232326177
          ],
          [
           0.09378109840927353
          ],
          [
           0.24447101151779368
          ],
          [
           0.3532222906694925
          ],
          [
           0.4641669428045356
          ],
          [
           0.27847035194541236
          ],
          [
           0.5488268982876333
          ],
          [
           0.13003014368838714
          ],
          [
           0.18679344608918863
          ],
          [
           0.3618535964438089
          ],
          [
           0.4603704591648866
          ],
          [
           0.135041584433208
          ],
          [
           0.286625924772047
          ],
          [
           0.48802205756723105
          ],
          [
           0.3539545999715517
          ],
          [
           0.42888199781735914
          ],
          [
           0.1962997339622835
          ],
          [
           0.4255522263584561
          ],
          [
           0.30693373940710633
          ],
          [
           0.16144808092956517
          ],
          [
           0.5284531357871121
          ],
          [
           0.17703657710073326
          ],
          [
           0.16222718877768535
          ],
          [
           0.2962140973754875
          ],
          [
           0.23692235110482232
          ],
          [
           0.9517431313869043
          ],
          [
           0.12279804082770246
          ],
          [
           0.43418949399113593
          ],
          [
           0.26502981174096657
          ],
          [
           0.5067895062334796
          ],
          [
           0.24204656861284135
          ],
          [
           0.07608133762412886
          ],
          [
           0.18830816035939696
          ],
          [
           0.28268595670162344
          ],
          [
           0.2841871281643056
          ],
          [
           0.4671889275354422
          ],
          [
           0.2680416647999618
          ],
          [
           0.27066984558436125
          ],
          [
           0.237553861789355
          ],
          [
           0.3513433575700238
          ],
          [
           0.15220763411159893
          ],
          [
           0.09807366336130803
          ],
          [
           0.278149395774523
          ],
          [
           0.6886940353685737
          ],
          [
           0.2412322966484407
          ],
          [
           0.25983867942991634
          ],
          [
           0.2592199237064511
          ],
          [
           0.47870287927107363
          ],
          [
           0.23893839182874554
          ],
          [
           0.16465760388625977
          ],
          [
           0.2132445506544183
          ],
          [
           0.2777543422911882
          ],
          [
           0.3537756071497713
          ],
          [
           0.4036727600181918
          ],
          [
           0.4646822332673381
          ],
          [
           0.08273002764449668
          ],
          [
           0.3767402584137075
          ],
          [
           0.19790582512267393
          ]
         ],
         "hovertemplate": "labels_clustering=1<br>x=%{x}<br>y=%{y}<br>distance=%{customdata[0]}<extra></extra>",
         "legendgroup": "1",
         "marker": {
          "color": "#EF553B",
          "symbol": "circle"
         },
         "mode": "markers",
         "name": "1",
         "orientation": "v",
         "showlegend": true,
         "type": "scatter",
         "x": [
          0.3852130904647678,
          0.0025276715630145,
          0.3504978583328243,
          0.1980823154497814,
          0.1334308393463489,
          0.4124999285781252,
          0.4958799906716703,
          -0.0920696546483252,
          0.2894176646739417,
          -0.1137971730244505,
          0.0659355031565553,
          0.289666317135313,
          0.6279327775338992,
          0.0638647581503333,
          0.6474039227723662,
          0.0895092205144591,
          0.2624298845971226,
          0.5603358585888762,
          0.1637035036289473,
          -0.130972300039054,
          0.3536509632275554,
          -0.0412113041396037,
          0.3020673474067409,
          0.2090193150946696,
          0.0699012780433583,
          0.1405711717755924,
          -0.3453064452655607,
          0.2324206874360412,
          0.1183327557736229,
          0.518844553984787,
          0.2248418462579672,
          0.1718961991368172,
          0.3881440153127286,
          0.101320168027807,
          0.0739325694555269,
          0.1154760836703621,
          -0.0619312439677022,
          0.3815529656781328,
          0.3976838587533743,
          0.1241417645529211,
          0.4776960847080594,
          0.1991287799776078,
          0.3540546500552688,
          -0.2207099081833517,
          -0.057392145144187,
          0.1906019738343278,
          0.1357217744380126,
          -0.1285854055136813,
          0.3030929920114746,
          0.2667738897054428,
          0.3614184868723398,
          0.0161171502101301,
          0.210384398246047,
          0.3139697322915482,
          0.3617917426797078,
          0.0827041750282392,
          0.0100299900865597,
          0.6385841977413649,
          -0.1374168099706343,
          -0.0959749667097603,
          0.1044961983005849,
          0.8106494024694821,
          0.4155951288349402,
          0.2903817001719865,
          -0.2045666095126875,
          -0.3491441940522282,
          0.1487246952452183,
          0.440427985393758,
          0.1445532791306406,
          -0.0244523006148957,
          -0.1706969400417177,
          0.3748714793208711,
          -0.1848388615974439,
          0.0335591787993922,
          -0.2194776265524997,
          -0.2022884440680609,
          0.1285844928974477,
          0.7674652827774138,
          0.6434304637680661,
          -0.0572513887369223,
          0.1581850648927921,
          0.4168165769576991,
          0.0427512934277158,
          -0.1460142422027855,
          -0.0435692216782596,
          0.4932430292963695,
          -0.1308170669252056,
          -0.2468867012118003,
          0.3151840005227717,
          0.2572731952631421,
          -0.1743218158283004,
          0.4887708938801535,
          0.2364517159183465,
          0.0149266432572096,
          0.1518907038305362,
          0.2752661510890465,
          0.0744210601359361,
          0.0708247664265193,
          0.4540234316102904,
          0.1501669463680384,
          0.2415126482460141,
          -0.1238415323722088,
          0.5149323430201733,
          -0.0432026237548056,
          0.3553103670848428,
          0.0917068496303415,
          -0.2343641688363238,
          0.2486854813244367,
          -0.0870480011284151,
          0.0041756682114554,
          0.213807521685338,
          0.2214819497441097,
          0.2953917886125334,
          0.156615727739754,
          0.676813643662048,
          0.6551217396764204,
          0.1332531702764466,
          0.1215313801577133,
          0.3004776535258529,
          0.1464291978833121,
          -0.1983814869720911,
          0.1692374137707744,
          -0.1306151706232486,
          0.1503419335390011,
          -0.0514124821585752,
          -0.3049405619908622,
          -0.0227981507474983,
          0.2713223990750399,
          0.3994097356574219,
          0.4756276344466412,
          0.1248120535369503,
          0.4013804406707222,
          0.7258449892409089,
          0.4372485658613476,
          -0.0687340409575464,
          0.1067441410620541,
          -0.4354764008705362,
          0.0732394384318035,
          0.0914421545325528,
          0.0307410242797748,
          0.485070833166501,
          -0.0594480042165964,
          0.1003154500114971,
          -0.1222263778091555,
          -0.0022934764945706,
          0.3849953410844219,
          0.4439785503545304,
          -0.2897824560948329,
          0.2663878256769396,
          0.0178834268178325,
          0.1474577105688095,
          -0.1348775424841646,
          0.0782230725382311,
          0.3089707604982569,
          0.498237253711186,
          0.2612245233490941,
          0.0602919349749172,
          -0.0396678116841222,
          -0.0890486489481627,
          0.1610021728669779,
          0.3521435538083298,
          0.0643640813299178,
          0.4911609322412971,
          0.1778940367914992,
          -0.1120735302282566,
          0.4349255754940091,
          0.6329550831271656,
          0.1342208502827997,
          0.0165115281145569,
          0.0447316726620725,
          -0.1756726895913882,
          0.0936647409004678,
          -0.1126902439062616,
          0.6892674982189435,
          0.4546964989118153,
          0.4375697535587495,
          -0.2128180963964073,
          -0.2101787122192861,
          0.2930499384150085,
          -0.0249417514568728,
          -0.0036649951292891,
          -0.1378760946632146,
          0.5591893949544959,
          0.5530372181929237,
          -0.2727936581143877,
          0.452402700362126,
          0.3798533293193596,
          0.5576110017559173,
          0.0788667674076467,
          0.5863484935240915,
          0.534361854364434,
          0.5620576875102559,
          0.0622587129124949,
          0.1652832511254249,
          0.4129486410998899,
          0.5098735209636243,
          -0.0821285153351347,
          0.1886512590307974,
          -0.360481450892285,
          0.1720705953421298,
          -0.0042665245253818,
          0.5198591988380017,
          0.5998701575004795,
          0.2480529220179874,
          -0.0594994110942167,
          -0.3079273588898335,
          0.4923853358231782,
          0.129782705510436,
          0.0887336733609691,
          0.4225586110403762,
          0.4836747803625135,
          0.1452220953322568,
          -0.0793278713183452,
          0.2618025425447144,
          0.0356826240751985,
          0.255249280329286,
          0.3779647657883731,
          1.00598305304252,
          0.2705661228228609,
          0.6097783246636213,
          0.4397191227724804,
          -0.1015614391187424,
          0.2523740355487223,
          0.2524152315103355,
          0.0344156924165891,
          0.2079576459029001,
          0.3348217836235405,
          0.1431560824028948,
          0.4416990800367322,
          0.002255153138356,
          -0.045842149256198,
          0.4815534623073955,
          0.2894113748193666,
          0.124300899129789,
          0.3084020005437746,
          -0.5087636325136535,
          0.0279412516717338,
          0.3968598674248883,
          0.351236096873541,
          -0.282978069730201,
          -0.0598766193486507,
          0.2038781348227342,
          0.0096079601137091,
          0.4113046683496406,
          0.5231849088615961,
          0.4273241973838336,
          -0.2378717728160121,
          0.109250804987336,
          0.0392819215853088,
          0.1709381396488806
         ],
         "xaxis": "x",
         "y": [
          0.3827747646741931,
          0.7535942550329047,
          0.648269106967291,
          0.8137601410762973,
          1.4013701743346314,
          0.9101957133028736,
          1.0041980329403724,
          0.7658812990070938,
          1.0609560847973225,
          1.309703886569114,
          0.9851743872900438,
          1.3109259395586468,
          0.7069339764178331,
          1.471787453919589,
          0.7468247418515159,
          0.7499498897691252,
          0.9639843020430308,
          1.0792330036305666,
          0.746817748418515,
          0.860331101287372,
          0.7535704481701757,
          0.8293919915480176,
          0.5881229112858022,
          1.2502461562081122,
          1.3227014424741528,
          0.9605488216006124,
          0.5561629133044628,
          0.8297974009006381,
          0.9597129207839196,
          1.0120154908041,
          0.861412061398271,
          0.7540709744700159,
          0.5675583938765987,
          1.2738071540926728,
          1.0794969579137628,
          0.7716910455875223,
          1.1103241242729738,
          0.5459602166479396,
          0.671670586077247,
          0.7764959298414119,
          0.5323174701958822,
          0.7909610293897369,
          1.064234394650565,
          0.812952070734754,
          0.8551919665070402,
          0.9481113832020182,
          0.9182749520796192,
          1.2137395094943184,
          1.094074815919886,
          0.9360945483076448,
          1.0392073237913146,
          1.2561353349968445,
          1.181801531202448,
          1.1995487596437178,
          0.5131093389522131,
          0.6995445355559519,
          0.8957045724870663,
          0.914472993353894,
          1.079806815480226,
          0.7024593812363513,
          0.9159338706812792,
          1.025334452710792,
          0.7232447480104875,
          0.7817886286488904,
          0.9791084427316572,
          0.8411984626744843,
          0.8227062067444977,
          1.0015908226155037,
          1.274293190372404,
          1.2817306976121456,
          1.426673729432702,
          0.9052772655959626,
          1.0104375462064072,
          0.6945270038719107,
          0.5339975622043838,
          1.1482482252634232,
          1.4908122909725612,
          0.8643987119467518,
          0.8114931007794556,
          0.7440802917924766,
          0.6964611347875969,
          0.8846917875882415,
          1.1134592609959086,
          0.7897631342761594,
          0.7641843927955083,
          0.5212816641674755,
          1.3097133831181598,
          0.6887231640166486,
          0.8131083198684395,
          0.7795997799933517,
          0.995423096779408,
          0.5928816200787606,
          0.7434302980803299,
          0.8298209885315712,
          0.5361994988982834,
          1.0110240212057804,
          0.8330526294275877,
          0.5938674355983764,
          0.735043710789112,
          0.8202572812996344,
          0.6627501367678225,
          0.6709969870227758,
          0.874248282410471,
          0.4323301172942441,
          0.7821339335541404,
          0.7447024828153055,
          0.720201156799006,
          1.2263918510178118,
          0.4636872608821674,
          0.6104264671213475,
          0.9639493919343792,
          1.2096444147649226,
          0.8911042977400587,
          0.7051033987774705,
          1.1875749146559706,
          0.84883180635884,
          0.520438473619738,
          0.89104228764023,
          0.6283150617506452,
          0.8180888625254664,
          0.534018312602798,
          0.9453053836669404,
          0.9948581705169216,
          0.9758598132917926,
          1.0010179278557778,
          1.0024261750569092,
          1.4875815243846766,
          1.0198968125151455,
          0.7927190834810445,
          0.6995004983105845,
          0.6782282331315722,
          1.0534189090137651,
          1.5042165363139488,
          0.6812805413261467,
          0.636218776469174,
          0.976128339182604,
          0.5875330953141638,
          0.8632372599987099,
          0.8032712877611157,
          1.141651840533496,
          1.1881920327356277,
          0.8480321505695309,
          1.5844887510071095,
          0.8071401980858899,
          0.8159875605837491,
          1.3133678733009362,
          0.9582091394868576,
          0.8148906769867027,
          0.8419011006225277,
          0.4830846628198447,
          1.0203707511238806,
          0.9943394433052988,
          0.479942065606363,
          0.5839487039582085,
          0.7821558307017371,
          0.698370615177766,
          0.9984984873335,
          0.4812202639000378,
          1.1272638817732137,
          0.5144315198533449,
          1.3366030267877582,
          0.7375563364204929,
          1.4291260236973522,
          1.1404556735694542,
          0.5191438670556967,
          1.4092450983918754,
          1.1460277141498014,
          1.0327877439866526,
          1.315335352632364,
          0.5895172935708197,
          1.2982457658680808,
          0.6701506808530433,
          0.4610756812408789,
          1.0317955429850842,
          0.4223758088271271,
          0.8144717582470213,
          1.1536909888413498,
          0.6861994062780412,
          0.7655233783942121,
          1.453147532865286,
          1.247637448182482,
          0.6673818442590441,
          0.5260568340171283,
          0.6292997035880528,
          1.1703619655068325,
          1.2996237891672209,
          0.9345602004791648,
          0.9059249058202938,
          0.8572630239606837,
          0.8827301417931568,
          1.0459917707383766,
          1.190924443255669,
          0.5385552937897176,
          0.9964524690225096,
          0.8366819979765889,
          1.023864995589383,
          0.5189389366233441,
          0.6252504764619904,
          0.7963813278403186,
          1.033413240503621,
          0.9453146435419828,
          1.021516224707442,
          1.0873243361833942,
          0.7881869181169135,
          1.0642845593618673,
          0.9508959293757911,
          1.0657209487885635,
          0.4773220652839151,
          0.7285723068429828,
          1.2516214213960857,
          0.9288459546835328,
          1.061638275270759,
          0.4418230190678117,
          1.0593408664010036,
          0.8252557573958892,
          0.6176021914574674,
          1.030243661357683,
          1.3724533788881823,
          0.8230620613376284,
          0.9471597419030588,
          0.863095958619016,
          1.326355374554983,
          1.1337773214749625,
          0.918315513021028,
          0.7814262385054946,
          1.1845803646893691,
          1.1403693972542206,
          1.3694123928701614,
          0.8566303725401481,
          0.6974744831609985,
          0.8233769672257101,
          0.7269612511087684,
          0.8000317295519634,
          0.985712949553024,
          0.6579335829963066,
          0.95778135376319,
          1.0925559439098245,
          0.7637808567278801,
          0.7108668918069778,
          0.7736993308300286,
          0.8788756341139663,
          1.066086440476485,
          0.7724039248025238,
          0.7531169854619135,
          0.9800501938453764,
          1.2208158058982914,
          1.1112491738343684,
          0.8571750096592587,
          1.2538645877326302,
          1.1012961068617142
         ],
         "yaxis": "y"
        },
        {
         "marker": {
          "color": "Green",
          "size": 15,
          "symbol": "x"
         },
         "mode": "markers",
         "type": "scatter",
         "x": [
          1.1928591125867567,
          0.17778860369263239
         ],
         "y": [
          0.18145611956065327,
          0.9035088808842218
         ]
        }
       ],
       "layout": {
        "legend": {
         "title": {
          "text": "labels_clustering"
         },
         "tracegroupgap": 0
        },
        "margin": {
         "t": 60
        },
        "template": {
         "data": {
          "bar": [
           {
            "error_x": {
             "color": "#2a3f5f"
            },
            "error_y": {
             "color": "#2a3f5f"
            },
            "marker": {
             "line": {
              "color": "#E5ECF6",
              "width": 0.5
             },
             "pattern": {
              "fillmode": "overlay",
              "size": 10,
              "solidity": 0.2
             }
            },
            "type": "bar"
           }
          ],
          "barpolar": [
           {
            "marker": {
             "line": {
              "color": "#E5ECF6",
              "width": 0.5
             },
             "pattern": {
              "fillmode": "overlay",
              "size": 10,
              "solidity": 0.2
             }
            },
            "type": "barpolar"
           }
          ],
          "carpet": [
           {
            "aaxis": {
             "endlinecolor": "#2a3f5f",
             "gridcolor": "white",
             "linecolor": "white",
             "minorgridcolor": "white",
             "startlinecolor": "#2a3f5f"
            },
            "baxis": {
             "endlinecolor": "#2a3f5f",
             "gridcolor": "white",
             "linecolor": "white",
             "minorgridcolor": "white",
             "startlinecolor": "#2a3f5f"
            },
            "type": "carpet"
           }
          ],
          "choropleth": [
           {
            "colorbar": {
             "outlinewidth": 0,
             "ticks": ""
            },
            "type": "choropleth"
           }
          ],
          "contour": [
           {
            "colorbar": {
             "outlinewidth": 0,
             "ticks": ""
            },
            "colorscale": [
             [
              0,
              "#0d0887"
             ],
             [
              0.1111111111111111,
              "#46039f"
             ],
             [
              0.2222222222222222,
              "#7201a8"
             ],
             [
              0.3333333333333333,
              "#9c179e"
             ],
             [
              0.4444444444444444,
              "#bd3786"
             ],
             [
              0.5555555555555556,
              "#d8576b"
             ],
             [
              0.6666666666666666,
              "#ed7953"
             ],
             [
              0.7777777777777778,
              "#fb9f3a"
             ],
             [
              0.8888888888888888,
              "#fdca26"
             ],
             [
              1,
              "#f0f921"
             ]
            ],
            "type": "contour"
           }
          ],
          "contourcarpet": [
           {
            "colorbar": {
             "outlinewidth": 0,
             "ticks": ""
            },
            "type": "contourcarpet"
           }
          ],
          "heatmap": [
           {
            "colorbar": {
             "outlinewidth": 0,
             "ticks": ""
            },
            "colorscale": [
             [
              0,
              "#0d0887"
             ],
             [
              0.1111111111111111,
              "#46039f"
             ],
             [
              0.2222222222222222,
              "#7201a8"
             ],
             [
              0.3333333333333333,
              "#9c179e"
             ],
             [
              0.4444444444444444,
              "#bd3786"
             ],
             [
              0.5555555555555556,
              "#d8576b"
             ],
             [
              0.6666666666666666,
              "#ed7953"
             ],
             [
              0.7777777777777778,
              "#fb9f3a"
             ],
             [
              0.8888888888888888,
              "#fdca26"
             ],
             [
              1,
              "#f0f921"
             ]
            ],
            "type": "heatmap"
           }
          ],
          "heatmapgl": [
           {
            "colorbar": {
             "outlinewidth": 0,
             "ticks": ""
            },
            "colorscale": [
             [
              0,
              "#0d0887"
             ],
             [
              0.1111111111111111,
              "#46039f"
             ],
             [
              0.2222222222222222,
              "#7201a8"
             ],
             [
              0.3333333333333333,
              "#9c179e"
             ],
             [
              0.4444444444444444,
              "#bd3786"
             ],
             [
              0.5555555555555556,
              "#d8576b"
             ],
             [
              0.6666666666666666,
              "#ed7953"
             ],
             [
              0.7777777777777778,
              "#fb9f3a"
             ],
             [
              0.8888888888888888,
              "#fdca26"
             ],
             [
              1,
              "#f0f921"
             ]
            ],
            "type": "heatmapgl"
           }
          ],
          "histogram": [
           {
            "marker": {
             "pattern": {
              "fillmode": "overlay",
              "size": 10,
              "solidity": 0.2
             }
            },
            "type": "histogram"
           }
          ],
          "histogram2d": [
           {
            "colorbar": {
             "outlinewidth": 0,
             "ticks": ""
            },
            "colorscale": [
             [
              0,
              "#0d0887"
             ],
             [
              0.1111111111111111,
              "#46039f"
             ],
             [
              0.2222222222222222,
              "#7201a8"
             ],
             [
              0.3333333333333333,
              "#9c179e"
             ],
             [
              0.4444444444444444,
              "#bd3786"
             ],
             [
              0.5555555555555556,
              "#d8576b"
             ],
             [
              0.6666666666666666,
              "#ed7953"
             ],
             [
              0.7777777777777778,
              "#fb9f3a"
             ],
             [
              0.8888888888888888,
              "#fdca26"
             ],
             [
              1,
              "#f0f921"
             ]
            ],
            "type": "histogram2d"
           }
          ],
          "histogram2dcontour": [
           {
            "colorbar": {
             "outlinewidth": 0,
             "ticks": ""
            },
            "colorscale": [
             [
              0,
              "#0d0887"
             ],
             [
              0.1111111111111111,
              "#46039f"
             ],
             [
              0.2222222222222222,
              "#7201a8"
             ],
             [
              0.3333333333333333,
              "#9c179e"
             ],
             [
              0.4444444444444444,
              "#bd3786"
             ],
             [
              0.5555555555555556,
              "#d8576b"
             ],
             [
              0.6666666666666666,
              "#ed7953"
             ],
             [
              0.7777777777777778,
              "#fb9f3a"
             ],
             [
              0.8888888888888888,
              "#fdca26"
             ],
             [
              1,
              "#f0f921"
             ]
            ],
            "type": "histogram2dcontour"
           }
          ],
          "mesh3d": [
           {
            "colorbar": {
             "outlinewidth": 0,
             "ticks": ""
            },
            "type": "mesh3d"
           }
          ],
          "parcoords": [
           {
            "line": {
             "colorbar": {
              "outlinewidth": 0,
              "ticks": ""
             }
            },
            "type": "parcoords"
           }
          ],
          "pie": [
           {
            "automargin": true,
            "type": "pie"
           }
          ],
          "scatter": [
           {
            "fillpattern": {
             "fillmode": "overlay",
             "size": 10,
             "solidity": 0.2
            },
            "type": "scatter"
           }
          ],
          "scatter3d": [
           {
            "line": {
             "colorbar": {
              "outlinewidth": 0,
              "ticks": ""
             }
            },
            "marker": {
             "colorbar": {
              "outlinewidth": 0,
              "ticks": ""
             }
            },
            "type": "scatter3d"
           }
          ],
          "scattercarpet": [
           {
            "marker": {
             "colorbar": {
              "outlinewidth": 0,
              "ticks": ""
             }
            },
            "type": "scattercarpet"
           }
          ],
          "scattergeo": [
           {
            "marker": {
             "colorbar": {
              "outlinewidth": 0,
              "ticks": ""
             }
            },
            "type": "scattergeo"
           }
          ],
          "scattergl": [
           {
            "marker": {
             "colorbar": {
              "outlinewidth": 0,
              "ticks": ""
             }
            },
            "type": "scattergl"
           }
          ],
          "scattermapbox": [
           {
            "marker": {
             "colorbar": {
              "outlinewidth": 0,
              "ticks": ""
             }
            },
            "type": "scattermapbox"
           }
          ],
          "scatterpolar": [
           {
            "marker": {
             "colorbar": {
              "outlinewidth": 0,
              "ticks": ""
             }
            },
            "type": "scatterpolar"
           }
          ],
          "scatterpolargl": [
           {
            "marker": {
             "colorbar": {
              "outlinewidth": 0,
              "ticks": ""
             }
            },
            "type": "scatterpolargl"
           }
          ],
          "scatterternary": [
           {
            "marker": {
             "colorbar": {
              "outlinewidth": 0,
              "ticks": ""
             }
            },
            "type": "scatterternary"
           }
          ],
          "surface": [
           {
            "colorbar": {
             "outlinewidth": 0,
             "ticks": ""
            },
            "colorscale": [
             [
              0,
              "#0d0887"
             ],
             [
              0.1111111111111111,
              "#46039f"
             ],
             [
              0.2222222222222222,
              "#7201a8"
             ],
             [
              0.3333333333333333,
              "#9c179e"
             ],
             [
              0.4444444444444444,
              "#bd3786"
             ],
             [
              0.5555555555555556,
              "#d8576b"
             ],
             [
              0.6666666666666666,
              "#ed7953"
             ],
             [
              0.7777777777777778,
              "#fb9f3a"
             ],
             [
              0.8888888888888888,
              "#fdca26"
             ],
             [
              1,
              "#f0f921"
             ]
            ],
            "type": "surface"
           }
          ],
          "table": [
           {
            "cells": {
             "fill": {
              "color": "#EBF0F8"
             },
             "line": {
              "color": "white"
             }
            },
            "header": {
             "fill": {
              "color": "#C8D4E3"
             },
             "line": {
              "color": "white"
             }
            },
            "type": "table"
           }
          ]
         },
         "layout": {
          "annotationdefaults": {
           "arrowcolor": "#2a3f5f",
           "arrowhead": 0,
           "arrowwidth": 1
          },
          "autotypenumbers": "strict",
          "coloraxis": {
           "colorbar": {
            "outlinewidth": 0,
            "ticks": ""
           }
          },
          "colorscale": {
           "diverging": [
            [
             0,
             "#8e0152"
            ],
            [
             0.1,
             "#c51b7d"
            ],
            [
             0.2,
             "#de77ae"
            ],
            [
             0.3,
             "#f1b6da"
            ],
            [
             0.4,
             "#fde0ef"
            ],
            [
             0.5,
             "#f7f7f7"
            ],
            [
             0.6,
             "#e6f5d0"
            ],
            [
             0.7,
             "#b8e186"
            ],
            [
             0.8,
             "#7fbc41"
            ],
            [
             0.9,
             "#4d9221"
            ],
            [
             1,
             "#276419"
            ]
           ],
           "sequential": [
            [
             0,
             "#0d0887"
            ],
            [
             0.1111111111111111,
             "#46039f"
            ],
            [
             0.2222222222222222,
             "#7201a8"
            ],
            [
             0.3333333333333333,
             "#9c179e"
            ],
            [
             0.4444444444444444,
             "#bd3786"
            ],
            [
             0.5555555555555556,
             "#d8576b"
            ],
            [
             0.6666666666666666,
             "#ed7953"
            ],
            [
             0.7777777777777778,
             "#fb9f3a"
            ],
            [
             0.8888888888888888,
             "#fdca26"
            ],
            [
             1,
             "#f0f921"
            ]
           ],
           "sequentialminus": [
            [
             0,
             "#0d0887"
            ],
            [
             0.1111111111111111,
             "#46039f"
            ],
            [
             0.2222222222222222,
             "#7201a8"
            ],
            [
             0.3333333333333333,
             "#9c179e"
            ],
            [
             0.4444444444444444,
             "#bd3786"
            ],
            [
             0.5555555555555556,
             "#d8576b"
            ],
            [
             0.6666666666666666,
             "#ed7953"
            ],
            [
             0.7777777777777778,
             "#fb9f3a"
            ],
            [
             0.8888888888888888,
             "#fdca26"
            ],
            [
             1,
             "#f0f921"
            ]
           ]
          },
          "colorway": [
           "#636efa",
           "#EF553B",
           "#00cc96",
           "#ab63fa",
           "#FFA15A",
           "#19d3f3",
           "#FF6692",
           "#B6E880",
           "#FF97FF",
           "#FECB52"
          ],
          "font": {
           "color": "#2a3f5f"
          },
          "geo": {
           "bgcolor": "white",
           "lakecolor": "white",
           "landcolor": "#E5ECF6",
           "showlakes": true,
           "showland": true,
           "subunitcolor": "white"
          },
          "hoverlabel": {
           "align": "left"
          },
          "hovermode": "closest",
          "mapbox": {
           "style": "light"
          },
          "paper_bgcolor": "white",
          "plot_bgcolor": "#E5ECF6",
          "polar": {
           "angularaxis": {
            "gridcolor": "white",
            "linecolor": "white",
            "ticks": ""
           },
           "bgcolor": "#E5ECF6",
           "radialaxis": {
            "gridcolor": "white",
            "linecolor": "white",
            "ticks": ""
           }
          },
          "scene": {
           "xaxis": {
            "backgroundcolor": "#E5ECF6",
            "gridcolor": "white",
            "gridwidth": 2,
            "linecolor": "white",
            "showbackground": true,
            "ticks": "",
            "zerolinecolor": "white"
           },
           "yaxis": {
            "backgroundcolor": "#E5ECF6",
            "gridcolor": "white",
            "gridwidth": 2,
            "linecolor": "white",
            "showbackground": true,
            "ticks": "",
            "zerolinecolor": "white"
           },
           "zaxis": {
            "backgroundcolor": "#E5ECF6",
            "gridcolor": "white",
            "gridwidth": 2,
            "linecolor": "white",
            "showbackground": true,
            "ticks": "",
            "zerolinecolor": "white"
           }
          },
          "shapedefaults": {
           "line": {
            "color": "#2a3f5f"
           }
          },
          "ternary": {
           "aaxis": {
            "gridcolor": "white",
            "linecolor": "white",
            "ticks": ""
           },
           "baxis": {
            "gridcolor": "white",
            "linecolor": "white",
            "ticks": ""
           },
           "bgcolor": "#E5ECF6",
           "caxis": {
            "gridcolor": "white",
            "linecolor": "white",
            "ticks": ""
           }
          },
          "title": {
           "x": 0.05
          },
          "xaxis": {
           "automargin": true,
           "gridcolor": "white",
           "linecolor": "white",
           "ticks": "",
           "title": {
            "standoff": 15
           },
           "zerolinecolor": "white",
           "zerolinewidth": 2
          },
          "yaxis": {
           "automargin": true,
           "gridcolor": "white",
           "linecolor": "white",
           "ticks": "",
           "title": {
            "standoff": 15
           },
           "zerolinecolor": "white",
           "zerolinewidth": 2
          }
         }
        },
        "xaxis": {
         "anchor": "y",
         "domain": [
          0,
          1
         ],
         "title": {
          "text": "x"
         }
        },
        "yaxis": {
         "anchor": "x",
         "domain": [
          0,
          1
         ],
         "title": {
          "text": "y"
         }
        }
       }
      }
     },
     "metadata": {},
     "output_type": "display_data"
    }
   ],
   "source": [
    "# plot\n",
    "df[\"labels_clustering\"] = clustering_labels.astype(str)\n",
    "\n",
    "\n",
    "fig = px.scatter(df, x=\"x\", y=\"y\", color=\"labels_clustering\", hover_data=[\"distance\"])\n",
    "\n",
    "def add_centroids(fig, kmeans):\n",
    "    fig.add_scatter(x=kmeans.cluster_centers_[:, 0],\n",
    "                    y=kmeans.cluster_centers_[:, 1],\n",
    "                    mode=\"markers\",\n",
    "                    marker=dict(symbol=\"x\", size=15, color=\"Green\"))\n",
    "\n",
    "    return fig\n",
    "\n",
    "fig = add_centroids(fig, kmeans)\n",
    "\n",
    "fig.show()"
   ]
  },
  {
   "cell_type": "code",
   "execution_count": null,
   "metadata": {},
   "outputs": [
    {
     "data": {
      "text/html": [
       "<div>\n",
       "<style scoped>\n",
       "    .dataframe tbody tr th:only-of-type {\n",
       "        vertical-align: middle;\n",
       "    }\n",
       "\n",
       "    .dataframe tbody tr th {\n",
       "        vertical-align: top;\n",
       "    }\n",
       "\n",
       "    .dataframe thead th {\n",
       "        text-align: right;\n",
       "    }\n",
       "</style>\n",
       "<table border=\"1\" class=\"dataframe\">\n",
       "  <thead>\n",
       "    <tr style=\"text-align: right;\">\n",
       "      <th></th>\n",
       "      <th>distance</th>\n",
       "    </tr>\n",
       "    <tr>\n",
       "      <th>labels_clustering</th>\n",
       "      <th></th>\n",
       "    </tr>\n",
       "  </thead>\n",
       "  <tbody>\n",
       "    <tr>\n",
       "      <th>0</th>\n",
       "      <td>0.704649</td>\n",
       "    </tr>\n",
       "    <tr>\n",
       "      <th>1</th>\n",
       "      <td>0.951743</td>\n",
       "    </tr>\n",
       "  </tbody>\n",
       "</table>\n",
       "</div>"
      ],
      "text/plain": [
       "                   distance\n",
       "labels_clustering          \n",
       "0                  0.704649\n",
       "1                  0.951743"
      ]
     },
     "execution_count": 12,
     "metadata": {},
     "output_type": "execute_result"
    }
   ],
   "source": [
    "df.groupby(\"labels_clustering\").agg({\"distance\": \"max\"})"
   ]
  },
  {
   "cell_type": "markdown",
   "metadata": {},
   "source": [
    "# Outliers"
   ]
  },
  {
   "cell_type": "code",
   "execution_count": 10,
   "metadata": {},
   "outputs": [],
   "source": [
    "def detect_outliers_z_score(data, threshold=OUTLIER_THRESHOLD_NUM_STD):\n",
    "    outliers = []\n",
    "    mean = np.mean(data)\n",
    "    std_dev = np.std(data)\n",
    "    \n",
    "    for i in data:\n",
    "        z_score = (i - mean) / std_dev \n",
    "        if np.abs(z_score) > threshold:\n",
    "            outliers.append(i)\n",
    "    return outliers\n",
    "\n",
    "outliers = detect_outliers_z_score(df[\"distance\"])\n",
    "\n",
    "df[\"outlier\"] = df[\"distance\"].apply(lambda x: x in outliers)\n"
   ]
  },
  {
   "cell_type": "code",
   "execution_count": 9,
   "metadata": {},
   "outputs": [],
   "source": [
    "# def get_distance(df, model, alg=\"kmeans\"):#, remove_outliers=True, normalize=True):\n",
    "#     if alg == \"kmeans\":\n",
    "#         distances = np.min(\n",
    "#             np.linalg.norm(df[:, np.newaxis] - model.cluster_centers_, axis=2), axis=1) \n",
    "#     else:\n",
    "#         raise NotImplementedError(\"Only KMeans is supported\")    \n",
    "    \n",
    "#     return distances\n",
    "\n",
    "# def remove_outliers_and_normalize(df, distance_column=\"distance\", label_column=\"labels\"):\n",
    "#     outliers = detect_outliers_z_score(df[\"distance\"])\n",
    "#     df[\"outlier\"] = df[distance_column].apply(lambda x: x in outliers)\n",
    "#     df_no_outliers = df[~df[\"outlier\"]]\n",
    "    \n",
    "#     # min max scale the df. dont use outliers\n",
    "#     min_val = df_no_outliers.groupby(label_column)[distance_column].apply('min')\n",
    "#     max_val = df_no_outliers.groupby(label_column)[distance_column].apply('max')\n",
    "    \n",
    "#     def scale(x, label):\n",
    "#         return (x - min_val[label]) / (max_val[label] - min_val[label]) if max_val[label] > min_val[label] else 0\n",
    "        \n",
    "#     dist_norm = df.apply(lambda row: scale(row[distance_column], row[label_column]), axis=1)\n",
    "    \n",
    "#     return dist_norm\n",
    "\n"
   ]
  },
  {
   "cell_type": "code",
   "execution_count": 10,
   "metadata": {},
   "outputs": [
    {
     "ename": "InvalidIndexError",
     "evalue": "(slice(None, None, None), None)",
     "output_type": "error",
     "traceback": [
      "\u001b[1;31m---------------------------------------------------------------------------\u001b[0m",
      "\u001b[1;31mTypeError\u001b[0m                                 Traceback (most recent call last)",
      "File \u001b[1;32mc:\\Users\\hayk_\\.conda\\envs\\thesis\\lib\\site-packages\\pandas\\core\\indexes\\base.py:3805\u001b[0m, in \u001b[0;36mIndex.get_loc\u001b[1;34m(self, key)\u001b[0m\n\u001b[0;32m   3804\u001b[0m \u001b[38;5;28;01mtry\u001b[39;00m:\n\u001b[1;32m-> 3805\u001b[0m     \u001b[38;5;28;01mreturn\u001b[39;00m \u001b[38;5;28;43mself\u001b[39;49m\u001b[38;5;241;43m.\u001b[39;49m\u001b[43m_engine\u001b[49m\u001b[38;5;241;43m.\u001b[39;49m\u001b[43mget_loc\u001b[49m\u001b[43m(\u001b[49m\u001b[43mcasted_key\u001b[49m\u001b[43m)\u001b[49m\n\u001b[0;32m   3806\u001b[0m \u001b[38;5;28;01mexcept\u001b[39;00m \u001b[38;5;167;01mKeyError\u001b[39;00m \u001b[38;5;28;01mas\u001b[39;00m err:\n",
      "File \u001b[1;32mindex.pyx:167\u001b[0m, in \u001b[0;36mpandas._libs.index.IndexEngine.get_loc\u001b[1;34m()\u001b[0m\n",
      "File \u001b[1;32mindex.pyx:173\u001b[0m, in \u001b[0;36mpandas._libs.index.IndexEngine.get_loc\u001b[1;34m()\u001b[0m\n",
      "\u001b[1;31mTypeError\u001b[0m: '(slice(None, None, None), None)' is an invalid key",
      "\nDuring handling of the above exception, another exception occurred:\n",
      "\u001b[1;31mInvalidIndexError\u001b[0m                         Traceback (most recent call last)",
      "Cell \u001b[1;32mIn[10], line 2\u001b[0m\n\u001b[0;32m      1\u001b[0m \u001b[38;5;28;01mfrom\u001b[39;00m \u001b[38;5;21;01mutils\u001b[39;00m \u001b[38;5;28;01mimport\u001b[39;00m get_distance, remove_outliers_and_normalize\n\u001b[1;32m----> 2\u001b[0m df[\u001b[38;5;124m\"\u001b[39m\u001b[38;5;124mdistance\u001b[39m\u001b[38;5;124m\"\u001b[39m] \u001b[38;5;241m=\u001b[39m \u001b[43mget_distance\u001b[49m\u001b[43m(\u001b[49m\u001b[43mdata\u001b[49m\u001b[43m,\u001b[49m\u001b[43m \u001b[49m\u001b[43mkmeans\u001b[49m\u001b[43m)\u001b[49m\n\u001b[0;32m      4\u001b[0m df[\u001b[38;5;124m\"\u001b[39m\u001b[38;5;124mdistance_norm\u001b[39m\u001b[38;5;124m\"\u001b[39m] \u001b[38;5;241m=\u001b[39m remove_outliers_and_normalize(df) \n\u001b[0;32m      5\u001b[0m df\u001b[38;5;241m.\u001b[39misna()\u001b[38;5;241m.\u001b[39msum()\u001b[38;5;241m.\u001b[39msum()\n",
      "File \u001b[1;32mc:\\Users\\hayk_\\OneDrive\\Desktop\\Thesis\\CDSGD\\cdsgd\\utils.py:27\u001b[0m, in \u001b[0;36mget_distance\u001b[1;34m(df, model, alg, density_radius)\u001b[0m\n\u001b[0;32m     24\u001b[0m \u001b[38;5;28;01mdef\u001b[39;00m \u001b[38;5;21mget_distance\u001b[39m(df, model, alg\u001b[38;5;241m=\u001b[39m\u001b[38;5;124m\"\u001b[39m\u001b[38;5;124mkmeans\u001b[39m\u001b[38;5;124m\"\u001b[39m, density_radius\u001b[38;5;241m=\u001b[39m\u001b[38;5;241m0.5\u001b[39m):\n\u001b[0;32m     25\u001b[0m     \u001b[38;5;28;01mif\u001b[39;00m alg \u001b[38;5;241m==\u001b[39m \u001b[38;5;124m\"\u001b[39m\u001b[38;5;124mkmeans\u001b[39m\u001b[38;5;124m\"\u001b[39m:\n\u001b[0;32m     26\u001b[0m         distances \u001b[38;5;241m=\u001b[39m np\u001b[38;5;241m.\u001b[39mmin(\n\u001b[1;32m---> 27\u001b[0m             np\u001b[38;5;241m.\u001b[39mlinalg\u001b[38;5;241m.\u001b[39mnorm(\u001b[43mdf\u001b[49m\u001b[43m[\u001b[49m\u001b[43m:\u001b[49m\u001b[43m,\u001b[49m\u001b[43m \u001b[49m\u001b[43mnp\u001b[49m\u001b[38;5;241;43m.\u001b[39;49m\u001b[43mnewaxis\u001b[49m\u001b[43m]\u001b[49m \u001b[38;5;241m-\u001b[39m model\u001b[38;5;241m.\u001b[39mcluster_centers_, axis\u001b[38;5;241m=\u001b[39m\u001b[38;5;241m2\u001b[39m), axis\u001b[38;5;241m=\u001b[39m\u001b[38;5;241m1\u001b[39m) \n\u001b[0;32m     28\u001b[0m     \u001b[38;5;28;01melse\u001b[39;00m:\n\u001b[0;32m     29\u001b[0m         distances\u001b[38;5;241m=\u001b[39m calculate_adjusted_density(df, model\u001b[38;5;241m.\u001b[39mlabels_, radius\u001b[38;5;241m=\u001b[39mdensity_radius, \n\u001b[0;32m     30\u001b[0m                                               penalty_rate\u001b[38;5;241m=\u001b[39mpenalty_rate, \n\u001b[0;32m     31\u001b[0m                                               remove_outliers\u001b[38;5;241m=\u001b[39m\u001b[38;5;28;01mFalse\u001b[39;00m, normalize\u001b[38;5;241m=\u001b[39m\u001b[38;5;28;01mFalse\u001b[39;00m)\n",
      "File \u001b[1;32mc:\\Users\\hayk_\\.conda\\envs\\thesis\\lib\\site-packages\\pandas\\core\\frame.py:4102\u001b[0m, in \u001b[0;36mDataFrame.__getitem__\u001b[1;34m(self, key)\u001b[0m\n\u001b[0;32m   4100\u001b[0m \u001b[38;5;28;01mif\u001b[39;00m \u001b[38;5;28mself\u001b[39m\u001b[38;5;241m.\u001b[39mcolumns\u001b[38;5;241m.\u001b[39mnlevels \u001b[38;5;241m>\u001b[39m \u001b[38;5;241m1\u001b[39m:\n\u001b[0;32m   4101\u001b[0m     \u001b[38;5;28;01mreturn\u001b[39;00m \u001b[38;5;28mself\u001b[39m\u001b[38;5;241m.\u001b[39m_getitem_multilevel(key)\n\u001b[1;32m-> 4102\u001b[0m indexer \u001b[38;5;241m=\u001b[39m \u001b[38;5;28;43mself\u001b[39;49m\u001b[38;5;241;43m.\u001b[39;49m\u001b[43mcolumns\u001b[49m\u001b[38;5;241;43m.\u001b[39;49m\u001b[43mget_loc\u001b[49m\u001b[43m(\u001b[49m\u001b[43mkey\u001b[49m\u001b[43m)\u001b[49m\n\u001b[0;32m   4103\u001b[0m \u001b[38;5;28;01mif\u001b[39;00m is_integer(indexer):\n\u001b[0;32m   4104\u001b[0m     indexer \u001b[38;5;241m=\u001b[39m [indexer]\n",
      "File \u001b[1;32mc:\\Users\\hayk_\\.conda\\envs\\thesis\\lib\\site-packages\\pandas\\core\\indexes\\base.py:3817\u001b[0m, in \u001b[0;36mIndex.get_loc\u001b[1;34m(self, key)\u001b[0m\n\u001b[0;32m   3812\u001b[0m     \u001b[38;5;28;01mraise\u001b[39;00m \u001b[38;5;167;01mKeyError\u001b[39;00m(key) \u001b[38;5;28;01mfrom\u001b[39;00m \u001b[38;5;21;01merr\u001b[39;00m\n\u001b[0;32m   3813\u001b[0m \u001b[38;5;28;01mexcept\u001b[39;00m \u001b[38;5;167;01mTypeError\u001b[39;00m:\n\u001b[0;32m   3814\u001b[0m     \u001b[38;5;66;03m# If we have a listlike key, _check_indexing_error will raise\u001b[39;00m\n\u001b[0;32m   3815\u001b[0m     \u001b[38;5;66;03m#  InvalidIndexError. Otherwise we fall through and re-raise\u001b[39;00m\n\u001b[0;32m   3816\u001b[0m     \u001b[38;5;66;03m#  the TypeError.\u001b[39;00m\n\u001b[1;32m-> 3817\u001b[0m     \u001b[38;5;28;43mself\u001b[39;49m\u001b[38;5;241;43m.\u001b[39;49m\u001b[43m_check_indexing_error\u001b[49m\u001b[43m(\u001b[49m\u001b[43mkey\u001b[49m\u001b[43m)\u001b[49m\n\u001b[0;32m   3818\u001b[0m     \u001b[38;5;28;01mraise\u001b[39;00m\n",
      "File \u001b[1;32mc:\\Users\\hayk_\\.conda\\envs\\thesis\\lib\\site-packages\\pandas\\core\\indexes\\base.py:6059\u001b[0m, in \u001b[0;36mIndex._check_indexing_error\u001b[1;34m(self, key)\u001b[0m\n\u001b[0;32m   6055\u001b[0m \u001b[38;5;28;01mdef\u001b[39;00m \u001b[38;5;21m_check_indexing_error\u001b[39m(\u001b[38;5;28mself\u001b[39m, key):\n\u001b[0;32m   6056\u001b[0m     \u001b[38;5;28;01mif\u001b[39;00m \u001b[38;5;129;01mnot\u001b[39;00m is_scalar(key):\n\u001b[0;32m   6057\u001b[0m         \u001b[38;5;66;03m# if key is not a scalar, directly raise an error (the code below\u001b[39;00m\n\u001b[0;32m   6058\u001b[0m         \u001b[38;5;66;03m# would convert to numpy arrays and raise later any way) - GH29926\u001b[39;00m\n\u001b[1;32m-> 6059\u001b[0m         \u001b[38;5;28;01mraise\u001b[39;00m InvalidIndexError(key)\n",
      "\u001b[1;31mInvalidIndexError\u001b[0m: (slice(None, None, None), None)"
     ]
    }
   ],
   "source": []
  },
  {
   "cell_type": "code",
   "execution_count": 11,
   "metadata": {},
   "outputs": [
    {
     "data": {
      "application/vnd.plotly.v1+json": {
       "config": {
        "plotlyServerURL": "https://plot.ly"
       },
       "data": [
        {
         "hovertemplate": "labels_clustering=0<br>outlier=False<br>x=%{x}<br>y=%{y}<extra></extra>",
         "legendgroup": "0, False",
         "marker": {
          "color": "#636efa",
          "symbol": "circle"
         },
         "mode": "markers",
         "name": "0, False",
         "orientation": "v",
         "showlegend": true,
         "type": "scatter",
         "x": [
          1.6145799482244692,
          1.0198878249131398,
          1.4939486294662971,
          0.9856136178632046,
          0.6841163971221067,
          1.395998643145414,
          1.2960659280189148,
          1.0219240676239212,
          1.5065508280847817,
          1.4166322200021333,
          0.7140211421419974,
          1.2954496383231495,
          1.2717121069048594,
          0.8616568674937184,
          1.201792927722572,
          1.2332715247543635,
          1.342343515303241,
          1.5611679803619578,
          1.498484313923762,
          1.4820237911204492,
          1.2334373349446612,
          1.116102531070687,
          1.2961767471928176,
          1.4298860283325694,
          1.1880813722136114,
          0.8076320469923857,
          1.1242920705746426,
          0.9000131703913764,
          1.3489632271828114,
          1.3263652914521191,
          0.950950970892274,
          1.0393754088189513,
          1.176792724822242,
          1.0083115500151691,
          0.9532631813686702,
          1.345752405529219,
          1.425161516889222,
          1.2993659004063036,
          1.3201458181492511,
          0.9969248475466154,
          0.9327452660054256,
          1.1263734292954006,
          0.9358271786311738,
          1.25418928956775,
          1.146042539252412,
          0.8062602633986098,
          1.2413703558127622,
          1.2250854900407284,
          1.393504093555371,
          1.2143008248923437,
          1.6210634025223645,
          1.4563896618763204,
          1.3152533089469558,
          1.1145264903698084,
          1.404046803619492,
          1.3666695530963957,
          1.2074605289152065,
          1.587260211607788,
          1.1440240729396496,
          1.077760426330013,
          0.9789970696869472,
          0.6899101415290608,
          1.1586505889084024,
          1.3933383580248486,
          1.659953267024675,
          1.0975499023307986,
          1.175833483242511,
          1.1151351354307817,
          1.0860213319946856,
          1.2660939509184896,
          0.7449614862277343,
          1.1569807583367104,
          1.367003277877504,
          1.306930141175734,
          1.2450851107271454,
          1.575064477210231,
          1.5894030947706272,
          0.8510303908901009,
          0.9049033636289056,
          1.2161434406665887,
          1.3964603894547447,
          0.9175111521140202,
          0.817690816574487,
          1.150836247803542,
          1.7205615285593252,
          1.0112585220596175,
          0.650540290730618,
          1.5670587847045114,
          1.2538632618367953,
          1.3798407016689551,
          1.335698233560099,
          1.328999867522258,
          0.6721726035606655,
          1.1203557501019186,
          1.4944315229998673,
          1.20692551139823,
          1.1732633503294598,
          1.0737940078763788,
          1.1326512606418473,
          1.106576379452496,
          0.7849432113698981,
          1.093131545665016,
          1.1380072911362296,
          1.462267918771933,
          0.9095256395028204,
          1.5428296528470784,
          1.2068707133533056,
          1.2011542186658646,
          1.0822378758137274,
          0.6169595803903515,
          1.3574826272046463,
          1.637777148199294,
          1.1406170909332878,
          0.8966854967926112,
          1.222883706220367,
          0.8276261175918431,
          1.393395191435315,
          1.18815845221523,
          0.8961404904783237,
          1.0358908847316048,
          1.0098466583327748,
          1.2553255382763362,
          1.3765207620305606,
          1.330978019020279,
          1.483762559265858,
          1.236839781862963,
          0.8367285237064688,
          1.314476098360165,
          1.3152110020065917,
          1.0523498612897366,
          1.3522072605301598,
          0.9867364109853116,
          1.566635970234766,
          1.2248297783686894,
          1.1243504537552704,
          1.152252856291177,
          1.1091024261224829,
          1.089924319621551,
          1.6891559753986185,
          1.1463602255355303,
          1.1319315604423974,
          1.1225532451369922,
          1.542437237606433,
          0.9657979244240752,
          1.297560129644504,
          1.0805858400301458,
          0.9432988808250192,
          1.0812269844594764,
          1.1784210490180715,
          1.3054463001682255,
          1.04376526791522,
          0.6042634210478831,
          1.036495127561534,
          1.0883106255057804,
          0.9206004284842486,
          1.233224607538428,
          1.4504515212320157,
          1.0448147629724625,
          1.7228182546756554,
          1.040533184282958,
          1.4289008183476175,
          1.3101447503738222,
          1.2623462772208784,
          1.030916392085366,
          1.4182446501584571,
          1.2914272956679826,
          1.1659078075591496,
          1.396105332751698,
          1.0733194567390043,
          1.5426028103588676,
          1.1605412853486103,
          1.506671051408662,
          1.215306149790501,
          1.3216147942326388,
          0.8929667169075653,
          1.2534886352342791,
          1.2344531678821475,
          0.9899316057422992,
          1.2008422329076638,
          1.2634703029559338,
          0.9982600738167878,
          1.4355354712451232,
          0.9917649732036012,
          0.9699040497211396,
          0.9290658712650072,
          1.2345933904655493,
          1.2163294737385295,
          1.4334158127692982,
          1.4297028070947575,
          1.5721263020162175,
          1.0632081508915303,
          1.412309928623744,
          1.0659784275894475,
          1.5100453543695287,
          1.033745400601351,
          0.9190933963065948,
          0.8130884668044364,
          1.216398341662238,
          1.1024303892179523,
          0.8747203684816478,
          1.241392604874904,
          1.110856436260396,
          0.7591918939673703,
          1.422611031338562,
          1.5771795181834558,
          1.3418261486578116,
          1.1394404521073582,
          1.61498106221736,
          0.9958680474959656,
          1.3444699899308703,
          0.8798342169656045,
          0.6082253503354216,
          1.2762569653458389,
          1.0876418126178913,
          1.259927889626012,
          1.334586217807173,
          1.330375154985018,
          1.0884488204148897,
          0.946680778189372,
          1.121645340315914,
          1.2072340125283316,
          1.460174531093836,
          1.3570218887502992,
          1.1768624359260933,
          1.0019699040677887,
          0.9997650945856298,
          1.4275047002139656,
          1.4969310090205503,
          0.8726560891847557,
          1.2167920687901663,
          1.398887335591314,
          1.2990837004599594,
          1.1480752907929272,
          1.3650058728316377,
          1.25976480907293,
          1.67526933073356,
          1.3005044650877076,
          0.948487466322198,
          1.4069637091552123,
          1.2848241921602144,
          0.9047750642714358,
          1.2782262141948837,
          1.1263542972671514,
          1.598657170566149,
          1.1285240492530069,
          0.7190253597062606
         ],
         "xaxis": "x",
         "y": [
          -0.1004197605552046,
          0.3125670865072203,
          0.4173924915630471,
          0.1180677553063417,
          0.219824894442935,
          0.7416877575839302,
          -0.0590261748916988,
          -0.0768733110202568,
          0.550520813299624,
          -0.0878986988375416,
          -0.1623069326958247,
          0.393429691744494,
          0.0901747174781012,
          0.5240830437828741,
          0.3418128105798228,
          0.4150074739989021,
          0.0281025479733005,
          0.151440451377488,
          0.4387329464403288,
          0.4780772721561971,
          0.3023226192594814,
          -0.1508033508871246,
          0.0291913278078867,
          0.1574439748417684,
          0.1651838488583002,
          0.2259716403203119,
          -0.0835135191392428,
          0.4501344751136528,
          -0.2493906352385495,
          0.0823075428271016,
          -0.055478727983963,
          0.0218966673784839,
          0.5874876784838855,
          0.0076904630027907,
          0.504230742897507,
          0.0283644550980438,
          0.1731809236455765,
          0.0231826350926714,
          0.2812102961413878,
          0.3876529156039188,
          0.3618250812254294,
          0.1715270606882925,
          0.7482124212683734,
          -0.1353278108463471,
          0.2689708363013626,
          0.4086585648860734,
          0.1319924324326121,
          -0.0122964320473292,
          -0.1918944904079216,
          0.6255383170628848,
          0.121338579713909,
          0.4766024850204214,
          0.0842627452043998,
          0.0478352282387359,
          -0.1461957471020953,
          -0.0847463905304956,
          0.1780126371166302,
          0.385453431090078,
          0.2967455408957819,
          0.2492216749587303,
          0.5243622169950055,
          0.2492866215952824,
          0.0738242875029979,
          0.156839428108769,
          0.3382598515459059,
          0.5983515190711999,
          0.2502675326735845,
          0.1563606416203328,
          0.3046341045681426,
          0.0642896476703436,
          0.1985231513747073,
          -0.1926888333620122,
          0.1995226871859179,
          0.0007208738350368,
          -0.0676304658397138,
          0.0708237975184858,
          0.1919609879046118,
          -0.1921957163122254,
          0.176896077915506,
          0.2847183550931275,
          -0.0553354989871353,
          0.172880440434386,
          0.6559893204012818,
          -0.2761629873793093,
          0.4025326717648096,
          -0.1120117264780433,
          -0.0567401843426297,
          0.2927178733932921,
          -0.0119070010852973,
          -0.3786621516464593,
          -0.0623687645806174,
          -0.2606951695478961,
          0.2311720082322081,
          -0.1378014307419259,
          0.3976751508224669,
          0.1834724937043987,
          -0.1103136162267253,
          0.3262088063061342,
          -0.0248638515453112,
          0.025434499827003,
          0.4216271877015095,
          0.4870390449918484,
          0.2992595154808021,
          0.4291294950384251,
          0.1058334031070523,
          0.2188043030152166,
          0.3857228668794057,
          0.3704581460827894,
          0.1468687863585525,
          0.3233009127611943,
          -0.0175709510998794,
          0.0089770100344263,
          0.1749554972353473,
          0.5200705547559482,
          0.2985947644794656,
          0.3115490190736949,
          -0.1674128290138508,
          -0.2774641481613216,
          0.3487041228419544,
          0.5936497769181759,
          -0.0869595332834226,
          0.1949532257909015,
          0.1773845098637687,
          0.1567863989686755,
          -0.2410576963917837,
          0.3726304637318324,
          0.3604457743845868,
          0.316943134960839,
          0.1299416094163226,
          0.1454364776592905,
          0.2095773458012144,
          -0.3663788034660822,
          -0.0189860216627744,
          -0.1701286796365323,
          0.6793458549777416,
          0.0291282792424902,
          0.1354702282413153,
          0.3399792594210929,
          0.3335901896382303,
          -0.1111282938250298,
          0.1259869649605779,
          0.1798078958721832,
          0.5715810689218266,
          0.2637128015681318,
          0.1090391778757405,
          0.2088636788570379,
          0.4780290511293489,
          -0.191222314568497,
          0.4855844628813916,
          0.2192312023104671,
          -0.3820854268546694,
          0.2584286033162671,
          -0.1345273274015007,
          0.4256241936250171,
          0.4837376916600282,
          -0.32734060644918,
          0.4808595184770905,
          -0.0325594139288704,
          -0.060226034382069,
          0.2686406565053522,
          0.4264564764248254,
          0.2382896690389374,
          0.3177252350640214,
          -0.1359807036550187,
          0.1350229009207947,
          0.1842311456141972,
          0.4449784807466562,
          0.2258642025029641,
          0.5851300259923382,
          0.1401471226150669,
          0.4265645789354041,
          0.2088931662005445,
          -0.2082810675037363,
          0.1721513622660796,
          -0.0762839949638973,
          0.4498890309335891,
          -0.2201249566075386,
          -0.045576274609679,
          0.0428225871492375,
          -0.236248156395805,
          0.4300102428117247,
          0.4713728859012063,
          0.1574269481774059,
          0.1123457330520247,
          0.2368238456252434,
          -0.0322282915529688,
          0.1876833399151577,
          0.2873122434139901,
          0.5016738341701059,
          0.4944985340709696,
          0.4836050930349518,
          0.1598444100678751,
          0.3023447750187282,
          0.2065981754871657,
          0.1070596828761944,
          0.4534623922306907,
          0.239937782810115,
          0.2357445310787216,
          0.3283976494411682,
          0.1424580614323859,
          -0.0292607730766159,
          0.2794513097096518,
          0.417989684831285,
          0.5480079926979697,
          0.3583784763216289,
          0.2505651379647089,
          0.2868435158230226,
          0.1159869770313984,
          0.1125342711505539,
          -0.1721958290079176,
          0.0765517763617925,
          0.0839401919411671,
          0.108227799537025,
          0.1902433647563051,
          0.5457206260400768,
          0.3968177514786783,
          -0.1087863685326721,
          0.0601081839791018,
          0.4012231855500378,
          0.2945010378453551,
          -0.0758205124397857,
          -0.0390232670316146,
          0.0478029737841631,
          0.2718404284945085,
          0.6557105748406955,
          -0.1553815606487429,
          0.0313530992184265,
          0.2717957436354432,
          0.2875065604696813,
          -0.014853501470276,
          0.70210329152986,
          0.265546069849092,
          0.3498200861127849,
          0.0822947553067136,
          -0.0589753349180726,
          -0.0053080375118501,
          0.4177572596714299,
          -0.0924790895489898,
          0.2405045717023875,
          0.1323380920244946,
          -0.1347761221356768,
          -0.2900188606185712,
          0.5227122657603371,
          0.4459977844222148,
          0.0584614136182841,
          0.501033497828278
         ],
         "yaxis": "y"
        },
        {
         "hovertemplate": "labels_clustering=0<br>outlier=True<br>x=%{x}<br>y=%{y}<extra></extra>",
         "legendgroup": "0, True",
         "marker": {
          "color": "#636efa",
          "symbol": "cross"
         },
         "mode": "markers",
         "name": "0, True",
         "orientation": "v",
         "showlegend": true,
         "type": "scatter",
         "x": [
          1.428570758021482,
          1.103929087773316,
          1.451091355803822,
          0.542905279453854
         ],
         "xaxis": "x",
         "y": [
          0.7841812762989455,
          -0.4996426635586463,
          0.7564142401195102,
          -0.0907388669823844
         ],
         "yaxis": "y"
        },
        {
         "hovertemplate": "labels_clustering=1<br>outlier=False<br>x=%{x}<br>y=%{y}<extra></extra>",
         "legendgroup": "1, False",
         "marker": {
          "color": "#EF553B",
          "symbol": "circle"
         },
         "mode": "markers",
         "name": "1, False",
         "orientation": "v",
         "showlegend": true,
         "type": "scatter",
         "x": [
          0.3852130904647678,
          0.0025276715630145,
          0.3504978583328243,
          0.1980823154497814,
          0.1334308393463489,
          0.4124999285781252,
          0.4958799906716703,
          -0.0920696546483252,
          0.2894176646739417,
          -0.1137971730244505,
          0.0659355031565553,
          0.289666317135313,
          0.6279327775338992,
          0.0638647581503333,
          0.6474039227723662,
          0.0895092205144591,
          0.2624298845971226,
          0.5603358585888762,
          0.1637035036289473,
          -0.130972300039054,
          0.3536509632275554,
          -0.0412113041396037,
          0.3020673474067409,
          0.2090193150946696,
          0.0699012780433583,
          0.1405711717755924,
          -0.3453064452655607,
          0.2324206874360412,
          0.1183327557736229,
          0.518844553984787,
          0.2248418462579672,
          0.1718961991368172,
          0.3881440153127286,
          0.101320168027807,
          0.0739325694555269,
          0.1154760836703621,
          -0.0619312439677022,
          0.3815529656781328,
          0.3976838587533743,
          0.1241417645529211,
          0.4776960847080594,
          0.1991287799776078,
          0.3540546500552688,
          -0.2207099081833517,
          -0.057392145144187,
          0.1906019738343278,
          0.1357217744380126,
          -0.1285854055136813,
          0.3030929920114746,
          0.2667738897054428,
          0.3614184868723398,
          0.0161171502101301,
          0.210384398246047,
          0.3139697322915482,
          0.3617917426797078,
          0.0827041750282392,
          0.0100299900865597,
          0.6385841977413649,
          -0.1374168099706343,
          -0.0959749667097603,
          0.1044961983005849,
          0.4155951288349402,
          0.2903817001719865,
          -0.2045666095126875,
          -0.3491441940522282,
          0.1487246952452183,
          0.440427985393758,
          0.1445532791306406,
          -0.0244523006148957,
          -0.1706969400417177,
          0.3748714793208711,
          -0.1848388615974439,
          0.0335591787993922,
          -0.2194776265524997,
          -0.2022884440680609,
          0.1285844928974477,
          0.7674652827774138,
          0.6434304637680661,
          -0.0572513887369223,
          0.1581850648927921,
          0.4168165769576991,
          0.0427512934277158,
          -0.1460142422027855,
          -0.0435692216782596,
          0.4932430292963695,
          -0.1308170669252056,
          -0.2468867012118003,
          0.3151840005227717,
          0.2572731952631421,
          -0.1743218158283004,
          0.4887708938801535,
          0.2364517159183465,
          0.0149266432572096,
          0.1518907038305362,
          0.2752661510890465,
          0.0744210601359361,
          0.0708247664265193,
          0.4540234316102904,
          0.1501669463680384,
          0.2415126482460141,
          -0.1238415323722088,
          0.5149323430201733,
          -0.0432026237548056,
          0.3553103670848428,
          0.0917068496303415,
          -0.2343641688363238,
          0.2486854813244367,
          -0.0870480011284151,
          0.0041756682114554,
          0.213807521685338,
          0.2214819497441097,
          0.2953917886125334,
          0.156615727739754,
          0.676813643662048,
          0.6551217396764204,
          0.1332531702764466,
          0.1215313801577133,
          0.3004776535258529,
          0.1464291978833121,
          -0.1983814869720911,
          0.1692374137707744,
          -0.1306151706232486,
          0.1503419335390011,
          -0.0514124821585752,
          -0.3049405619908622,
          -0.0227981507474983,
          0.2713223990750399,
          0.3994097356574219,
          0.4756276344466412,
          0.1248120535369503,
          0.4013804406707222,
          0.4372485658613476,
          -0.0687340409575464,
          0.1067441410620541,
          0.0732394384318035,
          0.0914421545325528,
          0.0307410242797748,
          0.485070833166501,
          -0.0594480042165964,
          -0.1222263778091555,
          -0.0022934764945706,
          0.3849953410844219,
          0.4439785503545304,
          -0.2897824560948329,
          0.2663878256769396,
          0.0178834268178325,
          0.1474577105688095,
          -0.1348775424841646,
          0.0782230725382311,
          0.3089707604982569,
          0.498237253711186,
          0.2612245233490941,
          0.0602919349749172,
          -0.0396678116841222,
          -0.0890486489481627,
          0.1610021728669779,
          0.3521435538083298,
          0.0643640813299178,
          0.4911609322412971,
          0.1778940367914992,
          -0.1120735302282566,
          0.4349255754940091,
          0.6329550831271656,
          0.1342208502827997,
          0.0165115281145569,
          0.0447316726620725,
          -0.1756726895913882,
          0.0936647409004678,
          -0.1126902439062616,
          0.6892674982189435,
          0.4546964989118153,
          0.4375697535587495,
          -0.2128180963964073,
          -0.2101787122192861,
          0.2930499384150085,
          -0.0249417514568728,
          -0.0036649951292891,
          -0.1378760946632146,
          0.5591893949544959,
          0.5530372181929237,
          -0.2727936581143877,
          0.452402700362126,
          0.3798533293193596,
          0.5576110017559173,
          0.0788667674076467,
          0.5863484935240915,
          0.534361854364434,
          0.5620576875102559,
          0.0622587129124949,
          0.1652832511254249,
          0.4129486410998899,
          0.5098735209636243,
          -0.0821285153351347,
          0.1886512590307974,
          -0.360481450892285,
          0.1720705953421298,
          -0.0042665245253818,
          0.5198591988380017,
          0.5998701575004795,
          0.2480529220179874,
          -0.0594994110942167,
          -0.3079273588898335,
          0.4923853358231782,
          0.129782705510436,
          0.0887336733609691,
          0.4225586110403762,
          0.4836747803625135,
          0.1452220953322568,
          -0.0793278713183452,
          0.2618025425447144,
          0.0356826240751985,
          0.255249280329286,
          0.3779647657883731,
          0.2705661228228609,
          0.6097783246636213,
          0.4397191227724804,
          -0.1015614391187424,
          0.2523740355487223,
          0.2524152315103355,
          0.0344156924165891,
          0.2079576459029001,
          0.3348217836235405,
          0.1431560824028948,
          0.4416990800367322,
          0.002255153138356,
          -0.045842149256198,
          0.4815534623073955,
          0.2894113748193666,
          0.124300899129789,
          0.3084020005437746,
          0.0279412516717338,
          0.3968598674248883,
          0.351236096873541,
          -0.282978069730201,
          -0.0598766193486507,
          0.2038781348227342,
          0.0096079601137091,
          0.4113046683496406,
          0.5231849088615961,
          0.4273241973838336,
          -0.2378717728160121,
          0.109250804987336,
          0.0392819215853088,
          0.1709381396488806
         ],
         "xaxis": "x",
         "y": [
          0.3827747646741931,
          0.7535942550329047,
          0.648269106967291,
          0.8137601410762973,
          1.4013701743346314,
          0.9101957133028736,
          1.0041980329403724,
          0.7658812990070938,
          1.0609560847973225,
          1.309703886569114,
          0.9851743872900438,
          1.3109259395586468,
          0.7069339764178331,
          1.471787453919589,
          0.7468247418515159,
          0.7499498897691252,
          0.9639843020430308,
          1.0792330036305666,
          0.746817748418515,
          0.860331101287372,
          0.7535704481701757,
          0.8293919915480176,
          0.5881229112858022,
          1.2502461562081122,
          1.3227014424741528,
          0.9605488216006124,
          0.5561629133044628,
          0.8297974009006381,
          0.9597129207839196,
          1.0120154908041,
          0.861412061398271,
          0.7540709744700159,
          0.5675583938765987,
          1.2738071540926728,
          1.0794969579137628,
          0.7716910455875223,
          1.1103241242729738,
          0.5459602166479396,
          0.671670586077247,
          0.7764959298414119,
          0.5323174701958822,
          0.7909610293897369,
          1.064234394650565,
          0.812952070734754,
          0.8551919665070402,
          0.9481113832020182,
          0.9182749520796192,
          1.2137395094943184,
          1.094074815919886,
          0.9360945483076448,
          1.0392073237913146,
          1.2561353349968445,
          1.181801531202448,
          1.1995487596437178,
          0.5131093389522131,
          0.6995445355559519,
          0.8957045724870663,
          0.914472993353894,
          1.079806815480226,
          0.7024593812363513,
          0.9159338706812792,
          0.7232447480104875,
          0.7817886286488904,
          0.9791084427316572,
          0.8411984626744843,
          0.8227062067444977,
          1.0015908226155037,
          1.274293190372404,
          1.2817306976121456,
          1.426673729432702,
          0.9052772655959626,
          1.0104375462064072,
          0.6945270038719107,
          0.5339975622043838,
          1.1482482252634232,
          1.4908122909725612,
          0.8643987119467518,
          0.8114931007794556,
          0.7440802917924766,
          0.6964611347875969,
          0.8846917875882415,
          1.1134592609959086,
          0.7897631342761594,
          0.7641843927955083,
          0.5212816641674755,
          1.3097133831181598,
          0.6887231640166486,
          0.8131083198684395,
          0.7795997799933517,
          0.995423096779408,
          0.5928816200787606,
          0.7434302980803299,
          0.8298209885315712,
          0.5361994988982834,
          1.0110240212057804,
          0.8330526294275877,
          0.5938674355983764,
          0.735043710789112,
          0.8202572812996344,
          0.6627501367678225,
          0.6709969870227758,
          0.874248282410471,
          0.4323301172942441,
          0.7821339335541404,
          0.7447024828153055,
          0.720201156799006,
          1.2263918510178118,
          0.4636872608821674,
          0.6104264671213475,
          0.9639493919343792,
          1.2096444147649226,
          0.8911042977400587,
          0.7051033987774705,
          1.1875749146559706,
          0.84883180635884,
          0.520438473619738,
          0.89104228764023,
          0.6283150617506452,
          0.8180888625254664,
          0.534018312602798,
          0.9453053836669404,
          0.9948581705169216,
          0.9758598132917926,
          1.0010179278557778,
          1.0024261750569092,
          1.4875815243846766,
          1.0198968125151455,
          0.7927190834810445,
          0.6995004983105845,
          0.6782282331315722,
          1.0534189090137651,
          0.6812805413261467,
          0.636218776469174,
          0.976128339182604,
          0.8632372599987099,
          0.8032712877611157,
          1.141651840533496,
          1.1881920327356277,
          0.8480321505695309,
          0.8071401980858899,
          0.8159875605837491,
          1.3133678733009362,
          0.9582091394868576,
          0.8148906769867027,
          0.8419011006225277,
          0.4830846628198447,
          1.0203707511238806,
          0.9943394433052988,
          0.479942065606363,
          0.5839487039582085,
          0.7821558307017371,
          0.698370615177766,
          0.9984984873335,
          0.4812202639000378,
          1.1272638817732137,
          0.5144315198533449,
          1.3366030267877582,
          0.7375563364204929,
          1.4291260236973522,
          1.1404556735694542,
          0.5191438670556967,
          1.4092450983918754,
          1.1460277141498014,
          1.0327877439866526,
          1.315335352632364,
          0.5895172935708197,
          1.2982457658680808,
          0.6701506808530433,
          0.4610756812408789,
          1.0317955429850842,
          0.4223758088271271,
          0.8144717582470213,
          1.1536909888413498,
          0.6861994062780412,
          0.7655233783942121,
          1.453147532865286,
          1.247637448182482,
          0.6673818442590441,
          0.5260568340171283,
          0.6292997035880528,
          1.1703619655068325,
          1.2996237891672209,
          0.9345602004791648,
          0.9059249058202938,
          0.8572630239606837,
          0.8827301417931568,
          1.0459917707383766,
          1.190924443255669,
          0.5385552937897176,
          0.9964524690225096,
          0.8366819979765889,
          1.023864995589383,
          0.5189389366233441,
          0.6252504764619904,
          0.7963813278403186,
          1.033413240503621,
          0.9453146435419828,
          1.021516224707442,
          1.0873243361833942,
          0.7881869181169135,
          1.0642845593618673,
          0.9508959293757911,
          1.0657209487885635,
          0.4773220652839151,
          0.7285723068429828,
          1.2516214213960857,
          0.9288459546835328,
          1.061638275270759,
          0.4418230190678117,
          1.0593408664010036,
          0.8252557573958892,
          0.6176021914574674,
          1.030243661357683,
          0.8230620613376284,
          0.9471597419030588,
          0.863095958619016,
          1.326355374554983,
          1.1337773214749625,
          0.918315513021028,
          0.7814262385054946,
          1.1845803646893691,
          1.1403693972542206,
          1.3694123928701614,
          0.8566303725401481,
          0.6974744831609985,
          0.8233769672257101,
          0.7269612511087684,
          0.8000317295519634,
          0.985712949553024,
          0.6579335829963066,
          1.0925559439098245,
          0.7637808567278801,
          0.7108668918069778,
          0.7736993308300286,
          0.8788756341139663,
          1.066086440476485,
          0.7724039248025238,
          0.7531169854619135,
          0.9800501938453764,
          1.2208158058982914,
          1.1112491738343684,
          0.8571750096592587,
          1.2538645877326302,
          1.1012961068617142
         ],
         "yaxis": "y"
        },
        {
         "hovertemplate": "labels_clustering=1<br>outlier=True<br>x=%{x}<br>y=%{y}<extra></extra>",
         "legendgroup": "1, True",
         "marker": {
          "color": "#EF553B",
          "symbol": "cross"
         },
         "mode": "markers",
         "name": "1, True",
         "orientation": "v",
         "showlegend": true,
         "type": "scatter",
         "x": [
          0.8106494024694821,
          0.7258449892409089,
          -0.4354764008705362,
          0.1003154500114971,
          1.00598305304252,
          -0.5087636325136535
         ],
         "xaxis": "x",
         "y": [
          1.025334452710792,
          1.5042165363139488,
          0.5875330953141638,
          1.5844887510071095,
          1.3724533788881823,
          0.95778135376319
         ],
         "yaxis": "y"
        },
        {
         "marker": {
          "color": "Green",
          "size": 15,
          "symbol": "x"
         },
         "mode": "markers",
         "type": "scatter",
         "x": [
          1.1928591125867567,
          0.17778860369263239
         ],
         "y": [
          0.18145611956065327,
          0.9035088808842218
         ]
        }
       ],
       "layout": {
        "legend": {
         "title": {
          "text": "labels_clustering, outlier"
         },
         "tracegroupgap": 0
        },
        "margin": {
         "t": 60
        },
        "template": {
         "data": {
          "bar": [
           {
            "error_x": {
             "color": "#2a3f5f"
            },
            "error_y": {
             "color": "#2a3f5f"
            },
            "marker": {
             "line": {
              "color": "#E5ECF6",
              "width": 0.5
             },
             "pattern": {
              "fillmode": "overlay",
              "size": 10,
              "solidity": 0.2
             }
            },
            "type": "bar"
           }
          ],
          "barpolar": [
           {
            "marker": {
             "line": {
              "color": "#E5ECF6",
              "width": 0.5
             },
             "pattern": {
              "fillmode": "overlay",
              "size": 10,
              "solidity": 0.2
             }
            },
            "type": "barpolar"
           }
          ],
          "carpet": [
           {
            "aaxis": {
             "endlinecolor": "#2a3f5f",
             "gridcolor": "white",
             "linecolor": "white",
             "minorgridcolor": "white",
             "startlinecolor": "#2a3f5f"
            },
            "baxis": {
             "endlinecolor": "#2a3f5f",
             "gridcolor": "white",
             "linecolor": "white",
             "minorgridcolor": "white",
             "startlinecolor": "#2a3f5f"
            },
            "type": "carpet"
           }
          ],
          "choropleth": [
           {
            "colorbar": {
             "outlinewidth": 0,
             "ticks": ""
            },
            "type": "choropleth"
           }
          ],
          "contour": [
           {
            "colorbar": {
             "outlinewidth": 0,
             "ticks": ""
            },
            "colorscale": [
             [
              0,
              "#0d0887"
             ],
             [
              0.1111111111111111,
              "#46039f"
             ],
             [
              0.2222222222222222,
              "#7201a8"
             ],
             [
              0.3333333333333333,
              "#9c179e"
             ],
             [
              0.4444444444444444,
              "#bd3786"
             ],
             [
              0.5555555555555556,
              "#d8576b"
             ],
             [
              0.6666666666666666,
              "#ed7953"
             ],
             [
              0.7777777777777778,
              "#fb9f3a"
             ],
             [
              0.8888888888888888,
              "#fdca26"
             ],
             [
              1,
              "#f0f921"
             ]
            ],
            "type": "contour"
           }
          ],
          "contourcarpet": [
           {
            "colorbar": {
             "outlinewidth": 0,
             "ticks": ""
            },
            "type": "contourcarpet"
           }
          ],
          "heatmap": [
           {
            "colorbar": {
             "outlinewidth": 0,
             "ticks": ""
            },
            "colorscale": [
             [
              0,
              "#0d0887"
             ],
             [
              0.1111111111111111,
              "#46039f"
             ],
             [
              0.2222222222222222,
              "#7201a8"
             ],
             [
              0.3333333333333333,
              "#9c179e"
             ],
             [
              0.4444444444444444,
              "#bd3786"
             ],
             [
              0.5555555555555556,
              "#d8576b"
             ],
             [
              0.6666666666666666,
              "#ed7953"
             ],
             [
              0.7777777777777778,
              "#fb9f3a"
             ],
             [
              0.8888888888888888,
              "#fdca26"
             ],
             [
              1,
              "#f0f921"
             ]
            ],
            "type": "heatmap"
           }
          ],
          "heatmapgl": [
           {
            "colorbar": {
             "outlinewidth": 0,
             "ticks": ""
            },
            "colorscale": [
             [
              0,
              "#0d0887"
             ],
             [
              0.1111111111111111,
              "#46039f"
             ],
             [
              0.2222222222222222,
              "#7201a8"
             ],
             [
              0.3333333333333333,
              "#9c179e"
             ],
             [
              0.4444444444444444,
              "#bd3786"
             ],
             [
              0.5555555555555556,
              "#d8576b"
             ],
             [
              0.6666666666666666,
              "#ed7953"
             ],
             [
              0.7777777777777778,
              "#fb9f3a"
             ],
             [
              0.8888888888888888,
              "#fdca26"
             ],
             [
              1,
              "#f0f921"
             ]
            ],
            "type": "heatmapgl"
           }
          ],
          "histogram": [
           {
            "marker": {
             "pattern": {
              "fillmode": "overlay",
              "size": 10,
              "solidity": 0.2
             }
            },
            "type": "histogram"
           }
          ],
          "histogram2d": [
           {
            "colorbar": {
             "outlinewidth": 0,
             "ticks": ""
            },
            "colorscale": [
             [
              0,
              "#0d0887"
             ],
             [
              0.1111111111111111,
              "#46039f"
             ],
             [
              0.2222222222222222,
              "#7201a8"
             ],
             [
              0.3333333333333333,
              "#9c179e"
             ],
             [
              0.4444444444444444,
              "#bd3786"
             ],
             [
              0.5555555555555556,
              "#d8576b"
             ],
             [
              0.6666666666666666,
              "#ed7953"
             ],
             [
              0.7777777777777778,
              "#fb9f3a"
             ],
             [
              0.8888888888888888,
              "#fdca26"
             ],
             [
              1,
              "#f0f921"
             ]
            ],
            "type": "histogram2d"
           }
          ],
          "histogram2dcontour": [
           {
            "colorbar": {
             "outlinewidth": 0,
             "ticks": ""
            },
            "colorscale": [
             [
              0,
              "#0d0887"
             ],
             [
              0.1111111111111111,
              "#46039f"
             ],
             [
              0.2222222222222222,
              "#7201a8"
             ],
             [
              0.3333333333333333,
              "#9c179e"
             ],
             [
              0.4444444444444444,
              "#bd3786"
             ],
             [
              0.5555555555555556,
              "#d8576b"
             ],
             [
              0.6666666666666666,
              "#ed7953"
             ],
             [
              0.7777777777777778,
              "#fb9f3a"
             ],
             [
              0.8888888888888888,
              "#fdca26"
             ],
             [
              1,
              "#f0f921"
             ]
            ],
            "type": "histogram2dcontour"
           }
          ],
          "mesh3d": [
           {
            "colorbar": {
             "outlinewidth": 0,
             "ticks": ""
            },
            "type": "mesh3d"
           }
          ],
          "parcoords": [
           {
            "line": {
             "colorbar": {
              "outlinewidth": 0,
              "ticks": ""
             }
            },
            "type": "parcoords"
           }
          ],
          "pie": [
           {
            "automargin": true,
            "type": "pie"
           }
          ],
          "scatter": [
           {
            "fillpattern": {
             "fillmode": "overlay",
             "size": 10,
             "solidity": 0.2
            },
            "type": "scatter"
           }
          ],
          "scatter3d": [
           {
            "line": {
             "colorbar": {
              "outlinewidth": 0,
              "ticks": ""
             }
            },
            "marker": {
             "colorbar": {
              "outlinewidth": 0,
              "ticks": ""
             }
            },
            "type": "scatter3d"
           }
          ],
          "scattercarpet": [
           {
            "marker": {
             "colorbar": {
              "outlinewidth": 0,
              "ticks": ""
             }
            },
            "type": "scattercarpet"
           }
          ],
          "scattergeo": [
           {
            "marker": {
             "colorbar": {
              "outlinewidth": 0,
              "ticks": ""
             }
            },
            "type": "scattergeo"
           }
          ],
          "scattergl": [
           {
            "marker": {
             "colorbar": {
              "outlinewidth": 0,
              "ticks": ""
             }
            },
            "type": "scattergl"
           }
          ],
          "scattermapbox": [
           {
            "marker": {
             "colorbar": {
              "outlinewidth": 0,
              "ticks": ""
             }
            },
            "type": "scattermapbox"
           }
          ],
          "scatterpolar": [
           {
            "marker": {
             "colorbar": {
              "outlinewidth": 0,
              "ticks": ""
             }
            },
            "type": "scatterpolar"
           }
          ],
          "scatterpolargl": [
           {
            "marker": {
             "colorbar": {
              "outlinewidth": 0,
              "ticks": ""
             }
            },
            "type": "scatterpolargl"
           }
          ],
          "scatterternary": [
           {
            "marker": {
             "colorbar": {
              "outlinewidth": 0,
              "ticks": ""
             }
            },
            "type": "scatterternary"
           }
          ],
          "surface": [
           {
            "colorbar": {
             "outlinewidth": 0,
             "ticks": ""
            },
            "colorscale": [
             [
              0,
              "#0d0887"
             ],
             [
              0.1111111111111111,
              "#46039f"
             ],
             [
              0.2222222222222222,
              "#7201a8"
             ],
             [
              0.3333333333333333,
              "#9c179e"
             ],
             [
              0.4444444444444444,
              "#bd3786"
             ],
             [
              0.5555555555555556,
              "#d8576b"
             ],
             [
              0.6666666666666666,
              "#ed7953"
             ],
             [
              0.7777777777777778,
              "#fb9f3a"
             ],
             [
              0.8888888888888888,
              "#fdca26"
             ],
             [
              1,
              "#f0f921"
             ]
            ],
            "type": "surface"
           }
          ],
          "table": [
           {
            "cells": {
             "fill": {
              "color": "#EBF0F8"
             },
             "line": {
              "color": "white"
             }
            },
            "header": {
             "fill": {
              "color": "#C8D4E3"
             },
             "line": {
              "color": "white"
             }
            },
            "type": "table"
           }
          ]
         },
         "layout": {
          "annotationdefaults": {
           "arrowcolor": "#2a3f5f",
           "arrowhead": 0,
           "arrowwidth": 1
          },
          "autotypenumbers": "strict",
          "coloraxis": {
           "colorbar": {
            "outlinewidth": 0,
            "ticks": ""
           }
          },
          "colorscale": {
           "diverging": [
            [
             0,
             "#8e0152"
            ],
            [
             0.1,
             "#c51b7d"
            ],
            [
             0.2,
             "#de77ae"
            ],
            [
             0.3,
             "#f1b6da"
            ],
            [
             0.4,
             "#fde0ef"
            ],
            [
             0.5,
             "#f7f7f7"
            ],
            [
             0.6,
             "#e6f5d0"
            ],
            [
             0.7,
             "#b8e186"
            ],
            [
             0.8,
             "#7fbc41"
            ],
            [
             0.9,
             "#4d9221"
            ],
            [
             1,
             "#276419"
            ]
           ],
           "sequential": [
            [
             0,
             "#0d0887"
            ],
            [
             0.1111111111111111,
             "#46039f"
            ],
            [
             0.2222222222222222,
             "#7201a8"
            ],
            [
             0.3333333333333333,
             "#9c179e"
            ],
            [
             0.4444444444444444,
             "#bd3786"
            ],
            [
             0.5555555555555556,
             "#d8576b"
            ],
            [
             0.6666666666666666,
             "#ed7953"
            ],
            [
             0.7777777777777778,
             "#fb9f3a"
            ],
            [
             0.8888888888888888,
             "#fdca26"
            ],
            [
             1,
             "#f0f921"
            ]
           ],
           "sequentialminus": [
            [
             0,
             "#0d0887"
            ],
            [
             0.1111111111111111,
             "#46039f"
            ],
            [
             0.2222222222222222,
             "#7201a8"
            ],
            [
             0.3333333333333333,
             "#9c179e"
            ],
            [
             0.4444444444444444,
             "#bd3786"
            ],
            [
             0.5555555555555556,
             "#d8576b"
            ],
            [
             0.6666666666666666,
             "#ed7953"
            ],
            [
             0.7777777777777778,
             "#fb9f3a"
            ],
            [
             0.8888888888888888,
             "#fdca26"
            ],
            [
             1,
             "#f0f921"
            ]
           ]
          },
          "colorway": [
           "#636efa",
           "#EF553B",
           "#00cc96",
           "#ab63fa",
           "#FFA15A",
           "#19d3f3",
           "#FF6692",
           "#B6E880",
           "#FF97FF",
           "#FECB52"
          ],
          "font": {
           "color": "#2a3f5f"
          },
          "geo": {
           "bgcolor": "white",
           "lakecolor": "white",
           "landcolor": "#E5ECF6",
           "showlakes": true,
           "showland": true,
           "subunitcolor": "white"
          },
          "hoverlabel": {
           "align": "left"
          },
          "hovermode": "closest",
          "mapbox": {
           "style": "light"
          },
          "paper_bgcolor": "white",
          "plot_bgcolor": "#E5ECF6",
          "polar": {
           "angularaxis": {
            "gridcolor": "white",
            "linecolor": "white",
            "ticks": ""
           },
           "bgcolor": "#E5ECF6",
           "radialaxis": {
            "gridcolor": "white",
            "linecolor": "white",
            "ticks": ""
           }
          },
          "scene": {
           "xaxis": {
            "backgroundcolor": "#E5ECF6",
            "gridcolor": "white",
            "gridwidth": 2,
            "linecolor": "white",
            "showbackground": true,
            "ticks": "",
            "zerolinecolor": "white"
           },
           "yaxis": {
            "backgroundcolor": "#E5ECF6",
            "gridcolor": "white",
            "gridwidth": 2,
            "linecolor": "white",
            "showbackground": true,
            "ticks": "",
            "zerolinecolor": "white"
           },
           "zaxis": {
            "backgroundcolor": "#E5ECF6",
            "gridcolor": "white",
            "gridwidth": 2,
            "linecolor": "white",
            "showbackground": true,
            "ticks": "",
            "zerolinecolor": "white"
           }
          },
          "shapedefaults": {
           "line": {
            "color": "#2a3f5f"
           }
          },
          "ternary": {
           "aaxis": {
            "gridcolor": "white",
            "linecolor": "white",
            "ticks": ""
           },
           "baxis": {
            "gridcolor": "white",
            "linecolor": "white",
            "ticks": ""
           },
           "bgcolor": "#E5ECF6",
           "caxis": {
            "gridcolor": "white",
            "linecolor": "white",
            "ticks": ""
           }
          },
          "title": {
           "x": 0.05
          },
          "xaxis": {
           "automargin": true,
           "gridcolor": "white",
           "linecolor": "white",
           "ticks": "",
           "title": {
            "standoff": 15
           },
           "zerolinecolor": "white",
           "zerolinewidth": 2
          },
          "yaxis": {
           "automargin": true,
           "gridcolor": "white",
           "linecolor": "white",
           "ticks": "",
           "title": {
            "standoff": 15
           },
           "zerolinecolor": "white",
           "zerolinewidth": 2
          }
         }
        },
        "xaxis": {
         "anchor": "y",
         "domain": [
          0,
          1
         ],
         "title": {
          "text": "x"
         }
        },
        "yaxis": {
         "anchor": "x",
         "domain": [
          0,
          1
         ],
         "title": {
          "text": "y"
         }
        }
       }
      }
     },
     "metadata": {},
     "output_type": "display_data"
    }
   ],
   "source": [
    "# plota\n",
    "fig = px.scatter(df, x=\"x\", y=\"y\", color=\"labels_clustering\", symbol=\"outlier\", symbol_map={True: \"cross\", False: \"circle\"})\n",
    "\n",
    "# add crosses for centroids\n",
    "fig.add_scatter(x=kmeans.cluster_centers_[:, 0],\n",
    "                y=kmeans.cluster_centers_[:, 1],\n",
    "                mode=\"markers\",\n",
    "                marker=dict(symbol=\"x\", size=15, color=\"Green\"))\n",
    "\n",
    "fig.show()"
   ]
  },
  {
   "cell_type": "code",
   "execution_count": 12,
   "metadata": {},
   "outputs": [
    {
     "data": {
      "text/html": [
       "<div>\n",
       "<style scoped>\n",
       "    .dataframe tbody tr th:only-of-type {\n",
       "        vertical-align: middle;\n",
       "    }\n",
       "\n",
       "    .dataframe tbody tr th {\n",
       "        vertical-align: top;\n",
       "    }\n",
       "\n",
       "    .dataframe thead th {\n",
       "        text-align: right;\n",
       "    }\n",
       "</style>\n",
       "<table border=\"1\" class=\"dataframe\">\n",
       "  <thead>\n",
       "    <tr style=\"text-align: right;\">\n",
       "      <th></th>\n",
       "      <th>x</th>\n",
       "      <th>y</th>\n",
       "      <th>labels</th>\n",
       "      <th>distance</th>\n",
       "      <th>labels_clustering</th>\n",
       "      <th>outlier</th>\n",
       "      <th>distance_norm</th>\n",
       "    </tr>\n",
       "  </thead>\n",
       "  <tbody>\n",
       "    <tr>\n",
       "      <th>0</th>\n",
       "      <td>1.614580</td>\n",
       "      <td>-0.100420</td>\n",
       "      <td>0.0</td>\n",
       "      <td>0.507250</td>\n",
       "      <td>0</td>\n",
       "      <td>False</td>\n",
       "      <td>0.810779</td>\n",
       "    </tr>\n",
       "    <tr>\n",
       "      <th>1</th>\n",
       "      <td>1.019888</td>\n",
       "      <td>0.312567</td>\n",
       "      <td>0.0</td>\n",
       "      <td>0.217046</td>\n",
       "      <td>0</td>\n",
       "      <td>False</td>\n",
       "      <td>0.333554</td>\n",
       "    </tr>\n",
       "    <tr>\n",
       "      <th>2</th>\n",
       "      <td>1.493949</td>\n",
       "      <td>0.417392</td>\n",
       "      <td>0.0</td>\n",
       "      <td>0.382519</td>\n",
       "      <td>0</td>\n",
       "      <td>False</td>\n",
       "      <td>0.605665</td>\n",
       "    </tr>\n",
       "    <tr>\n",
       "      <th>3</th>\n",
       "      <td>0.985614</td>\n",
       "      <td>0.118068</td>\n",
       "      <td>0.0</td>\n",
       "      <td>0.216723</td>\n",
       "      <td>0</td>\n",
       "      <td>False</td>\n",
       "      <td>0.333022</td>\n",
       "    </tr>\n",
       "    <tr>\n",
       "      <th>4</th>\n",
       "      <td>0.684116</td>\n",
       "      <td>0.219825</td>\n",
       "      <td>0.0</td>\n",
       "      <td>0.510188</td>\n",
       "      <td>0</td>\n",
       "      <td>False</td>\n",
       "      <td>0.815609</td>\n",
       "    </tr>\n",
       "    <tr>\n",
       "      <th>...</th>\n",
       "      <td>...</td>\n",
       "      <td>...</td>\n",
       "      <td>...</td>\n",
       "      <td>...</td>\n",
       "      <td>...</td>\n",
       "      <td>...</td>\n",
       "      <td>...</td>\n",
       "    </tr>\n",
       "    <tr>\n",
       "      <th>495</th>\n",
       "      <td>0.427324</td>\n",
       "      <td>1.220816</td>\n",
       "      <td>1.0</td>\n",
       "      <td>0.403673</td>\n",
       "      <td>1</td>\n",
       "      <td>False</td>\n",
       "      <td>0.616120</td>\n",
       "    </tr>\n",
       "    <tr>\n",
       "      <th>496</th>\n",
       "      <td>-0.237872</td>\n",
       "      <td>1.111249</td>\n",
       "      <td>1.0</td>\n",
       "      <td>0.464682</td>\n",
       "      <td>1</td>\n",
       "      <td>False</td>\n",
       "      <td>0.720242</td>\n",
       "    </tr>\n",
       "    <tr>\n",
       "      <th>497</th>\n",
       "      <td>0.109251</td>\n",
       "      <td>0.857175</td>\n",
       "      <td>1.0</td>\n",
       "      <td>0.082730</td>\n",
       "      <td>1</td>\n",
       "      <td>False</td>\n",
       "      <td>0.068382</td>\n",
       "    </tr>\n",
       "    <tr>\n",
       "      <th>498</th>\n",
       "      <td>0.039282</td>\n",
       "      <td>1.253865</td>\n",
       "      <td>1.0</td>\n",
       "      <td>0.376740</td>\n",
       "      <td>1</td>\n",
       "      <td>False</td>\n",
       "      <td>0.570155</td>\n",
       "    </tr>\n",
       "    <tr>\n",
       "      <th>499</th>\n",
       "      <td>0.170938</td>\n",
       "      <td>1.101296</td>\n",
       "      <td>1.0</td>\n",
       "      <td>0.197906</td>\n",
       "      <td>1</td>\n",
       "      <td>False</td>\n",
       "      <td>0.264947</td>\n",
       "    </tr>\n",
       "  </tbody>\n",
       "</table>\n",
       "<p>500 rows × 7 columns</p>\n",
       "</div>"
      ],
      "text/plain": [
       "            x         y  labels  distance labels_clustering  outlier  \\\n",
       "0    1.614580 -0.100420     0.0  0.507250                 0    False   \n",
       "1    1.019888  0.312567     0.0  0.217046                 0    False   \n",
       "2    1.493949  0.417392     0.0  0.382519                 0    False   \n",
       "3    0.985614  0.118068     0.0  0.216723                 0    False   \n",
       "4    0.684116  0.219825     0.0  0.510188                 0    False   \n",
       "..        ...       ...     ...       ...               ...      ...   \n",
       "495  0.427324  1.220816     1.0  0.403673                 1    False   \n",
       "496 -0.237872  1.111249     1.0  0.464682                 1    False   \n",
       "497  0.109251  0.857175     1.0  0.082730                 1    False   \n",
       "498  0.039282  1.253865     1.0  0.376740                 1    False   \n",
       "499  0.170938  1.101296     1.0  0.197906                 1    False   \n",
       "\n",
       "     distance_norm  \n",
       "0         0.810779  \n",
       "1         0.333554  \n",
       "2         0.605665  \n",
       "3         0.333022  \n",
       "4         0.815609  \n",
       "..             ...  \n",
       "495       0.616120  \n",
       "496       0.720242  \n",
       "497       0.068382  \n",
       "498       0.570155  \n",
       "499       0.264947  \n",
       "\n",
       "[500 rows x 7 columns]"
      ]
     },
     "execution_count": 12,
     "metadata": {},
     "output_type": "execute_result"
    }
   ],
   "source": [
    "df_okay = df[~df[\"outlier\"]]\n",
    "\n",
    "# normalize distance to centroid for each cluster\n",
    "df[\"distance_norm\"] = df_okay.groupby(\"labels_clustering\")[\"distance\"].transform(\n",
    "    lambda x: (x - x.min()) / (x.max() - x.min()))\n",
    "\n",
    "df"
   ]
  },
  {
   "cell_type": "code",
   "execution_count": 32,
   "metadata": {},
   "outputs": [
    {
     "data": {
      "text/html": [
       "<div>\n",
       "<style scoped>\n",
       "    .dataframe tbody tr th:only-of-type {\n",
       "        vertical-align: middle;\n",
       "    }\n",
       "\n",
       "    .dataframe tbody tr th {\n",
       "        vertical-align: top;\n",
       "    }\n",
       "\n",
       "    .dataframe thead th {\n",
       "        text-align: right;\n",
       "    }\n",
       "</style>\n",
       "<table border=\"1\" class=\"dataframe\">\n",
       "  <thead>\n",
       "    <tr style=\"text-align: right;\">\n",
       "      <th></th>\n",
       "      <th>x</th>\n",
       "      <th>y</th>\n",
       "      <th>labels</th>\n",
       "      <th>distance</th>\n",
       "      <th>labels_clustering</th>\n",
       "      <th>outlier</th>\n",
       "      <th>distance_norm</th>\n",
       "    </tr>\n",
       "  </thead>\n",
       "  <tbody>\n",
       "    <tr>\n",
       "      <th>11</th>\n",
       "      <td>1.428571</td>\n",
       "      <td>0.784181</td>\n",
       "      <td>0.0</td>\n",
       "      <td>0.647177</td>\n",
       "      <td>0</td>\n",
       "      <td>True</td>\n",
       "      <td>1.040881</td>\n",
       "    </tr>\n",
       "    <tr>\n",
       "      <th>89</th>\n",
       "      <td>1.103929</td>\n",
       "      <td>-0.499643</td>\n",
       "      <td>0.0</td>\n",
       "      <td>0.686880</td>\n",
       "      <td>0</td>\n",
       "      <td>True</td>\n",
       "      <td>1.106171</td>\n",
       "    </tr>\n",
       "    <tr>\n",
       "      <th>172</th>\n",
       "      <td>1.451091</td>\n",
       "      <td>0.756414</td>\n",
       "      <td>0.0</td>\n",
       "      <td>0.630286</td>\n",
       "      <td>0</td>\n",
       "      <td>True</td>\n",
       "      <td>1.013105</td>\n",
       "    </tr>\n",
       "    <tr>\n",
       "      <th>238</th>\n",
       "      <td>0.542905</td>\n",
       "      <td>-0.090739</td>\n",
       "      <td>0.0</td>\n",
       "      <td>0.704649</td>\n",
       "      <td>0</td>\n",
       "      <td>True</td>\n",
       "      <td>1.135391</td>\n",
       "    </tr>\n",
       "    <tr>\n",
       "      <th>310</th>\n",
       "      <td>0.810649</td>\n",
       "      <td>1.025334</td>\n",
       "      <td>1.0</td>\n",
       "      <td>0.644480</td>\n",
       "      <td>1</td>\n",
       "      <td>True</td>\n",
       "      <td>1.027094</td>\n",
       "    </tr>\n",
       "    <tr>\n",
       "      <th>382</th>\n",
       "      <td>0.725845</td>\n",
       "      <td>1.504217</td>\n",
       "      <td>1.0</td>\n",
       "      <td>0.813152</td>\n",
       "      <td>1</td>\n",
       "      <td>True</td>\n",
       "      <td>1.314958</td>\n",
       "    </tr>\n",
       "    <tr>\n",
       "      <th>386</th>\n",
       "      <td>-0.435476</td>\n",
       "      <td>0.587533</td>\n",
       "      <td>1.0</td>\n",
       "      <td>0.689880</td>\n",
       "      <td>1</td>\n",
       "      <td>True</td>\n",
       "      <td>1.104576</td>\n",
       "    </tr>\n",
       "    <tr>\n",
       "      <th>392</th>\n",
       "      <td>0.100315</td>\n",
       "      <td>1.584489</td>\n",
       "      <td>1.0</td>\n",
       "      <td>0.685373</td>\n",
       "      <td>1</td>\n",
       "      <td>True</td>\n",
       "      <td>1.096884</td>\n",
       "    </tr>\n",
       "    <tr>\n",
       "      <th>467</th>\n",
       "      <td>1.005983</td>\n",
       "      <td>1.372453</td>\n",
       "      <td>1.0</td>\n",
       "      <td>0.951743</td>\n",
       "      <td>1</td>\n",
       "      <td>True</td>\n",
       "      <td>1.551485</td>\n",
       "    </tr>\n",
       "    <tr>\n",
       "      <th>485</th>\n",
       "      <td>-0.508764</td>\n",
       "      <td>0.957781</td>\n",
       "      <td>1.0</td>\n",
       "      <td>0.688694</td>\n",
       "      <td>1</td>\n",
       "      <td>True</td>\n",
       "      <td>1.102552</td>\n",
       "    </tr>\n",
       "  </tbody>\n",
       "</table>\n",
       "</div>"
      ],
      "text/plain": [
       "            x         y  labels  distance labels_clustering  outlier  \\\n",
       "11   1.428571  0.784181     0.0  0.647177                 0     True   \n",
       "89   1.103929 -0.499643     0.0  0.686880                 0     True   \n",
       "172  1.451091  0.756414     0.0  0.630286                 0     True   \n",
       "238  0.542905 -0.090739     0.0  0.704649                 0     True   \n",
       "310  0.810649  1.025334     1.0  0.644480                 1     True   \n",
       "382  0.725845  1.504217     1.0  0.813152                 1     True   \n",
       "386 -0.435476  0.587533     1.0  0.689880                 1     True   \n",
       "392  0.100315  1.584489     1.0  0.685373                 1     True   \n",
       "467  1.005983  1.372453     1.0  0.951743                 1     True   \n",
       "485 -0.508764  0.957781     1.0  0.688694                 1     True   \n",
       "\n",
       "     distance_norm  \n",
       "11        1.040881  \n",
       "89        1.106171  \n",
       "172       1.013105  \n",
       "238       1.135391  \n",
       "310       1.027094  \n",
       "382       1.314958  \n",
       "386       1.104576  \n",
       "392       1.096884  \n",
       "467       1.551485  \n",
       "485       1.102552  "
      ]
     },
     "execution_count": 32,
     "metadata": {},
     "output_type": "execute_result"
    }
   ],
   "source": [
    "df[df[\"distance_norm\"] > 1]"
   ]
  },
  {
   "cell_type": "code",
   "execution_count": 28,
   "metadata": {},
   "outputs": [
    {
     "data": {
      "application/vnd.plotly.v1+json": {
       "config": {
        "plotlyServerURL": "https://plot.ly"
       },
       "data": [
        {
         "hovertemplate": "x=%{x}<br>y=%{y}<br>distance_norm=%{marker.color}<extra></extra>",
         "legendgroup": "",
         "marker": {
          "color": [
           0.8107785183489863,
           0.33355378779415323,
           0.6056651147344977,
           0.3330216272300626,
           0.8156092736507741,
           0.9565981458233654,
           0.40697326780206683,
           0.4860208137750227,
           0.7731484867873499,
           0.5524860247115037,
           0.9459628506429504,
           1.0408808232686944,
           0.3638905260454023,
           0.17499164463625552,
           0.7602737853663544,
           0.24073934790713716,
           0.36640248484766325,
           0.32880105788932285,
           0.5843050616985094,
           0.633584953311537,
           0.6578394910321437,
           0.18629317667820486,
           0.537405777655988,
           0.2792244877041484,
           0.3684056811287653,
           0.004520572954015513,
           0.6143337561890951,
           0.42671364802234363,
           0.6301774469105493,
           0.7302084960042853,
           0.2500972178064688,
           0.5334611193652405,
           0.34070746499812055,
           0.6448526442182578,
           0.39346756104472846,
           0.6376711246158854,
           0.332431707379528,
           0.3588837582098652,
           0.29034785577852634,
           0.24256948427961142,
           0.44438264425241436,
           0.4971518410357593,
           0.08717686007609035,
           1,
           0.5072400091371508,
           0.13984406318820747,
           0.7140341414943536,
           0.0905627912265098,
           0.29962536846948923,
           0.6736321544451379,
           0.7077531849512722,
           0.6876979013572134,
           0.6273014252154444,
           0.23364468273835948,
           0.23133877009255635,
           0.6176633649952641,
           0.49943705695248436,
           0.0013020412674507771,
           0.7068249289961189,
           0.18252671798089054,
           0.19627452069124182,
           0.6412041490427263,
           0.8111936517637234,
           0.1623516768014229,
           0.30878591673657857,
           0.7868704049676922,
           0.6798826570004426,
           0.09320113709178464,
           0.11094236482749278,
           0.24476863631654627,
           0.20384778193442746,
           0.7137112567807712,
           0.5947166573367169,
           0.2645402014005233,
           0.3280882263070743,
           0.395148889485656,
           0.6309500199979488,
           0.6289570710128649,
           0.809415964572618,
           0.4502198957399452,
           0.150704946470307,
           0.4901735452176424,
           0.42964721730829764,
           0.9713984878727866,
           0.7323294520839438,
           0.9174876548596649,
           0.5441507077417175,
           0.9506777390341047,
           0.6186088548578136,
           1.1061709323717193,
           0.31005718536494314,
           0.9476850568804313,
           0.441326585582,
           0.7374132264513393,
           0.8367685065640525,
           0.5150028738964194,
           0.586845715595909,
           0,
           0.45751333008324513,
           0.28485036662008745,
           0.33006582118186817,
           0.26982143925961793,
           0.7550619043224355,
           0.5052309163494262,
           0.19032413371524592,
           0.5784266108588456,
           0.4588697040144847,
           0.5554085478563974,
           0.3133275879681785,
           0.28773540723900876,
           0.16722745178999981,
           0.9519720534544838,
           0.4013733886439981,
           0.7613306909778619,
           0.06320393848045443,
           0.7164120258063199,
           0.17548759721722895,
           0.6142018176609502,
           0.6383551585505243,
           0.7313424847060493,
           0.5367445098131264,
           0.7019488448627043,
           0.5108641256640872,
           0.08172542550074446,
           0.2787284413072416,
           0.2073560651529802,
           0.8201921499041012,
           0.299220472872611,
           0.6320769954900679,
           0.27602753393627555,
           0.19493986864160104,
           0.21516367670394984,
           0.2427211284055505,
           0.9391750506116472,
           0.674091961033547,
           0.5571806710534202,
           0.8031006695567825,
           0.2358748034246909,
           0.13375985772930898,
           0.28745096279653704,
           0.8302503945645623,
           0.46381032733067984,
           0.11212700389215607,
           0.09227823705027158,
           0.8380506393371713,
           0.3737687968106868,
           0.18597831605599868,
           0.1666812763713538,
           0.6140247340584167,
           0.6163859031614511,
           0.4773187829646083,
           0.17191914649902437,
           0.9352314709546303,
           0.9527888400232717,
           0.5563911576500976,
           0.4134133525232657,
           0.6456194616346563,
           0.8159511367410238,
           0.6261294388721278,
           0.40456734951214984,
           0.9344679541730349,
           0.26525194317481576,
           0.5360851662869961,
           0.19095347977464114,
           0.2281721951664092,
           0.5626458000182811,
           0.3550507113237164,
           0.1387866218834892,
           0.41224155591073897,
           0.31874500589711924,
           0.6689476045352392,
           0.8983876330032382,
           1.013105422888457,
           0.5557654509862271,
           0.3831888752926758,
           0.49464834884548736,
           0.6185970012411978,
           0.18891635258368528,
           0.6268975154474514,
           0.4291757664135497,
           0.6405443444665448,
           0.47737488045552623,
           0.20498547286950144,
           0.6732706896683447,
           0.49573620110840266,
           0.5983631836666192,
           0.30967355079756553,
           0.360480374889128,
           0.41987874676301135,
           0.33466438424916967,
           0.01656328121988879,
           0.40882198586184987,
           0.631598288738566,
           0.7853249715122452,
           0.5173116289758538,
           0.33925343055290996,
           0.26482270584406337,
           0.49986462072215954,
           0.2654751835481795,
           0.6112594807952431,
           0.6085067380559889,
           0.07393741579462866,
           0.26036103736687616,
           0.5037108625071487,
           0.3322176618299776,
           0.18675823616966708,
           0.7889554011042833,
           0.6880271443034991,
           0.6723790366841794,
           0.2466785616684483,
           0.17092810228138708,
           0.6790891719763571,
           0.3198285581183433,
           0.6093828424214947,
           0.5195231042041868,
           0.9513144183534691,
           0.15914061110368782,
           0.15025888470395043,
           0.5857151986063527,
           0.40059124344781255,
           0.5047827140850714,
           0.23988170938862183,
           0.5193034644157717,
           0.19634023681377766,
           0.4003701662416818,
           0.5464488277504428,
           0.3247451227722859,
           0.12757434691715444,
           0.817323349303682,
           0.6151037985328642,
           0.43469138204335855,
           0.4982644806498733,
           0.531317731644405,
           0.30184338615278,
           0.8974074830803794,
           0.19942169598766035,
           0.26312512943585703,
           0.3033252354034904,
           1.1353910427670468,
           0.3870320961683014,
           0.8273072429984902,
           0.40363732930763374,
           0.5802993047204005,
           0.34186075067289096,
           0.14808236801354113,
           0.6800934054794174,
           0.7645550264949352,
           0.5483675216692759,
           0.7732216734791848,
           0.20488900675088842,
           0.32079783847321797,
           0.4531491158559697,
           0.08422712814417631,
           0.7802324954042865,
           0.32792358141693473,
           0.49661020226421393,
           0.4441817097299064,
           0.25658167831199746,
           0.7805451482662185,
           0.16355013815130534,
           0.6482491831671359,
           0.7654878204215861,
           0.9163413064549292,
           0.7720928759432778,
           0.2294828578977011,
           0.10472668068564665,
           0.6456513678208371,
           0.19568590537079675,
           0.4592654793988898,
           0.32160476334121785,
           0.3217715126441819,
           0.5057267815320309,
           0.5213459865232103,
           0.6659208226990627,
           0.04342690944400693,
           0.9988237910687828,
           0.08377554676400394,
           0.06682215803027095,
           0.5380023989326642,
           0.034941463489238565,
           0.18242710978420895,
           0.6036626523941876,
           0.5724952090895272,
           0.27594045120195076,
           0.17602702263045142,
           0.46752357716004417,
           0.6295374940001638,
           0.47252642823279783,
           0.16249974500715078,
           0.741618856376242,
           0.1226927380285093,
           0.3342991280186363,
           0.6246281467201099,
           0.3369452057710457,
           0.006390121312926946,
           0.003278207488283857,
           0.6713145866822771,
           0.3164290110828806,
           0.08891946442009019,
           0.3168681490485594,
           0.5892376068489803,
           0.4053860402713413,
           0.48332064671378533,
           0.6637626930783226,
           0.31125356502252494,
           0.21380565798828574,
           0.7138310069683158,
           0.5435623763347541,
           0.5068681882277439,
           0.05405966804198963,
           1.0270936691420491,
           0.43646849864449216,
           0.2101707611840087,
           0.5923708228417458,
           0.8327473939505863,
           0.0737418255757031,
           0.4056607454372563,
           0.562527424968542,
           0.6591695696107486,
           1,
           0.2635558891665049,
           0.572414376873955,
           0.3605442157349996,
           0.8531325679710721,
           0.6986953898431641,
           0.9330248760994211,
           0.9357747773712762,
           0.7372470148456107,
           0.4118955548954156,
           0.2821292391936203,
           0.3363901905324508,
           0.3532189760736485,
           0.5129139055564991,
           0.3735725227580382,
           0.7729898666215582,
           0.7978167405249675,
           0.7393885693162942,
           0.20788025118764936,
           0.17842945279177752,
           0.5482571307534397,
           0.6773400126797724,
           0.2181559060824908,
           0.902595985004958,
           0.23226576564929324,
           0.555616138412456,
           0.1748689492095042,
           0.14068521592062658,
           0.4862828152593856,
           0.479382029909648,
           0.07688802050343485,
           0.3522309051230574,
           0.5771596275907259,
           0.5047406003874854,
           0.8153822861546273,
           0.2942034222057117,
           0.23547407270512274,
           0.6970243698414398,
           0.49136693837309997,
           0.8033890844824201,
           0.5085524047543115,
           0.047269031278644916,
           0.4549520320863136,
           0.12901152133132396,
           0.2677221844625136,
           0.9071709818695637,
           0.747159314537658,
           0.5853619058016166,
           0.025530986921891312,
           0.4414120312969083,
           0.08248624884882846,
           0.8270791130671127,
           0,
           0.4761321637534444,
           0.059254538744488834,
           0.35228443919354047,
           0.7681599824665075,
           0.9811446956866026,
           0.1820177504787331,
           0.35004882189211206,
           0.5433073685321148,
           0.3221537424949351,
           0.3866139136877204,
           1.3149577841044524,
           0.51021875588687,
           0.5477585097468894,
           0.10057229228678642,
           1.1045762957523284,
           0.11839887971806495,
           0.15298043076875262,
           0.4048551474958382,
           0.6420861141566107,
           0.34299368815855064,
           1.0968835110545005,
           0.4649780158692478,
           0.26890267654136385,
           0.7109863563799284,
           0.39097680407121205,
           0.7393775655858845,
           0.11136131268297235,
           0.6948544261534761,
           0.13324104439760623,
           0.4828632367646664,
           0.6697748345910965,
           0.5167331830743835,
           0.511987050525988,
           0.3051407424175019,
           0.18505019420630667,
           0.7378323929645124,
           0.5215085316593508,
           0.5918280170969671,
           0.7239800618771565,
           0.2702460699455638,
           0.971566480772863,
           0.33157625889000464,
           0.74879171215259,
           0.895463601579677,
           0.8073863376890449,
           0.160016613323209,
           0.6820082290462675,
           0.5091936184250015,
           0.8314781564818858,
           0.3505395454152245,
           0.8304678294772868,
           0.8271453172885533,
           0.8746009730849139,
           0.39586419338624085,
           0.7188356919042271,
           0.6861080443677217,
           0.2340328782604227,
           0.9270067015354225,
           0.5911416132494781,
           0.5999670156938682,
           0.8429755433988612,
           0.7203749092383334,
           0.8209208278688277,
           0.7497897660538756,
           0.2760926643793601,
           0.5754283983458576,
           0.11355341708943216,
           0.625361399865024,
           0.5825224606344123,
           0.746153309169428,
           0.5805024484965123,
           0.08724207224688439,
           0.3444174487106861,
           0.5300181341169927,
           0.7193621458752819,
           0.4024425214817938,
           0.8638473039966142,
           0.14910661031583855,
           0.24598186469163624,
           0.544748777104924,
           0.7128828660806067,
           0.15765940017143548,
           0.41636125345728614,
           0.7600745465471522,
           0.5312679319074353,
           0.6591429923606956,
           0.2622057984115782,
           0.6534602282604528,
           0.4510196440966605,
           0.20272612386547645,
           0.8290763632417257,
           0.22933027598571556,
           0.2040557905300389,
           0.43272493598933404,
           0.33153450556302333,
           1.5514854596843095,
           0.13676392103124066,
           0.6682010460712201,
           0.37950418463063423,
           0.7921040671463957,
           0.3402797662080285,
           0.05703472426095313,
           0.24856695618608407,
           0.4096370955434327,
           0.41219907416620866,
           0.724519624865127,
           0.3846443723732798,
           0.38912976471773025,
           0.33261227510104574,
           0.5268114475031502,
           0.186955888551897,
           0.09456799064953013,
           0.40189476070355645,
           1.102551958420303,
           0.3388900866026136,
           0.3706447236433131,
           0.36958872239652285,
           0.744169943928385,
           0.3349751873010765,
           0.208203665511298,
           0.2911247188755617,
           0.40122054153251746,
           0.5309624532899478,
           0.6161195736883559,
           0.7202415678354234,
           0.06838173033260594,
           0.5701551418537106,
           0.2649468385401974
          ],
          "coloraxis": "coloraxis",
          "symbol": "circle"
         },
         "mode": "markers",
         "name": "",
         "orientation": "v",
         "showlegend": false,
         "type": "scatter",
         "x": [
          1.6145799482244692,
          1.0198878249131398,
          1.4939486294662971,
          0.9856136178632046,
          0.6841163971221067,
          1.395998643145414,
          1.2960659280189148,
          1.0219240676239212,
          1.5065508280847817,
          1.4166322200021333,
          0.7140211421419974,
          1.428570758021482,
          1.2954496383231495,
          1.2717121069048594,
          0.8616568674937184,
          1.201792927722572,
          1.2332715247543635,
          1.342343515303241,
          1.5611679803619578,
          1.498484313923762,
          1.4820237911204492,
          1.2334373349446612,
          1.116102531070687,
          1.2961767471928176,
          1.4298860283325694,
          1.1880813722136114,
          0.8076320469923857,
          1.1242920705746426,
          0.9000131703913764,
          1.3489632271828114,
          1.3263652914521191,
          0.950950970892274,
          1.0393754088189513,
          1.176792724822242,
          1.0083115500151691,
          0.9532631813686702,
          1.345752405529219,
          1.425161516889222,
          1.2993659004063036,
          1.3201458181492511,
          0.9969248475466154,
          0.9327452660054256,
          1.1263734292954006,
          0.9358271786311738,
          1.25418928956775,
          1.146042539252412,
          0.8062602633986098,
          1.2413703558127622,
          1.2250854900407284,
          1.393504093555371,
          1.2143008248923437,
          1.6210634025223645,
          1.4563896618763204,
          1.3152533089469558,
          1.1145264903698084,
          1.404046803619492,
          1.3666695530963957,
          1.2074605289152065,
          1.587260211607788,
          1.1440240729396496,
          1.077760426330013,
          0.9789970696869472,
          0.6899101415290608,
          1.1586505889084024,
          1.3933383580248486,
          1.659953267024675,
          1.0975499023307986,
          1.175833483242511,
          1.1151351354307817,
          1.0860213319946856,
          1.2660939509184896,
          0.7449614862277343,
          1.1569807583367104,
          1.367003277877504,
          1.306930141175734,
          1.2450851107271454,
          1.575064477210231,
          1.5894030947706272,
          0.8510303908901009,
          0.9049033636289056,
          1.2161434406665887,
          1.3964603894547447,
          0.9175111521140202,
          0.817690816574487,
          1.150836247803542,
          1.7205615285593252,
          1.0112585220596175,
          0.650540290730618,
          1.5670587847045114,
          1.103929087773316,
          1.2538632618367953,
          1.3798407016689551,
          1.335698233560099,
          1.328999867522258,
          0.6721726035606655,
          1.1203557501019186,
          1.4944315229998673,
          1.20692551139823,
          1.1732633503294598,
          1.0737940078763788,
          1.1326512606418473,
          1.106576379452496,
          0.7849432113698981,
          1.093131545665016,
          1.1380072911362296,
          1.462267918771933,
          0.9095256395028204,
          1.5428296528470784,
          1.2068707133533056,
          1.2011542186658646,
          1.0822378758137274,
          0.6169595803903515,
          1.3574826272046463,
          1.637777148199294,
          1.1406170909332878,
          0.8966854967926112,
          1.222883706220367,
          0.8276261175918431,
          1.393395191435315,
          1.18815845221523,
          0.8961404904783237,
          1.0358908847316048,
          1.0098466583327748,
          1.2553255382763362,
          1.3765207620305606,
          1.330978019020279,
          1.483762559265858,
          1.236839781862963,
          0.8367285237064688,
          1.314476098360165,
          1.3152110020065917,
          1.0523498612897366,
          1.3522072605301598,
          0.9867364109853116,
          1.566635970234766,
          1.2248297783686894,
          1.1243504537552704,
          1.152252856291177,
          1.1091024261224829,
          1.089924319621551,
          1.6891559753986185,
          1.1463602255355303,
          1.1319315604423974,
          1.1225532451369922,
          1.542437237606433,
          0.9657979244240752,
          1.297560129644504,
          1.0805858400301458,
          0.9432988808250192,
          1.0812269844594764,
          1.1784210490180715,
          1.3054463001682255,
          1.04376526791522,
          0.6042634210478831,
          1.036495127561534,
          1.0883106255057804,
          0.9206004284842486,
          1.233224607538428,
          1.4504515212320157,
          1.0448147629724625,
          1.7228182546756554,
          1.040533184282958,
          1.4289008183476175,
          1.3101447503738222,
          1.2623462772208784,
          1.030916392085366,
          1.4182446501584571,
          1.2914272956679826,
          1.1659078075591496,
          1.396105332751698,
          1.0733194567390043,
          0.3852130904647678,
          1.451091355803822,
          1.5426028103588676,
          1.1605412853486103,
          1.506671051408662,
          1.215306149790501,
          1.3216147942326388,
          0.8929667169075653,
          1.2534886352342791,
          1.2344531678821475,
          0.9899316057422992,
          1.2008422329076638,
          1.2634703029559338,
          0.9982600738167878,
          1.4355354712451232,
          0.9917649732036012,
          0.9699040497211396,
          0.9290658712650072,
          1.2345933904655493,
          1.2163294737385295,
          1.4334158127692982,
          1.4297028070947575,
          1.5721263020162175,
          1.0632081508915303,
          1.412309928623744,
          1.0659784275894475,
          1.5100453543695287,
          1.033745400601351,
          0.9190933963065948,
          0.8130884668044364,
          1.216398341662238,
          1.1024303892179523,
          0.8747203684816478,
          1.241392604874904,
          1.110856436260396,
          0.7591918939673703,
          1.422611031338562,
          1.5771795181834558,
          1.3418261486578116,
          1.1394404521073582,
          1.61498106221736,
          0.9958680474959656,
          1.3444699899308703,
          0.8798342169656045,
          0.6082253503354216,
          1.2762569653458389,
          1.0876418126178913,
          1.259927889626012,
          1.334586217807173,
          1.330375154985018,
          1.0884488204148897,
          0.946680778189372,
          1.121645340315914,
          1.2072340125283316,
          1.460174531093836,
          1.3570218887502992,
          1.1768624359260933,
          1.0019699040677887,
          0.9997650945856298,
          1.4275047002139656,
          1.4969310090205503,
          0.8726560891847557,
          1.2167920687901663,
          1.398887335591314,
          1.2990837004599594,
          1.1480752907929272,
          1.3650058728316377,
          0.542905279453854,
          1.25976480907293,
          1.67526933073356,
          1.3005044650877076,
          0.948487466322198,
          1.4069637091552123,
          1.2848241921602144,
          0.9047750642714358,
          1.2782262141948837,
          1.1263542972671514,
          1.598657170566149,
          1.1285240492530069,
          0.0025276715630145,
          0.3504978583328243,
          0.1980823154497814,
          0.1334308393463489,
          0.4124999285781252,
          0.4958799906716703,
          -0.0920696546483252,
          0.2894176646739417,
          -0.1137971730244505,
          0.0659355031565553,
          0.289666317135313,
          0.6279327775338992,
          0.0638647581503333,
          0.6474039227723662,
          0.0895092205144591,
          0.2624298845971226,
          0.5603358585888762,
          0.1637035036289473,
          -0.130972300039054,
          0.3536509632275554,
          -0.0412113041396037,
          0.3020673474067409,
          0.2090193150946696,
          0.0699012780433583,
          0.1405711717755924,
          -0.3453064452655607,
          0.2324206874360412,
          0.1183327557736229,
          0.518844553984787,
          0.2248418462579672,
          0.1718961991368172,
          0.3881440153127286,
          0.101320168027807,
          0.0739325694555269,
          0.1154760836703621,
          -0.0619312439677022,
          0.3815529656781328,
          0.3976838587533743,
          0.1241417645529211,
          0.4776960847080594,
          0.1991287799776078,
          0.3540546500552688,
          -0.2207099081833517,
          -0.057392145144187,
          0.1906019738343278,
          0.1357217744380126,
          -0.1285854055136813,
          0.3030929920114746,
          0.2667738897054428,
          0.3614184868723398,
          0.0161171502101301,
          0.210384398246047,
          0.3139697322915482,
          0.3617917426797078,
          0.0827041750282392,
          0.0100299900865597,
          0.6385841977413649,
          -0.1374168099706343,
          -0.0959749667097603,
          0.1044961983005849,
          0.8106494024694821,
          0.4155951288349402,
          0.2903817001719865,
          -0.2045666095126875,
          -0.3491441940522282,
          0.1487246952452183,
          0.440427985393758,
          0.1445532791306406,
          -0.0244523006148957,
          -0.1706969400417177,
          0.3748714793208711,
          -0.1848388615974439,
          0.0335591787993922,
          -0.2194776265524997,
          -0.2022884440680609,
          0.1285844928974477,
          0.7674652827774138,
          0.6434304637680661,
          -0.0572513887369223,
          0.1581850648927921,
          0.4168165769576991,
          0.0427512934277158,
          -0.1460142422027855,
          -0.0435692216782596,
          0.4932430292963695,
          -0.1308170669252056,
          -0.2468867012118003,
          0.3151840005227717,
          0.2572731952631421,
          -0.1743218158283004,
          0.4887708938801535,
          0.2364517159183465,
          0.7190253597062606,
          0.0149266432572096,
          0.1518907038305362,
          0.2752661510890465,
          0.0744210601359361,
          0.0708247664265193,
          0.4540234316102904,
          0.1501669463680384,
          0.2415126482460141,
          -0.1238415323722088,
          0.5149323430201733,
          -0.0432026237548056,
          0.3553103670848428,
          0.0917068496303415,
          -0.2343641688363238,
          0.2486854813244367,
          -0.0870480011284151,
          0.0041756682114554,
          0.213807521685338,
          0.2214819497441097,
          0.2953917886125334,
          0.156615727739754,
          0.676813643662048,
          0.6551217396764204,
          0.1332531702764466,
          0.1215313801577133,
          0.3004776535258529,
          0.1464291978833121,
          -0.1983814869720911,
          0.1692374137707744,
          -0.1306151706232486,
          0.1503419335390011,
          -0.0514124821585752,
          -0.3049405619908622,
          -0.0227981507474983,
          0.2713223990750399,
          0.3994097356574219,
          0.4756276344466412,
          0.1248120535369503,
          0.4013804406707222,
          0.7258449892409089,
          0.4372485658613476,
          -0.0687340409575464,
          0.1067441410620541,
          -0.4354764008705362,
          0.0732394384318035,
          0.0914421545325528,
          0.0307410242797748,
          0.485070833166501,
          -0.0594480042165964,
          0.1003154500114971,
          -0.1222263778091555,
          -0.0022934764945706,
          0.3849953410844219,
          0.4439785503545304,
          -0.2897824560948329,
          0.2663878256769396,
          0.0178834268178325,
          0.1474577105688095,
          -0.1348775424841646,
          0.0782230725382311,
          0.3089707604982569,
          0.498237253711186,
          0.2612245233490941,
          0.0602919349749172,
          -0.0396678116841222,
          -0.0890486489481627,
          0.1610021728669779,
          0.3521435538083298,
          0.0643640813299178,
          0.4911609322412971,
          0.1778940367914992,
          -0.1120735302282566,
          0.4349255754940091,
          0.6329550831271656,
          0.1342208502827997,
          0.0165115281145569,
          0.0447316726620725,
          -0.1756726895913882,
          0.0936647409004678,
          -0.1126902439062616,
          0.6892674982189435,
          0.4546964989118153,
          0.4375697535587495,
          -0.2128180963964073,
          -0.2101787122192861,
          0.2930499384150085,
          -0.0249417514568728,
          -0.0036649951292891,
          -0.1378760946632146,
          0.5591893949544959,
          0.5530372181929237,
          -0.2727936581143877,
          0.452402700362126,
          0.3798533293193596,
          0.5576110017559173,
          0.0788667674076467,
          0.5863484935240915,
          0.534361854364434,
          0.5620576875102559,
          0.0622587129124949,
          0.1652832511254249,
          0.4129486410998899,
          0.5098735209636243,
          -0.0821285153351347,
          0.1886512590307974,
          -0.360481450892285,
          0.1720705953421298,
          -0.0042665245253818,
          0.5198591988380017,
          0.5998701575004795,
          0.2480529220179874,
          -0.0594994110942167,
          -0.3079273588898335,
          0.4923853358231782,
          0.129782705510436,
          0.0887336733609691,
          0.4225586110403762,
          0.4836747803625135,
          0.1452220953322568,
          -0.0793278713183452,
          0.2618025425447144,
          0.0356826240751985,
          0.255249280329286,
          0.3779647657883731,
          1.00598305304252,
          0.2705661228228609,
          0.6097783246636213,
          0.4397191227724804,
          -0.1015614391187424,
          0.2523740355487223,
          0.2524152315103355,
          0.0344156924165891,
          0.2079576459029001,
          0.3348217836235405,
          0.1431560824028948,
          0.4416990800367322,
          0.002255153138356,
          -0.045842149256198,
          0.4815534623073955,
          0.2894113748193666,
          0.124300899129789,
          0.3084020005437746,
          -0.5087636325136535,
          0.0279412516717338,
          0.3968598674248883,
          0.351236096873541,
          -0.282978069730201,
          -0.0598766193486507,
          0.2038781348227342,
          0.0096079601137091,
          0.4113046683496406,
          0.5231849088615961,
          0.4273241973838336,
          -0.2378717728160121,
          0.109250804987336,
          0.0392819215853088,
          0.1709381396488806
         ],
         "xaxis": "x",
         "y": [
          -0.1004197605552046,
          0.3125670865072203,
          0.4173924915630471,
          0.1180677553063417,
          0.219824894442935,
          0.7416877575839302,
          -0.0590261748916988,
          -0.0768733110202568,
          0.550520813299624,
          -0.0878986988375416,
          -0.1623069326958247,
          0.7841812762989455,
          0.393429691744494,
          0.0901747174781012,
          0.5240830437828741,
          0.3418128105798228,
          0.4150074739989021,
          0.0281025479733005,
          0.151440451377488,
          0.4387329464403288,
          0.4780772721561971,
          0.3023226192594814,
          -0.1508033508871246,
          0.0291913278078867,
          0.1574439748417684,
          0.1651838488583002,
          0.2259716403203119,
          -0.0835135191392428,
          0.4501344751136528,
          -0.2493906352385495,
          0.0823075428271016,
          -0.055478727983963,
          0.0218966673784839,
          0.5874876784838855,
          0.0076904630027907,
          0.504230742897507,
          0.0283644550980438,
          0.1731809236455765,
          0.0231826350926714,
          0.2812102961413878,
          0.3876529156039188,
          0.3618250812254294,
          0.1715270606882925,
          0.7482124212683734,
          -0.1353278108463471,
          0.2689708363013626,
          0.4086585648860734,
          0.1319924324326121,
          -0.0122964320473292,
          -0.1918944904079216,
          0.6255383170628848,
          0.121338579713909,
          0.4766024850204214,
          0.0842627452043998,
          0.0478352282387359,
          -0.1461957471020953,
          -0.0847463905304956,
          0.1780126371166302,
          0.385453431090078,
          0.2967455408957819,
          0.2492216749587303,
          0.5243622169950055,
          0.2492866215952824,
          0.0738242875029979,
          0.156839428108769,
          0.3382598515459059,
          0.5983515190711999,
          0.2502675326735845,
          0.1563606416203328,
          0.3046341045681426,
          0.0642896476703436,
          0.1985231513747073,
          -0.1926888333620122,
          0.1995226871859179,
          0.0007208738350368,
          -0.0676304658397138,
          0.0708237975184858,
          0.1919609879046118,
          -0.1921957163122254,
          0.176896077915506,
          0.2847183550931275,
          -0.0553354989871353,
          0.172880440434386,
          0.6559893204012818,
          -0.2761629873793093,
          0.4025326717648096,
          -0.1120117264780433,
          -0.0567401843426297,
          0.2927178733932921,
          -0.4996426635586463,
          -0.0119070010852973,
          -0.3786621516464593,
          -0.0623687645806174,
          -0.2606951695478961,
          0.2311720082322081,
          -0.1378014307419259,
          0.3976751508224669,
          0.1834724937043987,
          -0.1103136162267253,
          0.3262088063061342,
          -0.0248638515453112,
          0.025434499827003,
          0.4216271877015095,
          0.4870390449918484,
          0.2992595154808021,
          0.4291294950384251,
          0.1058334031070523,
          0.2188043030152166,
          0.3857228668794057,
          0.3704581460827894,
          0.1468687863585525,
          0.3233009127611943,
          -0.0175709510998794,
          0.0089770100344263,
          0.1749554972353473,
          0.5200705547559482,
          0.2985947644794656,
          0.3115490190736949,
          -0.1674128290138508,
          -0.2774641481613216,
          0.3487041228419544,
          0.5936497769181759,
          -0.0869595332834226,
          0.1949532257909015,
          0.1773845098637687,
          0.1567863989686755,
          -0.2410576963917837,
          0.3726304637318324,
          0.3604457743845868,
          0.316943134960839,
          0.1299416094163226,
          0.1454364776592905,
          0.2095773458012144,
          -0.3663788034660822,
          -0.0189860216627744,
          -0.1701286796365323,
          0.6793458549777416,
          0.0291282792424902,
          0.1354702282413153,
          0.3399792594210929,
          0.3335901896382303,
          -0.1111282938250298,
          0.1259869649605779,
          0.1798078958721832,
          0.5715810689218266,
          0.2637128015681318,
          0.1090391778757405,
          0.2088636788570379,
          0.4780290511293489,
          -0.191222314568497,
          0.4855844628813916,
          0.2192312023104671,
          -0.3820854268546694,
          0.2584286033162671,
          -0.1345273274015007,
          0.4256241936250171,
          0.4837376916600282,
          -0.32734060644918,
          0.4808595184770905,
          -0.0325594139288704,
          -0.060226034382069,
          0.2686406565053522,
          0.4264564764248254,
          0.2382896690389374,
          0.3177252350640214,
          -0.1359807036550187,
          0.1350229009207947,
          0.1842311456141972,
          0.4449784807466562,
          0.2258642025029641,
          0.5851300259923382,
          0.3827747646741931,
          0.7564142401195102,
          0.1401471226150669,
          0.4265645789354041,
          0.2088931662005445,
          -0.2082810675037363,
          0.1721513622660796,
          -0.0762839949638973,
          0.4498890309335891,
          -0.2201249566075386,
          -0.045576274609679,
          0.0428225871492375,
          -0.236248156395805,
          0.4300102428117247,
          0.4713728859012063,
          0.1574269481774059,
          0.1123457330520247,
          0.2368238456252434,
          -0.0322282915529688,
          0.1876833399151577,
          0.2873122434139901,
          0.5016738341701059,
          0.4944985340709696,
          0.4836050930349518,
          0.1598444100678751,
          0.3023447750187282,
          0.2065981754871657,
          0.1070596828761944,
          0.4534623922306907,
          0.239937782810115,
          0.2357445310787216,
          0.3283976494411682,
          0.1424580614323859,
          -0.0292607730766159,
          0.2794513097096518,
          0.417989684831285,
          0.5480079926979697,
          0.3583784763216289,
          0.2505651379647089,
          0.2868435158230226,
          0.1159869770313984,
          0.1125342711505539,
          -0.1721958290079176,
          0.0765517763617925,
          0.0839401919411671,
          0.108227799537025,
          0.1902433647563051,
          0.5457206260400768,
          0.3968177514786783,
          -0.1087863685326721,
          0.0601081839791018,
          0.4012231855500378,
          0.2945010378453551,
          -0.0758205124397857,
          -0.0390232670316146,
          0.0478029737841631,
          0.2718404284945085,
          0.6557105748406955,
          -0.1553815606487429,
          0.0313530992184265,
          0.2717957436354432,
          0.2875065604696813,
          -0.014853501470276,
          0.70210329152986,
          0.265546069849092,
          0.3498200861127849,
          0.0822947553067136,
          -0.0907388669823844,
          -0.0589753349180726,
          -0.0053080375118501,
          0.4177572596714299,
          -0.0924790895489898,
          0.2405045717023875,
          0.1323380920244946,
          -0.1347761221356768,
          -0.2900188606185712,
          0.5227122657603371,
          0.4459977844222148,
          0.0584614136182841,
          0.7535942550329047,
          0.648269106967291,
          0.8137601410762973,
          1.4013701743346314,
          0.9101957133028736,
          1.0041980329403724,
          0.7658812990070938,
          1.0609560847973225,
          1.309703886569114,
          0.9851743872900438,
          1.3109259395586468,
          0.7069339764178331,
          1.471787453919589,
          0.7468247418515159,
          0.7499498897691252,
          0.9639843020430308,
          1.0792330036305666,
          0.746817748418515,
          0.860331101287372,
          0.7535704481701757,
          0.8293919915480176,
          0.5881229112858022,
          1.2502461562081122,
          1.3227014424741528,
          0.9605488216006124,
          0.5561629133044628,
          0.8297974009006381,
          0.9597129207839196,
          1.0120154908041,
          0.861412061398271,
          0.7540709744700159,
          0.5675583938765987,
          1.2738071540926728,
          1.0794969579137628,
          0.7716910455875223,
          1.1103241242729738,
          0.5459602166479396,
          0.671670586077247,
          0.7764959298414119,
          0.5323174701958822,
          0.7909610293897369,
          1.064234394650565,
          0.812952070734754,
          0.8551919665070402,
          0.9481113832020182,
          0.9182749520796192,
          1.2137395094943184,
          1.094074815919886,
          0.9360945483076448,
          1.0392073237913146,
          1.2561353349968445,
          1.181801531202448,
          1.1995487596437178,
          0.5131093389522131,
          0.6995445355559519,
          0.8957045724870663,
          0.914472993353894,
          1.079806815480226,
          0.7024593812363513,
          0.9159338706812792,
          1.025334452710792,
          0.7232447480104875,
          0.7817886286488904,
          0.9791084427316572,
          0.8411984626744843,
          0.8227062067444977,
          1.0015908226155037,
          1.274293190372404,
          1.2817306976121456,
          1.426673729432702,
          0.9052772655959626,
          1.0104375462064072,
          0.6945270038719107,
          0.5339975622043838,
          1.1482482252634232,
          1.4908122909725612,
          0.8643987119467518,
          0.8114931007794556,
          0.7440802917924766,
          0.6964611347875969,
          0.8846917875882415,
          1.1134592609959086,
          0.7897631342761594,
          0.7641843927955083,
          0.5212816641674755,
          1.3097133831181598,
          0.6887231640166486,
          0.8131083198684395,
          0.7795997799933517,
          0.995423096779408,
          0.5928816200787606,
          0.7434302980803299,
          0.501033497828278,
          0.8298209885315712,
          0.5361994988982834,
          1.0110240212057804,
          0.8330526294275877,
          0.5938674355983764,
          0.735043710789112,
          0.8202572812996344,
          0.6627501367678225,
          0.6709969870227758,
          0.874248282410471,
          0.4323301172942441,
          0.7821339335541404,
          0.7447024828153055,
          0.720201156799006,
          1.2263918510178118,
          0.4636872608821674,
          0.6104264671213475,
          0.9639493919343792,
          1.2096444147649226,
          0.8911042977400587,
          0.7051033987774705,
          1.1875749146559706,
          0.84883180635884,
          0.520438473619738,
          0.89104228764023,
          0.6283150617506452,
          0.8180888625254664,
          0.534018312602798,
          0.9453053836669404,
          0.9948581705169216,
          0.9758598132917926,
          1.0010179278557778,
          1.0024261750569092,
          1.4875815243846766,
          1.0198968125151455,
          0.7927190834810445,
          0.6995004983105845,
          0.6782282331315722,
          1.0534189090137651,
          1.5042165363139488,
          0.6812805413261467,
          0.636218776469174,
          0.976128339182604,
          0.5875330953141638,
          0.8632372599987099,
          0.8032712877611157,
          1.141651840533496,
          1.1881920327356277,
          0.8480321505695309,
          1.5844887510071095,
          0.8071401980858899,
          0.8159875605837491,
          1.3133678733009362,
          0.9582091394868576,
          0.8148906769867027,
          0.8419011006225277,
          0.4830846628198447,
          1.0203707511238806,
          0.9943394433052988,
          0.479942065606363,
          0.5839487039582085,
          0.7821558307017371,
          0.698370615177766,
          0.9984984873335,
          0.4812202639000378,
          1.1272638817732137,
          0.5144315198533449,
          1.3366030267877582,
          0.7375563364204929,
          1.4291260236973522,
          1.1404556735694542,
          0.5191438670556967,
          1.4092450983918754,
          1.1460277141498014,
          1.0327877439866526,
          1.315335352632364,
          0.5895172935708197,
          1.2982457658680808,
          0.6701506808530433,
          0.4610756812408789,
          1.0317955429850842,
          0.4223758088271271,
          0.8144717582470213,
          1.1536909888413498,
          0.6861994062780412,
          0.7655233783942121,
          1.453147532865286,
          1.247637448182482,
          0.6673818442590441,
          0.5260568340171283,
          0.6292997035880528,
          1.1703619655068325,
          1.2996237891672209,
          0.9345602004791648,
          0.9059249058202938,
          0.8572630239606837,
          0.8827301417931568,
          1.0459917707383766,
          1.190924443255669,
          0.5385552937897176,
          0.9964524690225096,
          0.8366819979765889,
          1.023864995589383,
          0.5189389366233441,
          0.6252504764619904,
          0.7963813278403186,
          1.033413240503621,
          0.9453146435419828,
          1.021516224707442,
          1.0873243361833942,
          0.7881869181169135,
          1.0642845593618673,
          0.9508959293757911,
          1.0657209487885635,
          0.4773220652839151,
          0.7285723068429828,
          1.2516214213960857,
          0.9288459546835328,
          1.061638275270759,
          0.4418230190678117,
          1.0593408664010036,
          0.8252557573958892,
          0.6176021914574674,
          1.030243661357683,
          1.3724533788881823,
          0.8230620613376284,
          0.9471597419030588,
          0.863095958619016,
          1.326355374554983,
          1.1337773214749625,
          0.918315513021028,
          0.7814262385054946,
          1.1845803646893691,
          1.1403693972542206,
          1.3694123928701614,
          0.8566303725401481,
          0.6974744831609985,
          0.8233769672257101,
          0.7269612511087684,
          0.8000317295519634,
          0.985712949553024,
          0.6579335829963066,
          0.95778135376319,
          1.0925559439098245,
          0.7637808567278801,
          0.7108668918069778,
          0.7736993308300286,
          0.8788756341139663,
          1.066086440476485,
          0.7724039248025238,
          0.7531169854619135,
          0.9800501938453764,
          1.2208158058982914,
          1.1112491738343684,
          0.8571750096592587,
          1.2538645877326302,
          1.1012961068617142
         ],
         "yaxis": "y"
        },
        {
         "marker": {
          "color": "Green",
          "size": 15,
          "symbol": "x"
         },
         "mode": "markers",
         "type": "scatter",
         "x": [
          1.1928591125867567,
          0.17778860369263239
         ],
         "y": [
          0.18145611956065327,
          0.9035088808842218
         ]
        }
       ],
       "layout": {
        "coloraxis": {
         "colorbar": {
          "title": {
           "text": "distance_norm"
          }
         },
         "colorscale": [
          [
           0,
           "rgb(20,44,66)"
          ],
          [
           1,
           "rgb(90,179,244)"
          ]
         ]
        },
        "legend": {
         "tracegroupgap": 0
        },
        "margin": {
         "t": 60
        },
        "template": {
         "data": {
          "bar": [
           {
            "error_x": {
             "color": "rgb(51,51,51)"
            },
            "error_y": {
             "color": "rgb(51,51,51)"
            },
            "marker": {
             "line": {
              "color": "rgb(237,237,237)",
              "width": 0.5
             },
             "pattern": {
              "fillmode": "overlay",
              "size": 10,
              "solidity": 0.2
             }
            },
            "type": "bar"
           }
          ],
          "barpolar": [
           {
            "marker": {
             "line": {
              "color": "rgb(237,237,237)",
              "width": 0.5
             },
             "pattern": {
              "fillmode": "overlay",
              "size": 10,
              "solidity": 0.2
             }
            },
            "type": "barpolar"
           }
          ],
          "carpet": [
           {
            "aaxis": {
             "endlinecolor": "rgb(51,51,51)",
             "gridcolor": "white",
             "linecolor": "white",
             "minorgridcolor": "white",
             "startlinecolor": "rgb(51,51,51)"
            },
            "baxis": {
             "endlinecolor": "rgb(51,51,51)",
             "gridcolor": "white",
             "linecolor": "white",
             "minorgridcolor": "white",
             "startlinecolor": "rgb(51,51,51)"
            },
            "type": "carpet"
           }
          ],
          "choropleth": [
           {
            "colorbar": {
             "outlinewidth": 0,
             "tickcolor": "rgb(237,237,237)",
             "ticklen": 6,
             "ticks": "inside"
            },
            "type": "choropleth"
           }
          ],
          "contour": [
           {
            "colorbar": {
             "outlinewidth": 0,
             "tickcolor": "rgb(237,237,237)",
             "ticklen": 6,
             "ticks": "inside"
            },
            "colorscale": [
             [
              0,
              "rgb(20,44,66)"
             ],
             [
              1,
              "rgb(90,179,244)"
             ]
            ],
            "type": "contour"
           }
          ],
          "contourcarpet": [
           {
            "colorbar": {
             "outlinewidth": 0,
             "tickcolor": "rgb(237,237,237)",
             "ticklen": 6,
             "ticks": "inside"
            },
            "type": "contourcarpet"
           }
          ],
          "heatmap": [
           {
            "colorbar": {
             "outlinewidth": 0,
             "tickcolor": "rgb(237,237,237)",
             "ticklen": 6,
             "ticks": "inside"
            },
            "colorscale": [
             [
              0,
              "rgb(20,44,66)"
             ],
             [
              1,
              "rgb(90,179,244)"
             ]
            ],
            "type": "heatmap"
           }
          ],
          "heatmapgl": [
           {
            "colorbar": {
             "outlinewidth": 0,
             "tickcolor": "rgb(237,237,237)",
             "ticklen": 6,
             "ticks": "inside"
            },
            "colorscale": [
             [
              0,
              "rgb(20,44,66)"
             ],
             [
              1,
              "rgb(90,179,244)"
             ]
            ],
            "type": "heatmapgl"
           }
          ],
          "histogram": [
           {
            "marker": {
             "pattern": {
              "fillmode": "overlay",
              "size": 10,
              "solidity": 0.2
             }
            },
            "type": "histogram"
           }
          ],
          "histogram2d": [
           {
            "colorbar": {
             "outlinewidth": 0,
             "tickcolor": "rgb(237,237,237)",
             "ticklen": 6,
             "ticks": "inside"
            },
            "colorscale": [
             [
              0,
              "rgb(20,44,66)"
             ],
             [
              1,
              "rgb(90,179,244)"
             ]
            ],
            "type": "histogram2d"
           }
          ],
          "histogram2dcontour": [
           {
            "colorbar": {
             "outlinewidth": 0,
             "tickcolor": "rgb(237,237,237)",
             "ticklen": 6,
             "ticks": "inside"
            },
            "colorscale": [
             [
              0,
              "rgb(20,44,66)"
             ],
             [
              1,
              "rgb(90,179,244)"
             ]
            ],
            "type": "histogram2dcontour"
           }
          ],
          "mesh3d": [
           {
            "colorbar": {
             "outlinewidth": 0,
             "tickcolor": "rgb(237,237,237)",
             "ticklen": 6,
             "ticks": "inside"
            },
            "type": "mesh3d"
           }
          ],
          "parcoords": [
           {
            "line": {
             "colorbar": {
              "outlinewidth": 0,
              "tickcolor": "rgb(237,237,237)",
              "ticklen": 6,
              "ticks": "inside"
             }
            },
            "type": "parcoords"
           }
          ],
          "pie": [
           {
            "automargin": true,
            "type": "pie"
           }
          ],
          "scatter": [
           {
            "fillpattern": {
             "fillmode": "overlay",
             "size": 10,
             "solidity": 0.2
            },
            "type": "scatter"
           }
          ],
          "scatter3d": [
           {
            "line": {
             "colorbar": {
              "outlinewidth": 0,
              "tickcolor": "rgb(237,237,237)",
              "ticklen": 6,
              "ticks": "inside"
             }
            },
            "marker": {
             "colorbar": {
              "outlinewidth": 0,
              "tickcolor": "rgb(237,237,237)",
              "ticklen": 6,
              "ticks": "inside"
             }
            },
            "type": "scatter3d"
           }
          ],
          "scattercarpet": [
           {
            "marker": {
             "colorbar": {
              "outlinewidth": 0,
              "tickcolor": "rgb(237,237,237)",
              "ticklen": 6,
              "ticks": "inside"
             }
            },
            "type": "scattercarpet"
           }
          ],
          "scattergeo": [
           {
            "marker": {
             "colorbar": {
              "outlinewidth": 0,
              "tickcolor": "rgb(237,237,237)",
              "ticklen": 6,
              "ticks": "inside"
             }
            },
            "type": "scattergeo"
           }
          ],
          "scattergl": [
           {
            "marker": {
             "colorbar": {
              "outlinewidth": 0,
              "tickcolor": "rgb(237,237,237)",
              "ticklen": 6,
              "ticks": "inside"
             }
            },
            "type": "scattergl"
           }
          ],
          "scattermapbox": [
           {
            "marker": {
             "colorbar": {
              "outlinewidth": 0,
              "tickcolor": "rgb(237,237,237)",
              "ticklen": 6,
              "ticks": "inside"
             }
            },
            "type": "scattermapbox"
           }
          ],
          "scatterpolar": [
           {
            "marker": {
             "colorbar": {
              "outlinewidth": 0,
              "tickcolor": "rgb(237,237,237)",
              "ticklen": 6,
              "ticks": "inside"
             }
            },
            "type": "scatterpolar"
           }
          ],
          "scatterpolargl": [
           {
            "marker": {
             "colorbar": {
              "outlinewidth": 0,
              "tickcolor": "rgb(237,237,237)",
              "ticklen": 6,
              "ticks": "inside"
             }
            },
            "type": "scatterpolargl"
           }
          ],
          "scatterternary": [
           {
            "marker": {
             "colorbar": {
              "outlinewidth": 0,
              "tickcolor": "rgb(237,237,237)",
              "ticklen": 6,
              "ticks": "inside"
             }
            },
            "type": "scatterternary"
           }
          ],
          "surface": [
           {
            "colorbar": {
             "outlinewidth": 0,
             "tickcolor": "rgb(237,237,237)",
             "ticklen": 6,
             "ticks": "inside"
            },
            "colorscale": [
             [
              0,
              "rgb(20,44,66)"
             ],
             [
              1,
              "rgb(90,179,244)"
             ]
            ],
            "type": "surface"
           }
          ],
          "table": [
           {
            "cells": {
             "fill": {
              "color": "rgb(237,237,237)"
             },
             "line": {
              "color": "white"
             }
            },
            "header": {
             "fill": {
              "color": "rgb(217,217,217)"
             },
             "line": {
              "color": "white"
             }
            },
            "type": "table"
           }
          ]
         },
         "layout": {
          "annotationdefaults": {
           "arrowhead": 0,
           "arrowwidth": 1
          },
          "autotypenumbers": "strict",
          "coloraxis": {
           "colorbar": {
            "outlinewidth": 0,
            "tickcolor": "rgb(237,237,237)",
            "ticklen": 6,
            "ticks": "inside"
           }
          },
          "colorscale": {
           "sequential": [
            [
             0,
             "rgb(20,44,66)"
            ],
            [
             1,
             "rgb(90,179,244)"
            ]
           ],
           "sequentialminus": [
            [
             0,
             "rgb(20,44,66)"
            ],
            [
             1,
             "rgb(90,179,244)"
            ]
           ]
          },
          "colorway": [
           "#F8766D",
           "#A3A500",
           "#00BF7D",
           "#00B0F6",
           "#E76BF3"
          ],
          "font": {
           "color": "rgb(51,51,51)"
          },
          "geo": {
           "bgcolor": "white",
           "lakecolor": "white",
           "landcolor": "rgb(237,237,237)",
           "showlakes": true,
           "showland": true,
           "subunitcolor": "white"
          },
          "hoverlabel": {
           "align": "left"
          },
          "hovermode": "closest",
          "paper_bgcolor": "white",
          "plot_bgcolor": "rgb(237,237,237)",
          "polar": {
           "angularaxis": {
            "gridcolor": "white",
            "linecolor": "white",
            "showgrid": true,
            "tickcolor": "rgb(51,51,51)",
            "ticks": "outside"
           },
           "bgcolor": "rgb(237,237,237)",
           "radialaxis": {
            "gridcolor": "white",
            "linecolor": "white",
            "showgrid": true,
            "tickcolor": "rgb(51,51,51)",
            "ticks": "outside"
           }
          },
          "scene": {
           "xaxis": {
            "backgroundcolor": "rgb(237,237,237)",
            "gridcolor": "white",
            "gridwidth": 2,
            "linecolor": "white",
            "showbackground": true,
            "showgrid": true,
            "tickcolor": "rgb(51,51,51)",
            "ticks": "outside",
            "zerolinecolor": "white"
           },
           "yaxis": {
            "backgroundcolor": "rgb(237,237,237)",
            "gridcolor": "white",
            "gridwidth": 2,
            "linecolor": "white",
            "showbackground": true,
            "showgrid": true,
            "tickcolor": "rgb(51,51,51)",
            "ticks": "outside",
            "zerolinecolor": "white"
           },
           "zaxis": {
            "backgroundcolor": "rgb(237,237,237)",
            "gridcolor": "white",
            "gridwidth": 2,
            "linecolor": "white",
            "showbackground": true,
            "showgrid": true,
            "tickcolor": "rgb(51,51,51)",
            "ticks": "outside",
            "zerolinecolor": "white"
           }
          },
          "shapedefaults": {
           "fillcolor": "black",
           "line": {
            "width": 0
           },
           "opacity": 0.3
          },
          "ternary": {
           "aaxis": {
            "gridcolor": "white",
            "linecolor": "white",
            "showgrid": true,
            "tickcolor": "rgb(51,51,51)",
            "ticks": "outside"
           },
           "baxis": {
            "gridcolor": "white",
            "linecolor": "white",
            "showgrid": true,
            "tickcolor": "rgb(51,51,51)",
            "ticks": "outside"
           },
           "bgcolor": "rgb(237,237,237)",
           "caxis": {
            "gridcolor": "white",
            "linecolor": "white",
            "showgrid": true,
            "tickcolor": "rgb(51,51,51)",
            "ticks": "outside"
           }
          },
          "xaxis": {
           "automargin": true,
           "gridcolor": "white",
           "linecolor": "white",
           "showgrid": true,
           "tickcolor": "rgb(51,51,51)",
           "ticks": "outside",
           "title": {
            "standoff": 15
           },
           "zerolinecolor": "white"
          },
          "yaxis": {
           "automargin": true,
           "gridcolor": "white",
           "linecolor": "white",
           "showgrid": true,
           "tickcolor": "rgb(51,51,51)",
           "ticks": "outside",
           "title": {
            "standoff": 15
           },
           "zerolinecolor": "white"
          }
         }
        },
        "xaxis": {
         "anchor": "y",
         "domain": [
          0,
          1
         ],
         "title": {
          "text": "x"
         }
        },
        "yaxis": {
         "anchor": "x",
         "domain": [
          0,
          1
         ],
         "title": {
          "text": "y"
         }
        }
       }
      }
     },
     "metadata": {},
     "output_type": "display_data"
    }
   ],
   "source": [
    "import plotly.io as pio\n",
    "\n",
    "# Set the template to \"ggplot\"\n",
    "pio.templates.default = \"ggplot2\"\n",
    "\n",
    "# Your existing code for creating the scatter plot\n",
    "fig = px.scatter(df, x=\"x\", y=\"y\", color=\"distance_norm\")\n",
    "\n",
    "# Add the centroids\n",
    "fig.add_scatter(x=kmeans.cluster_centers_[:, 0],\n",
    "                y=kmeans.cluster_centers_[:, 1],\n",
    "                mode=\"markers\",\n",
    "                marker=dict(symbol=\"x\", size=15, color=\"Green\"))\n",
    "\n",
    "# Show the plot\n",
    "fig.show()"
   ]
  },
  {
   "cell_type": "markdown",
   "metadata": {},
   "source": [
    "# Rule scoring"
   ]
  },
  {
   "cell_type": "code",
   "execution_count": 4,
   "metadata": {},
   "outputs": [],
   "source": [
    "# def filter_by_rule(df, rule_lambda, lower_confidence_by_proportion=LOWER_CONFIDENCE_BY_PROPORTION,\n",
    "#                    only_plot=False):\n",
    "#     \"\"\"\n",
    "#     Filters a DataFrame based on a given rule lambda function and calculates the confidence score.\n",
    "\n",
    "#     Note:\n",
    "#         The confidence score is calculated as the average distance to the centroid of the most common cluster.\n",
    "#         If the data points belong to the same cluster, the confidence score is the average distance to the centroid.\n",
    "#         If the data points belong to different clusters, the confidence score is the average distance to the centroid of the most common cluster.\n",
    "#         If the confidence score is lowered by proportion, the confidence score is multiplied by the proportion of data points in the most common cluster.\n",
    "\n",
    "#         Since the closer the data points are to the centroid, the better, the confidence score is calculated as 1 - ... \n",
    "#     Args:\n",
    "#         df (pd.DataFrame): The input DataFrame to filter.\n",
    "#         rule_lambda (function): A lambda function that defines the filtering rule.\n",
    "#         lower_confidence_by_proportion (bool, optional): Whether to lower the confidence score by proportion. \n",
    "#             Defaults to True.\n",
    "#         only_plot (bool, optional): Whether to to only plot the data. Defaults to False.\n",
    "        \n",
    "#     Returns:\n",
    "#         tuple: A tuple containing the filtered DataFrame and the confidence score.\n",
    "\n",
    "#     Example:\n",
    "#         filter_by_rule(df, lambda row: row[\"x\"]>0.5 and row[\"y\"]>0.5)\n",
    "        \n",
    "\n",
    "#     \"\"\"\n",
    "    \n",
    "#     # example is lambda row: row[\"x\"]>0.5 and row[\"y\"]>0.5\n",
    "#     df[\"rule_applies\"] = df.apply(rule_lambda, axis=1)\n",
    "    \n",
    "#     df_rule = df[df[\"rule_applies\"]]\n",
    "    \n",
    "#     if df_rule.empty:\n",
    "#         logging.info(\"No data points left after filtering\")\n",
    "#         return df\n",
    "    \n",
    "#     if only_plot:\n",
    "#         fig = px.scatter(df, x=\"x\", y=\"y\", color=\"rule_applies\")\n",
    "#         fig = add_centroids(fig, kmeans)\n",
    "#         fig.show()\n",
    "#         return fig \n",
    "    \n",
    "#     num_labels = df_rule[\"labels_clustering\"].nunique()\n",
    "    \n",
    "#     logging.info(f\"Number of data points left after filtering: {len(df_rule)}\")\n",
    "#     logging.info(f\"Number of clusters left after filtering: {num_labels}\")  \n",
    "    \n",
    "#     if df_rule[\"labels_clustering\"].nunique() == 1:\n",
    "#         logging.info(\"All data points belong to the same cluster\")\n",
    "#         confidence = df_rule[\"distance_norm\"].mean()\n",
    "        \n",
    "#         logging.info(f\"Confidence: {confidence}\")\n",
    "#     else:\n",
    "#         logging.info(\"Data points belong to different clusters\")\n",
    "#         # most common cluster\n",
    "#         most_common_cluster = df_rule[\"labels_clustering\"].mode().values[0]\n",
    "#         logging.info(f\"Most common cluster: {most_common_cluster}\")\n",
    "        \n",
    "#         # confidence\n",
    "#         confidence = df_rule[df_rule[\"labels_clustering\"] == most_common_cluster][\"distance_norm\"].mean()\n",
    "#         logging.info(f\"Confidence: {confidence}\")\n",
    "        \n",
    "#         if lower_confidence_by_proportion:\n",
    "#             # num of data points in most common cluster\n",
    "#             num_points = len(df_rule[df_rule[\"labels_clustering\"] == most_common_cluster])\n",
    "#             # proportion of data points in most common cluster\n",
    "#             proportion = num_points / len(df_rule)\n",
    "            \n",
    "#             confidence = confidence * proportion\n",
    "#             logging.info(f\"Confidence after lowering based on proportion: {confidence}\")\n",
    "            \n",
    "#     return df, 1 - confidence\n"
   ]
  },
  {
   "cell_type": "code",
   "execution_count": 5,
   "metadata": {},
   "outputs": [
    {
     "ename": "NameError",
     "evalue": "name 'df_okay' is not defined",
     "output_type": "error",
     "traceback": [
      "\u001b[1;31m---------------------------------------------------------------------------\u001b[0m",
      "\u001b[1;31mNameError\u001b[0m                                 Traceback (most recent call last)",
      "Cell \u001b[1;32mIn[5], line 1\u001b[0m\n\u001b[1;32m----> 1\u001b[0m d, conf \u001b[38;5;241m=\u001b[39m filter_by_rule(\u001b[43mdf_okay\u001b[49m, \u001b[38;5;28;01mlambda\u001b[39;00m row: \u001b[38;5;241m0.2\u001b[39m\u001b[38;5;241m<\u001b[39mrow[\u001b[38;5;124m\"\u001b[39m\u001b[38;5;124mx\u001b[39m\u001b[38;5;124m\"\u001b[39m]\u001b[38;5;241m<\u001b[39m\u001b[38;5;241m0.3\u001b[39m \u001b[38;5;129;01mand\u001b[39;00m \u001b[38;5;241m0.5\u001b[39m\u001b[38;5;241m<\u001b[39mrow[\u001b[38;5;124m\"\u001b[39m\u001b[38;5;124my\u001b[39m\u001b[38;5;124m\"\u001b[39m]\u001b[38;5;241m<\u001b[39m\u001b[38;5;241m1\u001b[39m)\n\u001b[0;32m      3\u001b[0m fig \u001b[38;5;241m=\u001b[39m px\u001b[38;5;241m.\u001b[39mscatter(d, x\u001b[38;5;241m=\u001b[39m\u001b[38;5;124m\"\u001b[39m\u001b[38;5;124mx\u001b[39m\u001b[38;5;124m\"\u001b[39m, y\u001b[38;5;241m=\u001b[39m\u001b[38;5;124m\"\u001b[39m\u001b[38;5;124my\u001b[39m\u001b[38;5;124m\"\u001b[39m, color\u001b[38;5;241m=\u001b[39m\u001b[38;5;124m\"\u001b[39m\u001b[38;5;124mrule_applies\u001b[39m\u001b[38;5;124m\"\u001b[39m)\n\u001b[0;32m      5\u001b[0m fig \u001b[38;5;241m=\u001b[39m add_centroids(fig, kmeans)\n",
      "\u001b[1;31mNameError\u001b[0m: name 'df_okay' is not defined"
     ]
    }
   ],
   "source": [
    "d, conf = filter_by_rule(df_okay, lambda row: 0.2<row[\"x\"]<0.3 and 0.5<row[\"y\"]<1)\n",
    "\n",
    "fig = px.scatter(d, x=\"x\", y=\"y\", color=\"rule_applies\")\n",
    "\n",
    "fig = add_centroids(fig, kmeans)\n",
    "\n",
    "fig"
   ]
  },
  {
   "cell_type": "code",
   "execution_count": null,
   "metadata": {},
   "outputs": [
    {
     "name": "stderr",
     "output_type": "stream",
     "text": [
      "C:\\Users\\hayk_\\AppData\\Local\\Temp\\ipykernel_15296\\2841469021.py:30: SettingWithCopyWarning:\n",
      "\n",
      "\n",
      "A value is trying to be set on a copy of a slice from a DataFrame.\n",
      "Try using .loc[row_indexer,col_indexer] = value instead\n",
      "\n",
      "See the caveats in the documentation: https://pandas.pydata.org/pandas-docs/stable/user_guide/indexing.html#returning-a-view-versus-a-copy\n",
      "\n",
      "23-Apr-24 19:30:00 [INFO] Number of data points left after filtering: 20\n",
      "23-Apr-24 19:30:00 [INFO] Number of clusters left after filtering: 2\n",
      "23-Apr-24 19:30:00 [INFO] Data points belong to different clusters\n",
      "23-Apr-24 19:30:00 [INFO] Most common cluster: 1\n",
      "23-Apr-24 19:30:00 [INFO] Confidence: 0.7030490123603427\n",
      "23-Apr-24 19:30:00 [INFO] Confidence after lowering based on proportion: 0.45698185803422275\n"
     ]
    },
    {
     "data": {
      "application/vnd.plotly.v1+json": {
       "config": {
        "plotlyServerURL": "https://plot.ly"
       },
       "data": [
        {
         "hovertemplate": "rule_applies=False<br>x=%{x}<br>y=%{y}<extra></extra>",
         "legendgroup": "False",
         "marker": {
          "color": "#636efa",
          "symbol": "circle"
         },
         "mode": "markers",
         "name": "False",
         "orientation": "v",
         "showlegend": true,
         "type": "scatter",
         "x": [
          1.6145799482244692,
          1.0198878249131398,
          1.4939486294662971,
          0.9856136178632046,
          0.6841163971221067,
          1.395998643145414,
          1.2960659280189148,
          1.0219240676239212,
          1.5065508280847817,
          1.4166322200021333,
          0.7140211421419974,
          1.2954496383231495,
          1.2717121069048594,
          1.201792927722572,
          1.2332715247543635,
          1.342343515303241,
          1.5611679803619578,
          1.498484313923762,
          1.4820237911204492,
          1.2334373349446612,
          1.116102531070687,
          1.2961767471928176,
          1.4298860283325694,
          1.1880813722136114,
          0.8076320469923857,
          1.1242920705746426,
          0.9000131703913764,
          1.3489632271828114,
          1.3263652914521191,
          0.950950970892274,
          1.0393754088189513,
          1.176792724822242,
          1.0083115500151691,
          1.345752405529219,
          1.425161516889222,
          1.2993659004063036,
          1.3201458181492511,
          0.9969248475466154,
          0.9327452660054256,
          1.1263734292954006,
          1.25418928956775,
          1.146042539252412,
          0.8062602633986098,
          1.2413703558127622,
          1.2250854900407284,
          1.393504093555371,
          1.2143008248923437,
          1.6210634025223645,
          1.4563896618763204,
          1.3152533089469558,
          1.1145264903698084,
          1.404046803619492,
          1.3666695530963957,
          1.2074605289152065,
          1.587260211607788,
          1.1440240729396496,
          1.077760426330013,
          0.6899101415290608,
          1.1586505889084024,
          1.3933383580248486,
          1.659953267024675,
          1.0975499023307986,
          1.175833483242511,
          1.1151351354307817,
          1.0860213319946856,
          1.2660939509184896,
          0.7449614862277343,
          1.1569807583367104,
          1.367003277877504,
          1.306930141175734,
          1.2450851107271454,
          1.575064477210231,
          1.5894030947706272,
          0.8510303908901009,
          0.9049033636289056,
          1.2161434406665887,
          1.3964603894547447,
          0.9175111521140202,
          1.150836247803542,
          1.7205615285593252,
          1.0112585220596175,
          0.650540290730618,
          1.5670587847045114,
          1.2538632618367953,
          1.3798407016689551,
          1.335698233560099,
          1.328999867522258,
          0.6721726035606655,
          1.1203557501019186,
          1.4944315229998673,
          1.20692551139823,
          1.1732633503294598,
          1.0737940078763788,
          1.1326512606418473,
          1.106576379452496,
          0.7849432113698981,
          1.093131545665016,
          1.1380072911362296,
          1.462267918771933,
          0.9095256395028204,
          1.5428296528470784,
          1.2068707133533056,
          1.2011542186658646,
          1.0822378758137274,
          0.6169595803903515,
          1.3574826272046463,
          1.637777148199294,
          1.1406170909332878,
          1.222883706220367,
          0.8276261175918431,
          1.393395191435315,
          1.18815845221523,
          0.8961404904783237,
          1.0358908847316048,
          1.0098466583327748,
          1.2553255382763362,
          1.3765207620305606,
          1.330978019020279,
          1.483762559265858,
          1.236839781862963,
          0.8367285237064688,
          1.314476098360165,
          1.3152110020065917,
          1.0523498612897366,
          1.3522072605301598,
          0.9867364109853116,
          1.566635970234766,
          1.2248297783686894,
          1.1243504537552704,
          1.152252856291177,
          1.1091024261224829,
          1.089924319621551,
          1.6891559753986185,
          1.1463602255355303,
          1.1319315604423974,
          1.1225532451369922,
          1.542437237606433,
          0.9657979244240752,
          1.297560129644504,
          1.0805858400301458,
          0.9432988808250192,
          1.0812269844594764,
          1.1784210490180715,
          1.3054463001682255,
          1.04376526791522,
          0.6042634210478831,
          1.036495127561534,
          1.0883106255057804,
          0.9206004284842486,
          1.233224607538428,
          1.4504515212320157,
          1.0448147629724625,
          1.7228182546756554,
          1.040533184282958,
          1.4289008183476175,
          1.3101447503738222,
          1.2623462772208784,
          1.030916392085366,
          1.4182446501584571,
          1.2914272956679826,
          1.1659078075591496,
          1.396105332751698,
          1.0733194567390043,
          0.3852130904647678,
          1.5426028103588676,
          1.1605412853486103,
          1.506671051408662,
          1.215306149790501,
          1.3216147942326388,
          0.8929667169075653,
          1.2534886352342791,
          1.2344531678821475,
          0.9899316057422992,
          1.2008422329076638,
          1.2634703029559338,
          0.9982600738167878,
          1.4355354712451232,
          0.9917649732036012,
          0.9699040497211396,
          0.9290658712650072,
          1.2345933904655493,
          1.2163294737385295,
          1.4334158127692982,
          1.4297028070947575,
          1.5721263020162175,
          1.0632081508915303,
          1.412309928623744,
          1.0659784275894475,
          1.5100453543695287,
          1.033745400601351,
          0.9190933963065948,
          0.8130884668044364,
          1.216398341662238,
          1.1024303892179523,
          0.8747203684816478,
          1.241392604874904,
          1.110856436260396,
          0.7591918939673703,
          1.422611031338562,
          1.5771795181834558,
          1.3418261486578116,
          1.1394404521073582,
          1.61498106221736,
          0.9958680474959656,
          1.3444699899308703,
          0.8798342169656045,
          0.6082253503354216,
          1.2762569653458389,
          1.0876418126178913,
          1.259927889626012,
          1.334586217807173,
          1.330375154985018,
          1.0884488204148897,
          0.946680778189372,
          1.121645340315914,
          1.2072340125283316,
          1.460174531093836,
          1.3570218887502992,
          1.1768624359260933,
          1.0019699040677887,
          0.9997650945856298,
          1.4275047002139656,
          1.4969310090205503,
          0.8726560891847557,
          1.2167920687901663,
          1.398887335591314,
          1.2990837004599594,
          1.1480752907929272,
          1.3650058728316377,
          1.25976480907293,
          1.67526933073356,
          1.3005044650877076,
          0.948487466322198,
          1.4069637091552123,
          1.2848241921602144,
          0.9047750642714358,
          1.2782262141948837,
          1.1263542972671514,
          1.598657170566149,
          1.1285240492530069,
          0.0025276715630145,
          0.3504978583328243,
          0.1980823154497814,
          0.1334308393463489,
          0.4124999285781252,
          0.4958799906716703,
          -0.0920696546483252,
          0.2894176646739417,
          -0.1137971730244505,
          0.0659355031565553,
          0.289666317135313,
          0.0638647581503333,
          0.0895092205144591,
          0.2624298845971226,
          0.5603358585888762,
          0.1637035036289473,
          -0.130972300039054,
          0.3536509632275554,
          -0.0412113041396037,
          0.3020673474067409,
          0.2090193150946696,
          0.0699012780433583,
          0.1405711717755924,
          -0.3453064452655607,
          0.2324206874360412,
          0.1183327557736229,
          0.518844553984787,
          0.2248418462579672,
          0.1718961991368172,
          0.3881440153127286,
          0.101320168027807,
          0.0739325694555269,
          0.1154760836703621,
          -0.0619312439677022,
          0.3815529656781328,
          0.3976838587533743,
          0.1241417645529211,
          0.4776960847080594,
          0.1991287799776078,
          0.3540546500552688,
          -0.2207099081833517,
          -0.057392145144187,
          0.1906019738343278,
          0.1357217744380126,
          -0.1285854055136813,
          0.3030929920114746,
          0.2667738897054428,
          0.3614184868723398,
          0.0161171502101301,
          0.210384398246047,
          0.3139697322915482,
          0.3617917426797078,
          0.0827041750282392,
          0.0100299900865597,
          -0.1374168099706343,
          -0.0959749667097603,
          0.1044961983005849,
          0.4155951288349402,
          0.2903817001719865,
          -0.2045666095126875,
          -0.3491441940522282,
          0.1487246952452183,
          0.440427985393758,
          0.1445532791306406,
          -0.0244523006148957,
          -0.1706969400417177,
          0.3748714793208711,
          -0.1848388615974439,
          0.0335591787993922,
          -0.2194776265524997,
          -0.2022884440680609,
          0.1285844928974477,
          -0.0572513887369223,
          0.1581850648927921,
          0.4168165769576991,
          0.0427512934277158,
          -0.1460142422027855,
          -0.0435692216782596,
          0.4932430292963695,
          -0.1308170669252056,
          -0.2468867012118003,
          0.3151840005227717,
          0.2572731952631421,
          -0.1743218158283004,
          0.4887708938801535,
          0.2364517159183465,
          0.0149266432572096,
          0.1518907038305362,
          0.2752661510890465,
          0.0744210601359361,
          0.0708247664265193,
          0.4540234316102904,
          0.1501669463680384,
          0.2415126482460141,
          -0.1238415323722088,
          -0.0432026237548056,
          0.3553103670848428,
          0.0917068496303415,
          -0.2343641688363238,
          0.2486854813244367,
          -0.0870480011284151,
          0.0041756682114554,
          0.213807521685338,
          0.2214819497441097,
          0.2953917886125334,
          0.156615727739754,
          0.676813643662048,
          0.1332531702764466,
          0.1215313801577133,
          0.3004776535258529,
          0.1464291978833121,
          -0.1983814869720911,
          0.1692374137707744,
          -0.1306151706232486,
          0.1503419335390011,
          -0.0514124821585752,
          -0.3049405619908622,
          -0.0227981507474983,
          0.2713223990750399,
          0.3994097356574219,
          0.4756276344466412,
          0.1248120535369503,
          0.4013804406707222,
          0.4372485658613476,
          -0.0687340409575464,
          0.1067441410620541,
          0.0732394384318035,
          0.0914421545325528,
          0.0307410242797748,
          0.485070833166501,
          -0.0594480042165964,
          -0.1222263778091555,
          -0.0022934764945706,
          0.3849953410844219,
          0.4439785503545304,
          -0.2897824560948329,
          0.2663878256769396,
          0.0178834268178325,
          0.1474577105688095,
          -0.1348775424841646,
          0.0782230725382311,
          0.3089707604982569,
          0.498237253711186,
          0.2612245233490941,
          0.0602919349749172,
          -0.0396678116841222,
          -0.0890486489481627,
          0.1610021728669779,
          0.3521435538083298,
          0.0643640813299178,
          0.4911609322412971,
          0.1778940367914992,
          -0.1120735302282566,
          0.4349255754940091,
          0.6329550831271656,
          0.1342208502827997,
          0.0165115281145569,
          0.0447316726620725,
          -0.1756726895913882,
          0.0936647409004678,
          -0.1126902439062616,
          0.6892674982189435,
          0.4546964989118153,
          0.4375697535587495,
          -0.2128180963964073,
          -0.2101787122192861,
          0.2930499384150085,
          -0.0249417514568728,
          -0.0036649951292891,
          -0.1378760946632146,
          -0.2727936581143877,
          0.452402700362126,
          0.3798533293193596,
          0.0788667674076467,
          0.534361854364434,
          0.5620576875102559,
          0.0622587129124949,
          0.1652832511254249,
          0.4129486410998899,
          0.5098735209636243,
          -0.0821285153351347,
          0.1886512590307974,
          -0.360481450892285,
          0.1720705953421298,
          -0.0042665245253818,
          0.5198591988380017,
          0.5998701575004795,
          0.2480529220179874,
          -0.0594994110942167,
          -0.3079273588898335,
          0.4923853358231782,
          0.129782705510436,
          0.0887336733609691,
          0.4225586110403762,
          0.4836747803625135,
          0.1452220953322568,
          -0.0793278713183452,
          0.2618025425447144,
          0.0356826240751985,
          0.255249280329286,
          0.3779647657883731,
          0.2705661228228609,
          0.4397191227724804,
          -0.1015614391187424,
          0.2523740355487223,
          0.2524152315103355,
          0.0344156924165891,
          0.2079576459029001,
          0.3348217836235405,
          0.1431560824028948,
          0.4416990800367322,
          0.002255153138356,
          -0.045842149256198,
          0.4815534623073955,
          0.2894113748193666,
          0.124300899129789,
          0.3084020005437746,
          0.0279412516717338,
          0.3968598674248883,
          0.351236096873541,
          -0.282978069730201,
          -0.0598766193486507,
          0.2038781348227342,
          0.0096079601137091,
          0.4113046683496406,
          0.4273241973838336,
          -0.2378717728160121,
          0.109250804987336,
          0.0392819215853088,
          0.1709381396488806
         ],
         "xaxis": "x",
         "y": [
          -0.1004197605552046,
          0.3125670865072203,
          0.4173924915630471,
          0.1180677553063417,
          0.219824894442935,
          0.7416877575839302,
          -0.0590261748916988,
          -0.0768733110202568,
          0.550520813299624,
          -0.0878986988375416,
          -0.1623069326958247,
          0.393429691744494,
          0.0901747174781012,
          0.3418128105798228,
          0.4150074739989021,
          0.0281025479733005,
          0.151440451377488,
          0.4387329464403288,
          0.4780772721561971,
          0.3023226192594814,
          -0.1508033508871246,
          0.0291913278078867,
          0.1574439748417684,
          0.1651838488583002,
          0.2259716403203119,
          -0.0835135191392428,
          0.4501344751136528,
          -0.2493906352385495,
          0.0823075428271016,
          -0.055478727983963,
          0.0218966673784839,
          0.5874876784838855,
          0.0076904630027907,
          0.0283644550980438,
          0.1731809236455765,
          0.0231826350926714,
          0.2812102961413878,
          0.3876529156039188,
          0.3618250812254294,
          0.1715270606882925,
          -0.1353278108463471,
          0.2689708363013626,
          0.4086585648860734,
          0.1319924324326121,
          -0.0122964320473292,
          -0.1918944904079216,
          0.6255383170628848,
          0.121338579713909,
          0.4766024850204214,
          0.0842627452043998,
          0.0478352282387359,
          -0.1461957471020953,
          -0.0847463905304956,
          0.1780126371166302,
          0.385453431090078,
          0.2967455408957819,
          0.2492216749587303,
          0.2492866215952824,
          0.0738242875029979,
          0.156839428108769,
          0.3382598515459059,
          0.5983515190711999,
          0.2502675326735845,
          0.1563606416203328,
          0.3046341045681426,
          0.0642896476703436,
          0.1985231513747073,
          -0.1926888333620122,
          0.1995226871859179,
          0.0007208738350368,
          -0.0676304658397138,
          0.0708237975184858,
          0.1919609879046118,
          -0.1921957163122254,
          0.176896077915506,
          0.2847183550931275,
          -0.0553354989871353,
          0.172880440434386,
          -0.2761629873793093,
          0.4025326717648096,
          -0.1120117264780433,
          -0.0567401843426297,
          0.2927178733932921,
          -0.0119070010852973,
          -0.3786621516464593,
          -0.0623687645806174,
          -0.2606951695478961,
          0.2311720082322081,
          -0.1378014307419259,
          0.3976751508224669,
          0.1834724937043987,
          -0.1103136162267253,
          0.3262088063061342,
          -0.0248638515453112,
          0.025434499827003,
          0.4216271877015095,
          0.4870390449918484,
          0.2992595154808021,
          0.4291294950384251,
          0.1058334031070523,
          0.2188043030152166,
          0.3857228668794057,
          0.3704581460827894,
          0.1468687863585525,
          0.3233009127611943,
          -0.0175709510998794,
          0.0089770100344263,
          0.1749554972353473,
          0.2985947644794656,
          0.3115490190736949,
          -0.1674128290138508,
          -0.2774641481613216,
          0.3487041228419544,
          0.5936497769181759,
          -0.0869595332834226,
          0.1949532257909015,
          0.1773845098637687,
          0.1567863989686755,
          -0.2410576963917837,
          0.3726304637318324,
          0.3604457743845868,
          0.316943134960839,
          0.1299416094163226,
          0.1454364776592905,
          0.2095773458012144,
          -0.3663788034660822,
          -0.0189860216627744,
          -0.1701286796365323,
          0.6793458549777416,
          0.0291282792424902,
          0.1354702282413153,
          0.3399792594210929,
          0.3335901896382303,
          -0.1111282938250298,
          0.1259869649605779,
          0.1798078958721832,
          0.5715810689218266,
          0.2637128015681318,
          0.1090391778757405,
          0.2088636788570379,
          0.4780290511293489,
          -0.191222314568497,
          0.4855844628813916,
          0.2192312023104671,
          -0.3820854268546694,
          0.2584286033162671,
          -0.1345273274015007,
          0.4256241936250171,
          0.4837376916600282,
          -0.32734060644918,
          0.4808595184770905,
          -0.0325594139288704,
          -0.060226034382069,
          0.2686406565053522,
          0.4264564764248254,
          0.2382896690389374,
          0.3177252350640214,
          -0.1359807036550187,
          0.1350229009207947,
          0.1842311456141972,
          0.4449784807466562,
          0.2258642025029641,
          0.5851300259923382,
          0.3827747646741931,
          0.1401471226150669,
          0.4265645789354041,
          0.2088931662005445,
          -0.2082810675037363,
          0.1721513622660796,
          -0.0762839949638973,
          0.4498890309335891,
          -0.2201249566075386,
          -0.045576274609679,
          0.0428225871492375,
          -0.236248156395805,
          0.4300102428117247,
          0.4713728859012063,
          0.1574269481774059,
          0.1123457330520247,
          0.2368238456252434,
          -0.0322282915529688,
          0.1876833399151577,
          0.2873122434139901,
          0.5016738341701059,
          0.4944985340709696,
          0.4836050930349518,
          0.1598444100678751,
          0.3023447750187282,
          0.2065981754871657,
          0.1070596828761944,
          0.4534623922306907,
          0.239937782810115,
          0.2357445310787216,
          0.3283976494411682,
          0.1424580614323859,
          -0.0292607730766159,
          0.2794513097096518,
          0.417989684831285,
          0.5480079926979697,
          0.3583784763216289,
          0.2505651379647089,
          0.2868435158230226,
          0.1159869770313984,
          0.1125342711505539,
          -0.1721958290079176,
          0.0765517763617925,
          0.0839401919411671,
          0.108227799537025,
          0.1902433647563051,
          0.5457206260400768,
          0.3968177514786783,
          -0.1087863685326721,
          0.0601081839791018,
          0.4012231855500378,
          0.2945010378453551,
          -0.0758205124397857,
          -0.0390232670316146,
          0.0478029737841631,
          0.2718404284945085,
          0.6557105748406955,
          -0.1553815606487429,
          0.0313530992184265,
          0.2717957436354432,
          0.2875065604696813,
          -0.014853501470276,
          0.70210329152986,
          0.265546069849092,
          0.3498200861127849,
          0.0822947553067136,
          -0.0589753349180726,
          -0.0053080375118501,
          0.4177572596714299,
          -0.0924790895489898,
          0.2405045717023875,
          0.1323380920244946,
          -0.1347761221356768,
          -0.2900188606185712,
          0.5227122657603371,
          0.4459977844222148,
          0.0584614136182841,
          0.7535942550329047,
          0.648269106967291,
          0.8137601410762973,
          1.4013701743346314,
          0.9101957133028736,
          1.0041980329403724,
          0.7658812990070938,
          1.0609560847973225,
          1.309703886569114,
          0.9851743872900438,
          1.3109259395586468,
          1.471787453919589,
          0.7499498897691252,
          0.9639843020430308,
          1.0792330036305666,
          0.746817748418515,
          0.860331101287372,
          0.7535704481701757,
          0.8293919915480176,
          0.5881229112858022,
          1.2502461562081122,
          1.3227014424741528,
          0.9605488216006124,
          0.5561629133044628,
          0.8297974009006381,
          0.9597129207839196,
          1.0120154908041,
          0.861412061398271,
          0.7540709744700159,
          0.5675583938765987,
          1.2738071540926728,
          1.0794969579137628,
          0.7716910455875223,
          1.1103241242729738,
          0.5459602166479396,
          0.671670586077247,
          0.7764959298414119,
          0.5323174701958822,
          0.7909610293897369,
          1.064234394650565,
          0.812952070734754,
          0.8551919665070402,
          0.9481113832020182,
          0.9182749520796192,
          1.2137395094943184,
          1.094074815919886,
          0.9360945483076448,
          1.0392073237913146,
          1.2561353349968445,
          1.181801531202448,
          1.1995487596437178,
          0.5131093389522131,
          0.6995445355559519,
          0.8957045724870663,
          1.079806815480226,
          0.7024593812363513,
          0.9159338706812792,
          0.7232447480104875,
          0.7817886286488904,
          0.9791084427316572,
          0.8411984626744843,
          0.8227062067444977,
          1.0015908226155037,
          1.274293190372404,
          1.2817306976121456,
          1.426673729432702,
          0.9052772655959626,
          1.0104375462064072,
          0.6945270038719107,
          0.5339975622043838,
          1.1482482252634232,
          1.4908122909725612,
          0.7440802917924766,
          0.6964611347875969,
          0.8846917875882415,
          1.1134592609959086,
          0.7897631342761594,
          0.7641843927955083,
          0.5212816641674755,
          1.3097133831181598,
          0.6887231640166486,
          0.8131083198684395,
          0.7795997799933517,
          0.995423096779408,
          0.5928816200787606,
          0.7434302980803299,
          0.8298209885315712,
          0.5361994988982834,
          1.0110240212057804,
          0.8330526294275877,
          0.5938674355983764,
          0.735043710789112,
          0.8202572812996344,
          0.6627501367678225,
          0.6709969870227758,
          0.4323301172942441,
          0.7821339335541404,
          0.7447024828153055,
          0.720201156799006,
          1.2263918510178118,
          0.4636872608821674,
          0.6104264671213475,
          0.9639493919343792,
          1.2096444147649226,
          0.8911042977400587,
          0.7051033987774705,
          1.1875749146559706,
          0.520438473619738,
          0.89104228764023,
          0.6283150617506452,
          0.8180888625254664,
          0.534018312602798,
          0.9453053836669404,
          0.9948581705169216,
          0.9758598132917926,
          1.0010179278557778,
          1.0024261750569092,
          1.4875815243846766,
          1.0198968125151455,
          0.7927190834810445,
          0.6995004983105845,
          0.6782282331315722,
          1.0534189090137651,
          0.6812805413261467,
          0.636218776469174,
          0.976128339182604,
          0.8632372599987099,
          0.8032712877611157,
          1.141651840533496,
          1.1881920327356277,
          0.8480321505695309,
          0.8071401980858899,
          0.8159875605837491,
          1.3133678733009362,
          0.9582091394868576,
          0.8148906769867027,
          0.8419011006225277,
          0.4830846628198447,
          1.0203707511238806,
          0.9943394433052988,
          0.479942065606363,
          0.5839487039582085,
          0.7821558307017371,
          0.698370615177766,
          0.9984984873335,
          0.4812202639000378,
          1.1272638817732137,
          0.5144315198533449,
          1.3366030267877582,
          0.7375563364204929,
          1.4291260236973522,
          1.1404556735694542,
          0.5191438670556967,
          1.4092450983918754,
          1.1460277141498014,
          1.0327877439866526,
          1.315335352632364,
          0.5895172935708197,
          1.2982457658680808,
          0.6701506808530433,
          0.4610756812408789,
          1.0317955429850842,
          0.4223758088271271,
          0.8144717582470213,
          1.1536909888413498,
          0.6861994062780412,
          0.7655233783942121,
          1.453147532865286,
          1.247637448182482,
          0.6673818442590441,
          1.1703619655068325,
          1.2996237891672209,
          0.9345602004791648,
          0.8572630239606837,
          1.0459917707383766,
          1.190924443255669,
          0.5385552937897176,
          0.9964524690225096,
          0.8366819979765889,
          1.023864995589383,
          0.5189389366233441,
          0.6252504764619904,
          0.7963813278403186,
          1.033413240503621,
          0.9453146435419828,
          1.021516224707442,
          1.0873243361833942,
          0.7881869181169135,
          1.0642845593618673,
          0.9508959293757911,
          1.0657209487885635,
          0.4773220652839151,
          0.7285723068429828,
          1.2516214213960857,
          0.9288459546835328,
          1.061638275270759,
          0.4418230190678117,
          1.0593408664010036,
          0.8252557573958892,
          0.6176021914574674,
          1.030243661357683,
          0.8230620613376284,
          0.863095958619016,
          1.326355374554983,
          1.1337773214749625,
          0.918315513021028,
          0.7814262385054946,
          1.1845803646893691,
          1.1403693972542206,
          1.3694123928701614,
          0.8566303725401481,
          0.6974744831609985,
          0.8233769672257101,
          0.7269612511087684,
          0.8000317295519634,
          0.985712949553024,
          0.6579335829963066,
          1.0925559439098245,
          0.7637808567278801,
          0.7108668918069778,
          0.7736993308300286,
          0.8788756341139663,
          1.066086440476485,
          0.7724039248025238,
          0.7531169854619135,
          1.2208158058982914,
          1.1112491738343684,
          0.8571750096592587,
          1.2538645877326302,
          1.1012961068617142
         ],
         "yaxis": "y"
        },
        {
         "hovertemplate": "rule_applies=True<br>x=%{x}<br>y=%{y}<extra></extra>",
         "legendgroup": "True",
         "marker": {
          "color": "#EF553B",
          "symbol": "circle"
         },
         "mode": "markers",
         "name": "True",
         "orientation": "v",
         "showlegend": true,
         "type": "scatter",
         "x": [
          0.8616568674937184,
          0.9532631813686702,
          0.9358271786311738,
          0.9789970696869472,
          0.817690816574487,
          0.8966854967926112,
          0.6279327775338992,
          0.6474039227723662,
          0.6385841977413649,
          0.7674652827774138,
          0.6434304637680661,
          0.7190253597062606,
          0.5149323430201733,
          0.6551217396764204,
          0.5591893949544959,
          0.5530372181929237,
          0.5576110017559173,
          0.5863484935240915,
          0.6097783246636213,
          0.5231849088615961
         ],
         "xaxis": "x",
         "y": [
          0.5240830437828741,
          0.504230742897507,
          0.7482124212683734,
          0.5243622169950055,
          0.6559893204012818,
          0.5200705547559482,
          0.7069339764178331,
          0.7468247418515159,
          0.914472993353894,
          0.8643987119467518,
          0.8114931007794556,
          0.501033497828278,
          0.874248282410471,
          0.84883180635884,
          0.5260568340171283,
          0.6292997035880528,
          0.9059249058202938,
          0.8827301417931568,
          0.9471597419030588,
          0.9800501938453764
         ],
         "yaxis": "y"
        },
        {
         "marker": {
          "color": "Green",
          "size": 15,
          "symbol": "x"
         },
         "mode": "markers",
         "type": "scatter",
         "x": [
          1.1928591125867567,
          0.17778860369263239
         ],
         "y": [
          0.18145611956065327,
          0.9035088808842218
         ]
        }
       ],
       "layout": {
        "legend": {
         "title": {
          "text": "rule_applies"
         },
         "tracegroupgap": 0
        },
        "margin": {
         "t": 60
        },
        "template": {
         "data": {
          "bar": [
           {
            "error_x": {
             "color": "#2a3f5f"
            },
            "error_y": {
             "color": "#2a3f5f"
            },
            "marker": {
             "line": {
              "color": "#E5ECF6",
              "width": 0.5
             },
             "pattern": {
              "fillmode": "overlay",
              "size": 10,
              "solidity": 0.2
             }
            },
            "type": "bar"
           }
          ],
          "barpolar": [
           {
            "marker": {
             "line": {
              "color": "#E5ECF6",
              "width": 0.5
             },
             "pattern": {
              "fillmode": "overlay",
              "size": 10,
              "solidity": 0.2
             }
            },
            "type": "barpolar"
           }
          ],
          "carpet": [
           {
            "aaxis": {
             "endlinecolor": "#2a3f5f",
             "gridcolor": "white",
             "linecolor": "white",
             "minorgridcolor": "white",
             "startlinecolor": "#2a3f5f"
            },
            "baxis": {
             "endlinecolor": "#2a3f5f",
             "gridcolor": "white",
             "linecolor": "white",
             "minorgridcolor": "white",
             "startlinecolor": "#2a3f5f"
            },
            "type": "carpet"
           }
          ],
          "choropleth": [
           {
            "colorbar": {
             "outlinewidth": 0,
             "ticks": ""
            },
            "type": "choropleth"
           }
          ],
          "contour": [
           {
            "colorbar": {
             "outlinewidth": 0,
             "ticks": ""
            },
            "colorscale": [
             [
              0,
              "#0d0887"
             ],
             [
              0.1111111111111111,
              "#46039f"
             ],
             [
              0.2222222222222222,
              "#7201a8"
             ],
             [
              0.3333333333333333,
              "#9c179e"
             ],
             [
              0.4444444444444444,
              "#bd3786"
             ],
             [
              0.5555555555555556,
              "#d8576b"
             ],
             [
              0.6666666666666666,
              "#ed7953"
             ],
             [
              0.7777777777777778,
              "#fb9f3a"
             ],
             [
              0.8888888888888888,
              "#fdca26"
             ],
             [
              1,
              "#f0f921"
             ]
            ],
            "type": "contour"
           }
          ],
          "contourcarpet": [
           {
            "colorbar": {
             "outlinewidth": 0,
             "ticks": ""
            },
            "type": "contourcarpet"
           }
          ],
          "heatmap": [
           {
            "colorbar": {
             "outlinewidth": 0,
             "ticks": ""
            },
            "colorscale": [
             [
              0,
              "#0d0887"
             ],
             [
              0.1111111111111111,
              "#46039f"
             ],
             [
              0.2222222222222222,
              "#7201a8"
             ],
             [
              0.3333333333333333,
              "#9c179e"
             ],
             [
              0.4444444444444444,
              "#bd3786"
             ],
             [
              0.5555555555555556,
              "#d8576b"
             ],
             [
              0.6666666666666666,
              "#ed7953"
             ],
             [
              0.7777777777777778,
              "#fb9f3a"
             ],
             [
              0.8888888888888888,
              "#fdca26"
             ],
             [
              1,
              "#f0f921"
             ]
            ],
            "type": "heatmap"
           }
          ],
          "heatmapgl": [
           {
            "colorbar": {
             "outlinewidth": 0,
             "ticks": ""
            },
            "colorscale": [
             [
              0,
              "#0d0887"
             ],
             [
              0.1111111111111111,
              "#46039f"
             ],
             [
              0.2222222222222222,
              "#7201a8"
             ],
             [
              0.3333333333333333,
              "#9c179e"
             ],
             [
              0.4444444444444444,
              "#bd3786"
             ],
             [
              0.5555555555555556,
              "#d8576b"
             ],
             [
              0.6666666666666666,
              "#ed7953"
             ],
             [
              0.7777777777777778,
              "#fb9f3a"
             ],
             [
              0.8888888888888888,
              "#fdca26"
             ],
             [
              1,
              "#f0f921"
             ]
            ],
            "type": "heatmapgl"
           }
          ],
          "histogram": [
           {
            "marker": {
             "pattern": {
              "fillmode": "overlay",
              "size": 10,
              "solidity": 0.2
             }
            },
            "type": "histogram"
           }
          ],
          "histogram2d": [
           {
            "colorbar": {
             "outlinewidth": 0,
             "ticks": ""
            },
            "colorscale": [
             [
              0,
              "#0d0887"
             ],
             [
              0.1111111111111111,
              "#46039f"
             ],
             [
              0.2222222222222222,
              "#7201a8"
             ],
             [
              0.3333333333333333,
              "#9c179e"
             ],
             [
              0.4444444444444444,
              "#bd3786"
             ],
             [
              0.5555555555555556,
              "#d8576b"
             ],
             [
              0.6666666666666666,
              "#ed7953"
             ],
             [
              0.7777777777777778,
              "#fb9f3a"
             ],
             [
              0.8888888888888888,
              "#fdca26"
             ],
             [
              1,
              "#f0f921"
             ]
            ],
            "type": "histogram2d"
           }
          ],
          "histogram2dcontour": [
           {
            "colorbar": {
             "outlinewidth": 0,
             "ticks": ""
            },
            "colorscale": [
             [
              0,
              "#0d0887"
             ],
             [
              0.1111111111111111,
              "#46039f"
             ],
             [
              0.2222222222222222,
              "#7201a8"
             ],
             [
              0.3333333333333333,
              "#9c179e"
             ],
             [
              0.4444444444444444,
              "#bd3786"
             ],
             [
              0.5555555555555556,
              "#d8576b"
             ],
             [
              0.6666666666666666,
              "#ed7953"
             ],
             [
              0.7777777777777778,
              "#fb9f3a"
             ],
             [
              0.8888888888888888,
              "#fdca26"
             ],
             [
              1,
              "#f0f921"
             ]
            ],
            "type": "histogram2dcontour"
           }
          ],
          "mesh3d": [
           {
            "colorbar": {
             "outlinewidth": 0,
             "ticks": ""
            },
            "type": "mesh3d"
           }
          ],
          "parcoords": [
           {
            "line": {
             "colorbar": {
              "outlinewidth": 0,
              "ticks": ""
             }
            },
            "type": "parcoords"
           }
          ],
          "pie": [
           {
            "automargin": true,
            "type": "pie"
           }
          ],
          "scatter": [
           {
            "fillpattern": {
             "fillmode": "overlay",
             "size": 10,
             "solidity": 0.2
            },
            "type": "scatter"
           }
          ],
          "scatter3d": [
           {
            "line": {
             "colorbar": {
              "outlinewidth": 0,
              "ticks": ""
             }
            },
            "marker": {
             "colorbar": {
              "outlinewidth": 0,
              "ticks": ""
             }
            },
            "type": "scatter3d"
           }
          ],
          "scattercarpet": [
           {
            "marker": {
             "colorbar": {
              "outlinewidth": 0,
              "ticks": ""
             }
            },
            "type": "scattercarpet"
           }
          ],
          "scattergeo": [
           {
            "marker": {
             "colorbar": {
              "outlinewidth": 0,
              "ticks": ""
             }
            },
            "type": "scattergeo"
           }
          ],
          "scattergl": [
           {
            "marker": {
             "colorbar": {
              "outlinewidth": 0,
              "ticks": ""
             }
            },
            "type": "scattergl"
           }
          ],
          "scattermapbox": [
           {
            "marker": {
             "colorbar": {
              "outlinewidth": 0,
              "ticks": ""
             }
            },
            "type": "scattermapbox"
           }
          ],
          "scatterpolar": [
           {
            "marker": {
             "colorbar": {
              "outlinewidth": 0,
              "ticks": ""
             }
            },
            "type": "scatterpolar"
           }
          ],
          "scatterpolargl": [
           {
            "marker": {
             "colorbar": {
              "outlinewidth": 0,
              "ticks": ""
             }
            },
            "type": "scatterpolargl"
           }
          ],
          "scatterternary": [
           {
            "marker": {
             "colorbar": {
              "outlinewidth": 0,
              "ticks": ""
             }
            },
            "type": "scatterternary"
           }
          ],
          "surface": [
           {
            "colorbar": {
             "outlinewidth": 0,
             "ticks": ""
            },
            "colorscale": [
             [
              0,
              "#0d0887"
             ],
             [
              0.1111111111111111,
              "#46039f"
             ],
             [
              0.2222222222222222,
              "#7201a8"
             ],
             [
              0.3333333333333333,
              "#9c179e"
             ],
             [
              0.4444444444444444,
              "#bd3786"
             ],
             [
              0.5555555555555556,
              "#d8576b"
             ],
             [
              0.6666666666666666,
              "#ed7953"
             ],
             [
              0.7777777777777778,
              "#fb9f3a"
             ],
             [
              0.8888888888888888,
              "#fdca26"
             ],
             [
              1,
              "#f0f921"
             ]
            ],
            "type": "surface"
           }
          ],
          "table": [
           {
            "cells": {
             "fill": {
              "color": "#EBF0F8"
             },
             "line": {
              "color": "white"
             }
            },
            "header": {
             "fill": {
              "color": "#C8D4E3"
             },
             "line": {
              "color": "white"
             }
            },
            "type": "table"
           }
          ]
         },
         "layout": {
          "annotationdefaults": {
           "arrowcolor": "#2a3f5f",
           "arrowhead": 0,
           "arrowwidth": 1
          },
          "autotypenumbers": "strict",
          "coloraxis": {
           "colorbar": {
            "outlinewidth": 0,
            "ticks": ""
           }
          },
          "colorscale": {
           "diverging": [
            [
             0,
             "#8e0152"
            ],
            [
             0.1,
             "#c51b7d"
            ],
            [
             0.2,
             "#de77ae"
            ],
            [
             0.3,
             "#f1b6da"
            ],
            [
             0.4,
             "#fde0ef"
            ],
            [
             0.5,
             "#f7f7f7"
            ],
            [
             0.6,
             "#e6f5d0"
            ],
            [
             0.7,
             "#b8e186"
            ],
            [
             0.8,
             "#7fbc41"
            ],
            [
             0.9,
             "#4d9221"
            ],
            [
             1,
             "#276419"
            ]
           ],
           "sequential": [
            [
             0,
             "#0d0887"
            ],
            [
             0.1111111111111111,
             "#46039f"
            ],
            [
             0.2222222222222222,
             "#7201a8"
            ],
            [
             0.3333333333333333,
             "#9c179e"
            ],
            [
             0.4444444444444444,
             "#bd3786"
            ],
            [
             0.5555555555555556,
             "#d8576b"
            ],
            [
             0.6666666666666666,
             "#ed7953"
            ],
            [
             0.7777777777777778,
             "#fb9f3a"
            ],
            [
             0.8888888888888888,
             "#fdca26"
            ],
            [
             1,
             "#f0f921"
            ]
           ],
           "sequentialminus": [
            [
             0,
             "#0d0887"
            ],
            [
             0.1111111111111111,
             "#46039f"
            ],
            [
             0.2222222222222222,
             "#7201a8"
            ],
            [
             0.3333333333333333,
             "#9c179e"
            ],
            [
             0.4444444444444444,
             "#bd3786"
            ],
            [
             0.5555555555555556,
             "#d8576b"
            ],
            [
             0.6666666666666666,
             "#ed7953"
            ],
            [
             0.7777777777777778,
             "#fb9f3a"
            ],
            [
             0.8888888888888888,
             "#fdca26"
            ],
            [
             1,
             "#f0f921"
            ]
           ]
          },
          "colorway": [
           "#636efa",
           "#EF553B",
           "#00cc96",
           "#ab63fa",
           "#FFA15A",
           "#19d3f3",
           "#FF6692",
           "#B6E880",
           "#FF97FF",
           "#FECB52"
          ],
          "font": {
           "color": "#2a3f5f"
          },
          "geo": {
           "bgcolor": "white",
           "lakecolor": "white",
           "landcolor": "#E5ECF6",
           "showlakes": true,
           "showland": true,
           "subunitcolor": "white"
          },
          "hoverlabel": {
           "align": "left"
          },
          "hovermode": "closest",
          "mapbox": {
           "style": "light"
          },
          "paper_bgcolor": "white",
          "plot_bgcolor": "#E5ECF6",
          "polar": {
           "angularaxis": {
            "gridcolor": "white",
            "linecolor": "white",
            "ticks": ""
           },
           "bgcolor": "#E5ECF6",
           "radialaxis": {
            "gridcolor": "white",
            "linecolor": "white",
            "ticks": ""
           }
          },
          "scene": {
           "xaxis": {
            "backgroundcolor": "#E5ECF6",
            "gridcolor": "white",
            "gridwidth": 2,
            "linecolor": "white",
            "showbackground": true,
            "ticks": "",
            "zerolinecolor": "white"
           },
           "yaxis": {
            "backgroundcolor": "#E5ECF6",
            "gridcolor": "white",
            "gridwidth": 2,
            "linecolor": "white",
            "showbackground": true,
            "ticks": "",
            "zerolinecolor": "white"
           },
           "zaxis": {
            "backgroundcolor": "#E5ECF6",
            "gridcolor": "white",
            "gridwidth": 2,
            "linecolor": "white",
            "showbackground": true,
            "ticks": "",
            "zerolinecolor": "white"
           }
          },
          "shapedefaults": {
           "line": {
            "color": "#2a3f5f"
           }
          },
          "ternary": {
           "aaxis": {
            "gridcolor": "white",
            "linecolor": "white",
            "ticks": ""
           },
           "baxis": {
            "gridcolor": "white",
            "linecolor": "white",
            "ticks": ""
           },
           "bgcolor": "#E5ECF6",
           "caxis": {
            "gridcolor": "white",
            "linecolor": "white",
            "ticks": ""
           }
          },
          "title": {
           "x": 0.05
          },
          "xaxis": {
           "automargin": true,
           "gridcolor": "white",
           "linecolor": "white",
           "ticks": "",
           "title": {
            "standoff": 15
           },
           "zerolinecolor": "white",
           "zerolinewidth": 2
          },
          "yaxis": {
           "automargin": true,
           "gridcolor": "white",
           "linecolor": "white",
           "ticks": "",
           "title": {
            "standoff": 15
           },
           "zerolinecolor": "white",
           "zerolinewidth": 2
          }
         }
        },
        "xaxis": {
         "anchor": "y",
         "domain": [
          0,
          1
         ],
         "title": {
          "text": "x"
         }
        },
        "yaxis": {
         "anchor": "x",
         "domain": [
          0,
          1
         ],
         "title": {
          "text": "y"
         }
        }
       }
      }
     },
     "metadata": {},
     "output_type": "display_data"
    }
   ],
   "source": [
    "d, conf = filter_by_rule(df_okay, lambda row: 0.5<row[\"x\"]<1 and 0.5<row[\"y\"]<1)\n",
    "\n",
    "fig = px.scatter(d, x=\"x\", y=\"y\", color=\"rule_applies\")\n",
    "\n",
    "fig = add_centroids(fig, kmeans)\n",
    "\n",
    "fig"
   ]
  },
  {
   "cell_type": "markdown",
   "metadata": {},
   "source": [
    "# Rules generators"
   ]
  },
  {
   "cell_type": "markdown",
   "metadata": {},
   "source": [
    "## CN2"
   ]
  },
  {
   "cell_type": "markdown",
   "metadata": {},
   "source": [
    "https://github.com/scikit-learn-contrib/skope-rules/issues/58\n",
    "\n",
    "https://stackoverflow.com/questions/61867945/python-import-error-cannot-import-name-six-from-sklearn-externals"
   ]
  },
  {
   "cell_type": "code",
   "execution_count": 19,
   "metadata": {},
   "outputs": [],
   "source": [
    "# !pip install skope-rules"
   ]
  },
  {
   "cell_type": "code",
   "execution_count": 20,
   "metadata": {},
   "outputs": [],
   "source": [
    "# df_use = df[[\"x\", \"y\", \"labels_clustering\"]]"
   ]
  },
  {
   "cell_type": "code",
   "execution_count": 21,
   "metadata": {},
   "outputs": [],
   "source": [
    "# import six\n",
    "# import sys\n",
    "# sys.modules['sklearn.externals.six'] = six\n",
    "\n",
    "# from sklearn.datasets import load_iris\n",
    "# from skrules import SkopeRules\n",
    "\n",
    "# feature_names = df_use.columns\n",
    "# clf = SkopeRules(max_depth_duplication=3,\n",
    "#                  n_estimators=30,\n",
    "#                  precision_min=0.02,\n",
    "#                  recall_min=0.02,\n",
    "#                  feature_names=feature_names)\n",
    "\n",
    "# # for idx, species in enumerate(df_use):\n",
    "# #     print(idx, species)\n",
    "# X, y = df_use[[\"x\", 'y']], df_use[\"labels_clustering\"].astype(int )\n",
    "\n",
    "# clf.fit(X, y)\n",
    "# rules = clf.rules_[0:3]\n",
    "# # print(\"Rules for iris\", species)\n",
    "# for rule in rules:\n",
    "#     print(rule)\n",
    "# print()\n",
    "# print(20*'=')\n",
    "# print()"
   ]
  },
  {
   "cell_type": "code",
   "execution_count": null,
   "metadata": {},
   "outputs": [],
   "source": []
  },
  {
   "cell_type": "code",
   "execution_count": 22,
   "metadata": {},
   "outputs": [],
   "source": [
    "# import Orange\n",
    "\n",
    "# # Sample data: a mix of categorical and numerical features\n",
    "# data = Orange.data.Table(PATH)  # using an in-built dataset for demonstration\n",
    "\n",
    "# # Initialize the CN2 learner\n",
    "# learner = Orange.classification.rules.CN2Learner()\n",
    "\n",
    "# # Fit the model\n",
    "# classifier = learner(data)\n",
    "\n",
    "\n",
    "# import Orange\n",
    "\n",
    "# data = Orange.data.Table(\"iris\")\n",
    "# learner = Orange.classification.CN2UnorderedLearner()\n",
    "\n",
    "# # # consider up to 10 solution streams at one times\n",
    "# # learner.rule_finder.search_algorithm.beam_width = 10\n",
    "\n",
    "# # # continuous value space is constrained to reduce computation time\n",
    "# # learner.rule_finder.search_strategy.constrain_continuous = True\n",
    "\n",
    "# # # found rules must cover at least 15 examples\n",
    "# # learner.rule_finder.general_validator.min_covered_examples = 15\n",
    "\n",
    "# # # found rules may combine at most 2 selectors (conditions)\n",
    "# learner.rule_finder.general_validator.max_rule_length = 2\n",
    "\n",
    "# classifier = learner(data)\n",
    "\n",
    "# print(classifier.rule_list[0])\n",
    "\n",
    "# # Output rules\n",
    "# print(\"Rules generated from CN2 algorithm:\")\n",
    "\n",
    "# print(classifier.rule_list[0])\n",
    "# # for rule in classifier.rule_list:\n",
    "# #     print(Orange.classification.rules.to_string(rule))"
   ]
  },
  {
   "cell_type": "markdown",
   "metadata": {},
   "source": [
    "# DS"
   ]
  },
  {
   "cell_type": "code",
   "execution_count": 6,
   "metadata": {},
   "outputs": [
    {
     "name": "stdout",
     "output_type": "stream",
     "text": [
      "Collecting tqdm\n",
      "  Using cached tqdm-4.66.2-py3-none-any.whl.metadata (57 kB)\n",
      "Requirement already satisfied: colorama in c:\\users\\hayk_\\.conda\\envs\\thesis\\lib\\site-packages (from tqdm) (0.4.6)\n",
      "Using cached tqdm-4.66.2-py3-none-any.whl (78 kB)\n",
      "Installing collected packages: tqdm\n",
      "Successfully installed tqdm-4.66.2\n"
     ]
    }
   ],
   "source": [
    "!pip install tqdm"
   ]
  },
  {
   "cell_type": "code",
   "execution_count": 3,
   "metadata": {},
   "outputs": [
    {
     "name": "stderr",
     "output_type": "stream",
     "text": [
      "  0%|          | 0/5 [00:00<?, ?it/s]26-Apr-24 14:42:47 [INFO] \n",
      " ------ Processing kmeans_breast-cancer-wisconsin.csv ------\n",
      "26-Apr-24 14:42:47 [INFO] Step 0: Data read done\n",
      "26-Apr-24 14:42:47 [INFO] Step 1: Data split done\n",
      "26-Apr-24 14:42:47 [INFO] Step 2: Model init done\n"
     ]
    },
    {
     "name": "stdout",
     "output_type": "stream",
     "text": [
      "labels_clustering\n",
      "1    455\n",
      "0    228\n",
      "Name: count, dtype: int64\n",
      "Optimization started\n",
      "Processing epoch\t96\t0.0162\t"
     ]
    },
    {
     "name": "stderr",
     "output_type": "stream",
     "text": [
      "26-Apr-24 14:43:13 [INFO] Step 3: Model fit done\n",
      "26-Apr-24 14:43:13 [INFO] Step 4: Model save done\n",
      "26-Apr-24 14:43:13 [INFO] Step 5: Inference done\n",
      "26-Apr-24 14:43:13 [INFO] ------------------------------\n",
      "26-Apr-24 14:43:13 [INFO] Step 2: Model init done\n"
     ]
    },
    {
     "name": "stdout",
     "output_type": "stream",
     "text": [
      "\n",
      "Training time: 25.99s, epochs: 97\n",
      "\n",
      "Least training loss reached: 0.016\n",
      "DSModelMultiQ(\n",
      "  DS Classifier using 108 rules\n",
      "  \n",
      "  Rule 1: clump_thickness < -0.685\n",
      "  \tC1: 0.000\tC2: 0.219\tUnc: 0.781\n",
      "  \n",
      "  Rule 2: -0.685 < clump_thickness < -0.014\n",
      "  \tC1: 0.000\tC2: 0.239\tUnc: 0.761\n",
      "  \n",
      "  Rule 3: -0.014 < clump_thickness < 0.656\n",
      "  \tC1: 0.231\tC2: 0.000\tUnc: 0.769\n",
      "  \n",
      "  Rule 4: clump_thickness > 0.656\n",
      "  \tC1: 0.292\tC2: 0.000\tUnc: 0.708\n",
      "  \n",
      "  Rule 5: size_uniformity < -0.655\n",
      "  \tC1: 0.000\tC2: 0.268\tUnc: 0.732\n",
      "  \n",
      "  Rule 6: -0.655 < size_uniformity < 0.030\n",
      "  \tC1: 0.000\tC2: 0.295\tUnc: 0.705\n",
      "  \n",
      "  Rule 7: 0.030 < size_uniformity < 0.715\n",
      "  \tC1: 0.278\tC2: 0.000\tUnc: 0.722\n",
      "  \n",
      "  Rule 8: size_uniformity > 0.715\n",
      "  \tC1: 0.272\tC2: 0.000\tUnc: 0.728\n",
      "  \n",
      "  Rule 9: shape_uniformity < -0.662\n",
      "  \tC1: 0.000\tC2: 0.262\tUnc: 0.738\n",
      "  \n",
      "  Rule 10: -0.662 < shape_uniformity < 0.011\n",
      "  \tC1: 0.005\tC2: 0.211\tUnc: 0.784\n",
      "  \n",
      "  Rule 11: 0.011 < shape_uniformity < 0.683\n",
      "  \tC1: 0.193\tC2: 0.005\tUnc: 0.802\n",
      "  \n",
      "  Rule 12: shape_uniformity > 0.683\n",
      "  \tC1: 0.344\tC2: 0.000\tUnc: 0.656\n",
      "  \n",
      "  Rule 13: marginal_adhesion < -0.672\n",
      "  \tC1: 0.196\tC2: 0.004\tUnc: 0.800\n",
      "  \n",
      "  Rule 14: -0.672 < marginal_adhesion < -0.004\n",
      "  \tC1: 0.000\tC2: 0.357\tUnc: 0.643\n",
      "  \n",
      "  Rule 15: -0.004 < marginal_adhesion < 0.665\n",
      "  \tC1: 0.160\tC2: 0.062\tUnc: 0.778\n",
      "  \n",
      "  Rule 16: marginal_adhesion > 0.665\n",
      "  \tC1: 0.427\tC2: 0.000\tUnc: 0.573\n",
      "  \n",
      "  Rule 17: epithelial_size < -0.658\n",
      "  \tC1: 0.000\tC2: 0.260\tUnc: 0.740\n",
      "  \n",
      "  Rule 18: -0.658 < epithelial_size < 0.036\n",
      "  \tC1: 0.000\tC2: 0.282\tUnc: 0.718\n",
      "  \n",
      "  Rule 19: 0.036 < epithelial_size < 0.730\n",
      "  \tC1: 0.304\tC2: 0.000\tUnc: 0.696\n",
      "  \n",
      "  Rule 20: epithelial_size > 0.730\n",
      "  \tC1: 0.307\tC2: 0.000\tUnc: 0.693\n",
      "  \n",
      "  Rule 21: bare_nucleoli < -0.660\n",
      "  \tC1: 0.000\tC2: 0.205\tUnc: 0.795\n",
      "  \n",
      "  Rule 22: -0.660 < bare_nucleoli < 0.014\n",
      "  \tC1: 0.022\tC2: 0.161\tUnc: 0.818\n",
      "  \n",
      "  Rule 23: 0.014 < bare_nucleoli < 0.687\n",
      "  \tC1: 0.242\tC2: 0.000\tUnc: 0.758\n",
      "  \n",
      "  Rule 24: bare_nucleoli > 0.687\n",
      "  \tC1: 0.251\tC2: 0.000\tUnc: 0.749\n",
      "  \n",
      "  Rule 25: bland_chromatin < -0.645\n",
      "  \tC1: 0.000\tC2: 0.263\tUnc: 0.737\n",
      "  \n",
      "  Rule 26: -0.645 < bland_chromatin < 0.020\n",
      "  \tC1: 0.000\tC2: 0.342\tUnc: 0.658\n",
      "  \n",
      "  Rule 27: 0.020 < bland_chromatin < 0.684\n",
      "  \tC1: 0.216\tC2: 0.036\tUnc: 0.748\n",
      "  \n",
      "  Rule 28: bland_chromatin > 0.684\n",
      "  \tC1: 0.334\tC2: 0.000\tUnc: 0.666\n",
      "  \n",
      "  Rule 29: normal_nucleoli < -0.660\n",
      "  \tC1: 0.061\tC2: 0.139\tUnc: 0.800\n",
      "  \n",
      "  Rule 30: -0.660 < normal_nucleoli < 0.021\n",
      "  \tC1: 0.000\tC2: 0.338\tUnc: 0.662\n",
      "  \n",
      "  Rule 31: 0.021 < normal_nucleoli < 0.703\n",
      "  \tC1: 0.213\tC2: 0.016\tUnc: 0.771\n",
      "  \n",
      "  Rule 32: normal_nucleoli > 0.703\n",
      "  \tC1: 0.251\tC2: 0.000\tUnc: 0.749\n",
      "  \n",
      "  Rule 33: mitoses < -0.681\n",
      "  \tC1: 0.113\tC2: 0.087\tUnc: 0.800\n",
      "  \n",
      "  Rule 34: -0.681 < mitoses < 0.029\n",
      "  \tC1: 0.000\tC2: 0.348\tUnc: 0.652\n",
      "  \n",
      "  Rule 35: 0.029 < mitoses < 0.738\n",
      "  \tC1: 0.224\tC2: 0.002\tUnc: 0.773\n",
      "  \n",
      "  Rule 36: mitoses > 0.738\n",
      "  \tC1: 0.282\tC2: 0.000\tUnc: 0.718\n",
      "  \n",
      "  Rule 37: Positive clump_thickness - -0.014, size_uniformity - 0.030\n",
      "  \tC1: 0.164\tC2: 0.032\tUnc: 0.804\n",
      "  \n",
      "  Rule 38: Negative clump_thickness - -0.014, size_uniformity - 0.030\n",
      "  \tC1: 0.000\tC2: 0.209\tUnc: 0.791\n",
      "  \n",
      "  Rule 39: Positive clump_thickness - -0.014, shape_uniformity - 0.011\n",
      "  \tC1: 0.224\tC2: 0.000\tUnc: 0.776\n",
      "  \n",
      "  Rule 40: Negative clump_thickness - -0.014, shape_uniformity - 0.011\n",
      "  \tC1: 0.000\tC2: 0.195\tUnc: 0.805\n",
      "  \n",
      "  Rule 41: Positive clump_thickness - -0.014, marginal_adhesion - -0.004\n",
      "  \tC1: 0.063\tC2: 0.117\tUnc: 0.820\n",
      "  \n",
      "  Rule 42: Negative clump_thickness - -0.014, marginal_adhesion - -0.004\n",
      "  \tC1: 0.264\tC2: 0.000\tUnc: 0.736\n",
      "  \n",
      "  Rule 43: Positive clump_thickness - -0.014, epithelial_size - 0.036\n",
      "  \tC1: 0.099\tC2: 0.091\tUnc: 0.811\n",
      "  \n",
      "  Rule 44: Negative clump_thickness - -0.014, epithelial_size - 0.036\n",
      "  \tC1: 0.116\tC2: 0.066\tUnc: 0.818\n",
      "  \n",
      "  Rule 45: Positive clump_thickness - -0.014, bare_nucleoli - 0.014\n",
      "  \tC1: 0.174\tC2: 0.021\tUnc: 0.805\n",
      "  \n",
      "  Rule 46: Negative clump_thickness - -0.014, bare_nucleoli - 0.014\n",
      "  \tC1: 0.077\tC2: 0.110\tUnc: 0.812\n",
      "  \n",
      "  Rule 47: Positive clump_thickness - -0.014, bland_chromatin - 0.020\n",
      "  \tC1: 0.050\tC2: 0.143\tUnc: 0.807\n",
      "  \n",
      "  Rule 48: Negative clump_thickness - -0.014, bland_chromatin - 0.020\n",
      "  \tC1: 0.165\tC2: 0.044\tUnc: 0.791\n",
      "  \n",
      "  Rule 49: Positive clump_thickness - -0.014, normal_nucleoli - 0.021\n",
      "  \tC1: 0.145\tC2: 0.047\tUnc: 0.808\n",
      "  \n",
      "  Rule 50: Negative clump_thickness - -0.014, normal_nucleoli - 0.021\n",
      "  \tC1: 0.090\tC2: 0.096\tUnc: 0.815\n",
      "  \n",
      "  Rule 51: Positive clump_thickness - -0.014, mitoses - 0.029\n",
      "  \tC1: 0.066\tC2: 0.130\tUnc: 0.803\n",
      "  \n",
      "  Rule 52: Negative clump_thickness - -0.014, mitoses - 0.029\n",
      "  \tC1: 0.036\tC2: 0.152\tUnc: 0.812\n",
      "  \n",
      "  Rule 53: Positive size_uniformity - 0.030, shape_uniformity - 0.011\n",
      "  \tC1: 0.072\tC2: 0.120\tUnc: 0.809\n",
      "  \n",
      "  Rule 54: Negative size_uniformity - 0.030, shape_uniformity - 0.011\n",
      "  \tC1: 0.164\tC2: 0.008\tUnc: 0.828\n",
      "  \n",
      "  Rule 55: Positive size_uniformity - 0.030, marginal_adhesion - -0.004\n",
      "  \tC1: 0.099\tC2: 0.092\tUnc: 0.810\n",
      "  \n",
      "  Rule 56: Negative size_uniformity - 0.030, marginal_adhesion - -0.004\n",
      "  \tC1: 0.190\tC2: 0.028\tUnc: 0.781\n",
      "  \n",
      "  Rule 57: Positive size_uniformity - 0.030, epithelial_size - 0.036\n",
      "  \tC1: 0.061\tC2: 0.135\tUnc: 0.803\n",
      "  \n",
      "  Rule 58: Negative size_uniformity - 0.030, epithelial_size - 0.036\n",
      "  \tC1: 0.066\tC2: 0.123\tUnc: 0.811\n",
      "  \n",
      "  Rule 59: Positive size_uniformity - 0.030, bare_nucleoli - 0.014\n",
      "  \tC1: 0.041\tC2: 0.144\tUnc: 0.815\n",
      "  \n",
      "  Rule 60: Negative size_uniformity - 0.030, bare_nucleoli - 0.014\n",
      "  \tC1: 0.268\tC2: 0.000\tUnc: 0.732\n",
      "  \n",
      "  Rule 61: Positive size_uniformity - 0.030, bland_chromatin - 0.020\n",
      "  \tC1: 0.041\tC2: 0.157\tUnc: 0.802\n",
      "  \n",
      "  Rule 62: Negative size_uniformity - 0.030, bland_chromatin - 0.020\n",
      "  \tC1: 0.102\tC2: 0.086\tUnc: 0.813\n",
      "  \n",
      "  Rule 63: Positive size_uniformity - 0.030, normal_nucleoli - 0.021\n",
      "  \tC1: 0.039\tC2: 0.157\tUnc: 0.805\n",
      "  \n",
      "  Rule 64: Negative size_uniformity - 0.030, normal_nucleoli - 0.021\n",
      "  \tC1: 0.042\tC2: 0.151\tUnc: 0.808\n",
      "  \n",
      "  Rule 65: Positive size_uniformity - 0.030, mitoses - 0.029\n",
      "  \tC1: 0.029\tC2: 0.164\tUnc: 0.807\n",
      "  \n",
      "  Rule 66: Negative size_uniformity - 0.030, mitoses - 0.029\n",
      "  \tC1: 0.195\tC2: 0.015\tUnc: 0.790\n",
      "  \n",
      "  Rule 67: Positive shape_uniformity - 0.011, marginal_adhesion - -0.004\n",
      "  \tC1: 0.176\tC2: 0.019\tUnc: 0.804\n",
      "  \n",
      "  Rule 68: Negative shape_uniformity - 0.011, marginal_adhesion - -0.004\n",
      "  \tC1: 0.000\tC2: 0.223\tUnc: 0.777\n",
      "  \n",
      "  Rule 69: Positive shape_uniformity - 0.011, epithelial_size - 0.036\n",
      "  \tC1: 0.007\tC2: 0.203\tUnc: 0.790\n",
      "  \n",
      "  Rule 70: Negative shape_uniformity - 0.011, epithelial_size - 0.036\n",
      "  \tC1: 0.169\tC2: 0.026\tUnc: 0.805\n",
      "  \n",
      "  Rule 71: Positive shape_uniformity - 0.011, bare_nucleoli - 0.014\n",
      "  \tC1: 0.144\tC2: 0.047\tUnc: 0.809\n",
      "  \n",
      "  Rule 72: Negative shape_uniformity - 0.011, bare_nucleoli - 0.014\n",
      "  \tC1: 0.045\tC2: 0.136\tUnc: 0.819\n",
      "  \n",
      "  Rule 73: Positive shape_uniformity - 0.011, bland_chromatin - 0.020\n",
      "  \tC1: 0.084\tC2: 0.108\tUnc: 0.807\n",
      "  \n",
      "  Rule 74: Negative shape_uniformity - 0.011, bland_chromatin - 0.020\n",
      "  \tC1: 0.172\tC2: 0.008\tUnc: 0.820\n",
      "  \n",
      "  Rule 75: Positive shape_uniformity - 0.011, normal_nucleoli - 0.021\n",
      "  \tC1: 0.109\tC2: 0.081\tUnc: 0.810\n",
      "  \n",
      "  Rule 76: Negative shape_uniformity - 0.011, normal_nucleoli - 0.021\n",
      "  \tC1: 0.205\tC2: 0.000\tUnc: 0.795\n",
      "  \n",
      "  Rule 77: Positive shape_uniformity - 0.011, mitoses - 0.029\n",
      "  \tC1: 0.011\tC2: 0.219\tUnc: 0.770\n",
      "  \n",
      "  Rule 78: Negative shape_uniformity - 0.011, mitoses - 0.029\n",
      "  \tC1: 0.122\tC2: 0.058\tUnc: 0.820\n",
      "  \n",
      "  Rule 79: Positive marginal_adhesion - -0.004, epithelial_size - 0.036\n",
      "  \tC1: 0.084\tC2: 0.108\tUnc: 0.807\n",
      "  \n",
      "  Rule 80: Negative marginal_adhesion - -0.004, epithelial_size - 0.036\n",
      "  \tC1: 0.176\tC2: 0.017\tUnc: 0.806\n",
      "  \n",
      "  Rule 81: Positive marginal_adhesion - -0.004, bare_nucleoli - 0.014\n",
      "  \tC1: 0.091\tC2: 0.089\tUnc: 0.820\n",
      "  \n",
      "  Rule 82: Negative marginal_adhesion - -0.004, bare_nucleoli - 0.014\n",
      "  \tC1: 0.109\tC2: 0.074\tUnc: 0.817\n",
      "  \n",
      "  Rule 83: Positive marginal_adhesion - -0.004, bland_chromatin - 0.020\n",
      "  \tC1: 0.166\tC2: 0.018\tUnc: 0.816\n",
      "  \n",
      "  Rule 84: Negative marginal_adhesion - -0.004, bland_chromatin - 0.020\n",
      "  \tC1: 0.000\tC2: 0.282\tUnc: 0.718\n",
      "  \n",
      "  Rule 85: Positive marginal_adhesion - -0.004, normal_nucleoli - 0.021\n",
      "  \tC1: 0.027\tC2: 0.168\tUnc: 0.805\n",
      "  \n",
      "  Rule 86: Negative marginal_adhesion - -0.004, normal_nucleoli - 0.021\n",
      "  \tC1: 0.292\tC2: 0.000\tUnc: 0.708\n",
      "  \n",
      "  Rule 87: Positive marginal_adhesion - -0.004, mitoses - 0.029\n",
      "  \tC1: 0.079\tC2: 0.110\tUnc: 0.811\n",
      "  \n",
      "  Rule 88: Negative marginal_adhesion - -0.004, mitoses - 0.029\n",
      "  \tC1: 0.068\tC2: 0.111\tUnc: 0.822\n",
      "  \n",
      "  Rule 89: Positive epithelial_size - 0.036, bare_nucleoli - 0.014\n",
      "  \tC1: 0.119\tC2: 0.075\tUnc: 0.806\n",
      "  \n",
      "  Rule 90: Negative epithelial_size - 0.036, bare_nucleoli - 0.014\n",
      "  \tC1: 0.147\tC2: 0.044\tUnc: 0.808\n",
      "  \n",
      "  Rule 91: Positive epithelial_size - 0.036, bland_chromatin - 0.020\n",
      "  \tC1: 0.087\tC2: 0.107\tUnc: 0.806\n",
      "  \n",
      "  Rule 92: Negative epithelial_size - 0.036, bland_chromatin - 0.020\n",
      "  \tC1: 0.120\tC2: 0.066\tUnc: 0.814\n",
      "  \n",
      "  Rule 93: Positive epithelial_size - 0.036, normal_nucleoli - 0.021\n",
      "  \tC1: 0.084\tC2: 0.106\tUnc: 0.810\n",
      "  \n",
      "  Rule 94: Negative epithelial_size - 0.036, normal_nucleoli - 0.021\n",
      "  \tC1: 0.123\tC2: 0.077\tUnc: 0.800\n",
      "  \n",
      "  Rule 95: Positive epithelial_size - 0.036, mitoses - 0.029\n",
      "  \tC1: 0.094\tC2: 0.089\tUnc: 0.817\n",
      "  \n",
      "  Rule 96: Negative epithelial_size - 0.036, mitoses - 0.029\n",
      "  \tC1: 0.143\tC2: 0.048\tUnc: 0.809\n",
      "  \n",
      "  Rule 97: Positive bare_nucleoli - 0.014, bland_chromatin - 0.020\n",
      "  \tC1: 0.173\tC2: 0.010\tUnc: 0.817\n",
      "  \n",
      "  Rule 98: Negative bare_nucleoli - 0.014, bland_chromatin - 0.020\n",
      "  \tC1: 0.037\tC2: 0.147\tUnc: 0.816\n",
      "  \n",
      "  Rule 99: Positive bare_nucleoli - 0.014, normal_nucleoli - 0.021\n",
      "  \tC1: 0.111\tC2: 0.075\tUnc: 0.814\n",
      "  \n",
      "  Rule 100: Negative bare_nucleoli - 0.014, normal_nucleoli - 0.021\n",
      "  \tC1: 0.000\tC2: 0.190\tUnc: 0.810\n",
      "  \n",
      "  Rule 101: Positive bare_nucleoli - 0.014, mitoses - 0.029\n",
      "  \tC1: 0.066\tC2: 0.122\tUnc: 0.812\n",
      "  \n",
      "  Rule 102: Negative bare_nucleoli - 0.014, mitoses - 0.029\n",
      "  \tC1: 0.155\tC2: 0.034\tUnc: 0.811\n",
      "  \n",
      "  Rule 103: Positive bland_chromatin - 0.020, normal_nucleoli - 0.021\n",
      "  \tC1: 0.098\tC2: 0.095\tUnc: 0.807\n",
      "  \n",
      "  Rule 104: Negative bland_chromatin - 0.020, normal_nucleoli - 0.021\n",
      "  \tC1: 0.036\tC2: 0.156\tUnc: 0.808\n",
      "  \n",
      "  Rule 105: Positive bland_chromatin - 0.020, mitoses - 0.029\n",
      "  \tC1: 0.046\tC2: 0.145\tUnc: 0.809\n",
      "  \n",
      "  Rule 106: Negative bland_chromatin - 0.020, mitoses - 0.029\n",
      "  \tC1: 0.238\tC2: 0.005\tUnc: 0.757\n",
      "  \n",
      "  Rule 107: Positive normal_nucleoli - 0.021, mitoses - 0.029\n",
      "  \tC1: 0.068\tC2: 0.121\tUnc: 0.811\n",
      "  \n",
      "  Rule 108: Negative normal_nucleoli - 0.021, mitoses - 0.029\n",
      "  \tC1: 0.099\tC2: 0.086\tUnc: 0.816\n",
      ")\n",
      "Optimization started\n",
      "Processing epoch\t11\t0.0208\t"
     ]
    },
    {
     "name": "stderr",
     "output_type": "stream",
     "text": [
      "26-Apr-24 14:43:17 [INFO] Step 3: Model fit done\n",
      "26-Apr-24 14:43:17 [INFO] Step 4: Model save done\n",
      "26-Apr-24 14:43:17 [INFO] Step 5: Inference done\n",
      "26-Apr-24 14:43:17 [INFO] ------------------------------\n",
      "  0%|          | 0/5 [00:30<?, ?it/s]"
     ]
    },
    {
     "name": "stdout",
     "output_type": "stream",
     "text": [
      "\n",
      "Training time: 3.59s, epochs: 13\n",
      "\n",
      "Least training loss reached: 0.019\n",
      "DSModelMultiQ(\n",
      "  DS Classifier using 108 rules\n",
      "  \n",
      "  Rule 1: clump_thickness < -0.685\n",
      "  \tC1: 0.122\tC2: 0.755\tUnc: 0.123\n",
      "  \n",
      "  Rule 2: -0.685 < clump_thickness < -0.014\n",
      "  \tC1: 0.106\tC2: 0.789\tUnc: 0.106\n",
      "  \n",
      "  Rule 3: -0.014 < clump_thickness < 0.656\n",
      "  \tC1: 0.125\tC2: 0.750\tUnc: 0.125\n",
      "  \n",
      "  Rule 4: clump_thickness > 0.656\n",
      "  \tC1: 0.526\tC2: 0.210\tUnc: 0.264\n",
      "  \n",
      "  Rule 5: size_uniformity < -0.655\n",
      "  \tC1: 0.124\tC2: 0.751\tUnc: 0.125\n",
      "  \n",
      "  Rule 6: -0.655 < size_uniformity < 0.030\n",
      "  \tC1: 0.173\tC2: 0.654\tUnc: 0.173\n",
      "  \n",
      "  Rule 7: 0.030 < size_uniformity < 0.715\n",
      "  \tC1: 0.574\tC2: 0.187\tUnc: 0.239\n",
      "  \n",
      "  Rule 8: size_uniformity > 0.715\n",
      "  \tC1: 0.511\tC2: 0.217\tUnc: 0.272\n",
      "  \n",
      "  Rule 9: shape_uniformity < -0.662\n",
      "  \tC1: 0.030\tC2: 0.889\tUnc: 0.081\n",
      "  \n",
      "  Rule 10: -0.662 < shape_uniformity < 0.011\n",
      "  \tC1: 0.160\tC2: 0.680\tUnc: 0.160\n",
      "  \n",
      "  Rule 11: 0.011 < shape_uniformity < 0.683\n",
      "  \tC1: 0.602\tC2: 0.172\tUnc: 0.226\n",
      "  \n",
      "  Rule 12: shape_uniformity > 0.683\n",
      "  \tC1: 0.522\tC2: 0.212\tUnc: 0.266\n",
      "  \n",
      "  Rule 13: marginal_adhesion < -0.672\n",
      "  \tC1: 0.000\tC2: 0.000\tUnc: 1.000\n",
      "  \n",
      "  Rule 14: -0.672 < marginal_adhesion < -0.004\n",
      "  \tC1: 0.133\tC2: 0.734\tUnc: 0.133\n",
      "  \n",
      "  Rule 15: -0.004 < marginal_adhesion < 0.665\n",
      "  \tC1: 0.721\tC2: 0.119\tUnc: 0.160\n",
      "  \n",
      "  Rule 16: marginal_adhesion > 0.665\n",
      "  \tC1: 0.545\tC2: 0.201\tUnc: 0.255\n",
      "  \n",
      "  Rule 17: epithelial_size < -0.658\n",
      "  \tC1: 0.067\tC2: 0.835\tUnc: 0.098\n",
      "  \n",
      "  Rule 18: -0.658 < epithelial_size < 0.036\n",
      "  \tC1: 0.127\tC2: 0.746\tUnc: 0.127\n",
      "  \n",
      "  Rule 19: 0.036 < epithelial_size < 0.730\n",
      "  \tC1: 0.613\tC2: 0.166\tUnc: 0.221\n",
      "  \n",
      "  Rule 20: epithelial_size > 0.730\n",
      "  \tC1: 0.530\tC2: 0.210\tUnc: 0.260\n",
      "  \n",
      "  Rule 21: bare_nucleoli < -0.660\n",
      "  \tC1: 0.130\tC2: 0.742\tUnc: 0.129\n",
      "  \n",
      "  Rule 22: -0.660 < bare_nucleoli < 0.014\n",
      "  \tC1: 0.143\tC2: 0.715\tUnc: 0.142\n",
      "  \n",
      "  Rule 23: 0.014 < bare_nucleoli < 0.687\n",
      "  \tC1: 0.675\tC2: 0.135\tUnc: 0.190\n",
      "  \n",
      "  Rule 24: bare_nucleoli > 0.687\n",
      "  \tC1: 0.548\tC2: 0.200\tUnc: 0.253\n",
      "  \n",
      "  Rule 25: bland_chromatin < -0.645\n",
      "  \tC1: 0.109\tC2: 0.771\tUnc: 0.120\n",
      "  \n",
      "  Rule 26: -0.645 < bland_chromatin < 0.020\n",
      "  \tC1: 0.126\tC2: 0.749\tUnc: 0.125\n",
      "  \n",
      "  Rule 27: 0.020 < bland_chromatin < 0.684\n",
      "  \tC1: 0.608\tC2: 0.169\tUnc: 0.223\n",
      "  \n",
      "  Rule 28: bland_chromatin > 0.684\n",
      "  \tC1: 0.541\tC2: 0.203\tUnc: 0.255\n",
      "  \n",
      "  Rule 29: normal_nucleoli < -0.660\n",
      "  \tC1: 0.000\tC2: 0.000\tUnc: 1.000\n",
      "  \n",
      "  Rule 30: -0.660 < normal_nucleoli < 0.021\n",
      "  \tC1: 0.131\tC2: 0.739\tUnc: 0.130\n",
      "  \n",
      "  Rule 31: 0.021 < normal_nucleoli < 0.703\n",
      "  \tC1: 0.623\tC2: 0.167\tUnc: 0.211\n",
      "  \n",
      "  Rule 32: normal_nucleoli > 0.703\n",
      "  \tC1: 0.551\tC2: 0.197\tUnc: 0.253\n",
      "  \n",
      "  Rule 33: mitoses < -0.681\n",
      "  \tC1: 0.000\tC2: 0.000\tUnc: 1.000\n",
      "  \n",
      "  Rule 34: -0.681 < mitoses < 0.029\n",
      "  \tC1: 0.122\tC2: 0.756\tUnc: 0.122\n",
      "  \n",
      "  Rule 35: 0.029 < mitoses < 0.738\n",
      "  \tC1: 0.704\tC2: 0.123\tUnc: 0.173\n",
      "  \n",
      "  Rule 36: mitoses > 0.738\n",
      "  \tC1: 0.511\tC2: 0.219\tUnc: 0.270\n",
      "  \n",
      "  Rule 37: Positive clump_thickness - -0.014, size_uniformity - 0.030\n",
      "  \tC1: 0.157\tC2: 0.042\tUnc: 0.801\n",
      "  \n",
      "  Rule 38: Negative clump_thickness - -0.014, size_uniformity - 0.030\n",
      "  \tC1: 0.220\tC2: 0.000\tUnc: 0.780\n",
      "  \n",
      "  Rule 39: Positive clump_thickness - -0.014, shape_uniformity - 0.011\n",
      "  \tC1: 0.122\tC2: 0.069\tUnc: 0.808\n",
      "  \n",
      "  Rule 40: Negative clump_thickness - -0.014, shape_uniformity - 0.011\n",
      "  \tC1: 0.155\tC2: 0.044\tUnc: 0.800\n",
      "  \n",
      "  Rule 41: Positive clump_thickness - -0.014, marginal_adhesion - -0.004\n",
      "  \tC1: 0.219\tC2: 0.000\tUnc: 0.781\n",
      "  \n",
      "  Rule 42: Negative clump_thickness - -0.014, marginal_adhesion - -0.004\n",
      "  \tC1: 0.165\tC2: 0.034\tUnc: 0.800\n",
      "  \n",
      "  Rule 43: Positive clump_thickness - -0.014, epithelial_size - 0.036\n",
      "  \tC1: 0.109\tC2: 0.082\tUnc: 0.809\n",
      "  \n",
      "  Rule 44: Negative clump_thickness - -0.014, epithelial_size - 0.036\n",
      "  \tC1: 0.141\tC2: 0.055\tUnc: 0.804\n",
      "  \n",
      "  Rule 45: Positive clump_thickness - -0.014, bare_nucleoli - 0.014\n",
      "  \tC1: 0.152\tC2: 0.047\tUnc: 0.802\n",
      "  \n",
      "  Rule 46: Negative clump_thickness - -0.014, bare_nucleoli - 0.014\n",
      "  \tC1: 0.216\tC2: 0.000\tUnc: 0.784\n",
      "  \n",
      "  Rule 47: Positive clump_thickness - -0.014, bland_chromatin - 0.020\n",
      "  \tC1: 0.137\tC2: 0.059\tUnc: 0.804\n",
      "  \n",
      "  Rule 48: Negative clump_thickness - -0.014, bland_chromatin - 0.020\n",
      "  \tC1: 0.178\tC2: 0.022\tUnc: 0.801\n",
      "  \n",
      "  Rule 49: Positive clump_thickness - -0.014, normal_nucleoli - 0.021\n",
      "  \tC1: 0.141\tC2: 0.055\tUnc: 0.804\n",
      "  \n",
      "  Rule 50: Negative clump_thickness - -0.014, normal_nucleoli - 0.021\n",
      "  \tC1: 0.197\tC2: 0.002\tUnc: 0.800\n",
      "  \n",
      "  Rule 51: Positive clump_thickness - -0.014, mitoses - 0.029\n",
      "  \tC1: 0.144\tC2: 0.054\tUnc: 0.802\n",
      "  \n",
      "  Rule 52: Negative clump_thickness - -0.014, mitoses - 0.029\n",
      "  \tC1: 0.146\tC2: 0.051\tUnc: 0.803\n",
      "  \n",
      "  Rule 53: Positive size_uniformity - 0.030, shape_uniformity - 0.011\n",
      "  \tC1: 0.092\tC2: 0.098\tUnc: 0.810\n",
      "  \n",
      "  Rule 54: Negative size_uniformity - 0.030, shape_uniformity - 0.011\n",
      "  \tC1: 0.171\tC2: 0.029\tUnc: 0.800\n",
      "  \n",
      "  Rule 55: Positive size_uniformity - 0.030, marginal_adhesion - -0.004\n",
      "  \tC1: 0.153\tC2: 0.047\tUnc: 0.800\n",
      "  \n",
      "  Rule 56: Negative size_uniformity - 0.030, marginal_adhesion - -0.004\n",
      "  \tC1: 0.228\tC2: 0.000\tUnc: 0.772\n",
      "  \n",
      "  Rule 57: Positive size_uniformity - 0.030, epithelial_size - 0.036\n",
      "  \tC1: 0.232\tC2: 0.000\tUnc: 0.768\n",
      "  \n",
      "  Rule 58: Negative size_uniformity - 0.030, epithelial_size - 0.036\n",
      "  \tC1: 0.139\tC2: 0.056\tUnc: 0.805\n",
      "  \n",
      "  Rule 59: Positive size_uniformity - 0.030, bare_nucleoli - 0.014\n",
      "  \tC1: 0.141\tC2: 0.056\tUnc: 0.803\n",
      "  \n",
      "  Rule 60: Negative size_uniformity - 0.030, bare_nucleoli - 0.014\n",
      "  \tC1: 0.202\tC2: 0.000\tUnc: 0.798\n",
      "  \n",
      "  Rule 61: Positive size_uniformity - 0.030, bland_chromatin - 0.020\n",
      "  \tC1: 0.118\tC2: 0.074\tUnc: 0.808\n",
      "  \n",
      "  Rule 62: Negative size_uniformity - 0.030, bland_chromatin - 0.020\n",
      "  \tC1: 0.213\tC2: 0.000\tUnc: 0.787\n",
      "  \n",
      "  Rule 63: Positive size_uniformity - 0.030, normal_nucleoli - 0.021\n",
      "  \tC1: 0.227\tC2: 0.000\tUnc: 0.773\n",
      "  \n",
      "  Rule 64: Negative size_uniformity - 0.030, normal_nucleoli - 0.021\n",
      "  \tC1: 0.161\tC2: 0.038\tUnc: 0.800\n",
      "  \n",
      "  Rule 65: Positive size_uniformity - 0.030, mitoses - 0.029\n",
      "  \tC1: 0.217\tC2: 0.000\tUnc: 0.783\n",
      "  \n",
      "  Rule 66: Negative size_uniformity - 0.030, mitoses - 0.029\n",
      "  \tC1: 0.112\tC2: 0.079\tUnc: 0.809\n",
      "  \n",
      "  Rule 67: Positive shape_uniformity - 0.011, marginal_adhesion - -0.004\n",
      "  \tC1: 0.186\tC2: 0.014\tUnc: 0.800\n",
      "  \n",
      "  Rule 68: Negative shape_uniformity - 0.011, marginal_adhesion - -0.004\n",
      "  \tC1: 0.078\tC2: 0.111\tUnc: 0.811\n",
      "  \n",
      "  Rule 69: Positive shape_uniformity - 0.011, epithelial_size - 0.036\n",
      "  \tC1: 0.175\tC2: 0.024\tUnc: 0.800\n",
      "  \n",
      "  Rule 70: Negative shape_uniformity - 0.011, epithelial_size - 0.036\n",
      "  \tC1: 0.154\tC2: 0.045\tUnc: 0.801\n",
      "  \n",
      "  Rule 71: Positive shape_uniformity - 0.011, bare_nucleoli - 0.014\n",
      "  \tC1: 0.164\tC2: 0.036\tUnc: 0.800\n",
      "  \n",
      "  Rule 72: Negative shape_uniformity - 0.011, bare_nucleoli - 0.014\n",
      "  \tC1: 0.119\tC2: 0.071\tUnc: 0.809\n",
      "  \n",
      "  Rule 73: Positive shape_uniformity - 0.011, bland_chromatin - 0.020\n",
      "  \tC1: 0.159\tC2: 0.041\tUnc: 0.800\n",
      "  \n",
      "  Rule 74: Negative shape_uniformity - 0.011, bland_chromatin - 0.020\n",
      "  \tC1: 0.067\tC2: 0.121\tUnc: 0.812\n",
      "  \n",
      "  Rule 75: Positive shape_uniformity - 0.011, normal_nucleoli - 0.021\n",
      "  \tC1: 0.100\tC2: 0.091\tUnc: 0.809\n",
      "  \n",
      "  Rule 76: Negative shape_uniformity - 0.011, normal_nucleoli - 0.021\n",
      "  \tC1: 0.147\tC2: 0.049\tUnc: 0.804\n",
      "  \n",
      "  Rule 77: Positive shape_uniformity - 0.011, mitoses - 0.029\n",
      "  \tC1: 0.201\tC2: 0.000\tUnc: 0.799\n",
      "  \n",
      "  Rule 78: Negative shape_uniformity - 0.011, mitoses - 0.029\n",
      "  \tC1: 0.149\tC2: 0.049\tUnc: 0.802\n",
      "  \n",
      "  Rule 79: Positive marginal_adhesion - -0.004, epithelial_size - 0.036\n",
      "  \tC1: 0.176\tC2: 0.023\tUnc: 0.800\n",
      "  \n",
      "  Rule 80: Negative marginal_adhesion - -0.004, epithelial_size - 0.036\n",
      "  \tC1: 0.207\tC2: 0.000\tUnc: 0.793\n",
      "  \n",
      "  Rule 81: Positive marginal_adhesion - -0.004, bare_nucleoli - 0.014\n",
      "  \tC1: 0.172\tC2: 0.028\tUnc: 0.800\n",
      "  \n",
      "  Rule 82: Negative marginal_adhesion - -0.004, bare_nucleoli - 0.014\n",
      "  \tC1: 0.162\tC2: 0.037\tUnc: 0.800\n",
      "  \n",
      "  Rule 83: Positive marginal_adhesion - -0.004, bland_chromatin - 0.020\n",
      "  \tC1: 0.240\tC2: 0.000\tUnc: 0.760\n",
      "  \n",
      "  Rule 84: Negative marginal_adhesion - -0.004, bland_chromatin - 0.020\n",
      "  \tC1: 0.166\tC2: 0.034\tUnc: 0.800\n",
      "  \n",
      "  Rule 85: Positive marginal_adhesion - -0.004, normal_nucleoli - 0.021\n",
      "  \tC1: 0.095\tC2: 0.096\tUnc: 0.808\n",
      "  \n",
      "  Rule 86: Negative marginal_adhesion - -0.004, normal_nucleoli - 0.021\n",
      "  \tC1: 0.061\tC2: 0.128\tUnc: 0.811\n",
      "  \n",
      "  Rule 87: Positive marginal_adhesion - -0.004, mitoses - 0.029\n",
      "  \tC1: 0.151\tC2: 0.046\tUnc: 0.803\n",
      "  \n",
      "  Rule 88: Negative marginal_adhesion - -0.004, mitoses - 0.029\n",
      "  \tC1: 0.164\tC2: 0.036\tUnc: 0.800\n",
      "  \n",
      "  Rule 89: Positive epithelial_size - 0.036, bare_nucleoli - 0.014\n",
      "  \tC1: 0.155\tC2: 0.045\tUnc: 0.801\n",
      "  \n",
      "  Rule 90: Negative epithelial_size - 0.036, bare_nucleoli - 0.014\n",
      "  \tC1: 0.196\tC2: 0.003\tUnc: 0.800\n",
      "  \n",
      "  Rule 91: Positive epithelial_size - 0.036, bland_chromatin - 0.020\n",
      "  \tC1: 0.198\tC2: 0.002\tUnc: 0.800\n",
      "  \n",
      "  Rule 92: Negative epithelial_size - 0.036, bland_chromatin - 0.020\n",
      "  \tC1: 0.207\tC2: 0.000\tUnc: 0.793\n",
      "  \n",
      "  Rule 93: Positive epithelial_size - 0.036, normal_nucleoli - 0.021\n",
      "  \tC1: 0.196\tC2: 0.004\tUnc: 0.800\n",
      "  \n",
      "  Rule 94: Negative epithelial_size - 0.036, normal_nucleoli - 0.021\n",
      "  \tC1: 0.157\tC2: 0.043\tUnc: 0.800\n",
      "  \n",
      "  Rule 95: Positive epithelial_size - 0.036, mitoses - 0.029\n",
      "  \tC1: 0.237\tC2: 0.000\tUnc: 0.763\n",
      "  \n",
      "  Rule 96: Negative epithelial_size - 0.036, mitoses - 0.029\n",
      "  \tC1: 0.177\tC2: 0.022\tUnc: 0.801\n",
      "  \n",
      "  Rule 97: Positive bare_nucleoli - 0.014, bland_chromatin - 0.020\n",
      "  \tC1: 0.107\tC2: 0.084\tUnc: 0.809\n",
      "  \n",
      "  Rule 98: Negative bare_nucleoli - 0.014, bland_chromatin - 0.020\n",
      "  \tC1: 0.065\tC2: 0.125\tUnc: 0.811\n",
      "  \n",
      "  Rule 99: Positive bare_nucleoli - 0.014, normal_nucleoli - 0.021\n",
      "  \tC1: 0.173\tC2: 0.027\tUnc: 0.801\n",
      "  \n",
      "  Rule 100: Negative bare_nucleoli - 0.014, normal_nucleoli - 0.021\n",
      "  \tC1: 0.214\tC2: 0.000\tUnc: 0.786\n",
      "  \n",
      "  Rule 101: Positive bare_nucleoli - 0.014, mitoses - 0.029\n",
      "  \tC1: 0.069\tC2: 0.121\tUnc: 0.810\n",
      "  \n",
      "  Rule 102: Negative bare_nucleoli - 0.014, mitoses - 0.029\n",
      "  \tC1: 0.194\tC2: 0.005\tUnc: 0.800\n",
      "  \n",
      "  Rule 103: Positive bland_chromatin - 0.020, normal_nucleoli - 0.021\n",
      "  \tC1: 0.078\tC2: 0.112\tUnc: 0.810\n",
      "  \n",
      "  Rule 104: Negative bland_chromatin - 0.020, normal_nucleoli - 0.021\n",
      "  \tC1: 0.218\tC2: 0.000\tUnc: 0.782\n",
      "  \n",
      "  Rule 105: Positive bland_chromatin - 0.020, mitoses - 0.029\n",
      "  \tC1: 0.061\tC2: 0.128\tUnc: 0.811\n",
      "  \n",
      "  Rule 106: Negative bland_chromatin - 0.020, mitoses - 0.029\n",
      "  \tC1: 0.087\tC2: 0.103\tUnc: 0.810\n",
      "  \n",
      "  Rule 107: Positive normal_nucleoli - 0.021, mitoses - 0.029\n",
      "  \tC1: 0.150\tC2: 0.049\tUnc: 0.801\n",
      "  \n",
      "  Rule 108: Negative normal_nucleoli - 0.021, mitoses - 0.029\n",
      "  \tC1: 0.105\tC2: 0.085\tUnc: 0.810\n",
      ")\n"
     ]
    },
    {
     "name": "stderr",
     "output_type": "stream",
     "text": [
      "\n"
     ]
    }
   ],
   "source": [
    "from sklearn.cluster import KMeans, AgglomerativeClustering, DBSCAN\n",
    "from sklearn.metrics import silhouette_score\n",
    "import plotly.express as px\n",
    "import pandas as pd\n",
    "import numpy as np\n",
    "import json\n",
    "import os\n",
    "\n",
    "import datetime \n",
    "import logging\n",
    "\n",
    "from sklearn.metrics import accuracy_score, f1_score\n",
    "from sklearn.metrics import confusion_matrix\n",
    "from sklearn.model_selection import cross_validate, cross_val_score\n",
    "from sklearn.model_selection import train_test_split\n",
    "from sklearn.preprocessing import StandardScaler\n",
    "from utils import filter_by_rule\n",
    "\n",
    "\n",
    "from DSClassifierMultiQ import DSClassifierMultiQ\n",
    "from DSRule import DSRule\n",
    "\n",
    "from tqdm import tqdm\n",
    "\n",
    "import warnings\n",
    "from pandas.errors import SettingWithCopyWarning\n",
    "warnings.simplefilter(action='ignore', category=(SettingWithCopyWarning, FutureWarning))\n",
    "\n",
    "\n",
    "logging.basicConfig(level=logging.INFO, format=\"%(asctime)s [%(levelname)s] %(message)s\", \n",
    "                    datefmt=\"%d-%b-%y %H:%M:%S\")\n",
    "\n",
    "# DATASET = \"gaussian_df.csv\"\n",
    "# PATH = os.path.join(os.getcwd(), \"..\", \"data\", DATASET)\n",
    "LOWER_CONFIDENCE_BY_PROPORTION = True\n",
    "OUTLIER_THRESHOLD_NUM_STD = 2\n",
    "\n",
    "DATA_FOLDER = os.path.join(os.getcwd(), \"..\", \"data_binary_scaled\")\n",
    "num_breaks = 3\n",
    "\n",
    "\n",
    "assert os.path.exists(DATA_FOLDER), f\"Data folder {DATA_FOLDER} does not exist\"\n",
    "\n",
    "datasets = [i for i in os.listdir(DATA_FOLDER) if i.endswith(\"csv\")]\n",
    "\n",
    "def report_results(y_test, y_pred, epoch=None, dt=None, losses=None, method=None, dataset=None, \n",
    "                   name=None, save_results=False, save_path=None, print_results=True):\n",
    "    if epoch and dt and losses:\n",
    "        if print_results:\n",
    "            logging.info(f\"Training Time: {dt:.2f}s\")\n",
    "            logging.info(f\"Epochs: {epoch+1}\")\n",
    "            logging.info(f\"Min Loss: {losses[-1]:.3f}\")\n",
    "            px.line(losses, markers=True).show()\n",
    "    \n",
    "    accuracy = accuracy_score(y_test, y_pred)\n",
    "    f1 = f1_score(y_test, y_pred)\n",
    "    conf_matrix = confusion_matrix(y_test, y_pred)\n",
    "    \n",
    "    if print_results:\n",
    "        logging.info(f\"Accuracy:  {accuracy:.2f}\")\n",
    "        logging.info(f\"F1 Score: {f1:.2f}\")\n",
    "        logging.info(f\"Confusion Matrix: \\n{conf_matrix}\")\n",
    "    \n",
    "    if save_results:\n",
    "        now = datetime.datetime.now().strftime(\"%d-%m-%Y %H:%M:%S\")\n",
    "        if save_path is None:\n",
    "            save_path = f\"experiments.csv\"\n",
    "        if name is None:\n",
    "            name = \"No name\"\n",
    "        res_row = {\"name\": name, \"MAF method\": method, \"dataset\": dataset,\n",
    "                   \"accuracy\": accuracy, \"f1\": f1, \n",
    "                    \"confusion_matrix\": conf_matrix, \n",
    "                    \"training_time\": dt, \"epochs\": epoch+1,\"min_loss\": losses[-1], \n",
    "                    \"datetime\": now, }\n",
    "        \n",
    "        res_df = pd.read_csv(save_path) if os.path.exists(save_path) else pd.DataFrame()\n",
    "        res_df = pd.concat([res_df, pd.DataFrame([res_row])], ignore_index=True)\n",
    "        res_df.to_csv(save_path, index=False)\n",
    "        \n",
    "        \n",
    "# df_okay.to_csv(\"df_okay.csv\", index=False)\n",
    "for path in tqdm(datasets):\n",
    "    logging.info(f\"\\n ------ Processing {path} ------\")\n",
    "    \n",
    "    dataset_name = path.split(\".\")[0]\n",
    "    \n",
    "    data = pd.read_csv(os.path.join(DATA_FOLDER, path))\n",
    "    \n",
    "    if \"id\" in data.columns:\n",
    "        data = data.drop(\"id\", axis=1)\n",
    "    \n",
    "    #? perhaps wont need this\n",
    "    data = data.drop(\"labels\", axis=1)\n",
    "    \n",
    "    ignore_for_training = [\"labels_clustering\", \"distance_norm\"]\n",
    "    df_cols = [i for i in list(data.columns) if i not in ignore_for_training]\n",
    "    \n",
    "    assert \"distance_norm\" in data.columns, \"Must have 'distance_norm' column\"\n",
    "    assert data.columns[-1] == \"labels_clustering\", \"Last column must be 'labels_clustering'\"\n",
    "    print(data[\"labels_clustering\"].value_counts())\n",
    "    logging.info(f\"Step 0: Data read done\")\n",
    "    \n",
    "    data = data.sample(frac=1).reset_index(drop=True)\n",
    "    data = data.apply(pd.to_numeric)\n",
    "    cut = int(0.7*len(data))\n",
    "\n",
    "    train_data_all = data.iloc[:cut]\n",
    "    \n",
    "    X_train_all = data.iloc[:cut, :-1]#.values\n",
    "    y_train = data.iloc[:cut, -1].values\n",
    "    X_test_all = data.iloc[cut:, :-1]#.values\n",
    "    y_test = data.iloc[cut:, -1].values\n",
    "        \n",
    "    X_train = X_train_all.drop(\"distance_norm\", axis=1).values\n",
    "    \n",
    "    X_test = X_test_all.drop(\"distance_norm\", axis=1).values\n",
    "    logging.info(f\"Step 1: Data split done\")\n",
    "    logging.debug(f\"\\tTrain: {len(X_train_all)} Test: {len(X_test_all)}\")\n",
    "\n",
    "    for method in [\"random\", \"kmeans\"]:\n",
    "        name = f\"{path} (scaled), {num_breaks} single breaks, add_mult_rules, maf_method={method}\"\n",
    "        logging.debug(f\"\\tSTART {name}\")\n",
    "        DSC = DSClassifierMultiQ(2, debug_mode=True, num_workers=0, maf_method=method,\n",
    "                                data=train_data_all) \n",
    "\n",
    "        # assert X and y train are numpy arrays\n",
    "        assert isinstance(X_train, np.ndarray), \"X_train must be a numpy array\"\n",
    "        assert isinstance(y_train, np.ndarray), \"y_train must be a numpy array\"\n",
    "        logging.info(f\"Step 2: Model init done\")\n",
    "        res = DSC.fit(X_train, y_train, \n",
    "                    add_single_rules=True, single_rules_breaks=num_breaks, add_mult_rules=True,\n",
    "                    column_names=df_cols, print_every_epochs=5, print_final_model=True)\n",
    "        losses, epoch, dt = res\n",
    "\n",
    "        logging.info(f\"Step 3: Model fit done\")\n",
    "\n",
    "        DSC.model.save_rules_bin(os.path.join(\"rules_saved\", f\"{name}.dsb\"))\n",
    "\n",
    "        # dataset_name.lstrip(\"K\")\n",
    "        with open(os.path.join(DATA_FOLDER, \"results\", f\"{dataset_name}.json\")) as f:\n",
    "            results = json.load(f)\n",
    "\n",
    "        logging.info(f\"Step 4: Model save done\")\n",
    "        \n",
    "        st_sc = StandardScaler()\n",
    "        st_sc.scale_ = np.array(results[\"scale\"])\n",
    "        st_sc.mean_ = np.array(results[\"mean\"])\n",
    "        st_sc.var_ = np.array(results[\"var\"])\n",
    "        \n",
    "        X_test = st_sc.transform(X_test)\n",
    "        \n",
    "        y_pred = DSC.predict(X_test)\n",
    "        \n",
    "        logging.info(f\"Step 5: Inference done\")\n",
    "        \n",
    "        report_results(y_test, y_pred, dataset=dataset_name, method=method,\n",
    "                       epoch=epoch, dt=dt, losses=losses, \n",
    "                    save_results=True, name=name, print_results=False)\n",
    "        logging.info(\"-\"*30)\n",
    "    break"
   ]
  },
  {
   "cell_type": "markdown",
   "metadata": {},
   "source": [
    "## Data prep"
   ]
  },
  {
   "cell_type": "code",
   "execution_count": 3,
   "metadata": {},
   "outputs": [],
   "source": [
    "# df_okay.to_csv(\"df_okay.csv\", index=False)\n",
    "\n",
    "df_okay = pd.read_csv(\"df_okay.csv\")"
   ]
  },
  {
   "cell_type": "code",
   "execution_count": 4,
   "metadata": {},
   "outputs": [
    {
     "name": "stderr",
     "output_type": "stream",
     "text": [
      "23-Apr-24 21:20:45 [INFO] Train: 343 Test: 147\n"
     ]
    }
   ],
   "source": [
    "# train test split\n",
    "\n",
    "X = df_okay[[\"x\", \"y\"]]\n",
    "y = df_okay[\"labels_clustering\"]\n",
    "\n",
    "data = df_okay[[\"x\", 'y', 'labels_clustering']]\n",
    "\n",
    "# X_train, X_test, y_train, y_test = train_test_split(X, y, test_size=0.2, random_state=42)\n",
    "data = data.sample(frac=1).reset_index(drop=True)\n",
    "\n",
    "data = data.apply(pd.to_numeric)\n",
    "cut = int(0.7*len(data))\n",
    "\n",
    "X_train = data.iloc[:cut, :-1].values\n",
    "y_train = data.iloc[:cut, -1].values\n",
    "X_test = data.iloc[cut:, :-1].values\n",
    "y_test = data.iloc[cut:, -1].values\n",
    "\n",
    "\n",
    "logging.info(f\"Train: {len(X_train)} Test: {len(X_test)}\")\n",
    "\n"
   ]
  },
  {
   "cell_type": "code",
   "execution_count": 9,
   "metadata": {},
   "outputs": [],
   "source": [
    "\n",
    "# data = pd.read_csv(\"../data/breast-cancer-wisconsin.csv\")\n",
    "\n",
    "# data = data.drop(\"id\", axis=1)\n",
    "# data[\"class\"] = data[\"class\"].map({2: 0, 4: 1})\n",
    "\n",
    "# data = data.apply(pd.to_numeric, args=(\"coerce\",))\n",
    "# data = data.sample(frac=1).reset_index(drop=True)\n",
    "\n",
    "# cut = int(0.7*len(data))\n",
    "\n",
    "# X_train = data.iloc[:cut, :-1].values\n",
    "# y_train = data.iloc[:cut, -1].values\n",
    "# X_test = data.iloc[cut:, :-1].values\n",
    "# y_test = data.iloc[cut:, -1].values\n"
   ]
  },
  {
   "cell_type": "code",
   "execution_count": 7,
   "metadata": {},
   "outputs": [],
   "source": [
    "# def uniform_rule(X, num_parts=5, col_names=None):\n",
    "#     # create a uniform rule\n",
    "#     rules = []\n",
    "    \n",
    "#     for i in range(X.shape[1]):\n",
    "#         col = X[:, i]\n",
    "#         min_val = np.min(col)\n",
    "#         max_val = np.max(col)\n",
    "        \n",
    "#         step = (max_val - min_val) / num_parts\n",
    "        \n",
    "#         for j in range(num_parts):\n",
    "#             text = f\"{min_val + j*step} <= x[{i}] <= {min_val + (j+1)*step}\"\n",
    "#             print(text)\n",
    "#             # todo\n",
    "#             rules.append(DSRule(lambda x: min_val + j*step <= x[i] <= min_val + (j+1)*step))\n",
    "            \n",
    "#     return rules"
   ]
  },
  {
   "cell_type": "code",
   "execution_count": 8,
   "metadata": {},
   "outputs": [],
   "source": [
    "# rules = uniform_rule(X_train, 3, col_names=[\"x\", \"y\"])\n",
    "# rules"
   ]
  },
  {
   "cell_type": "markdown",
   "metadata": {},
   "source": [
    "## Run Model"
   ]
  },
  {
   "cell_type": "code",
   "execution_count": 12,
   "metadata": {},
   "outputs": [],
   "source": [
    "\n",
    "\n",
    "# from importlib import reload\n",
    "# reload(DSClassifierMultiQ)\n"
   ]
  },
  {
   "cell_type": "code",
   "execution_count": 5,
   "metadata": {},
   "outputs": [
    {
     "name": "stderr",
     "output_type": "stream",
     "text": [
      "23-Apr-24 21:20:49 [INFO] Training DSClassifierMultiQ\n"
     ]
    },
    {
     "name": "stdout",
     "output_type": "stream",
     "text": [
      "Patient is adult pred\n",
      "[0.08894394 0.11105606 0.8       ]\n",
      "x < 0.312 pred\n"
     ]
    },
    {
     "ename": "AssertionError",
     "evalue": "Data must be provided for kmeans method",
     "output_type": "error",
     "traceback": [
      "\u001b[1;31m---------------------------------------------------------------------------\u001b[0m",
      "\u001b[1;31mAssertionError\u001b[0m                            Traceback (most recent call last)",
      "Cell \u001b[1;32mIn[5], line 25\u001b[0m\n\u001b[0;32m     15\u001b[0m DSC\u001b[38;5;241m.\u001b[39mmodel\u001b[38;5;241m.\u001b[39madd_rule(DSRule(\u001b[38;5;28;01mlambda\u001b[39;00m x: x[\u001b[38;5;241m0\u001b[39m] \u001b[38;5;241m>\u001b[39m \u001b[38;5;241m18\u001b[39m, \u001b[38;5;124m\"\u001b[39m\u001b[38;5;124mPatient is adult\u001b[39m\u001b[38;5;124m\"\u001b[39m))\n\u001b[0;32m     16\u001b[0m \u001b[38;5;66;03m# DSC.model.add_rule(DSRule(lambda x: x[0] < 18, \"Patient is adult\"))\u001b[39;00m\n\u001b[0;32m     17\u001b[0m \u001b[38;5;66;03m# for i in range(len(rules)):\u001b[39;00m\n\u001b[0;32m     18\u001b[0m \u001b[38;5;66;03m#     # print(rules[i])\u001b[39;00m\n\u001b[1;32m   (...)\u001b[0m\n\u001b[0;32m     21\u001b[0m \n\u001b[0;32m     22\u001b[0m \u001b[38;5;66;03m# for num_breaks in [2, 3, 4, 5]:\u001b[39;00m\n\u001b[1;32m---> 25\u001b[0m res \u001b[38;5;241m=\u001b[39m \u001b[43mDSC\u001b[49m\u001b[38;5;241;43m.\u001b[39;49m\u001b[43mfit\u001b[49m\u001b[43m(\u001b[49m\u001b[43mX_train\u001b[49m\u001b[43m,\u001b[49m\u001b[43m \u001b[49m\u001b[43my_train\u001b[49m\u001b[43m,\u001b[49m\u001b[43m \u001b[49m\n\u001b[0;32m     26\u001b[0m \u001b[43m            \u001b[49m\u001b[43madd_single_rules\u001b[49m\u001b[38;5;241;43m=\u001b[39;49m\u001b[38;5;28;43;01mTrue\u001b[39;49;00m\u001b[43m,\u001b[49m\u001b[43m \u001b[49m\u001b[43msingle_rules_breaks\u001b[49m\u001b[38;5;241;43m=\u001b[39;49m\u001b[43mnum_breaks\u001b[49m\u001b[43m,\u001b[49m\u001b[43m \u001b[49m\u001b[43madd_mult_rules\u001b[49m\u001b[38;5;241;43m=\u001b[39;49m\u001b[38;5;28;43;01mFalse\u001b[39;49;00m\u001b[43m,\u001b[49m\n\u001b[0;32m     27\u001b[0m \u001b[43m            \u001b[49m\u001b[43mcolumn_names\u001b[49m\u001b[38;5;241;43m=\u001b[39;49m\u001b[43m[\u001b[49m\u001b[38;5;124;43m\"\u001b[39;49m\u001b[38;5;124;43mx\u001b[39;49m\u001b[38;5;124;43m\"\u001b[39;49m\u001b[43m,\u001b[49m\u001b[43m \u001b[49m\u001b[38;5;124;43m'\u001b[39;49m\u001b[38;5;124;43my\u001b[39;49m\u001b[38;5;124;43m'\u001b[39;49m\u001b[43m]\u001b[49m\u001b[43m,\u001b[49m\u001b[43m \u001b[49m\u001b[43mprint_every_epochs\u001b[49m\u001b[38;5;241;43m=\u001b[39;49m\u001b[38;5;241;43m1\u001b[39;49m\u001b[43m,\u001b[49m\u001b[43m \u001b[49m\u001b[43mprint_final_model\u001b[49m\u001b[38;5;241;43m=\u001b[39;49m\u001b[38;5;28;43;01mTrue\u001b[39;49;00m\u001b[43m)\u001b[49m\n\u001b[0;32m     29\u001b[0m losses, epoch, dt \u001b[38;5;241m=\u001b[39m res\n\u001b[0;32m     31\u001b[0m DSC\u001b[38;5;241m.\u001b[39mmodel\u001b[38;5;241m.\u001b[39msave_rules_bin(os\u001b[38;5;241m.\u001b[39mpath\u001b[38;5;241m.\u001b[39mjoin(\u001b[38;5;124m\"\u001b[39m\u001b[38;5;124mrules_saved\u001b[39m\u001b[38;5;124m\"\u001b[39m, \u001b[38;5;124mf\u001b[39m\u001b[38;5;124m\"\u001b[39m\u001b[38;5;132;01m{\u001b[39;00mname\u001b[38;5;132;01m}\u001b[39;00m\u001b[38;5;124m.dsb\u001b[39m\u001b[38;5;124m\"\u001b[39m))\n",
      "File \u001b[1;32mc:\\Users\\hayk_\\OneDrive\\Desktop\\Thesis\\CDSGD\\cdsgd\\DSClassifierMultiQ.py:78\u001b[0m, in \u001b[0;36mDSClassifierMultiQ.fit\u001b[1;34m(self, X, y, add_single_rules, single_rules_breaks, add_mult_rules, column_names, **kwargs)\u001b[0m\n\u001b[0;32m     68\u001b[0m \u001b[38;5;66;03m# if self.balance_class_data:\u001b[39;00m\n\u001b[0;32m     69\u001b[0m \u001b[38;5;66;03m#     nmin = np.max(np.bincount(y))\u001b[39;00m\n\u001b[0;32m     70\u001b[0m \u001b[38;5;66;03m#     Xm = pd.DataFrame(np.concatenate((X,y.reshape(-1,1)), axis=1))\u001b[39;00m\n\u001b[1;32m   (...)\u001b[0m\n\u001b[0;32m     74\u001b[0m \u001b[38;5;66;03m#     X = Xm[:,:-1]\u001b[39;00m\n\u001b[0;32m     75\u001b[0m \u001b[38;5;66;03m#     y = Xm[:,-1].astype(int)\u001b[39;00m\n\u001b[0;32m     77\u001b[0m \u001b[38;5;28;01mif\u001b[39;00m add_single_rules:\n\u001b[1;32m---> 78\u001b[0m     \u001b[38;5;28;43mself\u001b[39;49m\u001b[38;5;241;43m.\u001b[39;49m\u001b[43mmodel\u001b[49m\u001b[38;5;241;43m.\u001b[39;49m\u001b[43mgenerate_statistic_single_rules\u001b[49m\u001b[43m(\u001b[49m\u001b[43mX\u001b[49m\u001b[43m,\u001b[49m\u001b[43m \u001b[49m\u001b[43mbreaks\u001b[49m\u001b[38;5;241;43m=\u001b[39;49m\u001b[43msingle_rules_breaks\u001b[49m\u001b[43m,\u001b[49m\u001b[43m \u001b[49m\u001b[43mcolumn_names\u001b[49m\u001b[38;5;241;43m=\u001b[39;49m\u001b[43mcolumn_names\u001b[49m\u001b[43m)\u001b[49m\n\u001b[0;32m     79\u001b[0m \u001b[38;5;28;01mif\u001b[39;00m add_mult_rules:\n\u001b[0;32m     80\u001b[0m     \u001b[38;5;28mself\u001b[39m\u001b[38;5;241m.\u001b[39mmodel\u001b[38;5;241m.\u001b[39mgenerate_mult_pair_rules(X, column_names\u001b[38;5;241m=\u001b[39mcolumn_names)\n",
      "File \u001b[1;32mc:\\Users\\hayk_\\OneDrive\\Desktop\\Thesis\\CDSGD\\cdsgd\\DSModelMultiQ.py:281\u001b[0m, in \u001b[0;36mDSModelMultiQ.generate_statistic_single_rules\u001b[1;34m(self, X, breaks, column_names, generated_columns)\u001b[0m\n\u001b[0;32m    279\u001b[0m v \u001b[38;5;241m=\u001b[39m mean[i] \u001b[38;5;241m+\u001b[39m std[i] \u001b[38;5;241m*\u001b[39m brks[\u001b[38;5;241m0\u001b[39m]\n\u001b[0;32m    280\u001b[0m rule \u001b[38;5;241m=\u001b[39m DSRule(\u001b[38;5;28;01mlambda\u001b[39;00m x, i\u001b[38;5;241m=\u001b[39mi, v\u001b[38;5;241m=\u001b[39mv: x[i] \u001b[38;5;241m<\u001b[39m\u001b[38;5;241m=\u001b[39m v, \u001b[38;5;124mf\u001b[39m\u001b[38;5;124m\"\u001b[39m\u001b[38;5;132;01m{\u001b[39;00mcolumn_names[i]\u001b[38;5;132;01m}\u001b[39;00m\u001b[38;5;124m < \u001b[39m\u001b[38;5;132;01m{\u001b[39;00mv\u001b[38;5;132;01m:\u001b[39;00m\u001b[38;5;124m.3f\u001b[39m\u001b[38;5;132;01m}\u001b[39;00m\u001b[38;5;124m\"\u001b[39m)\n\u001b[1;32m--> 281\u001b[0m \u001b[38;5;28;43mself\u001b[39;49m\u001b[38;5;241;43m.\u001b[39;49m\u001b[43madd_rule\u001b[49m\u001b[43m(\u001b[49m\u001b[43mrule\u001b[49m\u001b[43m,\u001b[49m\u001b[43m \u001b[49m\u001b[43mmethod\u001b[49m\u001b[38;5;241;43m=\u001b[39;49m\u001b[38;5;28;43mself\u001b[39;49m\u001b[38;5;241;43m.\u001b[39;49m\u001b[43mmaf_method\u001b[49m\u001b[43m)\u001b[49m\n\u001b[0;32m    282\u001b[0m \u001b[38;5;66;03m# Mid rules\u001b[39;00m\n\u001b[0;32m    283\u001b[0m \u001b[38;5;28;01mfor\u001b[39;00m j \u001b[38;5;129;01min\u001b[39;00m \u001b[38;5;28mrange\u001b[39m(\u001b[38;5;241m1\u001b[39m, \u001b[38;5;28mlen\u001b[39m(brks)):\n",
      "File \u001b[1;32mc:\\Users\\hayk_\\OneDrive\\Desktop\\Thesis\\CDSGD\\cdsgd\\DSModelMultiQ.py:58\u001b[0m, in \u001b[0;36mDSModelMultiQ.add_rule\u001b[1;34m(self, pred, m_sing, m_uncert, method, data)\u001b[0m\n\u001b[0;32m     56\u001b[0m         masses \u001b[38;5;241m=\u001b[39m m_sing \u001b[38;5;241m+\u001b[39m [m_uncert]\n\u001b[0;32m     57\u001b[0m \u001b[38;5;28;01melif\u001b[39;00m method \u001b[38;5;241m==\u001b[39m \u001b[38;5;124m\"\u001b[39m\u001b[38;5;124mkmeans\u001b[39m\u001b[38;5;124m\"\u001b[39m:\n\u001b[1;32m---> 58\u001b[0m     \u001b[38;5;28;01massert\u001b[39;00m data \u001b[38;5;129;01mis\u001b[39;00m \u001b[38;5;129;01mnot\u001b[39;00m \u001b[38;5;28;01mNone\u001b[39;00m, \u001b[38;5;124m\"\u001b[39m\u001b[38;5;124mData must be provided for kmeans method\u001b[39m\u001b[38;5;124m\"\u001b[39m\n\u001b[0;32m     59\u001b[0m     create_uncertainty_kmeans(\u001b[38;5;28mself\u001b[39m\u001b[38;5;241m.\u001b[39mdata, pred)\n\u001b[0;32m     60\u001b[0m     \u001b[38;5;28mprint\u001b[39m(\u001b[38;5;124m\"\u001b[39m\u001b[38;5;124mdone\u001b[39m\u001b[38;5;124m\"\u001b[39m)\n",
      "\u001b[1;31mAssertionError\u001b[0m: Data must be provided for kmeans method"
     ]
    }
   ],
   "source": [
    "\n",
    "from DSClassifierMultiQ import DSClassifierMultiQ\n",
    "from DSRule import DSRule\n",
    "\n",
    "num_breaks = 3\n",
    "method = \"full\"\n",
    "method = \"kmeans\"\n",
    "name = f\"gauusian, {num_breaks} single breaks, add_mult_rules=False,  maf_method={method}\"\n",
    "\n",
    "\n",
    "logging.info(\"Training DSClassifierMultiQ\")\n",
    "# DSC = DSClassifierMultiQ(2, debug_mode=True, num_workers=0)\n",
    "DSC = DSClassifierMultiQ(2, debug_mode=True, num_workers=0, maf_method=method,\n",
    "                         data=df_okay.iloc[:cut])\n",
    "\n",
    "DSC.model.add_rule(DSRule(lambda x: x[0] > 18, \"Patient is adult\"))\n",
    "# DSC.model.add_rule(DSRule(lambda x: x[0] < 18, \"Patient is adult\"))\n",
    "# for i in range(len(rules)):\n",
    "#     # print(rules[i])\n",
    "#     DSC.model.add_rule(rules[i])\n",
    "\n",
    "\n",
    "# for num_breaks in [2, 3, 4, 5]:\n",
    "\n",
    "\n",
    "res = DSC.fit(X_train, y_train, \n",
    "            add_single_rules=True, single_rules_breaks=num_breaks, add_mult_rules=False,\n",
    "            column_names=[\"x\", 'y'], print_every_epochs=1, print_final_model=True)\n",
    "\n",
    "losses, epoch, dt = res\n",
    "\n",
    "DSC.model.save_rules_bin(os.path.join(\"rules_saved\", f\"{name}.dsb\"))\n",
    "\n",
    "\n",
    "y_pred = DSC.predict(X_test)\n",
    "\n",
    "    \n",
    "report_results(y_test, y_pred, epoch=epoch, dt=dt, losses=losses, \n",
    "            save_results=True, name=name)"
   ]
  },
  {
   "cell_type": "code",
   "execution_count": null,
   "metadata": {},
   "outputs": [
    {
     "name": "stderr",
     "output_type": "stream",
     "text": [
      "23-Apr-24 18:20:16 [INFO] Training Time: 25.26s\n",
      "23-Apr-24 18:20:16 [INFO] Epochs: 200\n",
      "23-Apr-24 18:20:16 [INFO] Min Loss: 0.027\n"
     ]
    },
    {
     "data": {
      "application/vnd.plotly.v1+json": {
       "config": {
        "plotlyServerURL": "https://plot.ly"
       },
       "data": [
        {
         "hovertemplate": "variable=0<br>index=%{x}<br>value=%{y}<extra></extra>",
         "legendgroup": "0",
         "line": {
          "color": "#636efa",
          "dash": "solid"
         },
         "marker": {
          "symbol": "circle"
         },
         "mode": "lines+markers",
         "name": "0",
         "orientation": "v",
         "showlegend": true,
         "type": "scatter",
         "x": [
          0,
          1,
          2,
          3,
          4,
          5,
          6,
          7,
          8,
          9,
          10,
          11,
          12,
          13,
          14,
          15,
          16,
          17,
          18,
          19,
          20,
          21,
          22,
          23,
          24,
          25,
          26,
          27,
          28,
          29,
          30,
          31,
          32,
          33,
          34,
          35,
          36,
          37,
          38,
          39,
          40,
          41,
          42,
          43,
          44,
          45,
          46,
          47,
          48,
          49,
          50,
          51,
          52,
          53,
          54,
          55,
          56,
          57,
          58,
          59,
          60,
          61,
          62,
          63,
          64,
          65,
          66,
          67,
          68,
          69,
          70,
          71,
          72,
          73,
          74,
          75,
          76,
          77,
          78,
          79,
          80,
          81,
          82,
          83,
          84,
          85,
          86,
          87,
          88,
          89,
          90,
          91,
          92,
          93,
          94,
          95,
          96,
          97,
          98,
          99,
          100,
          101,
          102,
          103,
          104,
          105,
          106,
          107,
          108,
          109,
          110,
          111,
          112,
          113,
          114,
          115,
          116,
          117,
          118,
          119,
          120,
          121,
          122,
          123,
          124,
          125,
          126,
          127,
          128,
          129,
          130,
          131,
          132,
          133,
          134,
          135,
          136,
          137,
          138,
          139,
          140,
          141,
          142,
          143,
          144,
          145,
          146,
          147,
          148,
          149,
          150,
          151,
          152,
          153,
          154,
          155,
          156,
          157,
          158,
          159,
          160,
          161,
          162,
          163,
          164,
          165,
          166,
          167,
          168,
          169,
          170,
          171,
          172,
          173,
          174,
          175,
          176,
          177,
          178,
          179,
          180,
          181,
          182,
          183,
          184,
          185,
          186,
          187,
          188,
          189,
          190,
          191,
          192,
          193,
          194,
          195,
          196,
          197,
          198,
          199
         ],
         "xaxis": "x",
         "y": [
          0.28024542331695557,
          0.2746351957321167,
          0.26910853385925293,
          0.2636667490005493,
          0.2583102881908417,
          0.25303807854652405,
          0.24784784018993378,
          0.24273930490016937,
          0.23771518468856812,
          0.23277536034584045,
          0.2279190868139267,
          0.22326646745204926,
          0.2187054306268692,
          0.21421952545642853,
          0.2098085731267929,
          0.20557348430156708,
          0.20166262984275818,
          0.19780951738357544,
          0.19401350617408752,
          0.19027592241764069,
          0.18659739196300507,
          0.18298016488552094,
          0.17942482233047485,
          0.17594990134239197,
          0.17280009388923645,
          0.16970348358154297,
          0.16666004061698914,
          0.16371561586856842,
          0.16090664267539978,
          0.15814636647701263,
          0.15543459355831146,
          0.1530817151069641,
          0.1508871167898178,
          0.14893822371959686,
          0.14711079001426697,
          0.14534305036067963,
          0.14359435439109802,
          0.14186419546604156,
          0.14015226066112518,
          0.138458251953125,
          0.13678182661533356,
          0.13512283563613892,
          0.13348105549812317,
          0.131856307387352,
          0.13024848699569702,
          0.1286574900150299,
          0.1270831972360611,
          0.125525563955307,
          0.12398450076580048,
          0.1224600225687027,
          0.12095201760530472,
          0.11946050077676773,
          0.11798544973134995,
          0.11652681231498718,
          0.11508461087942123,
          0.11365880817174911,
          0.11224934458732605,
          0.1108563020825386,
          0.10947958379983902,
          0.1081191897392273,
          0.10677511990070343,
          0.10544732958078384,
          0.10413581132888794,
          0.10284047573804855,
          0.10156134516000748,
          0.10029838979244232,
          0.09905149787664413,
          0.09782064706087112,
          0.0966058149933815,
          0.0954069271683693,
          0.09422390162944794,
          0.09305667132139206,
          0.0919051244854927,
          0.09076925367116928,
          0.08964891731739044,
          0.08854405581951141,
          0.08745453506708145,
          0.08638031780719757,
          0.08532122522592545,
          0.08427722007036209,
          0.08324813097715378,
          0.08223385363817215,
          0.08123427629470825,
          0.08024926483631134,
          0.07927868515253067,
          0.07832241803407669,
          0.07738033682107925,
          0.07645226269960403,
          0.07553809881210327,
          0.07463767379522324,
          0.0737508237361908,
          0.07287745922803879,
          0.0720173716545105,
          0.07117042690515518,
          0.0703364685177803,
          0.06951534003019333,
          0.06870689243078232,
          0.06791093945503235,
          0.06712735444307327,
          0.06635594367980957,
          0.0655965656042099,
          0.06484905630350113,
          0.06411325186491013,
          0.06338898837566376,
          0.0626760944724083,
          0.061974409967660904,
          0.06128377839922905,
          0.0606040395796299,
          0.05993500351905823,
          0.059276554733514786,
          0.058628492057323456,
          0.0579906702041626,
          0.05736292153596878,
          0.056745097041130066,
          0.05613702908158302,
          0.05553857609629631,
          0.0549495592713356,
          0.054369840770959854,
          0.053799260407686234,
          0.053237657994031906,
          0.05268491059541702,
          0.05214085057377815,
          0.05160531401634216,
          0.0510781854391098,
          0.05055928975343704,
          0.050048526376485825,
          0.04954572021961212,
          0.049050744622945786,
          0.048563454300165176,
          0.04808371514081955,
          0.04761139675974846,
          0.04714636504650116,
          0.0466884970664978,
          0.046237654983997345,
          0.04579371586441994,
          0.04535656049847603,
          0.04492605850100517,
          0.044502079486846924,
          0.04408453404903412,
          0.04367327317595482,
          0.043268196284770966,
          0.0428691990673542,
          0.04247615486383438,
          0.04208895564079285,
          0.041707511991262436,
          0.041331697255373,
          0.04096141457557678,
          0.04059657081961632,
          0.04023704677820206,
          0.039882760494947433,
          0.039533600211143494,
          0.03918948024511337,
          0.03885030746459961,
          0.03851599991321564,
          0.0381864495575428,
          0.037861574441194534,
          0.03754129633307457,
          0.03722551837563515,
          0.036914169788360596,
          0.036607153713703156,
          0.03630441427230835,
          0.03600584715604782,
          0.035711389034986496,
          0.035420969128608704,
          0.03513449802994728,
          0.03485191613435745,
          0.03457315266132355,
          0.034298136830329895,
          0.03402679041028023,
          0.03375905752182007,
          0.033494871109724045,
          0.03323417529463768,
          0.032976891845464706,
          0.03272296115756035,
          0.03247233107686043,
          0.03222493827342987,
          0.0319807305932045,
          0.031739652156829834,
          0.03150162845849991,
          0.03126663342118263,
          0.031034598127007484,
          0.030805468559265137,
          0.030579201877117157,
          0.030355753377079964,
          0.03013506345450878,
          0.02991708368062973,
          0.029701774939894676,
          0.02948908321559429,
          0.029278971254825592,
          0.029071390628814697,
          0.028866304084658623,
          0.02866366319358349,
          0.02846343256533146,
          0.028265558183193207,
          0.028070027008652687,
          0.027876773849129677,
          0.027685776352882385,
          0.027496997267007828,
          0.027310382574796677,
          0.027125922963023186
         ],
         "yaxis": "y"
        }
       ],
       "layout": {
        "legend": {
         "title": {
          "text": "variable"
         },
         "tracegroupgap": 0
        },
        "margin": {
         "t": 60
        },
        "template": {
         "data": {
          "bar": [
           {
            "error_x": {
             "color": "#2a3f5f"
            },
            "error_y": {
             "color": "#2a3f5f"
            },
            "marker": {
             "line": {
              "color": "#E5ECF6",
              "width": 0.5
             },
             "pattern": {
              "fillmode": "overlay",
              "size": 10,
              "solidity": 0.2
             }
            },
            "type": "bar"
           }
          ],
          "barpolar": [
           {
            "marker": {
             "line": {
              "color": "#E5ECF6",
              "width": 0.5
             },
             "pattern": {
              "fillmode": "overlay",
              "size": 10,
              "solidity": 0.2
             }
            },
            "type": "barpolar"
           }
          ],
          "carpet": [
           {
            "aaxis": {
             "endlinecolor": "#2a3f5f",
             "gridcolor": "white",
             "linecolor": "white",
             "minorgridcolor": "white",
             "startlinecolor": "#2a3f5f"
            },
            "baxis": {
             "endlinecolor": "#2a3f5f",
             "gridcolor": "white",
             "linecolor": "white",
             "minorgridcolor": "white",
             "startlinecolor": "#2a3f5f"
            },
            "type": "carpet"
           }
          ],
          "choropleth": [
           {
            "colorbar": {
             "outlinewidth": 0,
             "ticks": ""
            },
            "type": "choropleth"
           }
          ],
          "contour": [
           {
            "colorbar": {
             "outlinewidth": 0,
             "ticks": ""
            },
            "colorscale": [
             [
              0,
              "#0d0887"
             ],
             [
              0.1111111111111111,
              "#46039f"
             ],
             [
              0.2222222222222222,
              "#7201a8"
             ],
             [
              0.3333333333333333,
              "#9c179e"
             ],
             [
              0.4444444444444444,
              "#bd3786"
             ],
             [
              0.5555555555555556,
              "#d8576b"
             ],
             [
              0.6666666666666666,
              "#ed7953"
             ],
             [
              0.7777777777777778,
              "#fb9f3a"
             ],
             [
              0.8888888888888888,
              "#fdca26"
             ],
             [
              1,
              "#f0f921"
             ]
            ],
            "type": "contour"
           }
          ],
          "contourcarpet": [
           {
            "colorbar": {
             "outlinewidth": 0,
             "ticks": ""
            },
            "type": "contourcarpet"
           }
          ],
          "heatmap": [
           {
            "colorbar": {
             "outlinewidth": 0,
             "ticks": ""
            },
            "colorscale": [
             [
              0,
              "#0d0887"
             ],
             [
              0.1111111111111111,
              "#46039f"
             ],
             [
              0.2222222222222222,
              "#7201a8"
             ],
             [
              0.3333333333333333,
              "#9c179e"
             ],
             [
              0.4444444444444444,
              "#bd3786"
             ],
             [
              0.5555555555555556,
              "#d8576b"
             ],
             [
              0.6666666666666666,
              "#ed7953"
             ],
             [
              0.7777777777777778,
              "#fb9f3a"
             ],
             [
              0.8888888888888888,
              "#fdca26"
             ],
             [
              1,
              "#f0f921"
             ]
            ],
            "type": "heatmap"
           }
          ],
          "heatmapgl": [
           {
            "colorbar": {
             "outlinewidth": 0,
             "ticks": ""
            },
            "colorscale": [
             [
              0,
              "#0d0887"
             ],
             [
              0.1111111111111111,
              "#46039f"
             ],
             [
              0.2222222222222222,
              "#7201a8"
             ],
             [
              0.3333333333333333,
              "#9c179e"
             ],
             [
              0.4444444444444444,
              "#bd3786"
             ],
             [
              0.5555555555555556,
              "#d8576b"
             ],
             [
              0.6666666666666666,
              "#ed7953"
             ],
             [
              0.7777777777777778,
              "#fb9f3a"
             ],
             [
              0.8888888888888888,
              "#fdca26"
             ],
             [
              1,
              "#f0f921"
             ]
            ],
            "type": "heatmapgl"
           }
          ],
          "histogram": [
           {
            "marker": {
             "pattern": {
              "fillmode": "overlay",
              "size": 10,
              "solidity": 0.2
             }
            },
            "type": "histogram"
           }
          ],
          "histogram2d": [
           {
            "colorbar": {
             "outlinewidth": 0,
             "ticks": ""
            },
            "colorscale": [
             [
              0,
              "#0d0887"
             ],
             [
              0.1111111111111111,
              "#46039f"
             ],
             [
              0.2222222222222222,
              "#7201a8"
             ],
             [
              0.3333333333333333,
              "#9c179e"
             ],
             [
              0.4444444444444444,
              "#bd3786"
             ],
             [
              0.5555555555555556,
              "#d8576b"
             ],
             [
              0.6666666666666666,
              "#ed7953"
             ],
             [
              0.7777777777777778,
              "#fb9f3a"
             ],
             [
              0.8888888888888888,
              "#fdca26"
             ],
             [
              1,
              "#f0f921"
             ]
            ],
            "type": "histogram2d"
           }
          ],
          "histogram2dcontour": [
           {
            "colorbar": {
             "outlinewidth": 0,
             "ticks": ""
            },
            "colorscale": [
             [
              0,
              "#0d0887"
             ],
             [
              0.1111111111111111,
              "#46039f"
             ],
             [
              0.2222222222222222,
              "#7201a8"
             ],
             [
              0.3333333333333333,
              "#9c179e"
             ],
             [
              0.4444444444444444,
              "#bd3786"
             ],
             [
              0.5555555555555556,
              "#d8576b"
             ],
             [
              0.6666666666666666,
              "#ed7953"
             ],
             [
              0.7777777777777778,
              "#fb9f3a"
             ],
             [
              0.8888888888888888,
              "#fdca26"
             ],
             [
              1,
              "#f0f921"
             ]
            ],
            "type": "histogram2dcontour"
           }
          ],
          "mesh3d": [
           {
            "colorbar": {
             "outlinewidth": 0,
             "ticks": ""
            },
            "type": "mesh3d"
           }
          ],
          "parcoords": [
           {
            "line": {
             "colorbar": {
              "outlinewidth": 0,
              "ticks": ""
             }
            },
            "type": "parcoords"
           }
          ],
          "pie": [
           {
            "automargin": true,
            "type": "pie"
           }
          ],
          "scatter": [
           {
            "fillpattern": {
             "fillmode": "overlay",
             "size": 10,
             "solidity": 0.2
            },
            "type": "scatter"
           }
          ],
          "scatter3d": [
           {
            "line": {
             "colorbar": {
              "outlinewidth": 0,
              "ticks": ""
             }
            },
            "marker": {
             "colorbar": {
              "outlinewidth": 0,
              "ticks": ""
             }
            },
            "type": "scatter3d"
           }
          ],
          "scattercarpet": [
           {
            "marker": {
             "colorbar": {
              "outlinewidth": 0,
              "ticks": ""
             }
            },
            "type": "scattercarpet"
           }
          ],
          "scattergeo": [
           {
            "marker": {
             "colorbar": {
              "outlinewidth": 0,
              "ticks": ""
             }
            },
            "type": "scattergeo"
           }
          ],
          "scattergl": [
           {
            "marker": {
             "colorbar": {
              "outlinewidth": 0,
              "ticks": ""
             }
            },
            "type": "scattergl"
           }
          ],
          "scattermapbox": [
           {
            "marker": {
             "colorbar": {
              "outlinewidth": 0,
              "ticks": ""
             }
            },
            "type": "scattermapbox"
           }
          ],
          "scatterpolar": [
           {
            "marker": {
             "colorbar": {
              "outlinewidth": 0,
              "ticks": ""
             }
            },
            "type": "scatterpolar"
           }
          ],
          "scatterpolargl": [
           {
            "marker": {
             "colorbar": {
              "outlinewidth": 0,
              "ticks": ""
             }
            },
            "type": "scatterpolargl"
           }
          ],
          "scatterternary": [
           {
            "marker": {
             "colorbar": {
              "outlinewidth": 0,
              "ticks": ""
             }
            },
            "type": "scatterternary"
           }
          ],
          "surface": [
           {
            "colorbar": {
             "outlinewidth": 0,
             "ticks": ""
            },
            "colorscale": [
             [
              0,
              "#0d0887"
             ],
             [
              0.1111111111111111,
              "#46039f"
             ],
             [
              0.2222222222222222,
              "#7201a8"
             ],
             [
              0.3333333333333333,
              "#9c179e"
             ],
             [
              0.4444444444444444,
              "#bd3786"
             ],
             [
              0.5555555555555556,
              "#d8576b"
             ],
             [
              0.6666666666666666,
              "#ed7953"
             ],
             [
              0.7777777777777778,
              "#fb9f3a"
             ],
             [
              0.8888888888888888,
              "#fdca26"
             ],
             [
              1,
              "#f0f921"
             ]
            ],
            "type": "surface"
           }
          ],
          "table": [
           {
            "cells": {
             "fill": {
              "color": "#EBF0F8"
             },
             "line": {
              "color": "white"
             }
            },
            "header": {
             "fill": {
              "color": "#C8D4E3"
             },
             "line": {
              "color": "white"
             }
            },
            "type": "table"
           }
          ]
         },
         "layout": {
          "annotationdefaults": {
           "arrowcolor": "#2a3f5f",
           "arrowhead": 0,
           "arrowwidth": 1
          },
          "autotypenumbers": "strict",
          "coloraxis": {
           "colorbar": {
            "outlinewidth": 0,
            "ticks": ""
           }
          },
          "colorscale": {
           "diverging": [
            [
             0,
             "#8e0152"
            ],
            [
             0.1,
             "#c51b7d"
            ],
            [
             0.2,
             "#de77ae"
            ],
            [
             0.3,
             "#f1b6da"
            ],
            [
             0.4,
             "#fde0ef"
            ],
            [
             0.5,
             "#f7f7f7"
            ],
            [
             0.6,
             "#e6f5d0"
            ],
            [
             0.7,
             "#b8e186"
            ],
            [
             0.8,
             "#7fbc41"
            ],
            [
             0.9,
             "#4d9221"
            ],
            [
             1,
             "#276419"
            ]
           ],
           "sequential": [
            [
             0,
             "#0d0887"
            ],
            [
             0.1111111111111111,
             "#46039f"
            ],
            [
             0.2222222222222222,
             "#7201a8"
            ],
            [
             0.3333333333333333,
             "#9c179e"
            ],
            [
             0.4444444444444444,
             "#bd3786"
            ],
            [
             0.5555555555555556,
             "#d8576b"
            ],
            [
             0.6666666666666666,
             "#ed7953"
            ],
            [
             0.7777777777777778,
             "#fb9f3a"
            ],
            [
             0.8888888888888888,
             "#fdca26"
            ],
            [
             1,
             "#f0f921"
            ]
           ],
           "sequentialminus": [
            [
             0,
             "#0d0887"
            ],
            [
             0.1111111111111111,
             "#46039f"
            ],
            [
             0.2222222222222222,
             "#7201a8"
            ],
            [
             0.3333333333333333,
             "#9c179e"
            ],
            [
             0.4444444444444444,
             "#bd3786"
            ],
            [
             0.5555555555555556,
             "#d8576b"
            ],
            [
             0.6666666666666666,
             "#ed7953"
            ],
            [
             0.7777777777777778,
             "#fb9f3a"
            ],
            [
             0.8888888888888888,
             "#fdca26"
            ],
            [
             1,
             "#f0f921"
            ]
           ]
          },
          "colorway": [
           "#636efa",
           "#EF553B",
           "#00cc96",
           "#ab63fa",
           "#FFA15A",
           "#19d3f3",
           "#FF6692",
           "#B6E880",
           "#FF97FF",
           "#FECB52"
          ],
          "font": {
           "color": "#2a3f5f"
          },
          "geo": {
           "bgcolor": "white",
           "lakecolor": "white",
           "landcolor": "#E5ECF6",
           "showlakes": true,
           "showland": true,
           "subunitcolor": "white"
          },
          "hoverlabel": {
           "align": "left"
          },
          "hovermode": "closest",
          "mapbox": {
           "style": "light"
          },
          "paper_bgcolor": "white",
          "plot_bgcolor": "#E5ECF6",
          "polar": {
           "angularaxis": {
            "gridcolor": "white",
            "linecolor": "white",
            "ticks": ""
           },
           "bgcolor": "#E5ECF6",
           "radialaxis": {
            "gridcolor": "white",
            "linecolor": "white",
            "ticks": ""
           }
          },
          "scene": {
           "xaxis": {
            "backgroundcolor": "#E5ECF6",
            "gridcolor": "white",
            "gridwidth": 2,
            "linecolor": "white",
            "showbackground": true,
            "ticks": "",
            "zerolinecolor": "white"
           },
           "yaxis": {
            "backgroundcolor": "#E5ECF6",
            "gridcolor": "white",
            "gridwidth": 2,
            "linecolor": "white",
            "showbackground": true,
            "ticks": "",
            "zerolinecolor": "white"
           },
           "zaxis": {
            "backgroundcolor": "#E5ECF6",
            "gridcolor": "white",
            "gridwidth": 2,
            "linecolor": "white",
            "showbackground": true,
            "ticks": "",
            "zerolinecolor": "white"
           }
          },
          "shapedefaults": {
           "line": {
            "color": "#2a3f5f"
           }
          },
          "ternary": {
           "aaxis": {
            "gridcolor": "white",
            "linecolor": "white",
            "ticks": ""
           },
           "baxis": {
            "gridcolor": "white",
            "linecolor": "white",
            "ticks": ""
           },
           "bgcolor": "#E5ECF6",
           "caxis": {
            "gridcolor": "white",
            "linecolor": "white",
            "ticks": ""
           }
          },
          "title": {
           "x": 0.05
          },
          "xaxis": {
           "automargin": true,
           "gridcolor": "white",
           "linecolor": "white",
           "ticks": "",
           "title": {
            "standoff": 15
           },
           "zerolinecolor": "white",
           "zerolinewidth": 2
          },
          "yaxis": {
           "automargin": true,
           "gridcolor": "white",
           "linecolor": "white",
           "ticks": "",
           "title": {
            "standoff": 15
           },
           "zerolinecolor": "white",
           "zerolinewidth": 2
          }
         }
        },
        "xaxis": {
         "anchor": "y",
         "domain": [
          0,
          1
         ],
         "title": {
          "text": "index"
         }
        },
        "yaxis": {
         "anchor": "x",
         "domain": [
          0,
          1
         ],
         "title": {
          "text": "value"
         }
        }
       }
      }
     },
     "metadata": {},
     "output_type": "display_data"
    },
    {
     "name": "stderr",
     "output_type": "stream",
     "text": [
      "23-Apr-24 18:20:16 [INFO] Accuracy:  0.98\n",
      "23-Apr-24 18:20:16 [INFO] F1 Score: 0.98\n",
      "23-Apr-24 18:20:16 [INFO] Confusion Matrix: \n",
      "[[67  2]\n",
      " [ 1 77]]\n"
     ]
    }
   ],
   "source": [
    "\n",
    "\n",
    "\n",
    "\n",
    "# print(\"Explaining instance: \")\n",
    "# print(X_test[0])\n",
    "# pred, cls, rls, builder = DSC.predict_explain(X_test[0])\n",
    "# print(builder)\n",
    "# print(rls)"
   ]
  },
  {
   "cell_type": "code",
   "execution_count": null,
   "metadata": {},
   "outputs": [
    {
     "data": {
      "text/html": [
       "<div>\n",
       "<style scoped>\n",
       "    .dataframe tbody tr th:only-of-type {\n",
       "        vertical-align: middle;\n",
       "    }\n",
       "\n",
       "    .dataframe tbody tr th {\n",
       "        vertical-align: top;\n",
       "    }\n",
       "\n",
       "    .dataframe thead th {\n",
       "        text-align: right;\n",
       "    }\n",
       "</style>\n",
       "<table border=\"1\" class=\"dataframe\">\n",
       "  <thead>\n",
       "    <tr style=\"text-align: right;\">\n",
       "      <th></th>\n",
       "      <th>x</th>\n",
       "      <th>y</th>\n",
       "      <th>labels_clustering</th>\n",
       "    </tr>\n",
       "  </thead>\n",
       "  <tbody>\n",
       "    <tr>\n",
       "      <th>0</th>\n",
       "      <td>1.245085</td>\n",
       "      <td>-0.067630</td>\n",
       "      <td>0</td>\n",
       "    </tr>\n",
       "    <tr>\n",
       "      <th>1</th>\n",
       "      <td>0.519859</td>\n",
       "      <td>1.021516</td>\n",
       "      <td>1</td>\n",
       "    </tr>\n",
       "    <tr>\n",
       "      <th>2</th>\n",
       "      <td>0.384995</td>\n",
       "      <td>1.313368</td>\n",
       "      <td>1</td>\n",
       "    </tr>\n",
       "    <tr>\n",
       "      <th>3</th>\n",
       "      <td>1.233272</td>\n",
       "      <td>0.415007</td>\n",
       "      <td>0</td>\n",
       "    </tr>\n",
       "    <tr>\n",
       "      <th>4</th>\n",
       "      <td>1.109102</td>\n",
       "      <td>0.135470</td>\n",
       "      <td>0</td>\n",
       "    </tr>\n",
       "    <tr>\n",
       "      <th>...</th>\n",
       "      <td>...</td>\n",
       "      <td>...</td>\n",
       "      <td>...</td>\n",
       "    </tr>\n",
       "    <tr>\n",
       "      <th>485</th>\n",
       "      <td>1.233437</td>\n",
       "      <td>0.302323</td>\n",
       "      <td>0</td>\n",
       "    </tr>\n",
       "    <tr>\n",
       "      <th>486</th>\n",
       "      <td>1.263470</td>\n",
       "      <td>-0.236248</td>\n",
       "      <td>0</td>\n",
       "    </tr>\n",
       "    <tr>\n",
       "      <th>487</th>\n",
       "      <td>1.188081</td>\n",
       "      <td>0.165184</td>\n",
       "      <td>0</td>\n",
       "    </tr>\n",
       "    <tr>\n",
       "      <th>488</th>\n",
       "      <td>1.577180</td>\n",
       "      <td>0.358378</td>\n",
       "      <td>0</td>\n",
       "    </tr>\n",
       "    <tr>\n",
       "      <th>489</th>\n",
       "      <td>1.299366</td>\n",
       "      <td>0.023183</td>\n",
       "      <td>0</td>\n",
       "    </tr>\n",
       "  </tbody>\n",
       "</table>\n",
       "<p>490 rows × 3 columns</p>\n",
       "</div>"
      ],
      "text/plain": [
       "            x         y  labels_clustering\n",
       "0    1.245085 -0.067630              0\n",
       "1    0.519859  1.021516              1\n",
       "2    0.384995  1.313368              1\n",
       "3    1.233272  0.415007              0\n",
       "4    1.109102  0.135470              0\n",
       "..        ...       ...            ...\n",
       "485  1.233437  0.302323              0\n",
       "486  1.263470 -0.236248              0\n",
       "487  1.188081  0.165184              0\n",
       "488  1.577180  0.358378              0\n",
       "489  1.299366  0.023183              0\n",
       "\n",
       "[490 rows x 3 columns]"
      ]
     },
     "execution_count": 62,
     "metadata": {},
     "output_type": "execute_result"
    }
   ],
   "source": [
    "\n",
    "X_train_df = data.iloc[:cut, :-1].values\n",
    "y_train = data.iloc[:cut, -1].values\n",
    "X_test = data.iloc[cut:, :-1].values\n",
    "y_test = data.iloc[cut:, -1].values"
   ]
  },
  {
   "cell_type": "code",
   "execution_count": null,
   "metadata": {},
   "outputs": [
    {
     "data": {
      "text/plain": [
       "{0: [(0.03163551673105758,\n",
       "   5,\n",
       "   '0.234 < y < 0.527',\n",
       "   0.17786375890286807,\n",
       "   array([0.15833704, 0.04146155, 0.8002014 ], dtype=float32)),\n",
       "  (0.028245294758107775,\n",
       "   4,\n",
       "   'y < 0.234',\n",
       "   0.16806336530638608,\n",
       "   array([0.14274216, 0.05513415, 0.80212367], dtype=float32)),\n",
       "  (0.024575292036107754,\n",
       "   1,\n",
       "   '0.329 < x < 0.708',\n",
       "   0.15676508551366836,\n",
       "   array([0.1290192 , 0.06145862, 0.8095222 ], dtype=float32)),\n",
       "  (0.024048811874058273,\n",
       "   3,\n",
       "   'x > 1.086',\n",
       "   0.1550767934736151,\n",
       "   array([0.12398298, 0.06998566, 0.80603135], dtype=float32)),\n",
       "  (0.021501795279943003,\n",
       "   2,\n",
       "   '0.708 < x < 1.086',\n",
       "   0.14663490471215576,\n",
       "   array([0.11201493, 0.07993972, 0.80804527], dtype=float32)),\n",
       "  (0.021418596140573953,\n",
       "   7,\n",
       "   'y > 0.819',\n",
       "   0.14635093488110676,\n",
       "   array([0.11235696, 0.07827288, 0.8093701 ], dtype=float32)),\n",
       "  (0.012596876743142804,\n",
       "   6,\n",
       "   '0.527 < y < 0.819',\n",
       "   0.11223580864921322,\n",
       "   array([0.06448371, 0.13086608, 0.80465025], dtype=float32))],\n",
       " 1: [(0.040516714870758364,\n",
       "   0,\n",
       "   'x < 0.329',\n",
       "   0.20128764212131445,\n",
       "   array([0.        , 0.20128766, 0.7987124 ], dtype=float32)),\n",
       "  (0.025564656493459736,\n",
       "   6,\n",
       "   '0.527 < y < 0.819',\n",
       "   0.15988951339428029,\n",
       "   array([0.06448371, 0.13086608, 0.80465025], dtype=float32)),\n",
       "  (0.015344808102767615,\n",
       "   2,\n",
       "   '0.708 < x < 1.086',\n",
       "   0.12387416236959027,\n",
       "   array([0.11201493, 0.07993972, 0.80804527], dtype=float32)),\n",
       "  (0.014921151081065176,\n",
       "   7,\n",
       "   'y > 0.819',\n",
       "   0.12215216363644639,\n",
       "   array([0.11235696, 0.07827288, 0.8093701 ], dtype=float32)),\n",
       "  (0.013575023845586287,\n",
       "   3,\n",
       "   'x > 1.086',\n",
       "   0.11651190430847093,\n",
       "   array([0.12398298, 0.06998566, 0.80603135], dtype=float32)),\n",
       "  (0.011706502951911002,\n",
       "   1,\n",
       "   '0.329 < x < 0.708',\n",
       "   0.1081965939940394,\n",
       "   array([0.1290192 , 0.06145862, 0.8095222 ], dtype=float32)),\n",
       "  (0.010909742977336379,\n",
       "   4,\n",
       "   'y < 0.234',\n",
       "   0.10444971506584581,\n",
       "   array([0.14274216, 0.05513415, 0.80212367], dtype=float32))]}"
      ]
     },
     "execution_count": 80,
     "metadata": {},
     "output_type": "execute_result"
    }
   ],
   "source": [
    "DSC.find_most_important_rules(threshold=0.1)"
   ]
  },
  {
   "cell_type": "code",
   "execution_count": null,
   "metadata": {},
   "outputs": [],
   "source": []
  },
  {
   "cell_type": "code",
   "execution_count": null,
   "metadata": {},
   "outputs": [],
   "source": []
  }
 ],
 "metadata": {
  "kernelspec": {
   "display_name": "dst",
   "language": "python",
   "name": "python3"
  },
  "language_info": {
   "codemirror_mode": {
    "name": "ipython",
    "version": 3
   },
   "file_extension": ".py",
   "mimetype": "text/x-python",
   "name": "python",
   "nbconvert_exporter": "python",
   "pygments_lexer": "ipython3",
   "version": "3.10.14"
  }
 },
 "nbformat": 4,
 "nbformat_minor": 2
}
