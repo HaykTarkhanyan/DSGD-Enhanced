{
 "cells": [
  {
   "cell_type": "code",
   "execution_count": 2,
   "metadata": {},
   "outputs": [],
   "source": [
    "import os\n",
    "import pickle \n",
    "import numpy as np\n",
    "import pandas as pd\n",
    "\n",
    "import plotly.express as px\n",
    "import matplotlib.pyplot as plt\n",
    "\n",
    "from config import *\n",
    "\n",
    "from functools import reduce \n",
    "\n",
    "import logging\n",
    "logging.basicConfig(level=logging.DEBUG, format=\"%(asctime)s [%(levelname)s] %(message)s\", \n",
    "                    datefmt=\"%d-%b-%y %H:%M:%S\")"
   ]
  },
  {
   "cell_type": "code",
   "execution_count": 15,
   "metadata": {},
   "outputs": [],
   "source": [
    "DATASET_NAME_MAP = {\"breast-cancer-wisconsin\": \"Breast Cancer\", \n",
    "                            \"gaussian_df\": \"Gaussian\", \n",
    "                            \"rectangle_df\": \"Rectangle\", \n",
    "                            \"uniform_df\": \"Uniform\", \n",
    "                            \"Brain Tumor\": \"Brain Tumor\"}\n"
   ]
  },
  {
   "cell_type": "code",
   "execution_count": 48,
   "metadata": {},
   "outputs": [],
   "source": [
    "class ReportGenerator:\n",
    "    def __init__(self, dataset: str, num_exps: int = 6,\n",
    "                 rules_folder: str = RULE_FOLDER, \n",
    "                 results_file: str = \"experiments.csv\", \n",
    "                 res_df_cols_ignore: list = [\"breaks\",\t\"mult_rules\", \t\"confusion_matrix\",\t\"label_for_dist\"], \n",
    "                 exps_to_ignore: list = None):\n",
    "        # logging.info(f\"Working with dataset `{dataset}`, num_exps `{num_exps}`, rules_folder `{rules_folder}`, results_file `{results_file}`\")\n",
    "                \n",
    "        self.exps_to_ignore = exps_to_ignore\n",
    "                \n",
    "        assert os.path.exists(rules_folder), f\"Rules folder `{rules_folder}` does not exist\"\n",
    "        assert os.path.exists(results_file), f\"Results csv file `{results_file}` does not exist\"\n",
    "        \n",
    "        self.dataset = dataset\n",
    "        self.dataset_lst = os.listdir(rules_folder)\n",
    "        assert self.dataset in self.dataset_lst, \\\n",
    "            f\"No rules folder found for dataset `{dataset}` in folder `{rules_folder}`, found {self.dataset_lst}\"\n",
    "        \n",
    "        self.dataset_name = DATASET_NAME_MAP[self.dataset]\n",
    "        \n",
    "        # ----------------------- Load rules ----------------------- #\n",
    "        self.rules_results_lst = os.listdir(os.path.join(rules_folder, self.dataset))\n",
    "\n",
    "        assert len(self.rules_results_lst) == num_exps, f\"Expected {num_exps} experiments, found list -> {self.rules_results_lst}\"\n",
    "\n",
    "        if self.exps_to_ignore:\n",
    "            self.rules_results_lst = self.ignore_experiments(self.rules_results_lst)\n",
    "                    \n",
    "        self.exp_names = [self.get_experiment_name(i) for i in self.rules_results_lst]\n",
    "\n",
    "        self.exp_full_names = [i.split(\".\")[0] for i in self.rules_results_lst]\n",
    "        \n",
    "        self.rules_dict = {}\n",
    "        for exp_rule in self.rules_results_lst:\n",
    "            exp_name = self.get_experiment_name(exp_rule)\n",
    "            \n",
    "            rule_file_name = os.path.join(rules_folder, self.dataset, exp_rule)\n",
    "            rule_pickle = pickle.load(open(rule_file_name, \"rb\"))\n",
    "            rule_dict = self.extract_rule_info(rule_pickle)\n",
    "            self.rules_dict[exp_name] = pd.DataFrame(rule_dict)\n",
    "\n",
    "        self.rules_df = self.convert_rules_dict_to_df()\n",
    "\n",
    "\n",
    "        logging.info(f\"Rules files for path `{rules_folder}/{dataset}` loaded\")\n",
    "        # ----------------------- Load df results ----------------------- #\n",
    "        self.res_df_cols_ignore = res_df_cols_ignore\n",
    "        self.res_df = pd.read_csv(results_file, usecols=lambda x: x not in self.res_df_cols_ignore)\n",
    "       \n",
    "        self.res_df = self.res_df[self.res_df[\"name\"].isin(self.exp_full_names)].tail(len(self.rules_results_lst))\n",
    "        \n",
    "        # assert len(self.res_df) == num_exps, f\"Expected {num_exps } experiments, found {len(self.res_df)}\"\n",
    "        \n",
    "        self.res_df[\"exp_name\"] = self.res_df.apply(self.get_experiment_name_for_df, axis=1)\n",
    "        assert set(self.res_df[\"exp_name\"]) == set(self.exp_names), \\\n",
    "            f\"Most likely missing some experiments. Found {set(self.res_df['exp_name'])}, expected {set(self.exp_names)}\"\n",
    "            \n",
    "        self.res_df[\"initial_loss\"] = self.res_df[\"all_losses\"].apply(lambda x: eval(x)[0])\n",
    "        logging.info(f\"Experiments {self.exp_names}\")\n",
    "        logging.info(f\"Results for dataset `{dataset}` loaded\") \n",
    "    \n",
    "    def ignore_experiments(self, lst):\n",
    "        exps = []\n",
    "        for i in lst:\n",
    "            if self.get_experiment_name(i) not in self.exps_to_ignore:\n",
    "                exps.append(i)\n",
    "        return exps\n",
    "    \n",
    "    def get_bar_plots_res(self, ys=[\"training_time\", \"accuracy\", \"f1\", \"min_loss\", \"initial_loss\"], \n",
    "                             show=False):\n",
    "        # get_bar = lambda y\n",
    "        fig = px.bar(self.res_df, x=\"exp_name\", y=ys, \n",
    "                     title=f\"Metrics for dataset `{self.dataset}`\", \n",
    "                     barmode='group')\n",
    "                     # stack next to each other\n",
    "                        \n",
    "        return fig\n",
    "    \n",
    "    def get_uncertainty_comparison(self):\n",
    "        uncertainty_cols = [i for i in self.rules_df.columns if \"uncertainty\" in i]\n",
    "        stats = self.rules_df[uncertainty_cols].describe().loc[[\"mean\", \"50%\"]]\n",
    "        stats.rename(index={\"50%\": \"median\"}, inplace=True)\n",
    "\n",
    "        # ChatGPT code\n",
    "        flat_df = stats.stack().to_frame().T  # The to_frame().T converts the series to a single-row DataFrame\n",
    "\n",
    "        new_columns = [f'{stat}_{col[1].split(\"uncertainty_\")[1]}' for col in flat_df.columns for stat in ['mean', 'median'] if stat in col[0]]\n",
    "        flat_df.columns = new_columns\n",
    "\n",
    "        flat_df.index = [self.dataset_name]\n",
    "        \n",
    "        flat_df[\"improvement\"] = flat_df[\"median_random\"] / flat_df[\"median_means_no_clustering\"]\n",
    "\n",
    "        self.uncs_df = flat_df\n",
    "        return flat_df\n",
    "\n",
    "    def convert_rules_dict_to_df(self):\n",
    "        # https://stackoverflow.com/questions/23668427/pandas-three-way-joining-multiple-dataframes-on-columns\n",
    "        dfs_with_suffixes = [(self.rules_dict[exp_name], f\"_{exp_name}\") for exp_name in self.rules_dict]\n",
    "        first_df = dfs_with_suffixes[0][0]\n",
    "        first_df_name = dfs_with_suffixes[0][1]\n",
    "        the_rest_dfs = dfs_with_suffixes[1:]\n",
    "\n",
    "        merge_one = lambda x, y, sfx: pd.merge(x, y, on=['rule'], suffixes=(\"\", sfx))\n",
    "\n",
    "        merged = reduce(lambda left, right: merge_one(left,*right), the_rest_dfs, first_df)\n",
    "        \n",
    "        merged.rename(columns={\"mass_first\": f\"mass_first{first_df_name}\", \n",
    "                                \"mass_second\": f\"mass_second{first_df_name}\",\n",
    "                                \"uncertainty\": f\"uncertainty{first_df_name}\"}, inplace=True)\n",
    "        return merged\n",
    "    \n",
    "    @staticmethod\n",
    "    def extract_rule_info(rules_info):\n",
    "        rules = rules_info[\"preds\"]\n",
    "        mafs = rules_info[\"masses\"]\n",
    "        \n",
    "        rule_names = [str(i) for i in rules]\n",
    "        mass_first = [float(i[0]) for i in mafs]\n",
    "        mass_second = [float(i[1]) for i in mafs]\n",
    "        uncertainty = [float(i[2]) for i in mafs]\n",
    "        \n",
    "        res = {\"rule\": rule_names, \"mass_first\": mass_first, \"mass_second\": mass_second, \"uncertainty\": uncertainty}\n",
    "        return res\n",
    "    \n",
    "    @staticmethod\n",
    "    def get_experiment_name(file_name):\n",
    "        parts = file_name.split(',', 1) \n",
    "        file_name = parts[1].strip() if len(parts) > 1 else ''\n",
    "        # without code above will fail when method and dataset are both `uniform `        \n",
    "        if \"uniform\" in file_name:\n",
    "            return \"uniform\"\n",
    "        elif \"random\" in file_name:\n",
    "            return \"random\"\n",
    "        elif \"means_no_clustering\" in file_name:\n",
    "            return \"means_no_clustering\"\n",
    "        elif \"density_no_clustering\" in file_name:\n",
    "            return \"density_no_clustering\"\n",
    "        elif \"clustering\" in file_name:\n",
    "            if \"kmeans\" in file_name:\n",
    "                return \"kmeans\"\n",
    "            elif \"dbscan\" in file_name:\n",
    "                return \"dbscan\"\n",
    "            \n",
    "    @staticmethod\n",
    "    def get_experiment_name_for_df(df):\n",
    "        if df[\"MAF method\"] != \"clustering\":\n",
    "            return df[\"MAF method\"]\n",
    "        return df[\"clustering_alg\"]"
   ]
  },
  {
   "cell_type": "code",
   "execution_count": 49,
   "metadata": {},
   "outputs": [
    {
     "name": "stderr",
     "output_type": "stream",
     "text": [
      "04-May-24 19:55:41 [INFO] Rules files for path `rules/uniform_df` loaded\n"
     ]
    },
    {
     "name": "stderr",
     "output_type": "stream",
     "text": [
      "04-May-24 19:55:41 [INFO] Experiments ['means_no_clustering', 'random']\n",
      "04-May-24 19:55:41 [INFO] Results for dataset `uniform_df` loaded\n"
     ]
    }
   ],
   "source": [
    "R = ReportGenerator(\"uniform_df\", num_exps=6, exps_to_ignore=[\"dbscan\", \"kmeans\", \"uniform\", \"density_no_clustering\"])"
   ]
  },
  {
   "cell_type": "code",
   "execution_count": 50,
   "metadata": {},
   "outputs": [
    {
     "data": {
      "text/html": [
       "<div>\n",
       "<style scoped>\n",
       "    .dataframe tbody tr th:only-of-type {\n",
       "        vertical-align: middle;\n",
       "    }\n",
       "\n",
       "    .dataframe tbody tr th {\n",
       "        vertical-align: top;\n",
       "    }\n",
       "\n",
       "    .dataframe thead th {\n",
       "        text-align: right;\n",
       "    }\n",
       "</style>\n",
       "<table border=\"1\" class=\"dataframe\">\n",
       "  <thead>\n",
       "    <tr style=\"text-align: right;\">\n",
       "      <th></th>\n",
       "      <th>datetime</th>\n",
       "      <th>name</th>\n",
       "      <th>MAF method</th>\n",
       "      <th>dataset</th>\n",
       "      <th>accuracy</th>\n",
       "      <th>f1</th>\n",
       "      <th>training_time</th>\n",
       "      <th>epochs</th>\n",
       "      <th>min_loss</th>\n",
       "      <th>all_losses</th>\n",
       "      <th>clustering_alg</th>\n",
       "      <th>exp_name</th>\n",
       "      <th>initial_loss</th>\n",
       "    </tr>\n",
       "  </thead>\n",
       "  <tbody>\n",
       "    <tr>\n",
       "      <th>163</th>\n",
       "      <td>04-05-2024 04:44:50</td>\n",
       "      <td>dataset=uniform_df, label_for_dist=labels, clu...</td>\n",
       "      <td>clustering</td>\n",
       "      <td>uniform_df</td>\n",
       "      <td>0.973333</td>\n",
       "      <td>0.969697</td>\n",
       "      <td>56.481622</td>\n",
       "      <td>191</td>\n",
       "      <td>0.036866</td>\n",
       "      <td>[0.19784381985664368, 0.1942012906074524, 0.19...</td>\n",
       "      <td>means_no_clustering</td>\n",
       "      <td>means_no_clustering</td>\n",
       "      <td>0.197844</td>\n",
       "    </tr>\n",
       "  </tbody>\n",
       "</table>\n",
       "</div>"
      ],
      "text/plain": [
       "                datetime                                               name  \\\n",
       "163  04-05-2024 04:44:50  dataset=uniform_df, label_for_dist=labels, clu...   \n",
       "\n",
       "     MAF method     dataset  accuracy        f1  training_time  epochs  \\\n",
       "163  clustering  uniform_df  0.973333  0.969697      56.481622     191   \n",
       "\n",
       "     min_loss                                         all_losses  \\\n",
       "163  0.036866  [0.19784381985664368, 0.1942012906074524, 0.19...   \n",
       "\n",
       "          clustering_alg             exp_name  initial_loss  \n",
       "163  means_no_clustering  means_no_clustering      0.197844  "
      ]
     },
     "execution_count": 50,
     "metadata": {},
     "output_type": "execute_result"
    }
   ],
   "source": [
    "R.res_df.head(1)"
   ]
  },
  {
   "cell_type": "code",
   "execution_count": 51,
   "metadata": {},
   "outputs": [
    {
     "data": {
      "text/html": [
       "<div>\n",
       "<style scoped>\n",
       "    .dataframe tbody tr th:only-of-type {\n",
       "        vertical-align: middle;\n",
       "    }\n",
       "\n",
       "    .dataframe tbody tr th {\n",
       "        vertical-align: top;\n",
       "    }\n",
       "\n",
       "    .dataframe thead th {\n",
       "        text-align: right;\n",
       "    }\n",
       "</style>\n",
       "<table border=\"1\" class=\"dataframe\">\n",
       "  <thead>\n",
       "    <tr style=\"text-align: right;\">\n",
       "      <th></th>\n",
       "      <th>datetime</th>\n",
       "      <th>name</th>\n",
       "      <th>MAF method</th>\n",
       "      <th>dataset</th>\n",
       "      <th>accuracy</th>\n",
       "      <th>f1</th>\n",
       "      <th>training_time</th>\n",
       "      <th>epochs</th>\n",
       "      <th>min_loss</th>\n",
       "      <th>all_losses</th>\n",
       "      <th>clustering_alg</th>\n",
       "      <th>exp_name</th>\n",
       "      <th>initial_loss</th>\n",
       "    </tr>\n",
       "  </thead>\n",
       "  <tbody>\n",
       "    <tr>\n",
       "      <th>163</th>\n",
       "      <td>04-05-2024 04:44:50</td>\n",
       "      <td>dataset=uniform_df, label_for_dist=labels, clu...</td>\n",
       "      <td>clustering</td>\n",
       "      <td>uniform_df</td>\n",
       "      <td>0.973333</td>\n",
       "      <td>0.969697</td>\n",
       "      <td>56.481622</td>\n",
       "      <td>191</td>\n",
       "      <td>0.036866</td>\n",
       "      <td>[0.19784381985664368, 0.1942012906074524, 0.19...</td>\n",
       "      <td>means_no_clustering</td>\n",
       "      <td>means_no_clustering</td>\n",
       "      <td>0.197844</td>\n",
       "    </tr>\n",
       "    <tr>\n",
       "      <th>165</th>\n",
       "      <td>04-05-2024 04:46:54</td>\n",
       "      <td>dataset=uniform_df, label_for_dist=labels, clu...</td>\n",
       "      <td>random</td>\n",
       "      <td>uniform_df</td>\n",
       "      <td>0.973333</td>\n",
       "      <td>0.969697</td>\n",
       "      <td>82.151682</td>\n",
       "      <td>273</td>\n",
       "      <td>0.037534</td>\n",
       "      <td>[0.25353994965553284, 0.2508929371833801, 0.24...</td>\n",
       "      <td>NaN</td>\n",
       "      <td>random</td>\n",
       "      <td>0.253540</td>\n",
       "    </tr>\n",
       "  </tbody>\n",
       "</table>\n",
       "</div>"
      ],
      "text/plain": [
       "                datetime                                               name  \\\n",
       "163  04-05-2024 04:44:50  dataset=uniform_df, label_for_dist=labels, clu...   \n",
       "165  04-05-2024 04:46:54  dataset=uniform_df, label_for_dist=labels, clu...   \n",
       "\n",
       "     MAF method     dataset  accuracy        f1  training_time  epochs  \\\n",
       "163  clustering  uniform_df  0.973333  0.969697      56.481622     191   \n",
       "165      random  uniform_df  0.973333  0.969697      82.151682     273   \n",
       "\n",
       "     min_loss                                         all_losses  \\\n",
       "163  0.036866  [0.19784381985664368, 0.1942012906074524, 0.19...   \n",
       "165  0.037534  [0.25353994965553284, 0.2508929371833801, 0.24...   \n",
       "\n",
       "          clustering_alg             exp_name  initial_loss  \n",
       "163  means_no_clustering  means_no_clustering      0.197844  \n",
       "165                  NaN               random      0.253540  "
      ]
     },
     "execution_count": 51,
     "metadata": {},
     "output_type": "execute_result"
    }
   ],
   "source": [
    "R.res_df"
   ]
  },
  {
   "cell_type": "code",
   "execution_count": 52,
   "metadata": {},
   "outputs": [
    {
     "data": {
      "text/html": [
       "<div>\n",
       "<style scoped>\n",
       "    .dataframe tbody tr th:only-of-type {\n",
       "        vertical-align: middle;\n",
       "    }\n",
       "\n",
       "    .dataframe tbody tr th {\n",
       "        vertical-align: top;\n",
       "    }\n",
       "\n",
       "    .dataframe thead th {\n",
       "        text-align: right;\n",
       "    }\n",
       "</style>\n",
       "<table border=\"1\" class=\"dataframe\">\n",
       "  <thead>\n",
       "    <tr style=\"text-align: right;\">\n",
       "      <th></th>\n",
       "      <th>MAF method</th>\n",
       "      <th>dataset</th>\n",
       "      <th>accuracy</th>\n",
       "      <th>f1</th>\n",
       "      <th>training_time</th>\n",
       "      <th>epochs</th>\n",
       "      <th>min_loss</th>\n",
       "      <th>initial_loss</th>\n",
       "    </tr>\n",
       "  </thead>\n",
       "  <tbody>\n",
       "    <tr>\n",
       "      <th>163</th>\n",
       "      <td>clustering</td>\n",
       "      <td>uniform_df</td>\n",
       "      <td>0.973333</td>\n",
       "      <td>0.969697</td>\n",
       "      <td>56.481622</td>\n",
       "      <td>191</td>\n",
       "      <td>0.036866</td>\n",
       "      <td>0.197844</td>\n",
       "    </tr>\n",
       "    <tr>\n",
       "      <th>165</th>\n",
       "      <td>random</td>\n",
       "      <td>uniform_df</td>\n",
       "      <td>0.973333</td>\n",
       "      <td>0.969697</td>\n",
       "      <td>82.151682</td>\n",
       "      <td>273</td>\n",
       "      <td>0.037534</td>\n",
       "      <td>0.253540</td>\n",
       "    </tr>\n",
       "  </tbody>\n",
       "</table>\n",
       "</div>"
      ],
      "text/plain": [
       "     MAF method     dataset  accuracy        f1  training_time  epochs  \\\n",
       "163  clustering  uniform_df  0.973333  0.969697      56.481622     191   \n",
       "165      random  uniform_df  0.973333  0.969697      82.151682     273   \n",
       "\n",
       "     min_loss  initial_loss  \n",
       "163  0.036866      0.197844  \n",
       "165  0.037534      0.253540  "
      ]
     },
     "execution_count": 52,
     "metadata": {},
     "output_type": "execute_result"
    }
   ],
   "source": [
    "# MAF method & dataset & accuracy & f1 & training\\_time & epochs & min\\_loss & initial\\_loss\\\\\n",
    "R.res_df[[\"MAF method\", \"dataset\", \"accuracy\", \"f1\", \"training_time\", \"epochs\", \"min_loss\", \"initial_loss\"]]"
   ]
  },
  {
   "cell_type": "code",
   "execution_count": 53,
   "metadata": {},
   "outputs": [],
   "source": [
    "def get_res_df_all_datasets():\n",
    "    dataset_lst = os.listdir(RULE_FOLDER)\n",
    "    dataset_lst = [i for i in dataset_lst if i not in  [\"gaussian_df_before_fix\", \"wine\"]]\n",
    "    \n",
    "    res_dfs = []\n",
    "    for dataset in dataset_lst:\n",
    "        R = ReportGenerator(dataset, num_exps=6, exps_to_ignore=[\"dbscan\", \"kmeans\", \"density_no_clustering\"])\n",
    "        res_dfs.append(R.res_df)\n",
    "    return pd.concat(res_dfs)"
   ]
  },
  {
   "cell_type": "code",
   "execution_count": 54,
   "metadata": {},
   "outputs": [
    {
     "name": "stderr",
     "output_type": "stream",
     "text": [
      "04-May-24 19:55:59 [INFO] Rules files for path `rules/Brain Tumor` loaded\n",
      "04-May-24 19:55:59 [INFO] Experiments ['means_no_clustering', 'random', 'uniform']\n",
      "04-May-24 19:55:59 [INFO] Results for dataset `Brain Tumor` loaded\n"
     ]
    },
    {
     "name": "stderr",
     "output_type": "stream",
     "text": [
      "04-May-24 19:55:59 [INFO] Rules files for path `rules/breast-cancer-wisconsin` loaded\n",
      "04-May-24 19:55:59 [INFO] Experiments ['means_no_clustering', 'random', 'uniform']\n",
      "04-May-24 19:55:59 [INFO] Results for dataset `breast-cancer-wisconsin` loaded\n",
      "04-May-24 19:55:59 [INFO] Rules files for path `rules/gaussian_df` loaded\n",
      "04-May-24 19:55:59 [INFO] Experiments ['means_no_clustering', 'random', 'uniform']\n",
      "04-May-24 19:55:59 [INFO] Results for dataset `gaussian_df` loaded\n",
      "04-May-24 19:55:59 [INFO] Rules files for path `rules/rectangle_df` loaded\n",
      "04-May-24 19:55:59 [INFO] Experiments ['means_no_clustering', 'random', 'uniform']\n",
      "04-May-24 19:55:59 [INFO] Results for dataset `rectangle_df` loaded\n",
      "04-May-24 19:55:59 [INFO] Rules files for path `rules/uniform_df` loaded\n",
      "04-May-24 19:55:59 [INFO] Experiments ['means_no_clustering', 'random', 'uniform']\n",
      "04-May-24 19:55:59 [INFO] Results for dataset `uniform_df` loaded\n"
     ]
    }
   ],
   "source": [
    "res = get_res_df_all_datasets()\n",
    "res = res[[\"MAF method\", \"dataset\", \"accuracy\", \"f1\", \"training_time\", \"epochs\", \"min_loss\", \"initial_loss\"]].round(3)\n",
    "\n"
   ]
  },
  {
   "cell_type": "code",
   "execution_count": null,
   "metadata": {},
   "outputs": [],
   "source": [
    "lst = [186.503\t/ 72, ]"
   ]
  },
  {
   "cell_type": "code",
   "execution_count": 55,
   "metadata": {},
   "outputs": [
    {
     "data": {
      "text/html": [
       "<div>\n",
       "<style scoped>\n",
       "    .dataframe tbody tr th:only-of-type {\n",
       "        vertical-align: middle;\n",
       "    }\n",
       "\n",
       "    .dataframe tbody tr th {\n",
       "        vertical-align: top;\n",
       "    }\n",
       "\n",
       "    .dataframe thead th {\n",
       "        text-align: right;\n",
       "    }\n",
       "</style>\n",
       "<table border=\"1\" class=\"dataframe\">\n",
       "  <thead>\n",
       "    <tr style=\"text-align: right;\">\n",
       "      <th></th>\n",
       "      <th>MAF method</th>\n",
       "      <th>dataset</th>\n",
       "      <th>accuracy</th>\n",
       "      <th>f1</th>\n",
       "      <th>training_time</th>\n",
       "      <th>epochs</th>\n",
       "      <th>min_loss</th>\n",
       "      <th>initial_loss</th>\n",
       "    </tr>\n",
       "  </thead>\n",
       "  <tbody>\n",
       "    <tr>\n",
       "      <th>139</th>\n",
       "      <td>clustering</td>\n",
       "      <td>Brain Tumor</td>\n",
       "      <td>0.981</td>\n",
       "      <td>0.979</td>\n",
       "      <td>72.832</td>\n",
       "      <td>75</td>\n",
       "      <td>0.023</td>\n",
       "      <td>0.410</td>\n",
       "    </tr>\n",
       "    <tr>\n",
       "      <th>141</th>\n",
       "      <td>random</td>\n",
       "      <td>Brain Tumor</td>\n",
       "      <td>0.983</td>\n",
       "      <td>0.981</td>\n",
       "      <td>288.722</td>\n",
       "      <td>133</td>\n",
       "      <td>0.026</td>\n",
       "      <td>0.241</td>\n",
       "    </tr>\n",
       "    <tr>\n",
       "      <th>142</th>\n",
       "      <td>uniform</td>\n",
       "      <td>Brain Tumor</td>\n",
       "      <td>0.984</td>\n",
       "      <td>0.982</td>\n",
       "      <td>186.503</td>\n",
       "      <td>86</td>\n",
       "      <td>0.023</td>\n",
       "      <td>0.250</td>\n",
       "    </tr>\n",
       "    <tr>\n",
       "      <th>145</th>\n",
       "      <td>clustering</td>\n",
       "      <td>breast-cancer-wisconsin</td>\n",
       "      <td>0.966</td>\n",
       "      <td>0.952</td>\n",
       "      <td>32.671</td>\n",
       "      <td>82</td>\n",
       "      <td>0.022</td>\n",
       "      <td>0.614</td>\n",
       "    </tr>\n",
       "    <tr>\n",
       "      <th>147</th>\n",
       "      <td>random</td>\n",
       "      <td>breast-cancer-wisconsin</td>\n",
       "      <td>0.971</td>\n",
       "      <td>0.959</td>\n",
       "      <td>31.940</td>\n",
       "      <td>111</td>\n",
       "      <td>0.030</td>\n",
       "      <td>0.336</td>\n",
       "    </tr>\n",
       "    <tr>\n",
       "      <th>148</th>\n",
       "      <td>uniform</td>\n",
       "      <td>breast-cancer-wisconsin</td>\n",
       "      <td>0.976</td>\n",
       "      <td>0.966</td>\n",
       "      <td>10.428</td>\n",
       "      <td>71</td>\n",
       "      <td>0.026</td>\n",
       "      <td>0.250</td>\n",
       "    </tr>\n",
       "    <tr>\n",
       "      <th>151</th>\n",
       "      <td>clustering</td>\n",
       "      <td>gaussian_df</td>\n",
       "      <td>0.987</td>\n",
       "      <td>0.988</td>\n",
       "      <td>41.419</td>\n",
       "      <td>135</td>\n",
       "      <td>0.020</td>\n",
       "      <td>0.148</td>\n",
       "    </tr>\n",
       "    <tr>\n",
       "      <th>153</th>\n",
       "      <td>random</td>\n",
       "      <td>gaussian_df</td>\n",
       "      <td>0.967</td>\n",
       "      <td>0.969</td>\n",
       "      <td>91.876</td>\n",
       "      <td>273</td>\n",
       "      <td>0.023</td>\n",
       "      <td>0.282</td>\n",
       "    </tr>\n",
       "    <tr>\n",
       "      <th>154</th>\n",
       "      <td>uniform</td>\n",
       "      <td>gaussian_df</td>\n",
       "      <td>0.987</td>\n",
       "      <td>0.988</td>\n",
       "      <td>60.823</td>\n",
       "      <td>190</td>\n",
       "      <td>0.024</td>\n",
       "      <td>0.250</td>\n",
       "    </tr>\n",
       "    <tr>\n",
       "      <th>157</th>\n",
       "      <td>clustering</td>\n",
       "      <td>rectangle_df</td>\n",
       "      <td>1.000</td>\n",
       "      <td>1.000</td>\n",
       "      <td>122.795</td>\n",
       "      <td>168</td>\n",
       "      <td>0.006</td>\n",
       "      <td>0.165</td>\n",
       "    </tr>\n",
       "    <tr>\n",
       "      <th>159</th>\n",
       "      <td>random</td>\n",
       "      <td>rectangle_df</td>\n",
       "      <td>1.000</td>\n",
       "      <td>1.000</td>\n",
       "      <td>212.407</td>\n",
       "      <td>287</td>\n",
       "      <td>0.007</td>\n",
       "      <td>0.253</td>\n",
       "    </tr>\n",
       "    <tr>\n",
       "      <th>160</th>\n",
       "      <td>uniform</td>\n",
       "      <td>rectangle_df</td>\n",
       "      <td>1.000</td>\n",
       "      <td>1.000</td>\n",
       "      <td>187.505</td>\n",
       "      <td>249</td>\n",
       "      <td>0.008</td>\n",
       "      <td>0.250</td>\n",
       "    </tr>\n",
       "    <tr>\n",
       "      <th>163</th>\n",
       "      <td>clustering</td>\n",
       "      <td>uniform_df</td>\n",
       "      <td>0.973</td>\n",
       "      <td>0.970</td>\n",
       "      <td>56.482</td>\n",
       "      <td>191</td>\n",
       "      <td>0.037</td>\n",
       "      <td>0.198</td>\n",
       "    </tr>\n",
       "    <tr>\n",
       "      <th>165</th>\n",
       "      <td>random</td>\n",
       "      <td>uniform_df</td>\n",
       "      <td>0.973</td>\n",
       "      <td>0.970</td>\n",
       "      <td>82.152</td>\n",
       "      <td>273</td>\n",
       "      <td>0.038</td>\n",
       "      <td>0.254</td>\n",
       "    </tr>\n",
       "    <tr>\n",
       "      <th>166</th>\n",
       "      <td>uniform</td>\n",
       "      <td>uniform_df</td>\n",
       "      <td>0.973</td>\n",
       "      <td>0.970</td>\n",
       "      <td>73.207</td>\n",
       "      <td>233</td>\n",
       "      <td>0.038</td>\n",
       "      <td>0.250</td>\n",
       "    </tr>\n",
       "  </tbody>\n",
       "</table>\n",
       "</div>"
      ],
      "text/plain": [
       "     MAF method                  dataset  accuracy     f1  training_time  \\\n",
       "139  clustering              Brain Tumor     0.981  0.979         72.832   \n",
       "141      random              Brain Tumor     0.983  0.981        288.722   \n",
       "142     uniform              Brain Tumor     0.984  0.982        186.503   \n",
       "145  clustering  breast-cancer-wisconsin     0.966  0.952         32.671   \n",
       "147      random  breast-cancer-wisconsin     0.971  0.959         31.940   \n",
       "148     uniform  breast-cancer-wisconsin     0.976  0.966         10.428   \n",
       "151  clustering              gaussian_df     0.987  0.988         41.419   \n",
       "153      random              gaussian_df     0.967  0.969         91.876   \n",
       "154     uniform              gaussian_df     0.987  0.988         60.823   \n",
       "157  clustering             rectangle_df     1.000  1.000        122.795   \n",
       "159      random             rectangle_df     1.000  1.000        212.407   \n",
       "160     uniform             rectangle_df     1.000  1.000        187.505   \n",
       "163  clustering               uniform_df     0.973  0.970         56.482   \n",
       "165      random               uniform_df     0.973  0.970         82.152   \n",
       "166     uniform               uniform_df     0.973  0.970         73.207   \n",
       "\n",
       "     epochs  min_loss  initial_loss  \n",
       "139      75     0.023         0.410  \n",
       "141     133     0.026         0.241  \n",
       "142      86     0.023         0.250  \n",
       "145      82     0.022         0.614  \n",
       "147     111     0.030         0.336  \n",
       "148      71     0.026         0.250  \n",
       "151     135     0.020         0.148  \n",
       "153     273     0.023         0.282  \n",
       "154     190     0.024         0.250  \n",
       "157     168     0.006         0.165  \n",
       "159     287     0.007         0.253  \n",
       "160     249     0.008         0.250  \n",
       "163     191     0.037         0.198  \n",
       "165     273     0.038         0.254  \n",
       "166     233     0.038         0.250  "
      ]
     },
     "execution_count": 55,
     "metadata": {},
     "output_type": "execute_result"
    }
   ],
   "source": [
    "res  "
   ]
  },
  {
   "cell_type": "code",
   "execution_count": 10,
   "metadata": {},
   "outputs": [],
   "source": [
    "res.to_latex(\"paper/res_df.tex\", index=False)"
   ]
  },
  {
   "cell_type": "code",
   "execution_count": 11,
   "metadata": {},
   "outputs": [
    {
     "data": {
      "text/html": [
       "<div>\n",
       "<style scoped>\n",
       "    .dataframe tbody tr th:only-of-type {\n",
       "        vertical-align: middle;\n",
       "    }\n",
       "\n",
       "    .dataframe tbody tr th {\n",
       "        vertical-align: top;\n",
       "    }\n",
       "\n",
       "    .dataframe thead th {\n",
       "        text-align: right;\n",
       "    }\n",
       "</style>\n",
       "<table border=\"1\" class=\"dataframe\">\n",
       "  <thead>\n",
       "    <tr style=\"text-align: right;\">\n",
       "      <th></th>\n",
       "      <th>MAF method</th>\n",
       "      <th>dataset</th>\n",
       "      <th>accuracy</th>\n",
       "      <th>f1</th>\n",
       "      <th>training_time</th>\n",
       "      <th>epochs</th>\n",
       "      <th>min_loss</th>\n",
       "      <th>initial_loss</th>\n",
       "    </tr>\n",
       "  </thead>\n",
       "  <tbody>\n",
       "    <tr>\n",
       "      <th>139</th>\n",
       "      <td>clustering</td>\n",
       "      <td>Brain Tumor</td>\n",
       "      <td>0.981</td>\n",
       "      <td>0.979</td>\n",
       "      <td>72.832</td>\n",
       "      <td>75</td>\n",
       "      <td>0.023</td>\n",
       "      <td>0.410</td>\n",
       "    </tr>\n",
       "    <tr>\n",
       "      <th>141</th>\n",
       "      <td>random</td>\n",
       "      <td>Brain Tumor</td>\n",
       "      <td>0.983</td>\n",
       "      <td>0.981</td>\n",
       "      <td>288.722</td>\n",
       "      <td>133</td>\n",
       "      <td>0.026</td>\n",
       "      <td>0.241</td>\n",
       "    </tr>\n",
       "    <tr>\n",
       "      <th>145</th>\n",
       "      <td>clustering</td>\n",
       "      <td>breast-cancer-wisconsin</td>\n",
       "      <td>0.966</td>\n",
       "      <td>0.952</td>\n",
       "      <td>32.671</td>\n",
       "      <td>82</td>\n",
       "      <td>0.022</td>\n",
       "      <td>0.614</td>\n",
       "    </tr>\n",
       "    <tr>\n",
       "      <th>147</th>\n",
       "      <td>random</td>\n",
       "      <td>breast-cancer-wisconsin</td>\n",
       "      <td>0.971</td>\n",
       "      <td>0.959</td>\n",
       "      <td>31.940</td>\n",
       "      <td>111</td>\n",
       "      <td>0.030</td>\n",
       "      <td>0.336</td>\n",
       "    </tr>\n",
       "    <tr>\n",
       "      <th>151</th>\n",
       "      <td>clustering</td>\n",
       "      <td>gaussian_df</td>\n",
       "      <td>0.987</td>\n",
       "      <td>0.988</td>\n",
       "      <td>41.419</td>\n",
       "      <td>135</td>\n",
       "      <td>0.020</td>\n",
       "      <td>0.148</td>\n",
       "    </tr>\n",
       "    <tr>\n",
       "      <th>153</th>\n",
       "      <td>random</td>\n",
       "      <td>gaussian_df</td>\n",
       "      <td>0.967</td>\n",
       "      <td>0.969</td>\n",
       "      <td>91.876</td>\n",
       "      <td>273</td>\n",
       "      <td>0.023</td>\n",
       "      <td>0.282</td>\n",
       "    </tr>\n",
       "    <tr>\n",
       "      <th>157</th>\n",
       "      <td>clustering</td>\n",
       "      <td>rectangle_df</td>\n",
       "      <td>1.000</td>\n",
       "      <td>1.000</td>\n",
       "      <td>122.795</td>\n",
       "      <td>168</td>\n",
       "      <td>0.006</td>\n",
       "      <td>0.165</td>\n",
       "    </tr>\n",
       "    <tr>\n",
       "      <th>159</th>\n",
       "      <td>random</td>\n",
       "      <td>rectangle_df</td>\n",
       "      <td>1.000</td>\n",
       "      <td>1.000</td>\n",
       "      <td>212.407</td>\n",
       "      <td>287</td>\n",
       "      <td>0.007</td>\n",
       "      <td>0.253</td>\n",
       "    </tr>\n",
       "    <tr>\n",
       "      <th>163</th>\n",
       "      <td>clustering</td>\n",
       "      <td>uniform_df</td>\n",
       "      <td>0.973</td>\n",
       "      <td>0.970</td>\n",
       "      <td>56.482</td>\n",
       "      <td>191</td>\n",
       "      <td>0.037</td>\n",
       "      <td>0.198</td>\n",
       "    </tr>\n",
       "    <tr>\n",
       "      <th>165</th>\n",
       "      <td>random</td>\n",
       "      <td>uniform_df</td>\n",
       "      <td>0.973</td>\n",
       "      <td>0.970</td>\n",
       "      <td>82.152</td>\n",
       "      <td>273</td>\n",
       "      <td>0.038</td>\n",
       "      <td>0.254</td>\n",
       "    </tr>\n",
       "  </tbody>\n",
       "</table>\n",
       "</div>"
      ],
      "text/plain": [
       "     MAF method                  dataset  accuracy     f1  training_time  \\\n",
       "139  clustering              Brain Tumor     0.981  0.979         72.832   \n",
       "141      random              Brain Tumor     0.983  0.981        288.722   \n",
       "145  clustering  breast-cancer-wisconsin     0.966  0.952         32.671   \n",
       "147      random  breast-cancer-wisconsin     0.971  0.959         31.940   \n",
       "151  clustering              gaussian_df     0.987  0.988         41.419   \n",
       "153      random              gaussian_df     0.967  0.969         91.876   \n",
       "157  clustering             rectangle_df     1.000  1.000        122.795   \n",
       "159      random             rectangle_df     1.000  1.000        212.407   \n",
       "163  clustering               uniform_df     0.973  0.970         56.482   \n",
       "165      random               uniform_df     0.973  0.970         82.152   \n",
       "\n",
       "     epochs  min_loss  initial_loss  \n",
       "139      75     0.023         0.410  \n",
       "141     133     0.026         0.241  \n",
       "145      82     0.022         0.614  \n",
       "147     111     0.030         0.336  \n",
       "151     135     0.020         0.148  \n",
       "153     273     0.023         0.282  \n",
       "157     168     0.006         0.165  \n",
       "159     287     0.007         0.253  \n",
       "163     191     0.037         0.198  \n",
       "165     273     0.038         0.254  "
      ]
     },
     "execution_count": 11,
     "metadata": {},
     "output_type": "execute_result"
    }
   ],
   "source": [
    "res"
   ]
  },
  {
   "cell_type": "code",
   "execution_count": 157,
   "metadata": {},
   "outputs": [
    {
     "data": {
      "text/html": [
       "<div>\n",
       "<style scoped>\n",
       "    .dataframe tbody tr th:only-of-type {\n",
       "        vertical-align: middle;\n",
       "    }\n",
       "\n",
       "    .dataframe tbody tr th {\n",
       "        vertical-align: top;\n",
       "    }\n",
       "\n",
       "    .dataframe thead th {\n",
       "        text-align: right;\n",
       "    }\n",
       "</style>\n",
       "<table border=\"1\" class=\"dataframe\">\n",
       "  <thead>\n",
       "    <tr style=\"text-align: right;\">\n",
       "      <th></th>\n",
       "      <th>mean_density_no_clustering</th>\n",
       "      <th>mean_means_no_clustering</th>\n",
       "      <th>mean_random</th>\n",
       "      <th>median_density_no_clustering</th>\n",
       "      <th>median_means_no_clustering</th>\n",
       "      <th>median_random</th>\n",
       "    </tr>\n",
       "  </thead>\n",
       "  <tbody>\n",
       "    <tr>\n",
       "      <th>Uniform</th>\n",
       "      <td>0.220156</td>\n",
       "      <td>0.188726</td>\n",
       "      <td>0.266291</td>\n",
       "      <td>0.266034</td>\n",
       "      <td>0.10557</td>\n",
       "      <td>0.128633</td>\n",
       "    </tr>\n",
       "  </tbody>\n",
       "</table>\n",
       "</div>"
      ],
      "text/plain": [
       "         mean_density_no_clustering  mean_means_no_clustering  mean_random  \\\n",
       "Uniform                    0.220156                  0.188726     0.266291   \n",
       "\n",
       "         median_density_no_clustering  median_means_no_clustering  \\\n",
       "Uniform                      0.266034                     0.10557   \n",
       "\n",
       "         median_random  \n",
       "Uniform       0.128633  "
      ]
     },
     "execution_count": 157,
     "metadata": {},
     "output_type": "execute_result"
    }
   ],
   "source": [
    "R.get_uncertainty_comparison()"
   ]
  },
  {
   "cell_type": "code",
   "execution_count": 29,
   "metadata": {},
   "outputs": [],
   "source": [
    "def get_uncertainties_all_datasets():\n",
    "    dataset_lst = os.listdir(RULE_FOLDER)\n",
    "    dataset_lst = [i for i in dataset_lst if i not in  [\"gaussian_df_before_fix\", \"wine\"]]\n",
    "    \n",
    "    all_uncs = pd.DataFrame()\n",
    "    for dataset in dataset_lst:\n",
    "        R = ReportGenerator(dataset, num_exps=6)\n",
    "        res = R.get_uncertainty_comparison()\n",
    "        all_uncs = pd.concat([all_uncs, res])\n",
    "        \n",
    "    average_imp = all_uncs[\"improvement\"].mean()\n",
    "    print(average_imp)\n",
    "    return all_uncs"
   ]
  },
  {
   "cell_type": "code",
   "execution_count": 44,
   "metadata": {},
   "outputs": [
    {
     "name": "stderr",
     "output_type": "stream",
     "text": [
      "04-May-24 19:47:08 [INFO] Rules files for path `rules/Brain Tumor` loaded\n",
      "04-May-24 19:47:08 [INFO] Experiments ['dbscan', 'density_no_clustering', 'kmeans', 'means_no_clustering', 'random', 'uniform']\n",
      "04-May-24 19:47:08 [INFO] Results for dataset `Brain Tumor` loaded\n",
      "04-May-24 19:47:08 [INFO] Rules files for path `rules/breast-cancer-wisconsin` loaded\n",
      "04-May-24 19:47:08 [INFO] Experiments ['dbscan', 'density_no_clustering', 'kmeans', 'means_no_clustering', 'random', 'uniform']\n",
      "04-May-24 19:47:08 [INFO] Results for dataset `breast-cancer-wisconsin` loaded\n",
      "04-May-24 19:47:08 [INFO] Rules files for path `rules/gaussian_df` loaded\n",
      "04-May-24 19:47:08 [INFO] Experiments ['dbscan', 'density_no_clustering', 'kmeans', 'means_no_clustering', 'random', 'uniform']\n",
      "04-May-24 19:47:08 [INFO] Results for dataset `gaussian_df` loaded\n",
      "04-May-24 19:47:08 [INFO] Rules files for path `rules/rectangle_df` loaded\n",
      "04-May-24 19:47:08 [INFO] Experiments ['dbscan', 'density_no_clustering', 'kmeans', 'means_no_clustering', 'random', 'uniform']\n",
      "04-May-24 19:47:08 [INFO] Results for dataset `rectangle_df` loaded\n",
      "04-May-24 19:47:08 [INFO] Rules files for path `rules/uniform_df` loaded\n",
      "04-May-24 19:47:08 [INFO] Experiments ['dbscan', 'density_no_clustering', 'kmeans', 'means_no_clustering', 'random', 'uniform']\n",
      "04-May-24 19:47:08 [INFO] Results for dataset `uniform_df` loaded\n"
     ]
    },
    {
     "name": "stdout",
     "output_type": "stream",
     "text": [
      "1.380957297187268\n"
     ]
    }
   ],
   "source": [
    "df = get_uncertainties_all_datasets()"
   ]
  },
  {
   "cell_type": "code",
   "execution_count": 45,
   "metadata": {},
   "outputs": [
    {
     "data": {
      "text/html": [
       "<div>\n",
       "<style scoped>\n",
       "    .dataframe tbody tr th:only-of-type {\n",
       "        vertical-align: middle;\n",
       "    }\n",
       "\n",
       "    .dataframe tbody tr th {\n",
       "        vertical-align: top;\n",
       "    }\n",
       "\n",
       "    .dataframe thead th {\n",
       "        text-align: right;\n",
       "    }\n",
       "</style>\n",
       "<table border=\"1\" class=\"dataframe\">\n",
       "  <thead>\n",
       "    <tr style=\"text-align: right;\">\n",
       "      <th></th>\n",
       "      <th>mean_dbscan</th>\n",
       "      <th>mean_density_no_clustering</th>\n",
       "      <th>mean_kmeans</th>\n",
       "      <th>mean_means_no_clustering</th>\n",
       "      <th>mean_random</th>\n",
       "      <th>mean_uniform</th>\n",
       "      <th>median_dbscan</th>\n",
       "      <th>median_density_no_clustering</th>\n",
       "      <th>median_kmeans</th>\n",
       "      <th>median_means_no_clustering</th>\n",
       "      <th>median_random</th>\n",
       "      <th>median_uniform</th>\n",
       "      <th>improvement</th>\n",
       "    </tr>\n",
       "  </thead>\n",
       "  <tbody>\n",
       "    <tr>\n",
       "      <th>Brain Tumor</th>\n",
       "      <td>0.440822</td>\n",
       "      <td>0.435831</td>\n",
       "      <td>0.304737</td>\n",
       "      <td>0.423327</td>\n",
       "      <td>0.708778</td>\n",
       "      <td>0.368254</td>\n",
       "      <td>0.417441</td>\n",
       "      <td>0.411201</td>\n",
       "      <td>0.310397</td>\n",
       "      <td>0.418098</td>\n",
       "      <td>0.736886</td>\n",
       "      <td>0.360935</td>\n",
       "      <td>1.762472</td>\n",
       "    </tr>\n",
       "    <tr>\n",
       "      <th>Breast Cancer</th>\n",
       "      <td>0.488162</td>\n",
       "      <td>0.462914</td>\n",
       "      <td>0.361244</td>\n",
       "      <td>0.459894</td>\n",
       "      <td>0.716614</td>\n",
       "      <td>0.356738</td>\n",
       "      <td>0.570609</td>\n",
       "      <td>0.516539</td>\n",
       "      <td>0.327393</td>\n",
       "      <td>0.465281</td>\n",
       "      <td>0.714142</td>\n",
       "      <td>0.347247</td>\n",
       "      <td>1.534860</td>\n",
       "    </tr>\n",
       "    <tr>\n",
       "      <th>Gaussian</th>\n",
       "      <td>0.264013</td>\n",
       "      <td>0.263728</td>\n",
       "      <td>0.252323</td>\n",
       "      <td>0.274464</td>\n",
       "      <td>0.331658</td>\n",
       "      <td>0.315156</td>\n",
       "      <td>0.290169</td>\n",
       "      <td>0.290060</td>\n",
       "      <td>0.257930</td>\n",
       "      <td>0.271403</td>\n",
       "      <td>0.311276</td>\n",
       "      <td>0.312642</td>\n",
       "      <td>1.146915</td>\n",
       "    </tr>\n",
       "    <tr>\n",
       "      <th>Rectangle</th>\n",
       "      <td>0.249777</td>\n",
       "      <td>0.249777</td>\n",
       "      <td>0.248819</td>\n",
       "      <td>0.269199</td>\n",
       "      <td>0.301595</td>\n",
       "      <td>0.240958</td>\n",
       "      <td>0.255210</td>\n",
       "      <td>0.255210</td>\n",
       "      <td>0.216087</td>\n",
       "      <td>0.239695</td>\n",
       "      <td>0.340009</td>\n",
       "      <td>0.238029</td>\n",
       "      <td>1.418508</td>\n",
       "    </tr>\n",
       "    <tr>\n",
       "      <th>Uniform</th>\n",
       "      <td>0.220156</td>\n",
       "      <td>0.220156</td>\n",
       "      <td>0.195312</td>\n",
       "      <td>0.188726</td>\n",
       "      <td>0.277344</td>\n",
       "      <td>0.188463</td>\n",
       "      <td>0.266034</td>\n",
       "      <td>0.266034</td>\n",
       "      <td>0.116399</td>\n",
       "      <td>0.105570</td>\n",
       "      <td>0.110007</td>\n",
       "      <td>0.133961</td>\n",
       "      <td>1.042033</td>\n",
       "    </tr>\n",
       "  </tbody>\n",
       "</table>\n",
       "</div>"
      ],
      "text/plain": [
       "               mean_dbscan  mean_density_no_clustering  mean_kmeans  \\\n",
       "Brain Tumor       0.440822                    0.435831     0.304737   \n",
       "Breast Cancer     0.488162                    0.462914     0.361244   \n",
       "Gaussian          0.264013                    0.263728     0.252323   \n",
       "Rectangle         0.249777                    0.249777     0.248819   \n",
       "Uniform           0.220156                    0.220156     0.195312   \n",
       "\n",
       "               mean_means_no_clustering  mean_random  mean_uniform  \\\n",
       "Brain Tumor                    0.423327     0.708778      0.368254   \n",
       "Breast Cancer                  0.459894     0.716614      0.356738   \n",
       "Gaussian                       0.274464     0.331658      0.315156   \n",
       "Rectangle                      0.269199     0.301595      0.240958   \n",
       "Uniform                        0.188726     0.277344      0.188463   \n",
       "\n",
       "               median_dbscan  median_density_no_clustering  median_kmeans  \\\n",
       "Brain Tumor         0.417441                      0.411201       0.310397   \n",
       "Breast Cancer       0.570609                      0.516539       0.327393   \n",
       "Gaussian            0.290169                      0.290060       0.257930   \n",
       "Rectangle           0.255210                      0.255210       0.216087   \n",
       "Uniform             0.266034                      0.266034       0.116399   \n",
       "\n",
       "               median_means_no_clustering  median_random  median_uniform  \\\n",
       "Brain Tumor                      0.418098       0.736886        0.360935   \n",
       "Breast Cancer                    0.465281       0.714142        0.347247   \n",
       "Gaussian                         0.271403       0.311276        0.312642   \n",
       "Rectangle                        0.239695       0.340009        0.238029   \n",
       "Uniform                          0.105570       0.110007        0.133961   \n",
       "\n",
       "               improvement  \n",
       "Brain Tumor       1.762472  \n",
       "Breast Cancer     1.534860  \n",
       "Gaussian          1.146915  \n",
       "Rectangle         1.418508  \n",
       "Uniform           1.042033  "
      ]
     },
     "execution_count": 45,
     "metadata": {},
     "output_type": "execute_result"
    }
   ],
   "source": [
    "df"
   ]
  },
  {
   "cell_type": "code",
   "execution_count": 33,
   "metadata": {},
   "outputs": [],
   "source": [
    "# df = df[[\"mean_random\", \"mean_means_no_clustering\", \"median_random\", \"median_means_no_clustering\", \"improvement\"]]"
   ]
  },
  {
   "cell_type": "code",
   "execution_count": 37,
   "metadata": {},
   "outputs": [
    {
     "name": "stderr",
     "output_type": "stream",
     "text": [
      "C:\\Users\\hayk_\\AppData\\Local\\Temp\\ipykernel_15416\\1485344044.py:1: SettingWithCopyWarning: \n",
      "A value is trying to be set on a copy of a slice from a DataFrame\n",
      "\n",
      "See the caveats in the documentation: https://pandas.pydata.org/pandas-docs/stable/user_guide/indexing.html#returning-a-view-versus-a-copy\n",
      "  df.rename(columns={\"mean_random\": \"Mean Random\", \"mean_means_no_clustering\": \"Mean Confidence\",\n"
     ]
    }
   ],
   "source": [
    "# df.rename(columns={\"mean_random\": \"Mean Random\", \"mean_means_no_clustering\": \"Mean Confidence\", \n",
    "#                      \"median_random\": \"Median Random\", \"median_means_no_clustering\": \"Median Confidence\",\n",
    "#                      \"improvement\": \"Improvement, x\"}, inplace=True)"
   ]
  },
  {
   "cell_type": "code",
   "execution_count": 39,
   "metadata": {},
   "outputs": [],
   "source": [
    "# df.to_latex(\"paper/uncertainties.tex\", index=True, float_format=\"%.2f\")  "
   ]
  },
  {
   "cell_type": "code",
   "execution_count": 42,
   "metadata": {},
   "outputs": [
    {
     "data": {
      "text/plain": [
       "1.380957297187268"
      ]
     },
     "execution_count": 42,
     "metadata": {},
     "output_type": "execute_result"
    }
   ],
   "source": [
    "# df[\"Improvement\"].mean()"
   ]
  },
  {
   "cell_type": "code",
   "execution_count": 46,
   "metadata": {},
   "outputs": [
    {
     "name": "stderr",
     "output_type": "stream",
     "text": [
      "04-May-24 19:47:42 [DEBUG] Loaded backend module://matplotlib_inline.backend_inline version unknown.\n",
      "04-May-24 19:47:42 [DEBUG] Loaded backend module://matplotlib_inline.backend_inline version unknown.\n",
      "04-May-24 19:47:42 [DEBUG] findfont: Matching sans\\-serif:style=normal:variant=normal:weight=normal:stretch=normal:size=10.0.\n",
      "04-May-24 19:47:42 [DEBUG] findfont: score(FontEntry(fname='c:\\\\Users\\\\hayk_\\\\.conda\\\\envs\\\\thesis\\\\lib\\\\site-packages\\\\matplotlib\\\\mpl-data\\\\fonts\\\\ttf\\\\cmsy10.ttf', name='cmsy10', style='normal', variant='normal', weight=400, stretch='normal', size='scalable')) = 10.05\n",
      "04-May-24 19:47:42 [DEBUG] findfont: score(FontEntry(fname='c:\\\\Users\\\\hayk_\\\\.conda\\\\envs\\\\thesis\\\\lib\\\\site-packages\\\\matplotlib\\\\mpl-data\\\\fonts\\\\ttf\\\\DejaVuSans.ttf', name='DejaVu Sans', style='normal', variant='normal', weight=400, stretch='normal', size='scalable')) = 0.05\n",
      "04-May-24 19:47:42 [DEBUG] findfont: score(FontEntry(fname='c:\\\\Users\\\\hayk_\\\\.conda\\\\envs\\\\thesis\\\\lib\\\\site-packages\\\\matplotlib\\\\mpl-data\\\\fonts\\\\ttf\\\\cmr10.ttf', name='cmr10', style='normal', variant='normal', weight=400, stretch='normal', size='scalable')) = 10.05\n",
      "04-May-24 19:47:42 [DEBUG] findfont: score(FontEntry(fname='c:\\\\Users\\\\hayk_\\\\.conda\\\\envs\\\\thesis\\\\lib\\\\site-packages\\\\matplotlib\\\\mpl-data\\\\fonts\\\\ttf\\\\STIXGeneralItalic.ttf', name='STIXGeneral', style='italic', variant='normal', weight=400, stretch='normal', size='scalable')) = 11.05\n",
      "04-May-24 19:47:42 [DEBUG] findfont: score(FontEntry(fname='c:\\\\Users\\\\hayk_\\\\.conda\\\\envs\\\\thesis\\\\lib\\\\site-packages\\\\matplotlib\\\\mpl-data\\\\fonts\\\\ttf\\\\STIXNonUniBolIta.ttf', name='STIXNonUnicode', style='italic', variant='normal', weight=700, stretch='normal', size='scalable')) = 11.335\n",
      "04-May-24 19:47:42 [DEBUG] findfont: score(FontEntry(fname='c:\\\\Users\\\\hayk_\\\\.conda\\\\envs\\\\thesis\\\\lib\\\\site-packages\\\\matplotlib\\\\mpl-data\\\\fonts\\\\ttf\\\\cmss10.ttf', name='cmss10', style='normal', variant='normal', weight=400, stretch='normal', size='scalable')) = 10.05\n",
      "04-May-24 19:47:42 [DEBUG] findfont: score(FontEntry(fname='c:\\\\Users\\\\hayk_\\\\.conda\\\\envs\\\\thesis\\\\lib\\\\site-packages\\\\matplotlib\\\\mpl-data\\\\fonts\\\\ttf\\\\STIXNonUniIta.ttf', name='STIXNonUnicode', style='italic', variant='normal', weight=400, stretch='normal', size='scalable')) = 11.05\n",
      "04-May-24 19:47:42 [DEBUG] findfont: score(FontEntry(fname='c:\\\\Users\\\\hayk_\\\\.conda\\\\envs\\\\thesis\\\\lib\\\\site-packages\\\\matplotlib\\\\mpl-data\\\\fonts\\\\ttf\\\\DejaVuSerif-BoldItalic.ttf', name='DejaVu Serif', style='italic', variant='normal', weight=700, stretch='normal', size='scalable')) = 11.335\n",
      "04-May-24 19:47:42 [DEBUG] findfont: score(FontEntry(fname='c:\\\\Users\\\\hayk_\\\\.conda\\\\envs\\\\thesis\\\\lib\\\\site-packages\\\\matplotlib\\\\mpl-data\\\\fonts\\\\ttf\\\\DejaVuSansDisplay.ttf', name='DejaVu Sans Display', style='normal', variant='normal', weight=400, stretch='normal', size='scalable')) = 10.05\n",
      "04-May-24 19:47:42 [DEBUG] findfont: score(FontEntry(fname='c:\\\\Users\\\\hayk_\\\\.conda\\\\envs\\\\thesis\\\\lib\\\\site-packages\\\\matplotlib\\\\mpl-data\\\\fonts\\\\ttf\\\\DejaVuSansMono-BoldOblique.ttf', name='DejaVu Sans Mono', style='oblique', variant='normal', weight=700, stretch='normal', size='scalable')) = 11.335\n",
      "04-May-24 19:47:42 [DEBUG] findfont: score(FontEntry(fname='c:\\\\Users\\\\hayk_\\\\.conda\\\\envs\\\\thesis\\\\lib\\\\site-packages\\\\matplotlib\\\\mpl-data\\\\fonts\\\\ttf\\\\STIXSizFourSymBol.ttf', name='STIXSizeFourSym', style='normal', variant='normal', weight=700, stretch='normal', size='scalable')) = 10.335\n",
      "04-May-24 19:47:42 [DEBUG] findfont: score(FontEntry(fname='c:\\\\Users\\\\hayk_\\\\.conda\\\\envs\\\\thesis\\\\lib\\\\site-packages\\\\matplotlib\\\\mpl-data\\\\fonts\\\\ttf\\\\STIXNonUniBol.ttf', name='STIXNonUnicode', style='normal', variant='normal', weight=700, stretch='normal', size='scalable')) = 10.335\n",
      "04-May-24 19:47:42 [DEBUG] findfont: score(FontEntry(fname='c:\\\\Users\\\\hayk_\\\\.conda\\\\envs\\\\thesis\\\\lib\\\\site-packages\\\\matplotlib\\\\mpl-data\\\\fonts\\\\ttf\\\\DejaVuSans-BoldOblique.ttf', name='DejaVu Sans', style='oblique', variant='normal', weight=700, stretch='normal', size='scalable')) = 1.335\n",
      "04-May-24 19:47:42 [DEBUG] findfont: score(FontEntry(fname='c:\\\\Users\\\\hayk_\\\\.conda\\\\envs\\\\thesis\\\\lib\\\\site-packages\\\\matplotlib\\\\mpl-data\\\\fonts\\\\ttf\\\\STIXGeneralBolIta.ttf', name='STIXGeneral', style='italic', variant='normal', weight=700, stretch='normal', size='scalable')) = 11.335\n",
      "04-May-24 19:47:42 [DEBUG] findfont: score(FontEntry(fname='c:\\\\Users\\\\hayk_\\\\.conda\\\\envs\\\\thesis\\\\lib\\\\site-packages\\\\matplotlib\\\\mpl-data\\\\fonts\\\\ttf\\\\STIXSizTwoSymBol.ttf', name='STIXSizeTwoSym', style='normal', variant='normal', weight=700, stretch='normal', size='scalable')) = 10.335\n",
      "04-May-24 19:47:42 [DEBUG] findfont: score(FontEntry(fname='c:\\\\Users\\\\hayk_\\\\.conda\\\\envs\\\\thesis\\\\lib\\\\site-packages\\\\matplotlib\\\\mpl-data\\\\fonts\\\\ttf\\\\DejaVuSerif.ttf', name='DejaVu Serif', style='normal', variant='normal', weight=400, stretch='normal', size='scalable')) = 10.05\n",
      "04-May-24 19:47:42 [DEBUG] findfont: score(FontEntry(fname='c:\\\\Users\\\\hayk_\\\\.conda\\\\envs\\\\thesis\\\\lib\\\\site-packages\\\\matplotlib\\\\mpl-data\\\\fonts\\\\ttf\\\\STIXGeneral.ttf', name='STIXGeneral', style='normal', variant='normal', weight=400, stretch='normal', size='scalable')) = 10.05\n",
      "04-May-24 19:47:42 [DEBUG] findfont: score(FontEntry(fname='c:\\\\Users\\\\hayk_\\\\.conda\\\\envs\\\\thesis\\\\lib\\\\site-packages\\\\matplotlib\\\\mpl-data\\\\fonts\\\\ttf\\\\DejaVuSansMono.ttf', name='DejaVu Sans Mono', style='normal', variant='normal', weight=400, stretch='normal', size='scalable')) = 10.05\n",
      "04-May-24 19:47:42 [DEBUG] findfont: score(FontEntry(fname='c:\\\\Users\\\\hayk_\\\\.conda\\\\envs\\\\thesis\\\\lib\\\\site-packages\\\\matplotlib\\\\mpl-data\\\\fonts\\\\ttf\\\\DejaVuSerifDisplay.ttf', name='DejaVu Serif Display', style='normal', variant='normal', weight=400, stretch='normal', size='scalable')) = 10.05\n",
      "04-May-24 19:47:42 [DEBUG] findfont: score(FontEntry(fname='c:\\\\Users\\\\hayk_\\\\.conda\\\\envs\\\\thesis\\\\lib\\\\site-packages\\\\matplotlib\\\\mpl-data\\\\fonts\\\\ttf\\\\STIXNonUni.ttf', name='STIXNonUnicode', style='normal', variant='normal', weight=400, stretch='normal', size='scalable')) = 10.05\n",
      "04-May-24 19:47:42 [DEBUG] findfont: score(FontEntry(fname='c:\\\\Users\\\\hayk_\\\\.conda\\\\envs\\\\thesis\\\\lib\\\\site-packages\\\\matplotlib\\\\mpl-data\\\\fonts\\\\ttf\\\\DejaVuSansMono-Bold.ttf', name='DejaVu Sans Mono', style='normal', variant='normal', weight=700, stretch='normal', size='scalable')) = 10.335\n",
      "04-May-24 19:47:42 [DEBUG] findfont: score(FontEntry(fname='c:\\\\Users\\\\hayk_\\\\.conda\\\\envs\\\\thesis\\\\lib\\\\site-packages\\\\matplotlib\\\\mpl-data\\\\fonts\\\\ttf\\\\STIXSizOneSymBol.ttf', name='STIXSizeOneSym', style='normal', variant='normal', weight=700, stretch='normal', size='scalable')) = 10.335\n",
      "04-May-24 19:47:42 [DEBUG] findfont: score(FontEntry(fname='c:\\\\Users\\\\hayk_\\\\.conda\\\\envs\\\\thesis\\\\lib\\\\site-packages\\\\matplotlib\\\\mpl-data\\\\fonts\\\\ttf\\\\DejaVuSerif-Bold.ttf', name='DejaVu Serif', style='normal', variant='normal', weight=700, stretch='normal', size='scalable')) = 10.335\n",
      "04-May-24 19:47:42 [DEBUG] findfont: score(FontEntry(fname='c:\\\\Users\\\\hayk_\\\\.conda\\\\envs\\\\thesis\\\\lib\\\\site-packages\\\\matplotlib\\\\mpl-data\\\\fonts\\\\ttf\\\\DejaVuSans-Oblique.ttf', name='DejaVu Sans', style='oblique', variant='normal', weight=400, stretch='normal', size='scalable')) = 1.05\n",
      "04-May-24 19:47:42 [DEBUG] findfont: score(FontEntry(fname='c:\\\\Users\\\\hayk_\\\\.conda\\\\envs\\\\thesis\\\\lib\\\\site-packages\\\\matplotlib\\\\mpl-data\\\\fonts\\\\ttf\\\\STIXSizThreeSymBol.ttf', name='STIXSizeThreeSym', style='normal', variant='normal', weight=700, stretch='normal', size='scalable')) = 10.335\n",
      "04-May-24 19:47:42 [DEBUG] findfont: score(FontEntry(fname='c:\\\\Users\\\\hayk_\\\\.conda\\\\envs\\\\thesis\\\\lib\\\\site-packages\\\\matplotlib\\\\mpl-data\\\\fonts\\\\ttf\\\\cmb10.ttf', name='cmb10', style='normal', variant='normal', weight=400, stretch='normal', size='scalable')) = 10.05\n",
      "04-May-24 19:47:42 [DEBUG] findfont: score(FontEntry(fname='c:\\\\Users\\\\hayk_\\\\.conda\\\\envs\\\\thesis\\\\lib\\\\site-packages\\\\matplotlib\\\\mpl-data\\\\fonts\\\\ttf\\\\cmtt10.ttf', name='cmtt10', style='normal', variant='normal', weight=400, stretch='normal', size='scalable')) = 10.05\n",
      "04-May-24 19:47:42 [DEBUG] findfont: score(FontEntry(fname='c:\\\\Users\\\\hayk_\\\\.conda\\\\envs\\\\thesis\\\\lib\\\\site-packages\\\\matplotlib\\\\mpl-data\\\\fonts\\\\ttf\\\\DejaVuSans-Bold.ttf', name='DejaVu Sans', style='normal', variant='normal', weight=700, stretch='normal', size='scalable')) = 0.33499999999999996\n",
      "04-May-24 19:47:42 [DEBUG] findfont: score(FontEntry(fname='c:\\\\Users\\\\hayk_\\\\.conda\\\\envs\\\\thesis\\\\lib\\\\site-packages\\\\matplotlib\\\\mpl-data\\\\fonts\\\\ttf\\\\STIXSizThreeSymReg.ttf', name='STIXSizeThreeSym', style='normal', variant='normal', weight=400, stretch='normal', size='scalable')) = 10.05\n",
      "04-May-24 19:47:42 [DEBUG] findfont: score(FontEntry(fname='c:\\\\Users\\\\hayk_\\\\.conda\\\\envs\\\\thesis\\\\lib\\\\site-packages\\\\matplotlib\\\\mpl-data\\\\fonts\\\\ttf\\\\STIXSizTwoSymReg.ttf', name='STIXSizeTwoSym', style='normal', variant='normal', weight=400, stretch='normal', size='scalable')) = 10.05\n",
      "04-May-24 19:47:42 [DEBUG] findfont: score(FontEntry(fname='c:\\\\Users\\\\hayk_\\\\.conda\\\\envs\\\\thesis\\\\lib\\\\site-packages\\\\matplotlib\\\\mpl-data\\\\fonts\\\\ttf\\\\STIXSizFourSymReg.ttf', name='STIXSizeFourSym', style='normal', variant='normal', weight=400, stretch='normal', size='scalable')) = 10.05\n",
      "04-May-24 19:47:42 [DEBUG] findfont: score(FontEntry(fname='c:\\\\Users\\\\hayk_\\\\.conda\\\\envs\\\\thesis\\\\lib\\\\site-packages\\\\matplotlib\\\\mpl-data\\\\fonts\\\\ttf\\\\DejaVuSansMono-Oblique.ttf', name='DejaVu Sans Mono', style='oblique', variant='normal', weight=400, stretch='normal', size='scalable')) = 11.05\n",
      "04-May-24 19:47:42 [DEBUG] findfont: score(FontEntry(fname='c:\\\\Users\\\\hayk_\\\\.conda\\\\envs\\\\thesis\\\\lib\\\\site-packages\\\\matplotlib\\\\mpl-data\\\\fonts\\\\ttf\\\\STIXGeneralBol.ttf', name='STIXGeneral', style='normal', variant='normal', weight=700, stretch='normal', size='scalable')) = 10.335\n",
      "04-May-24 19:47:42 [DEBUG] findfont: score(FontEntry(fname='c:\\\\Users\\\\hayk_\\\\.conda\\\\envs\\\\thesis\\\\lib\\\\site-packages\\\\matplotlib\\\\mpl-data\\\\fonts\\\\ttf\\\\cmex10.ttf', name='cmex10', style='normal', variant='normal', weight=400, stretch='normal', size='scalable')) = 10.05\n",
      "04-May-24 19:47:42 [DEBUG] findfont: score(FontEntry(fname='c:\\\\Users\\\\hayk_\\\\.conda\\\\envs\\\\thesis\\\\lib\\\\site-packages\\\\matplotlib\\\\mpl-data\\\\fonts\\\\ttf\\\\STIXSizOneSymReg.ttf', name='STIXSizeOneSym', style='normal', variant='normal', weight=400, stretch='normal', size='scalable')) = 10.05\n",
      "04-May-24 19:47:42 [DEBUG] findfont: score(FontEntry(fname='c:\\\\Users\\\\hayk_\\\\.conda\\\\envs\\\\thesis\\\\lib\\\\site-packages\\\\matplotlib\\\\mpl-data\\\\fonts\\\\ttf\\\\DejaVuSerif-Italic.ttf', name='DejaVu Serif', style='italic', variant='normal', weight=400, stretch='normal', size='scalable')) = 11.05\n",
      "04-May-24 19:47:42 [DEBUG] findfont: score(FontEntry(fname='c:\\\\Users\\\\hayk_\\\\.conda\\\\envs\\\\thesis\\\\lib\\\\site-packages\\\\matplotlib\\\\mpl-data\\\\fonts\\\\ttf\\\\cmmi10.ttf', name='cmmi10', style='normal', variant='normal', weight=400, stretch='normal', size='scalable')) = 10.05\n",
      "04-May-24 19:47:42 [DEBUG] findfont: score(FontEntry(fname='c:\\\\Users\\\\hayk_\\\\.conda\\\\envs\\\\thesis\\\\lib\\\\site-packages\\\\matplotlib\\\\mpl-data\\\\fonts\\\\ttf\\\\STIXSizFiveSymReg.ttf', name='STIXSizeFiveSym', style='normal', variant='normal', weight=400, stretch='normal', size='scalable')) = 10.05\n",
      "04-May-24 19:47:42 [DEBUG] findfont: score(FontEntry(fname='C:\\\\Windows\\\\Fonts\\\\phagspab.ttf', name='Microsoft PhagsPa', style='normal', variant='normal', weight=700, stretch='normal', size='scalable')) = 10.335\n",
      "04-May-24 19:47:42 [DEBUG] findfont: score(FontEntry(fname='C:\\\\Windows\\\\Fonts\\\\GILSANUB.TTF', name='Gill Sans Ultra Bold', style='normal', variant='normal', weight=400, stretch='normal', size='scalable')) = 10.05\n",
      "04-May-24 19:47:42 [DEBUG] findfont: score(FontEntry(fname='C:\\\\Windows\\\\Fonts\\\\BOD_BLAI.TTF', name='Bodoni MT', style='italic', variant='normal', weight=900, stretch='normal', size='scalable')) = 11.525\n",
      "04-May-24 19:47:42 [DEBUG] findfont: score(FontEntry(fname='C:\\\\Windows\\\\Fonts\\\\MTCORSVA.TTF', name='Monotype Corsiva', style='normal', variant='normal', weight=400, stretch='normal', size='scalable')) = 10.05\n",
      "04-May-24 19:47:42 [DEBUG] findfont: score(FontEntry(fname='C:\\\\Windows\\\\Fonts\\\\cambriab.ttf', name='Cambria', style='normal', variant='normal', weight=700, stretch='normal', size='scalable')) = 10.335\n",
      "04-May-24 19:47:42 [DEBUG] findfont: score(FontEntry(fname='C:\\\\Windows\\\\Fonts\\\\timesi.ttf', name='Times New Roman', style='italic', variant='normal', weight=400, stretch='normal', size='scalable')) = 11.05\n",
      "04-May-24 19:47:42 [DEBUG] findfont: score(FontEntry(fname='C:\\\\Windows\\\\Fonts\\\\seguili.ttf', name='Segoe UI', style='italic', variant='normal', weight=300, stretch='normal', size='scalable')) = 11.145\n",
      "04-May-24 19:47:42 [DEBUG] findfont: score(FontEntry(fname='C:\\\\Windows\\\\Fonts\\\\SCHLBKB.TTF', name='Century Schoolbook', style='normal', variant='normal', weight=700, stretch='normal', size='scalable')) = 10.335\n",
      "04-May-24 19:47:42 [DEBUG] findfont: score(FontEntry(fname='C:\\\\Windows\\\\Fonts\\\\arial.ttf', name='Arial', style='normal', variant='normal', weight=400, stretch='normal', size='scalable')) = 6.413636363636363\n",
      "04-May-24 19:47:42 [DEBUG] findfont: score(FontEntry(fname='C:\\\\Windows\\\\Fonts\\\\BOD_PSTC.TTF', name='Bodoni MT', style='normal', variant='normal', weight=300, stretch='normal', size='scalable')) = 10.145\n",
      "04-May-24 19:47:42 [DEBUG] findfont: score(FontEntry(fname='C:\\\\Windows\\\\Fonts\\\\corbell.ttf', name='Corbel', style='normal', variant='normal', weight=300, stretch='normal', size='scalable')) = 10.145\n",
      "04-May-24 19:47:42 [DEBUG] findfont: score(FontEntry(fname='C:\\\\Windows\\\\Fonts\\\\CENSCBK.TTF', name='Century Schoolbook', style='normal', variant='normal', weight=400, stretch='normal', size='scalable')) = 10.05\n",
      "04-May-24 19:47:42 [DEBUG] findfont: score(FontEntry(fname='C:\\\\Windows\\\\Fonts\\\\LHANDW.TTF', name='Lucida Handwriting', style='italic', variant='normal', weight=400, stretch='normal', size='scalable')) = 11.05\n",
      "04-May-24 19:47:42 [DEBUG] findfont: score(FontEntry(fname='C:\\\\Windows\\\\Fonts\\\\mvboli.ttf', name='MV Boli', style='normal', variant='normal', weight=400, stretch='normal', size='scalable')) = 10.05\n",
      "04-May-24 19:47:42 [DEBUG] findfont: score(FontEntry(fname='C:\\\\Windows\\\\Fonts\\\\FORTE.TTF', name='Forte', style='normal', variant='normal', weight=400, stretch='normal', size='scalable')) = 10.05\n",
      "04-May-24 19:47:42 [DEBUG] findfont: score(FontEntry(fname='C:\\\\Windows\\\\Fonts\\\\comic.ttf', name='Comic Sans MS', style='normal', variant='normal', weight=400, stretch='normal', size='scalable')) = 10.05\n",
      "04-May-24 19:47:42 [DEBUG] findfont: score(FontEntry(fname='C:\\\\Windows\\\\Fonts\\\\LeelaUIb.ttf', name='Leelawadee UI', style='normal', variant='normal', weight=700, stretch='normal', size='scalable')) = 10.335\n",
      "04-May-24 19:47:42 [DEBUG] findfont: score(FontEntry(fname='C:\\\\Windows\\\\Fonts\\\\Candarab.ttf', name='Candara', style='normal', variant='normal', weight=700, stretch='normal', size='scalable')) = 10.335\n",
      "04-May-24 19:47:42 [DEBUG] findfont: score(FontEntry(fname='C:\\\\Windows\\\\Fonts\\\\PARCHM.TTF', name='Parchment', style='normal', variant='normal', weight=400, stretch='normal', size='scalable')) = 10.05\n",
      "04-May-24 19:47:42 [DEBUG] findfont: score(FontEntry(fname='C:\\\\Windows\\\\Fonts\\\\GOTHICB.TTF', name='Century Gothic', style='normal', variant='normal', weight=700, stretch='normal', size='scalable')) = 10.335\n",
      "04-May-24 19:47:42 [DEBUG] findfont: score(FontEntry(fname='C:\\\\Windows\\\\Fonts\\\\LFAXDI.TTF', name='Lucida Fax', style='italic', variant='normal', weight=600, stretch='normal', size='scalable')) = 11.24\n",
      "04-May-24 19:47:42 [DEBUG] findfont: score(FontEntry(fname='C:\\\\Windows\\\\Fonts\\\\corbelb.ttf', name='Corbel', style='normal', variant='normal', weight=700, stretch='normal', size='scalable')) = 10.335\n",
      "04-May-24 19:47:42 [DEBUG] findfont: score(FontEntry(fname='C:\\\\Windows\\\\Fonts\\\\monbaiti.ttf', name='Mongolian Baiti', style='normal', variant='normal', weight=400, stretch='normal', size='scalable')) = 10.05\n",
      "04-May-24 19:47:42 [DEBUG] findfont: score(FontEntry(fname='C:\\\\Windows\\\\Fonts\\\\FREESCPT.TTF', name='Freestyle Script', style='normal', variant='normal', weight=400, stretch='normal', size='scalable')) = 10.05\n",
      "04-May-24 19:47:42 [DEBUG] findfont: score(FontEntry(fname='C:\\\\Windows\\\\Fonts\\\\verdanab.ttf', name='Verdana', style='normal', variant='normal', weight=700, stretch='normal', size='scalable')) = 3.9713636363636367\n",
      "04-May-24 19:47:42 [DEBUG] findfont: score(FontEntry(fname='C:\\\\Windows\\\\Fonts\\\\LeelawUI.ttf', name='Leelawadee UI', style='normal', variant='normal', weight=400, stretch='normal', size='scalable')) = 10.05\n",
      "04-May-24 19:47:42 [DEBUG] findfont: score(FontEntry(fname='C:\\\\Windows\\\\Fonts\\\\LBRITE.TTF', name='Lucida Bright', style='normal', variant='normal', weight=400, stretch='normal', size='scalable')) = 10.05\n",
      "04-May-24 19:47:42 [DEBUG] findfont: score(FontEntry(fname='C:\\\\Windows\\\\Fonts\\\\HATTEN.TTF', name='Haettenschweiler', style='normal', variant='normal', weight=400, stretch='normal', size='scalable')) = 10.05\n",
      "04-May-24 19:47:42 [DEBUG] findfont: score(FontEntry(fname='C:\\\\Windows\\\\Fonts\\\\msyh.ttc', name='Microsoft YaHei', style='normal', variant='normal', weight=400, stretch='normal', size='scalable')) = 10.05\n",
      "04-May-24 19:47:42 [DEBUG] findfont: score(FontEntry(fname='C:\\\\Windows\\\\Fonts\\\\BOD_BLAR.TTF', name='Bodoni MT', style='normal', variant='normal', weight=900, stretch='normal', size='scalable')) = 10.525\n",
      "04-May-24 19:47:42 [DEBUG] findfont: score(FontEntry(fname='C:\\\\Windows\\\\Fonts\\\\ROCKBI.TTF', name='Rockwell', style='italic', variant='normal', weight=700, stretch='normal', size='scalable')) = 11.335\n",
      "04-May-24 19:47:42 [DEBUG] findfont: score(FontEntry(fname='C:\\\\Windows\\\\Fonts\\\\msjhbd.ttc', name='Microsoft JhengHei', style='normal', variant='normal', weight=700, stretch='normal', size='scalable')) = 10.335\n",
      "04-May-24 19:47:42 [DEBUG] findfont: score(FontEntry(fname='C:\\\\Windows\\\\Fonts\\\\arialbd.ttf', name='Arial', style='normal', variant='normal', weight=700, stretch='normal', size='scalable')) = 6.698636363636363\n",
      "04-May-24 19:47:42 [DEBUG] findfont: score(FontEntry(fname='C:\\\\Windows\\\\Fonts\\\\MISTRAL.TTF', name='Mistral', style='normal', variant='normal', weight=400, stretch='normal', size='scalable')) = 10.05\n",
      "04-May-24 19:47:42 [DEBUG] findfont: score(FontEntry(fname='C:\\\\Windows\\\\Fonts\\\\COLONNA.TTF', name='Colonna MT', style='normal', variant='normal', weight=400, stretch='normal', size='scalable')) = 10.05\n",
      "04-May-24 19:47:42 [DEBUG] findfont: score(FontEntry(fname='C:\\\\Windows\\\\Fonts\\\\FRAHV.TTF', name='Franklin Gothic Heavy', style='normal', variant='normal', weight=400, stretch='normal', size='scalable')) = 10.05\n",
      "04-May-24 19:47:42 [DEBUG] findfont: score(FontEntry(fname='C:\\\\Windows\\\\Fonts\\\\msyhbd.ttc', name='Microsoft YaHei', style='normal', variant='normal', weight=700, stretch='normal', size='scalable')) = 10.335\n",
      "04-May-24 19:47:42 [DEBUG] findfont: score(FontEntry(fname='C:\\\\Windows\\\\Fonts\\\\simsun.ttc', name='SimSun', style='normal', variant='normal', weight=400, stretch='normal', size='scalable')) = 10.05\n",
      "04-May-24 19:47:42 [DEBUG] findfont: score(FontEntry(fname='C:\\\\Windows\\\\Fonts\\\\BOOKOS.TTF', name='Bookman Old Style', style='normal', variant='normal', weight=300, stretch='normal', size='scalable')) = 10.145\n",
      "04-May-24 19:47:42 [DEBUG] findfont: score(FontEntry(fname='C:\\\\Windows\\\\Fonts\\\\Candarali.ttf', name='Candara', style='italic', variant='normal', weight=400, stretch='normal', size='scalable')) = 11.05\n",
      "04-May-24 19:47:42 [DEBUG] findfont: score(FontEntry(fname='C:\\\\Windows\\\\Fonts\\\\malgunbd.ttf', name='Malgun Gothic', style='normal', variant='normal', weight=700, stretch='normal', size='scalable')) = 10.335\n",
      "04-May-24 19:47:42 [DEBUG] findfont: score(FontEntry(fname='C:\\\\Windows\\\\Fonts\\\\sylfaen.ttf', name='Sylfaen', style='normal', variant='normal', weight=400, stretch='normal', size='scalable')) = 10.05\n",
      "04-May-24 19:47:42 [DEBUG] findfont: score(FontEntry(fname='C:\\\\Windows\\\\Fonts\\\\marlett.ttf', name='Marlett', style='normal', variant='normal', weight=500, stretch='normal', size='scalable')) = 10.145\n",
      "04-May-24 19:47:42 [DEBUG] findfont: score(FontEntry(fname='C:\\\\Windows\\\\Fonts\\\\segoeuil.ttf', name='Segoe UI', style='normal', variant='normal', weight=300, stretch='normal', size='scalable')) = 10.145\n",
      "04-May-24 19:47:42 [DEBUG] findfont: score(FontEntry(fname='C:\\\\Windows\\\\Fonts\\\\LTYPEB.TTF', name='Lucida Sans Typewriter', style='normal', variant='normal', weight=600, stretch='normal', size='scalable')) = 10.24\n",
      "04-May-24 19:47:42 [DEBUG] findfont: score(FontEntry(fname='C:\\\\Windows\\\\Fonts\\\\courbi.ttf', name='Courier New', style='italic', variant='normal', weight=700, stretch='normal', size='scalable')) = 11.335\n",
      "04-May-24 19:47:42 [DEBUG] findfont: score(FontEntry(fname='C:\\\\Windows\\\\Fonts\\\\corbelz.ttf', name='Corbel', style='italic', variant='normal', weight=700, stretch='normal', size='scalable')) = 11.335\n",
      "04-May-24 19:47:42 [DEBUG] findfont: score(FontEntry(fname='C:\\\\Windows\\\\Fonts\\\\taileb.ttf', name='Microsoft Tai Le', style='normal', variant='normal', weight=700, stretch='normal', size='scalable')) = 10.335\n",
      "04-May-24 19:47:42 [DEBUG] findfont: score(FontEntry(fname='C:\\\\Windows\\\\Fonts\\\\FRSCRIPT.TTF', name='French Script MT', style='normal', variant='normal', weight=400, stretch='normal', size='scalable')) = 10.05\n",
      "04-May-24 19:47:42 [DEBUG] findfont: score(FontEntry(fname='C:\\\\Windows\\\\Fonts\\\\PRISTINA.TTF', name='Pristina', style='normal', variant='normal', weight=400, stretch='normal', size='scalable')) = 10.05\n",
      "04-May-24 19:47:42 [DEBUG] findfont: score(FontEntry(fname='C:\\\\Windows\\\\Fonts\\\\LEELAWAD.TTF', name='Leelawadee', style='normal', variant='normal', weight=400, stretch='normal', size='scalable')) = 10.05\n",
      "04-May-24 19:47:42 [DEBUG] findfont: score(FontEntry(fname='C:\\\\Windows\\\\Fonts\\\\TCCM____.TTF', name='Tw Cen MT Condensed', style='normal', variant='normal', weight=400, stretch='condensed', size='scalable')) = 10.25\n",
      "04-May-24 19:47:42 [DEBUG] findfont: score(FontEntry(fname='C:\\\\Windows\\\\Fonts\\\\constanb.ttf', name='Constantia', style='normal', variant='normal', weight=700, stretch='normal', size='scalable')) = 10.335\n",
      "04-May-24 19:47:42 [DEBUG] findfont: score(FontEntry(fname='C:\\\\Windows\\\\Fonts\\\\verdanaz.ttf', name='Verdana', style='italic', variant='normal', weight=700, stretch='normal', size='scalable')) = 4.971363636363637\n",
      "04-May-24 19:47:42 [DEBUG] findfont: score(FontEntry(fname='C:\\\\Windows\\\\Fonts\\\\MATURASC.TTF', name='Matura MT Script Capitals', style='normal', variant='normal', weight=400, stretch='normal', size='scalable')) = 10.05\n",
      "04-May-24 19:47:42 [DEBUG] findfont: score(FontEntry(fname='C:\\\\Windows\\\\Fonts\\\\ROCCB___.TTF', name='Rockwell Condensed', style='normal', variant='normal', weight=700, stretch='condensed', size='scalable')) = 10.535\n",
      "04-May-24 19:47:42 [DEBUG] findfont: score(FontEntry(fname='C:\\\\Windows\\\\Fonts\\\\mmrtext.ttf', name='Myanmar Text', style='normal', variant='normal', weight=400, stretch='normal', size='scalable')) = 10.05\n",
      "04-May-24 19:47:42 [DEBUG] findfont: score(FontEntry(fname='C:\\\\Windows\\\\Fonts\\\\LSANSD.TTF', name='Lucida Sans', style='normal', variant='normal', weight=600, stretch='normal', size='scalable')) = 10.24\n",
      "04-May-24 19:47:42 [DEBUG] findfont: score(FontEntry(fname='C:\\\\Windows\\\\Fonts\\\\LTYPE.TTF', name='Lucida Sans Typewriter', style='normal', variant='normal', weight=400, stretch='normal', size='scalable')) = 10.05\n",
      "04-May-24 19:47:42 [DEBUG] findfont: score(FontEntry(fname='C:\\\\Windows\\\\Fonts\\\\GILC____.TTF', name='Gill Sans MT Condensed', style='normal', variant='normal', weight=400, stretch='condensed', size='scalable')) = 10.25\n",
      "04-May-24 19:47:42 [DEBUG] findfont: score(FontEntry(fname='C:\\\\Windows\\\\Fonts\\\\FELIXTI.TTF', name='Felix Titling', style='normal', variant='normal', weight=400, stretch='normal', size='scalable')) = 10.05\n",
      "04-May-24 19:47:42 [DEBUG] findfont: score(FontEntry(fname='C:\\\\Windows\\\\Fonts\\\\seguiemj.ttf', name='Segoe UI Emoji', style='normal', variant='normal', weight=400, stretch='normal', size='scalable')) = 10.05\n",
      "04-May-24 19:47:42 [DEBUG] findfont: score(FontEntry(fname='C:\\\\Windows\\\\Fonts\\\\GOUDOSI.TTF', name='Goudy Old Style', style='italic', variant='normal', weight=400, stretch='normal', size='scalable')) = 11.05\n",
      "04-May-24 19:47:42 [DEBUG] findfont: score(FontEntry(fname='C:\\\\Windows\\\\Fonts\\\\GLECB.TTF', name='Gloucester MT Extra Condensed', style='normal', variant='normal', weight=400, stretch='condensed', size='scalable')) = 10.25\n",
      "04-May-24 19:47:42 [DEBUG] findfont: score(FontEntry(fname='C:\\\\Windows\\\\Fonts\\\\YuGothL.ttc', name='Yu Gothic', style='normal', variant='normal', weight=300, stretch='normal', size='scalable')) = 10.145\n",
      "04-May-24 19:47:42 [DEBUG] findfont: score(FontEntry(fname='C:\\\\Windows\\\\Fonts\\\\GARA.TTF', name='Garamond', style='normal', variant='normal', weight=400, stretch='normal', size='scalable')) = 10.05\n",
      "04-May-24 19:47:42 [DEBUG] findfont: score(FontEntry(fname='C:\\\\Windows\\\\Fonts\\\\KUNSTLER.TTF', name='Kunstler Script', style='normal', variant='normal', weight=400, stretch='normal', size='scalable')) = 10.05\n",
      "04-May-24 19:47:42 [DEBUG] findfont: score(FontEntry(fname='C:\\\\Windows\\\\Fonts\\\\CALIST.TTF', name='Calisto MT', style='normal', variant='normal', weight=400, stretch='normal', size='scalable')) = 10.05\n",
      "04-May-24 19:47:42 [DEBUG] findfont: score(FontEntry(fname='C:\\\\Windows\\\\Fonts\\\\BOD_CR.TTF', name='Bodoni MT', style='normal', variant='normal', weight=400, stretch='condensed', size='scalable')) = 10.25\n",
      "04-May-24 19:47:42 [DEBUG] findfont: score(FontEntry(fname='C:\\\\Windows\\\\Fonts\\\\LSANS.TTF', name='Lucida Sans', style='normal', variant='normal', weight=400, stretch='normal', size='scalable')) = 10.05\n",
      "04-May-24 19:47:42 [DEBUG] findfont: score(FontEntry(fname='C:\\\\Windows\\\\Fonts\\\\ariali.ttf', name='Arial', style='italic', variant='normal', weight=400, stretch='normal', size='scalable')) = 7.413636363636363\n",
      "04-May-24 19:47:42 [DEBUG] findfont: score(FontEntry(fname='C:\\\\Windows\\\\Fonts\\\\TCM_____.TTF', name='Tw Cen MT', style='normal', variant='normal', weight=400, stretch='normal', size='scalable')) = 10.05\n",
      "04-May-24 19:47:42 [DEBUG] findfont: score(FontEntry(fname='C:\\\\Windows\\\\Fonts\\\\segoeuib.ttf', name='Segoe UI', style='normal', variant='normal', weight=700, stretch='normal', size='scalable')) = 10.335\n",
      "04-May-24 19:47:42 [DEBUG] findfont: score(FontEntry(fname='C:\\\\Windows\\\\Fonts\\\\FTLTLT.TTF', name='Footlight MT Light', style='normal', variant='normal', weight=300, stretch='normal', size='scalable')) = 10.145\n",
      "04-May-24 19:47:42 [DEBUG] findfont: score(FontEntry(fname='C:\\\\Windows\\\\Fonts\\\\pala.ttf', name='Palatino Linotype', style='normal', variant='normal', weight=400, stretch='normal', size='scalable')) = 10.05\n",
      "04-May-24 19:47:42 [DEBUG] findfont: score(FontEntry(fname='C:\\\\Windows\\\\Fonts\\\\BRUSHSCI.TTF', name='Brush Script MT', style='italic', variant='normal', weight=400, stretch='normal', size='scalable')) = 11.05\n",
      "04-May-24 19:47:42 [DEBUG] findfont: score(FontEntry(fname='C:\\\\Windows\\\\Fonts\\\\CENTURY.TTF', name='Century', style='normal', variant='normal', weight=400, stretch='normal', size='scalable')) = 10.05\n",
      "04-May-24 19:47:42 [DEBUG] findfont: score(FontEntry(fname='C:\\\\Windows\\\\Fonts\\\\ROCKEB.TTF', name='Rockwell Extra Bold', style='normal', variant='normal', weight=800, stretch='normal', size='scalable')) = 10.43\n",
      "04-May-24 19:47:42 [DEBUG] findfont: score(FontEntry(fname='C:\\\\Windows\\\\Fonts\\\\RAVIE.TTF', name='Ravie', style='normal', variant='normal', weight=400, stretch='normal', size='scalable')) = 10.05\n",
      "04-May-24 19:47:42 [DEBUG] findfont: score(FontEntry(fname='C:\\\\Windows\\\\Fonts\\\\trebucit.ttf', name='Trebuchet MS', style='italic', variant='normal', weight=400, stretch='normal', size='scalable')) = 11.05\n",
      "04-May-24 19:47:42 [DEBUG] findfont: score(FontEntry(fname='C:\\\\Windows\\\\Fonts\\\\DUBAI-REGULAR.TTF', name='Dubai', style='normal', variant='normal', weight=400, stretch='normal', size='scalable')) = 10.05\n",
      "04-May-24 19:47:42 [DEBUG] findfont: score(FontEntry(fname='C:\\\\Windows\\\\Fonts\\\\LTYPEO.TTF', name='Lucida Sans Typewriter', style='oblique', variant='normal', weight=400, stretch='normal', size='scalable')) = 11.05\n",
      "04-May-24 19:47:42 [DEBUG] findfont: score(FontEntry(fname='C:\\\\Windows\\\\Fonts\\\\comicbd.ttf', name='Comic Sans MS', style='normal', variant='normal', weight=700, stretch='normal', size='scalable')) = 10.335\n",
      "04-May-24 19:47:42 [DEBUG] findfont: score(FontEntry(fname='C:\\\\Windows\\\\Fonts\\\\corbel.ttf', name='Corbel', style='normal', variant='normal', weight=400, stretch='normal', size='scalable')) = 10.05\n",
      "04-May-24 19:47:42 [DEBUG] findfont: score(FontEntry(fname='C:\\\\Windows\\\\Fonts\\\\DUBAI-MEDIUM.TTF', name='Dubai', style='normal', variant='normal', weight=500, stretch='normal', size='scalable')) = 10.145\n",
      "04-May-24 19:47:42 [DEBUG] findfont: score(FontEntry(fname='C:\\\\Windows\\\\Fonts\\\\webdings.ttf', name='Webdings', style='normal', variant='normal', weight=400, stretch='normal', size='scalable')) = 10.05\n",
      "04-May-24 19:47:42 [DEBUG] findfont: score(FontEntry(fname='C:\\\\Windows\\\\Fonts\\\\MAGNETOB.TTF', name='Magneto', style='normal', variant='normal', weight=700, stretch='normal', size='scalable')) = 10.335\n",
      "04-May-24 19:47:42 [DEBUG] findfont: score(FontEntry(fname='C:\\\\Windows\\\\Fonts\\\\BOD_B.TTF', name='Bodoni MT', style='normal', variant='normal', weight=700, stretch='normal', size='scalable')) = 10.335\n",
      "04-May-24 19:47:42 [DEBUG] findfont: score(FontEntry(fname='C:\\\\Windows\\\\Fonts\\\\SCHLBKBI.TTF', name='Century Schoolbook', style='italic', variant='normal', weight=700, stretch='normal', size='scalable')) = 11.335\n",
      "04-May-24 19:47:42 [DEBUG] findfont: score(FontEntry(fname='C:\\\\Windows\\\\Fonts\\\\GOUDOS.TTF', name='Goudy Old Style', style='normal', variant='normal', weight=400, stretch='normal', size='scalable')) = 10.05\n",
      "04-May-24 19:47:42 [DEBUG] findfont: score(FontEntry(fname='C:\\\\Windows\\\\Fonts\\\\segmdl2.ttf', name='Segoe MDL2 Assets', style='normal', variant='normal', weight=400, stretch='normal', size='scalable')) = 10.05\n",
      "04-May-24 19:47:42 [DEBUG] findfont: score(FontEntry(fname='C:\\\\Windows\\\\Fonts\\\\ARIALNBI.TTF', name='Arial', style='italic', variant='normal', weight=700, stretch='condensed', size='scalable')) = 7.8986363636363635\n",
      "04-May-24 19:47:42 [DEBUG] findfont: score(FontEntry(fname='C:\\\\Windows\\\\Fonts\\\\FRADMIT.TTF', name='Franklin Gothic Demi', style='italic', variant='normal', weight=400, stretch='normal', size='scalable')) = 11.05\n",
      "04-May-24 19:47:42 [DEBUG] findfont: score(FontEntry(fname='C:\\\\Windows\\\\Fonts\\\\georgiab.ttf', name='Georgia', style='normal', variant='normal', weight=700, stretch='normal', size='scalable')) = 10.335\n",
      "04-May-24 19:47:42 [DEBUG] findfont: score(FontEntry(fname='C:\\\\Windows\\\\Fonts\\\\GOUDOSB.TTF', name='Goudy Old Style', style='normal', variant='normal', weight=700, stretch='normal', size='scalable')) = 10.335\n",
      "04-May-24 19:47:42 [DEBUG] findfont: score(FontEntry(fname='C:\\\\Windows\\\\Fonts\\\\MOD20.TTF', name='Modern No. 20', style='normal', variant='normal', weight=400, stretch='normal', size='scalable')) = 10.05\n",
      "04-May-24 19:47:42 [DEBUG] findfont: score(FontEntry(fname='C:\\\\Windows\\\\Fonts\\\\GOTHIC.TTF', name='Century Gothic', style='normal', variant='normal', weight=400, stretch='normal', size='scalable')) = 10.05\n",
      "04-May-24 19:47:42 [DEBUG] findfont: score(FontEntry(fname='C:\\\\Windows\\\\Fonts\\\\GARABD.TTF', name='Garamond', style='normal', variant='normal', weight=700, stretch='normal', size='scalable')) = 10.335\n",
      "04-May-24 19:47:42 [DEBUG] findfont: score(FontEntry(fname='C:\\\\Windows\\\\Fonts\\\\ARIALN.TTF', name='Arial', style='normal', variant='normal', weight=400, stretch='condensed', size='scalable')) = 6.613636363636363\n",
      "04-May-24 19:47:42 [DEBUG] findfont: score(FontEntry(fname='C:\\\\Windows\\\\Fonts\\\\SHOWG.TTF', name='Showcard Gothic', style='normal', variant='normal', weight=400, stretch='normal', size='scalable')) = 10.05\n",
      "04-May-24 19:47:42 [DEBUG] findfont: score(FontEntry(fname='C:\\\\Windows\\\\Fonts\\\\malgunsl.ttf', name='Malgun Gothic', style='normal', variant='normal', weight=300, stretch='normal', size='scalable')) = 10.145\n",
      "04-May-24 19:47:42 [DEBUG] findfont: score(FontEntry(fname='C:\\\\Windows\\\\Fonts\\\\COOPBL.TTF', name='Cooper Black', style='normal', variant='normal', weight=400, stretch='normal', size='scalable')) = 10.05\n",
      "04-May-24 19:47:42 [DEBUG] findfont: score(FontEntry(fname='C:\\\\Windows\\\\Fonts\\\\phagspa.ttf', name='Microsoft PhagsPa', style='normal', variant='normal', weight=400, stretch='normal', size='scalable')) = 10.05\n",
      "04-May-24 19:47:42 [DEBUG] findfont: score(FontEntry(fname='C:\\\\Windows\\\\Fonts\\\\javatext.ttf', name='Javanese Text', style='normal', variant='normal', weight=400, stretch='normal', size='scalable')) = 10.05\n",
      "04-May-24 19:47:42 [DEBUG] findfont: score(FontEntry(fname='C:\\\\Windows\\\\Fonts\\\\DUBAI-BOLD.TTF', name='Dubai', style='normal', variant='normal', weight=700, stretch='normal', size='scalable')) = 10.335\n",
      "04-May-24 19:47:42 [DEBUG] findfont: score(FontEntry(fname='C:\\\\Windows\\\\Fonts\\\\GOUDYSTO.TTF', name='Goudy Stout', style='normal', variant='normal', weight=400, stretch='normal', size='scalable')) = 10.05\n",
      "04-May-24 19:47:42 [DEBUG] findfont: score(FontEntry(fname='C:\\\\Windows\\\\Fonts\\\\YuGothR.ttc', name='Yu Gothic', style='normal', variant='normal', weight=400, stretch='normal', size='scalable')) = 10.05\n",
      "04-May-24 19:47:42 [DEBUG] findfont: score(FontEntry(fname='C:\\\\Windows\\\\Fonts\\\\HTOWERTI.TTF', name='High Tower Text', style='italic', variant='normal', weight=400, stretch='normal', size='scalable')) = 11.05\n",
      "04-May-24 19:47:42 [DEBUG] findfont: score(FontEntry(fname='C:\\\\Windows\\\\Fonts\\\\PALSCRI.TTF', name='Palace Script MT', style='normal', variant='normal', weight=400, stretch='normal', size='scalable')) = 10.05\n",
      "04-May-24 19:47:42 [DEBUG] findfont: score(FontEntry(fname='C:\\\\Windows\\\\Fonts\\\\ANTQUAB.TTF', name='Book Antiqua', style='normal', variant='normal', weight=700, stretch='normal', size='scalable')) = 10.335\n",
      "04-May-24 19:47:42 [DEBUG] findfont: score(FontEntry(fname='C:\\\\Windows\\\\Fonts\\\\CALISTBI.TTF', name='Calisto MT', style='italic', variant='normal', weight=700, stretch='normal', size='scalable')) = 11.335\n",
      "04-May-24 19:47:42 [DEBUG] findfont: score(FontEntry(fname='C:\\\\Windows\\\\Fonts\\\\corbeli.ttf', name='Corbel', style='italic', variant='normal', weight=400, stretch='normal', size='scalable')) = 11.05\n",
      "04-May-24 19:47:42 [DEBUG] findfont: score(FontEntry(fname='C:\\\\Windows\\\\Fonts\\\\msgothic.ttc', name='MS Gothic', style='normal', variant='normal', weight=400, stretch='normal', size='scalable')) = 10.05\n",
      "04-May-24 19:47:42 [DEBUG] findfont: score(FontEntry(fname='C:\\\\Windows\\\\Fonts\\\\georgiai.ttf', name='Georgia', style='italic', variant='normal', weight=400, stretch='normal', size='scalable')) = 11.05\n",
      "04-May-24 19:47:42 [DEBUG] findfont: score(FontEntry(fname='C:\\\\Windows\\\\Fonts\\\\SegUIVar.ttf', name='Segoe UI Variable', style='normal', variant='normal', weight=400, stretch='normal', size='scalable')) = 10.05\n",
      "04-May-24 19:47:42 [DEBUG] findfont: score(FontEntry(fname='C:\\\\Windows\\\\Fonts\\\\l_10646.ttf', name='Lucida Sans Unicode', style='normal', variant='normal', weight=400, stretch='normal', size='scalable')) = 10.05\n",
      "04-May-24 19:47:42 [DEBUG] findfont: score(FontEntry(fname='C:\\\\Windows\\\\Fonts\\\\GILB____.TTF', name='Gill Sans MT', style='normal', variant='normal', weight=700, stretch='normal', size='scalable')) = 10.335\n",
      "04-May-24 19:47:42 [DEBUG] findfont: score(FontEntry(fname='C:\\\\Windows\\\\Fonts\\\\cambriaz.ttf', name='Cambria', style='italic', variant='normal', weight=700, stretch='normal', size='scalable')) = 11.335\n",
      "04-May-24 19:47:42 [DEBUG] findfont: score(FontEntry(fname='C:\\\\Windows\\\\Fonts\\\\msyhl.ttc', name='Microsoft YaHei', style='normal', variant='normal', weight=290, stretch='normal', size='scalable')) = 10.1545\n",
      "04-May-24 19:47:42 [DEBUG] findfont: score(FontEntry(fname='C:\\\\Windows\\\\Fonts\\\\Candara.ttf', name='Candara', style='normal', variant='normal', weight=400, stretch='normal', size='scalable')) = 10.05\n",
      "04-May-24 19:47:42 [DEBUG] findfont: score(FontEntry(fname='C:\\\\Windows\\\\Fonts\\\\Inkfree.ttf', name='Ink Free', style='normal', variant='normal', weight=400, stretch='normal', size='scalable')) = 10.05\n",
      "04-May-24 19:47:42 [DEBUG] findfont: score(FontEntry(fname='C:\\\\Windows\\\\Fonts\\\\TCBI____.TTF', name='Tw Cen MT', style='italic', variant='normal', weight=700, stretch='normal', size='scalable')) = 11.335\n",
      "04-May-24 19:47:42 [DEBUG] findfont: score(FontEntry(fname='C:\\\\Windows\\\\Fonts\\\\AGENCYB.TTF', name='Agency FB', style='normal', variant='normal', weight=700, stretch='normal', size='scalable')) = 10.335\n",
      "04-May-24 19:47:42 [DEBUG] findfont: score(FontEntry(fname='C:\\\\Windows\\\\Fonts\\\\BELLI.TTF', name='Bell MT', style='italic', variant='normal', weight=400, stretch='normal', size='scalable')) = 11.05\n",
      "04-May-24 19:47:42 [DEBUG] findfont: score(FontEntry(fname='C:\\\\Windows\\\\Fonts\\\\LFAX.TTF', name='Lucida Fax', style='normal', variant='normal', weight=400, stretch='normal', size='scalable')) = 10.05\n",
      "04-May-24 19:47:42 [DEBUG] findfont: score(FontEntry(fname='C:\\\\Windows\\\\Fonts\\\\GLSNECB.TTF', name='Gill Sans MT Ext Condensed Bold', style='normal', variant='normal', weight=400, stretch='condensed', size='scalable')) = 10.25\n",
      "04-May-24 19:47:42 [DEBUG] findfont: score(FontEntry(fname='C:\\\\Windows\\\\Fonts\\\\ELEPHNT.TTF', name='Elephant', style='normal', variant='normal', weight=400, stretch='normal', size='scalable')) = 10.05\n",
      "04-May-24 19:47:42 [DEBUG] findfont: score(FontEntry(fname='C:\\\\Windows\\\\Fonts\\\\ANTQUAI.TTF', name='Book Antiqua', style='italic', variant='normal', weight=400, stretch='normal', size='scalable')) = 11.05\n",
      "04-May-24 19:47:42 [DEBUG] findfont: score(FontEntry(fname='C:\\\\Windows\\\\Fonts\\\\segoeuisl.ttf', name='Segoe UI', style='normal', variant='normal', weight=350, stretch='normal', size='scalable')) = 10.0975\n",
      "04-May-24 19:47:42 [DEBUG] findfont: score(FontEntry(fname='C:\\\\Windows\\\\Fonts\\\\palai.ttf', name='Palatino Linotype', style='italic', variant='normal', weight=400, stretch='normal', size='scalable')) = 11.05\n",
      "04-May-24 19:47:42 [DEBUG] findfont: score(FontEntry(fname='C:\\\\Windows\\\\Fonts\\\\calibriz.ttf', name='Calibri', style='italic', variant='normal', weight=700, stretch='normal', size='scalable')) = 11.335\n",
      "04-May-24 19:47:42 [DEBUG] findfont: score(FontEntry(fname='C:\\\\Windows\\\\Fonts\\\\PERB____.TTF', name='Perpetua', style='normal', variant='normal', weight=700, stretch='normal', size='scalable')) = 10.335\n",
      "04-May-24 19:47:42 [DEBUG] findfont: score(FontEntry(fname='C:\\\\Windows\\\\Fonts\\\\BRITANIC.TTF', name='Britannic Bold', style='normal', variant='normal', weight=400, stretch='normal', size='scalable')) = 10.05\n",
      "04-May-24 19:47:42 [DEBUG] findfont: score(FontEntry(fname='C:\\\\Windows\\\\Fonts\\\\taile.ttf', name='Microsoft Tai Le', style='normal', variant='normal', weight=400, stretch='normal', size='scalable')) = 10.05\n",
      "04-May-24 19:47:42 [DEBUG] findfont: score(FontEntry(fname='C:\\\\Windows\\\\Fonts\\\\FRADM.TTF', name='Franklin Gothic Demi', style='normal', variant='normal', weight=400, stretch='normal', size='scalable')) = 10.05\n",
      "04-May-24 19:47:42 [DEBUG] findfont: score(FontEntry(fname='C:\\\\Windows\\\\Fonts\\\\comici.ttf', name='Comic Sans MS', style='italic', variant='normal', weight=400, stretch='normal', size='scalable')) = 11.05\n",
      "04-May-24 19:47:42 [DEBUG] findfont: score(FontEntry(fname='C:\\\\Windows\\\\Fonts\\\\BOD_CBI.TTF', name='Bodoni MT', style='italic', variant='normal', weight=700, stretch='condensed', size='scalable')) = 11.535\n",
      "04-May-24 19:47:42 [DEBUG] findfont: score(FontEntry(fname='C:\\\\Windows\\\\Fonts\\\\ONYX.TTF', name='Onyx', style='normal', variant='normal', weight=400, stretch='normal', size='scalable')) = 10.05\n",
      "04-May-24 19:47:42 [DEBUG] findfont: score(FontEntry(fname='C:\\\\Windows\\\\Fonts\\\\TCB_____.TTF', name='Tw Cen MT', style='normal', variant='normal', weight=700, stretch='normal', size='scalable')) = 10.335\n",
      "04-May-24 19:47:42 [DEBUG] findfont: score(FontEntry(fname='C:\\\\Windows\\\\Fonts\\\\cambria.ttc', name='Cambria', style='normal', variant='normal', weight=400, stretch='normal', size='scalable')) = 10.05\n",
      "04-May-24 19:47:42 [DEBUG] findfont: score(FontEntry(fname='C:\\\\Windows\\\\Fonts\\\\gadugib.ttf', name='Gadugi', style='normal', variant='normal', weight=700, stretch='normal', size='scalable')) = 10.335\n",
      "04-May-24 19:47:42 [DEBUG] findfont: score(FontEntry(fname='C:\\\\Windows\\\\Fonts\\\\CHILLER.TTF', name='Chiller', style='normal', variant='normal', weight=400, stretch='normal', size='scalable')) = 10.05\n",
      "04-May-24 19:47:42 [DEBUG] findfont: score(FontEntry(fname='C:\\\\Windows\\\\Fonts\\\\SCHLBKI.TTF', name='Century Schoolbook', style='italic', variant='normal', weight=400, stretch='normal', size='scalable')) = 11.05\n",
      "04-May-24 19:47:42 [DEBUG] findfont: score(FontEntry(fname='C:\\\\Windows\\\\Fonts\\\\BOD_I.TTF', name='Bodoni MT', style='italic', variant='normal', weight=400, stretch='normal', size='scalable')) = 11.05\n",
      "04-May-24 19:47:42 [DEBUG] findfont: score(FontEntry(fname='C:\\\\Windows\\\\Fonts\\\\timesbd.ttf', name='Times New Roman', style='normal', variant='normal', weight=700, stretch='normal', size='scalable')) = 10.335\n",
      "04-May-24 19:47:42 [DEBUG] findfont: score(FontEntry(fname='C:\\\\Windows\\\\Fonts\\\\GILI____.TTF', name='Gill Sans MT', style='italic', variant='normal', weight=400, stretch='normal', size='scalable')) = 11.05\n",
      "04-May-24 19:47:42 [DEBUG] findfont: score(FontEntry(fname='C:\\\\Windows\\\\Fonts\\\\ANTQUABI.TTF', name='Book Antiqua', style='italic', variant='normal', weight=700, stretch='normal', size='scalable')) = 11.335\n",
      "04-May-24 19:47:42 [DEBUG] findfont: score(FontEntry(fname='C:\\\\Windows\\\\Fonts\\\\PERI____.TTF', name='Perpetua', style='italic', variant='normal', weight=400, stretch='normal', size='scalable')) = 11.05\n",
      "04-May-24 19:47:42 [DEBUG] findfont: score(FontEntry(fname='C:\\\\Windows\\\\Fonts\\\\LEELAWDB.TTF', name='Leelawadee', style='normal', variant='normal', weight=700, stretch='normal', size='scalable')) = 10.335\n",
      "04-May-24 19:47:42 [DEBUG] findfont: score(FontEntry(fname='C:\\\\Windows\\\\Fonts\\\\ITCEDSCR.TTF', name='Edwardian Script ITC', style='normal', variant='normal', weight=400, stretch='normal', size='scalable')) = 10.05\n",
      "04-May-24 19:47:42 [DEBUG] findfont: score(FontEntry(fname='C:\\\\Windows\\\\Fonts\\\\segoescb.ttf', name='Segoe Script', style='normal', variant='normal', weight=700, stretch='normal', size='scalable')) = 10.335\n",
      "04-May-24 19:47:42 [DEBUG] findfont: score(FontEntry(fname='C:\\\\Windows\\\\Fonts\\\\courbd.ttf', name='Courier New', style='normal', variant='normal', weight=700, stretch='normal', size='scalable')) = 10.335\n",
      "04-May-24 19:47:42 [DEBUG] findfont: score(FontEntry(fname='C:\\\\Windows\\\\Fonts\\\\Candarai.ttf', name='Candara', style='italic', variant='normal', weight=400, stretch='normal', size='scalable')) = 11.05\n",
      "04-May-24 19:47:42 [DEBUG] findfont: score(FontEntry(fname='C:\\\\Windows\\\\Fonts\\\\PERTILI.TTF', name='Perpetua Titling MT', style='normal', variant='normal', weight=300, stretch='normal', size='scalable')) = 10.145\n",
      "04-May-24 19:47:42 [DEBUG] findfont: score(FontEntry(fname='C:\\\\Windows\\\\Fonts\\\\GIL_____.TTF', name='Gill Sans MT', style='normal', variant='normal', weight=400, stretch='normal', size='scalable')) = 10.05\n",
      "04-May-24 19:47:42 [DEBUG] findfont: score(FontEntry(fname='C:\\\\Windows\\\\Fonts\\\\comicz.ttf', name='Comic Sans MS', style='italic', variant='normal', weight=700, stretch='normal', size='scalable')) = 11.335\n",
      "04-May-24 19:47:42 [DEBUG] findfont: score(FontEntry(fname='C:\\\\Windows\\\\Fonts\\\\PLAYBILL.TTF', name='Playbill', style='normal', variant='normal', weight=400, stretch='normal', size='scalable')) = 10.05\n",
      "04-May-24 19:47:42 [DEBUG] findfont: score(FontEntry(fname='C:\\\\Windows\\\\Fonts\\\\segoeuiz.ttf', name='Segoe UI', style='italic', variant='normal', weight=700, stretch='normal', size='scalable')) = 11.335\n",
      "04-May-24 19:47:42 [DEBUG] findfont: score(FontEntry(fname='C:\\\\Windows\\\\Fonts\\\\TEMPSITC.TTF', name='Tempus Sans ITC', style='normal', variant='normal', weight=400, stretch='normal', size='scalable')) = 10.05\n",
      "04-May-24 19:47:42 [DEBUG] findfont: score(FontEntry(fname='C:\\\\Windows\\\\Fonts\\\\FRABKIT.TTF', name='Franklin Gothic Book', style='italic', variant='normal', weight=400, stretch='normal', size='scalable')) = 11.05\n",
      "04-May-24 19:47:42 [DEBUG] findfont: score(FontEntry(fname='C:\\\\Windows\\\\Fonts\\\\BERNHC.TTF', name='Bernard MT Condensed', style='normal', variant='normal', weight=400, stretch='condensed', size='scalable')) = 10.25\n",
      "04-May-24 19:47:42 [DEBUG] findfont: score(FontEntry(fname='C:\\\\Windows\\\\Fonts\\\\couri.ttf', name='Courier New', style='italic', variant='normal', weight=400, stretch='normal', size='scalable')) = 11.05\n",
      "04-May-24 19:47:42 [DEBUG] findfont: score(FontEntry(fname='C:\\\\Windows\\\\Fonts\\\\ALGER.TTF', name='Algerian', style='normal', variant='normal', weight=400, stretch='normal', size='scalable')) = 10.05\n",
      "04-May-24 19:47:42 [DEBUG] findfont: score(FontEntry(fname='C:\\\\Windows\\\\Fonts\\\\BSSYM7.TTF', name='Bookshelf Symbol 7', style='normal', variant='normal', weight=400, stretch='normal', size='scalable')) = 10.05\n",
      "04-May-24 19:47:42 [DEBUG] findfont: score(FontEntry(fname='C:\\\\Windows\\\\Fonts\\\\JOKERMAN.TTF', name='Jokerman', style='normal', variant='normal', weight=400, stretch='normal', size='scalable')) = 10.05\n",
      "04-May-24 19:47:42 [DEBUG] findfont: score(FontEntry(fname='C:\\\\Windows\\\\Fonts\\\\VIVALDII.TTF', name='Vivaldi', style='italic', variant='normal', weight=400, stretch='normal', size='scalable')) = 11.05\n",
      "04-May-24 19:47:42 [DEBUG] findfont: score(FontEntry(fname='C:\\\\Windows\\\\Fonts\\\\ELEPHNTI.TTF', name='Elephant', style='italic', variant='normal', weight=400, stretch='normal', size='scalable')) = 11.05\n",
      "04-May-24 19:47:42 [DEBUG] findfont: score(FontEntry(fname='C:\\\\Windows\\\\Fonts\\\\LCALLIG.TTF', name='Lucida Calligraphy', style='italic', variant='normal', weight=400, stretch='normal', size='scalable')) = 11.05\n",
      "04-May-24 19:47:42 [DEBUG] findfont: score(FontEntry(fname='C:\\\\Windows\\\\Fonts\\\\OCRAEXT.TTF', name='OCR A Extended', style='normal', variant='normal', weight=400, stretch='expanded', size='scalable')) = 10.25\n",
      "04-May-24 19:47:42 [DEBUG] findfont: score(FontEntry(fname='C:\\\\Windows\\\\Fonts\\\\georgia.ttf', name='Georgia', style='normal', variant='normal', weight=400, stretch='normal', size='scalable')) = 10.05\n",
      "04-May-24 19:47:42 [DEBUG] findfont: score(FontEntry(fname='C:\\\\Windows\\\\Fonts\\\\TCCB____.TTF', name='Tw Cen MT Condensed', style='normal', variant='normal', weight=700, stretch='condensed', size='scalable')) = 10.535\n",
      "04-May-24 19:47:42 [DEBUG] findfont: score(FontEntry(fname='C:\\\\Windows\\\\Fonts\\\\STENCIL.TTF', name='Stencil', style='normal', variant='normal', weight=400, stretch='normal', size='scalable')) = 10.05\n",
      "04-May-24 19:47:42 [DEBUG] findfont: score(FontEntry(fname='C:\\\\Windows\\\\Fonts\\\\CALIFR.TTF', name='Californian FB', style='normal', variant='normal', weight=400, stretch='normal', size='scalable')) = 10.05\n",
      "04-May-24 19:47:42 [DEBUG] findfont: score(FontEntry(fname='C:\\\\Windows\\\\Fonts\\\\Nirmala.ttf', name='Nirmala UI', style='normal', variant='normal', weight=400, stretch='normal', size='scalable')) = 10.05\n",
      "04-May-24 19:47:42 [DEBUG] findfont: score(FontEntry(fname='C:\\\\Windows\\\\Fonts\\\\ERASBD.TTF', name='Eras Bold ITC', style='normal', variant='normal', weight=400, stretch='normal', size='scalable')) = 10.05\n",
      "04-May-24 19:47:42 [DEBUG] findfont: score(FontEntry(fname='C:\\\\Windows\\\\Fonts\\\\VINERITC.TTF', name='Viner Hand ITC', style='normal', variant='normal', weight=400, stretch='normal', size='scalable')) = 10.05\n",
      "04-May-24 19:47:42 [DEBUG] findfont: score(FontEntry(fname='C:\\\\Windows\\\\Fonts\\\\BELLB.TTF', name='Bell MT', style='normal', variant='normal', weight=700, stretch='normal', size='scalable')) = 10.335\n",
      "04-May-24 19:47:42 [DEBUG] findfont: score(FontEntry(fname='C:\\\\Windows\\\\Fonts\\\\NirmalaS.ttf', name='Nirmala UI', style='normal', variant='normal', weight=350, stretch='normal', size='scalable')) = 10.0975\n",
      "04-May-24 19:47:42 [DEBUG] findfont: score(FontEntry(fname='C:\\\\Windows\\\\Fonts\\\\georgiaz.ttf', name='Georgia', style='italic', variant='normal', weight=700, stretch='normal', size='scalable')) = 11.335\n",
      "04-May-24 19:47:42 [DEBUG] findfont: score(FontEntry(fname='C:\\\\Windows\\\\Fonts\\\\ROCKB.TTF', name='Rockwell', style='normal', variant='normal', weight=700, stretch='normal', size='scalable')) = 10.335\n",
      "04-May-24 19:47:42 [DEBUG] findfont: score(FontEntry(fname='C:\\\\Windows\\\\Fonts\\\\framd.ttf', name='Franklin Gothic Medium', style='normal', variant='normal', weight=400, stretch='normal', size='scalable')) = 10.05\n",
      "04-May-24 19:47:42 [DEBUG] findfont: score(FontEntry(fname='C:\\\\Windows\\\\Fonts\\\\REFSPCL.TTF', name='MS Reference Specialty', style='normal', variant='normal', weight=400, stretch='normal', size='scalable')) = 10.05\n",
      "04-May-24 19:47:42 [DEBUG] findfont: score(FontEntry(fname='C:\\\\Windows\\\\Fonts\\\\verdanai.ttf', name='Verdana', style='italic', variant='normal', weight=400, stretch='normal', size='scalable')) = 4.6863636363636365\n",
      "04-May-24 19:47:42 [DEBUG] findfont: score(FontEntry(fname='C:\\\\Windows\\\\Fonts\\\\REFSAN.TTF', name='MS Reference Sans Serif', style='normal', variant='normal', weight=400, stretch='normal', size='scalable')) = 10.05\n",
      "04-May-24 19:47:42 [DEBUG] findfont: score(FontEntry(fname='C:\\\\Windows\\\\Fonts\\\\CALIFB.TTF', name='Californian FB', style='normal', variant='normal', weight=700, stretch='normal', size='scalable')) = 10.335\n",
      "04-May-24 19:47:42 [DEBUG] findfont: score(FontEntry(fname='C:\\\\Windows\\\\Fonts\\\\LeelUIsl.ttf', name='Leelawadee UI', style='normal', variant='normal', weight=350, stretch='normal', size='scalable')) = 10.0975\n",
      "04-May-24 19:47:42 [DEBUG] findfont: score(FontEntry(fname='C:\\\\Windows\\\\Fonts\\\\CENTAUR.TTF', name='Centaur', style='normal', variant='normal', weight=400, stretch='normal', size='scalable')) = 10.05\n",
      "04-May-24 19:47:42 [DEBUG] findfont: score(FontEntry(fname='C:\\\\Windows\\\\Fonts\\\\LFAXD.TTF', name='Lucida Fax', style='normal', variant='normal', weight=600, stretch='normal', size='scalable')) = 10.24\n",
      "04-May-24 19:47:42 [DEBUG] findfont: score(FontEntry(fname='C:\\\\Windows\\\\Fonts\\\\MSUIGHUB.TTF', name='Microsoft Uighur', style='normal', variant='normal', weight=700, stretch='normal', size='scalable')) = 10.335\n",
      "04-May-24 19:47:42 [DEBUG] findfont: score(FontEntry(fname='C:\\\\Windows\\\\Fonts\\\\ariblk.ttf', name='Arial', style='normal', variant='normal', weight=900, stretch='normal', size='scalable')) = 6.888636363636364\n",
      "04-May-24 19:47:42 [DEBUG] findfont: score(FontEntry(fname='C:\\\\Windows\\\\Fonts\\\\RAGE.TTF', name='Rage Italic', style='italic', variant='normal', weight=400, stretch='normal', size='scalable')) = 11.05\n",
      "04-May-24 19:47:42 [DEBUG] findfont: score(FontEntry(fname='C:\\\\Windows\\\\Fonts\\\\himalaya.ttf', name='Microsoft Himalaya', style='normal', variant='normal', weight=400, stretch='normal', size='scalable')) = 10.05\n",
      "04-May-24 19:47:42 [DEBUG] findfont: score(FontEntry(fname='C:\\\\Windows\\\\Fonts\\\\seguisli.ttf', name='Segoe UI', style='italic', variant='normal', weight=350, stretch='normal', size='scalable')) = 11.0975\n",
      "04-May-24 19:47:42 [DEBUG] findfont: score(FontEntry(fname='C:\\\\Windows\\\\Fonts\\\\PERBI___.TTF', name='Perpetua', style='italic', variant='normal', weight=700, stretch='normal', size='scalable')) = 11.335\n",
      "04-May-24 19:47:42 [DEBUG] findfont: score(FontEntry(fname='C:\\\\Windows\\\\Fonts\\\\ntailub.ttf', name='Microsoft New Tai Lue', style='normal', variant='normal', weight=700, stretch='normal', size='scalable')) = 10.335\n",
      "04-May-24 19:47:42 [DEBUG] findfont: score(FontEntry(fname='C:\\\\Windows\\\\Fonts\\\\PAPYRUS.TTF', name='Papyrus', style='normal', variant='normal', weight=400, stretch='normal', size='scalable')) = 10.05\n",
      "04-May-24 19:47:42 [DEBUG] findfont: score(FontEntry(fname='C:\\\\Windows\\\\Fonts\\\\impact.ttf', name='Impact', style='normal', variant='normal', weight=400, stretch='normal', size='scalable')) = 10.05\n",
      "04-May-24 19:47:42 [DEBUG] findfont: score(FontEntry(fname='C:\\\\Windows\\\\Fonts\\\\CALIFI.TTF', name='Californian FB', style='italic', variant='normal', weight=400, stretch='normal', size='scalable')) = 11.05\n",
      "04-May-24 19:47:42 [DEBUG] findfont: score(FontEntry(fname='C:\\\\Windows\\\\Fonts\\\\CURLZ___.TTF', name='Curlz MT', style='normal', variant='normal', weight=400, stretch='normal', size='scalable')) = 10.05\n",
      "04-May-24 19:47:42 [DEBUG] findfont: score(FontEntry(fname='C:\\\\Windows\\\\Fonts\\\\msjhl.ttc', name='Microsoft JhengHei', style='normal', variant='normal', weight=290, stretch='normal', size='scalable')) = 10.1545\n",
      "04-May-24 19:47:42 [DEBUG] findfont: score(FontEntry(fname='C:\\\\Windows\\\\Fonts\\\\consola.ttf', name='Consolas', style='normal', variant='normal', weight=400, stretch='normal', size='scalable')) = 10.05\n",
      "04-May-24 19:47:42 [DEBUG] findfont: score(FontEntry(fname='C:\\\\Windows\\\\Fonts\\\\COPRGTB.TTF', name='Copperplate Gothic Bold', style='normal', variant='normal', weight=400, stretch='normal', size='scalable')) = 10.05\n",
      "04-May-24 19:47:42 [DEBUG] findfont: score(FontEntry(fname='C:\\\\Windows\\\\Fonts\\\\NIAGENG.TTF', name='Niagara Engraved', style='normal', variant='normal', weight=400, stretch='normal', size='scalable')) = 10.05\n",
      "04-May-24 19:47:42 [DEBUG] findfont: score(FontEntry(fname='C:\\\\Windows\\\\Fonts\\\\MAIAN.TTF', name='Maiandra GD', style='normal', variant='normal', weight=400, stretch='normal', size='scalable')) = 10.05\n",
      "04-May-24 19:47:42 [DEBUG] findfont: score(FontEntry(fname='C:\\\\Windows\\\\Fonts\\\\BRLNSB.TTF', name='Berlin Sans FB', style='normal', variant='normal', weight=700, stretch='normal', size='scalable')) = 10.335\n",
      "04-May-24 19:47:42 [DEBUG] findfont: score(FontEntry(fname='C:\\\\Windows\\\\Fonts\\\\LBRITEI.TTF', name='Lucida Bright', style='italic', variant='normal', weight=400, stretch='normal', size='scalable')) = 11.05\n",
      "04-May-24 19:47:42 [DEBUG] findfont: score(FontEntry(fname='C:\\\\Windows\\\\Fonts\\\\micross.ttf', name='Microsoft Sans Serif', style='normal', variant='normal', weight=400, stretch='normal', size='scalable')) = 10.05\n",
      "04-May-24 19:47:42 [DEBUG] findfont: score(FontEntry(fname='C:\\\\Windows\\\\Fonts\\\\COPRGTL.TTF', name='Copperplate Gothic Light', style='normal', variant='normal', weight=400, stretch='normal', size='scalable')) = 10.05\n",
      "04-May-24 19:47:42 [DEBUG] findfont: score(FontEntry(fname='C:\\\\Windows\\\\Fonts\\\\BRLNSDB.TTF', name='Berlin Sans FB Demi', style='normal', variant='normal', weight=700, stretch='normal', size='scalable')) = 10.335\n",
      "04-May-24 19:47:42 [DEBUG] findfont: score(FontEntry(fname='C:\\\\Windows\\\\Fonts\\\\CALISTB.TTF', name='Calisto MT', style='normal', variant='normal', weight=700, stretch='normal', size='scalable')) = 10.335\n",
      "04-May-24 19:47:42 [DEBUG] findfont: score(FontEntry(fname='C:\\\\Windows\\\\Fonts\\\\LSANSI.TTF', name='Lucida Sans', style='italic', variant='normal', weight=400, stretch='normal', size='scalable')) = 11.05\n",
      "04-May-24 19:47:42 [DEBUG] findfont: score(FontEntry(fname='C:\\\\Windows\\\\Fonts\\\\BOD_BI.TTF', name='Bodoni MT', style='italic', variant='normal', weight=700, stretch='normal', size='scalable')) = 11.335\n",
      "04-May-24 19:47:42 [DEBUG] findfont: score(FontEntry(fname='C:\\\\Windows\\\\Fonts\\\\BRADHITC.TTF', name='Bradley Hand ITC', style='normal', variant='normal', weight=400, stretch='normal', size='scalable')) = 10.05\n",
      "04-May-24 19:47:42 [DEBUG] findfont: score(FontEntry(fname='C:\\\\Windows\\\\Fonts\\\\mingliub.ttc', name='MingLiU-ExtB', style='normal', variant='normal', weight=400, stretch='normal', size='scalable')) = 10.05\n",
      "04-May-24 19:47:42 [DEBUG] findfont: score(FontEntry(fname='C:\\\\Windows\\\\Fonts\\\\lucon.ttf', name='Lucida Console', style='normal', variant='normal', weight=400, stretch='normal', size='scalable')) = 10.05\n",
      "04-May-24 19:47:42 [DEBUG] findfont: score(FontEntry(fname='C:\\\\Windows\\\\Fonts\\\\BOOKOSB.TTF', name='Bookman Old Style', style='normal', variant='normal', weight=600, stretch='normal', size='scalable')) = 10.24\n",
      "04-May-24 19:47:42 [DEBUG] findfont: score(FontEntry(fname='C:\\\\Windows\\\\Fonts\\\\FRADMCN.TTF', name='Franklin Gothic Demi Cond', style='normal', variant='normal', weight=400, stretch='condensed', size='scalable')) = 10.25\n",
      "04-May-24 19:47:42 [DEBUG] findfont: score(FontEntry(fname='C:\\\\Windows\\\\Fonts\\\\holomdl2.ttf', name='HoloLens MDL2 Assets', style='normal', variant='normal', weight=400, stretch='normal', size='scalable')) = 10.05\n",
      "04-May-24 19:47:42 [DEBUG] findfont: score(FontEntry(fname='C:\\\\Windows\\\\Fonts\\\\LBRITED.TTF', name='Lucida Bright', style='normal', variant='normal', weight=600, stretch='normal', size='scalable')) = 10.24\n",
      "04-May-24 19:47:42 [DEBUG] findfont: score(FontEntry(fname='C:\\\\Windows\\\\Fonts\\\\LFAXI.TTF', name='Lucida Fax', style='italic', variant='normal', weight=400, stretch='normal', size='scalable')) = 11.05\n",
      "04-May-24 19:47:42 [DEBUG] findfont: score(FontEntry(fname='C:\\\\Windows\\\\Fonts\\\\PERTIBD.TTF', name='Perpetua Titling MT', style='normal', variant='normal', weight=700, stretch='normal', size='scalable')) = 10.335\n",
      "04-May-24 19:47:42 [DEBUG] findfont: score(FontEntry(fname='C:\\\\Windows\\\\Fonts\\\\BELL.TTF', name='Bell MT', style='normal', variant='normal', weight=400, stretch='normal', size='scalable')) = 10.05\n",
      "04-May-24 19:47:42 [DEBUG] findfont: score(FontEntry(fname='C:\\\\Windows\\\\Fonts\\\\ARLRDBD.TTF', name='Arial Rounded MT Bold', style='normal', variant='normal', weight=400, stretch='normal', size='scalable')) = 10.05\n",
      "04-May-24 19:47:42 [DEBUG] findfont: score(FontEntry(fname='C:\\\\Windows\\\\Fonts\\\\FRABK.TTF', name='Franklin Gothic Book', style='normal', variant='normal', weight=400, stretch='normal', size='scalable')) = 10.05\n",
      "04-May-24 19:47:42 [DEBUG] findfont: score(FontEntry(fname='C:\\\\Windows\\\\Fonts\\\\Candaraz.ttf', name='Candara', style='italic', variant='normal', weight=700, stretch='normal', size='scalable')) = 11.335\n",
      "04-May-24 19:47:42 [DEBUG] findfont: score(FontEntry(fname='C:\\\\Windows\\\\Fonts\\\\HTOWERT.TTF', name='High Tower Text', style='normal', variant='normal', weight=400, stretch='normal', size='scalable')) = 10.05\n",
      "04-May-24 19:47:42 [DEBUG] findfont: score(FontEntry(fname='C:\\\\Windows\\\\Fonts\\\\MSUIGHUR.TTF', name='Microsoft Uighur', style='normal', variant='normal', weight=400, stretch='normal', size='scalable')) = 10.05\n",
      "04-May-24 19:47:42 [DEBUG] findfont: score(FontEntry(fname='C:\\\\Windows\\\\Fonts\\\\POORICH.TTF', name='Poor Richard', style='normal', variant='normal', weight=400, stretch='normal', size='scalable')) = 10.05\n",
      "04-May-24 19:47:42 [DEBUG] findfont: score(FontEntry(fname='C:\\\\Windows\\\\Fonts\\\\ERASDEMI.TTF', name='Eras Demi ITC', style='normal', variant='normal', weight=400, stretch='normal', size='scalable')) = 10.05\n",
      "04-May-24 19:47:42 [DEBUG] findfont: score(FontEntry(fname='C:\\\\Windows\\\\Fonts\\\\ROCKI.TTF', name='Rockwell', style='italic', variant='normal', weight=400, stretch='normal', size='scalable')) = 11.05\n",
      "04-May-24 19:47:42 [DEBUG] findfont: score(FontEntry(fname='C:\\\\Windows\\\\Fonts\\\\cour.ttf', name='Courier New', style='normal', variant='normal', weight=400, stretch='normal', size='scalable')) = 10.05\n",
      "04-May-24 19:47:42 [DEBUG] findfont: score(FontEntry(fname='C:\\\\Windows\\\\Fonts\\\\tahoma.ttf', name='Tahoma', style='normal', variant='normal', weight=400, stretch='normal', size='scalable')) = 10.05\n",
      "04-May-24 19:47:42 [DEBUG] findfont: score(FontEntry(fname='C:\\\\Windows\\\\Fonts\\\\ENGR.TTF', name='Engravers MT', style='normal', variant='normal', weight=500, stretch='normal', size='scalable')) = 10.145\n",
      "04-May-24 19:47:42 [DEBUG] findfont: score(FontEntry(fname='C:\\\\Windows\\\\Fonts\\\\framdit.ttf', name='Franklin Gothic Medium', style='italic', variant='normal', weight=400, stretch='normal', size='scalable')) = 11.05\n",
      "04-May-24 19:47:42 [DEBUG] findfont: score(FontEntry(fname='C:\\\\Windows\\\\Fonts\\\\BOD_R.TTF', name='Bodoni MT', style='normal', variant='normal', weight=400, stretch='normal', size='scalable')) = 10.05\n",
      "04-May-24 19:47:42 [DEBUG] findfont: score(FontEntry(fname='C:\\\\Windows\\\\Fonts\\\\BOD_CB.TTF', name='Bodoni MT', style='normal', variant='normal', weight=700, stretch='condensed', size='scalable')) = 10.535\n",
      "04-May-24 19:47:42 [DEBUG] findfont: score(FontEntry(fname='C:\\\\Windows\\\\Fonts\\\\WINGDNG2.TTF', name='Wingdings 2', style='normal', variant='normal', weight=400, stretch='normal', size='scalable')) = 10.05\n",
      "04-May-24 19:47:42 [DEBUG] findfont: score(FontEntry(fname='C:\\\\Windows\\\\Fonts\\\\TCCEB.TTF', name='Tw Cen MT Condensed Extra Bold', style='normal', variant='normal', weight=400, stretch='condensed', size='scalable')) = 10.25\n",
      "04-May-24 19:47:42 [DEBUG] findfont: score(FontEntry(fname='C:\\\\Windows\\\\Fonts\\\\gadugi.ttf', name='Gadugi', style='normal', variant='normal', weight=400, stretch='normal', size='scalable')) = 10.05\n",
      "04-May-24 19:47:42 [DEBUG] findfont: score(FontEntry(fname='C:\\\\Windows\\\\Fonts\\\\NirmalaB.ttf', name='Nirmala UI', style='normal', variant='normal', weight=700, stretch='normal', size='scalable')) = 10.335\n",
      "04-May-24 19:47:42 [DEBUG] findfont: score(FontEntry(fname='C:\\\\Windows\\\\Fonts\\\\PER_____.TTF', name='Perpetua', style='normal', variant='normal', weight=400, stretch='normal', size='scalable')) = 10.05\n",
      "04-May-24 19:47:42 [DEBUG] findfont: score(FontEntry(fname='C:\\\\Windows\\\\Fonts\\\\BOOKOSBI.TTF', name='Bookman Old Style', style='italic', variant='normal', weight=600, stretch='normal', size='scalable')) = 11.24\n",
      "04-May-24 19:47:42 [DEBUG] findfont: score(FontEntry(fname='C:\\\\Windows\\\\Fonts\\\\consolab.ttf', name='Consolas', style='normal', variant='normal', weight=700, stretch='normal', size='scalable')) = 10.335\n",
      "04-May-24 19:47:42 [DEBUG] findfont: score(FontEntry(fname='C:\\\\Windows\\\\Fonts\\\\IMPRISHA.TTF', name='Imprint MT Shadow', style='normal', variant='normal', weight=400, stretch='normal', size='scalable')) = 10.05\n",
      "04-May-24 19:47:42 [DEBUG] findfont: score(FontEntry(fname='C:\\\\Windows\\\\Fonts\\\\BRLNSR.TTF', name='Berlin Sans FB', style='normal', variant='normal', weight=400, stretch='normal', size='scalable')) = 10.05\n",
      "04-May-24 19:47:42 [DEBUG] findfont: score(FontEntry(fname='C:\\\\Windows\\\\Fonts\\\\calibrili.ttf', name='Calibri', style='italic', variant='normal', weight=300, stretch='normal', size='scalable')) = 11.145\n",
      "04-May-24 19:47:42 [DEBUG] findfont: score(FontEntry(fname='C:\\\\Windows\\\\Fonts\\\\calibrib.ttf', name='Calibri', style='normal', variant='normal', weight=700, stretch='normal', size='scalable')) = 10.335\n",
      "04-May-24 19:47:42 [DEBUG] findfont: score(FontEntry(fname='C:\\\\Windows\\\\Fonts\\\\OLDENGL.TTF', name='Old English Text MT', style='normal', variant='normal', weight=400, stretch='normal', size='scalable')) = 10.05\n",
      "04-May-24 19:47:42 [DEBUG] findfont: score(FontEntry(fname='C:\\\\Windows\\\\Fonts\\\\palabi.ttf', name='Palatino Linotype', style='italic', variant='normal', weight=700, stretch='normal', size='scalable')) = 11.335\n",
      "04-May-24 19:47:42 [DEBUG] findfont: score(FontEntry(fname='C:\\\\Windows\\\\Fonts\\\\seguisym.ttf', name='Segoe UI Symbol', style='normal', variant='normal', weight=400, stretch='normal', size='scalable')) = 10.05\n",
      "04-May-24 19:47:42 [DEBUG] findfont: score(FontEntry(fname='C:\\\\Windows\\\\Fonts\\\\trebucbi.ttf', name='Trebuchet MS', style='italic', variant='normal', weight=700, stretch='normal', size='scalable')) = 11.335\n",
      "04-May-24 19:47:42 [DEBUG] findfont: score(FontEntry(fname='C:\\\\Windows\\\\Fonts\\\\SegoeIcons.ttf', name='Segoe Fluent Icons', style='normal', variant='normal', weight=400, stretch='normal', size='scalable')) = 10.05\n",
      "04-May-24 19:47:42 [DEBUG] findfont: score(FontEntry(fname='C:\\\\Windows\\\\Fonts\\\\palab.ttf', name='Palatino Linotype', style='normal', variant='normal', weight=700, stretch='normal', size='scalable')) = 10.335\n",
      "04-May-24 19:47:42 [DEBUG] findfont: score(FontEntry(fname='C:\\\\Windows\\\\Fonts\\\\mmrtextb.ttf', name='Myanmar Text', style='normal', variant='normal', weight=700, stretch='normal', size='scalable')) = 10.335\n",
      "04-May-24 19:47:42 [DEBUG] findfont: score(FontEntry(fname='C:\\\\Windows\\\\Fonts\\\\times.ttf', name='Times New Roman', style='normal', variant='normal', weight=400, stretch='normal', size='scalable')) = 10.05\n",
      "04-May-24 19:47:42 [DEBUG] findfont: score(FontEntry(fname='C:\\\\Windows\\\\Fonts\\\\verdana.ttf', name='Verdana', style='normal', variant='normal', weight=400, stretch='normal', size='scalable')) = 3.6863636363636365\n",
      "04-May-24 19:47:42 [DEBUG] findfont: score(FontEntry(fname='C:\\\\Windows\\\\Fonts\\\\consolaz.ttf', name='Consolas', style='italic', variant='normal', weight=700, stretch='normal', size='scalable')) = 11.335\n",
      "04-May-24 19:47:42 [DEBUG] findfont: score(FontEntry(fname='C:\\\\Windows\\\\Fonts\\\\TCMI____.TTF', name='Tw Cen MT', style='italic', variant='normal', weight=400, stretch='normal', size='scalable')) = 11.05\n",
      "04-May-24 19:47:42 [DEBUG] findfont: score(FontEntry(fname='C:\\\\Windows\\\\Fonts\\\\ITCKRIST.TTF', name='Kristen ITC', style='normal', variant='normal', weight=400, stretch='normal', size='scalable')) = 10.05\n",
      "04-May-24 19:47:42 [DEBUG] findfont: score(FontEntry(fname='C:\\\\Windows\\\\Fonts\\\\GOTHICBI.TTF', name='Century Gothic', style='italic', variant='normal', weight=700, stretch='normal', size='scalable')) = 11.335\n",
      "04-May-24 19:47:42 [DEBUG] findfont: score(FontEntry(fname='C:\\\\Windows\\\\Fonts\\\\SCRIPTBL.TTF', name='Script MT Bold', style='normal', variant='normal', weight=700, stretch='normal', size='scalable')) = 10.335\n",
      "04-May-24 19:47:42 [DEBUG] findfont: score(FontEntry(fname='C:\\\\Windows\\\\Fonts\\\\ebrimabd.ttf', name='Ebrima', style='normal', variant='normal', weight=700, stretch='normal', size='scalable')) = 10.335\n",
      "04-May-24 19:47:42 [DEBUG] findfont: score(FontEntry(fname='C:\\\\Windows\\\\Fonts\\\\ERASMD.TTF', name='Eras Medium ITC', style='normal', variant='normal', weight=400, stretch='normal', size='scalable')) = 10.05\n",
      "04-May-24 19:47:42 [DEBUG] findfont: score(FontEntry(fname='C:\\\\Windows\\\\Fonts\\\\simsunb.ttf', name='SimSun-ExtB', style='normal', variant='normal', weight=400, stretch='normal', size='scalable')) = 10.05\n",
      "04-May-24 19:47:42 [DEBUG] findfont: score(FontEntry(fname='C:\\\\Windows\\\\Fonts\\\\HARLOWSI.TTF', name='Harlow Solid Italic', style='italic', variant='normal', weight=400, stretch='normal', size='scalable')) = 11.05\n",
      "04-May-24 19:47:42 [DEBUG] findfont: score(FontEntry(fname='C:\\\\Windows\\\\Fonts\\\\GARAIT.TTF', name='Garamond', style='italic', variant='normal', weight=400, stretch='normal', size='scalable')) = 11.05\n",
      "04-May-24 19:47:42 [DEBUG] findfont: score(FontEntry(fname='C:\\\\Windows\\\\Fonts\\\\FRAHVIT.TTF', name='Franklin Gothic Heavy', style='italic', variant='normal', weight=400, stretch='normal', size='scalable')) = 11.05\n",
      "04-May-24 19:47:42 [DEBUG] findfont: score(FontEntry(fname='C:\\\\Windows\\\\Fonts\\\\malgun.ttf', name='Malgun Gothic', style='normal', variant='normal', weight=400, stretch='normal', size='scalable')) = 10.05\n",
      "04-May-24 19:47:42 [DEBUG] findfont: score(FontEntry(fname='C:\\\\Windows\\\\Fonts\\\\LTYPEBO.TTF', name='Lucida Sans Typewriter', style='oblique', variant='normal', weight=600, stretch='normal', size='scalable')) = 11.24\n",
      "04-May-24 19:47:42 [DEBUG] findfont: score(FontEntry(fname='C:\\\\Windows\\\\Fonts\\\\msjh.ttc', name='Microsoft JhengHei', style='normal', variant='normal', weight=400, stretch='normal', size='scalable')) = 10.05\n",
      "04-May-24 19:47:42 [DEBUG] findfont: score(FontEntry(fname='C:\\\\Windows\\\\Fonts\\\\DUBAI-LIGHT.TTF', name='Dubai', style='normal', variant='normal', weight=300, stretch='normal', size='scalable')) = 10.145\n",
      "04-May-24 19:47:42 [DEBUG] findfont: score(FontEntry(fname='C:\\\\Windows\\\\Fonts\\\\AGENCYR.TTF', name='Agency FB', style='normal', variant='normal', weight=400, stretch='normal', size='scalable')) = 10.05\n",
      "04-May-24 19:47:42 [DEBUG] findfont: score(FontEntry(fname='C:\\\\Windows\\\\Fonts\\\\HARNGTON.TTF', name='Harrington', style='normal', variant='normal', weight=400, stretch='normal', size='scalable')) = 10.05\n",
      "04-May-24 19:47:42 [DEBUG] findfont: score(FontEntry(fname='C:\\\\Windows\\\\Fonts\\\\ARIALNI.TTF', name='Arial', style='italic', variant='normal', weight=400, stretch='condensed', size='scalable')) = 7.613636363636363\n",
      "04-May-24 19:47:42 [DEBUG] findfont: score(FontEntry(fname='C:\\\\Windows\\\\Fonts\\\\BOOKOSI.TTF', name='Bookman Old Style', style='italic', variant='normal', weight=300, stretch='normal', size='scalable')) = 11.145\n",
      "04-May-24 19:47:42 [DEBUG] findfont: score(FontEntry(fname='C:\\\\Windows\\\\Fonts\\\\BROADW.TTF', name='Broadway', style='normal', variant='normal', weight=400, stretch='normal', size='scalable')) = 10.05\n",
      "04-May-24 19:47:42 [DEBUG] findfont: score(FontEntry(fname='C:\\\\Windows\\\\Fonts\\\\CASTELAR.TTF', name='Castellar', style='normal', variant='normal', weight=400, stretch='normal', size='scalable')) = 10.05\n",
      "04-May-24 19:47:42 [DEBUG] findfont: score(FontEntry(fname='C:\\\\Windows\\\\Fonts\\\\Gabriola.ttf', name='Gabriola', style='normal', variant='normal', weight=400, stretch='normal', size='scalable')) = 10.05\n",
      "04-May-24 19:47:42 [DEBUG] findfont: score(FontEntry(fname='C:\\\\Windows\\\\Fonts\\\\seguisb.ttf', name='Segoe UI', style='normal', variant='normal', weight=600, stretch='normal', size='scalable')) = 10.24\n",
      "04-May-24 19:47:42 [DEBUG] findfont: score(FontEntry(fname='C:\\\\Windows\\\\Fonts\\\\segoesc.ttf', name='Segoe Script', style='normal', variant='normal', weight=400, stretch='normal', size='scalable')) = 10.05\n",
      "04-May-24 19:47:42 [DEBUG] findfont: score(FontEntry(fname='C:\\\\Windows\\\\Fonts\\\\VLADIMIR.TTF', name='Vladimir Script', style='normal', variant='normal', weight=400, stretch='normal', size='scalable')) = 10.05\n",
      "04-May-24 19:47:42 [DEBUG] findfont: score(FontEntry(fname='C:\\\\Windows\\\\Fonts\\\\timesbi.ttf', name='Times New Roman', style='italic', variant='normal', weight=700, stretch='normal', size='scalable')) = 11.335\n",
      "04-May-24 19:47:42 [DEBUG] findfont: score(FontEntry(fname='C:\\\\Windows\\\\Fonts\\\\BASKVILL.TTF', name='Baskerville Old Face', style='normal', variant='normal', weight=400, stretch='normal', size='scalable')) = 10.05\n",
      "04-May-24 19:47:42 [DEBUG] findfont: score(FontEntry(fname='C:\\\\Windows\\\\Fonts\\\\segoeui.ttf', name='Segoe UI', style='normal', variant='normal', weight=400, stretch='normal', size='scalable')) = 10.05\n",
      "04-May-24 19:47:42 [DEBUG] findfont: score(FontEntry(fname='C:\\\\Windows\\\\Fonts\\\\YuGothB.ttc', name='Yu Gothic', style='normal', variant='normal', weight=700, stretch='normal', size='scalable')) = 10.335\n",
      "04-May-24 19:47:42 [DEBUG] findfont: score(FontEntry(fname='C:\\\\Windows\\\\Fonts\\\\JUICE___.TTF', name='Juice ITC', style='normal', variant='normal', weight=400, stretch='normal', size='scalable')) = 10.05\n",
      "04-May-24 19:47:42 [DEBUG] findfont: score(FontEntry(fname='C:\\\\Windows\\\\Fonts\\\\msyi.ttf', name='Microsoft Yi Baiti', style='normal', variant='normal', weight=400, stretch='normal', size='scalable')) = 10.05\n",
      "04-May-24 19:47:42 [DEBUG] findfont: score(FontEntry(fname='C:\\\\Windows\\\\Fonts\\\\symbol.ttf', name='Symbol', style='normal', variant='normal', weight=400, stretch='normal', size='scalable')) = 10.05\n",
      "04-May-24 19:47:42 [DEBUG] findfont: score(FontEntry(fname='C:\\\\Windows\\\\Fonts\\\\SNAP____.TTF', name='Snap ITC', style='normal', variant='normal', weight=400, stretch='normal', size='scalable')) = 10.05\n",
      "04-May-24 19:47:42 [DEBUG] findfont: score(FontEntry(fname='C:\\\\Windows\\\\Fonts\\\\ntailu.ttf', name='Microsoft New Tai Lue', style='normal', variant='normal', weight=400, stretch='normal', size='scalable')) = 10.05\n",
      "04-May-24 19:47:42 [DEBUG] findfont: score(FontEntry(fname='C:\\\\Windows\\\\Fonts\\\\GILBI___.TTF', name='Gill Sans MT', style='italic', variant='normal', weight=700, stretch='normal', size='scalable')) = 11.335\n",
      "04-May-24 19:47:42 [DEBUG] findfont: score(FontEntry(fname='C:\\\\Windows\\\\Fonts\\\\ROCK.TTF', name='Rockwell', style='normal', variant='normal', weight=400, stretch='normal', size='scalable')) = 10.05\n",
      "04-May-24 19:47:42 [DEBUG] findfont: score(FontEntry(fname='C:\\\\Windows\\\\Fonts\\\\trebuc.ttf', name='Trebuchet MS', style='normal', variant='normal', weight=400, stretch='normal', size='scalable')) = 10.05\n",
      "04-May-24 19:47:42 [DEBUG] findfont: score(FontEntry(fname='C:\\\\Windows\\\\Fonts\\\\BAUHS93.TTF', name='Bauhaus 93', style='normal', variant='normal', weight=400, stretch='normal', size='scalable')) = 10.05\n",
      "04-May-24 19:47:42 [DEBUG] findfont: score(FontEntry(fname='C:\\\\Windows\\\\Fonts\\\\NIAGSOL.TTF', name='Niagara Solid', style='normal', variant='normal', weight=400, stretch='normal', size='scalable')) = 10.05\n",
      "04-May-24 19:47:42 [DEBUG] findfont: score(FontEntry(fname='C:\\\\Windows\\\\Fonts\\\\arialbi.ttf', name='Arial', style='italic', variant='normal', weight=700, stretch='normal', size='scalable')) = 7.698636363636363\n",
      "04-May-24 19:47:42 [DEBUG] findfont: score(FontEntry(fname='C:\\\\Windows\\\\Fonts\\\\LSANSDI.TTF', name='Lucida Sans', style='italic', variant='normal', weight=600, stretch='normal', size='scalable')) = 11.24\n",
      "04-May-24 19:47:42 [DEBUG] findfont: score(FontEntry(fname='C:\\\\Windows\\\\Fonts\\\\BKANT.TTF', name='Book Antiqua', style='normal', variant='normal', weight=400, stretch='normal', size='scalable')) = 10.05\n",
      "04-May-24 19:47:42 [DEBUG] findfont: score(FontEntry(fname='C:\\\\Windows\\\\Fonts\\\\ERASLGHT.TTF', name='Eras Light ITC', style='normal', variant='normal', weight=400, stretch='normal', size='scalable')) = 10.05\n",
      "04-May-24 19:47:42 [DEBUG] findfont: score(FontEntry(fname='C:\\\\Windows\\\\Fonts\\\\ITCBLKAD.TTF', name='Blackadder ITC', style='normal', variant='normal', weight=400, stretch='normal', size='scalable')) = 10.05\n",
      "04-May-24 19:47:42 [DEBUG] findfont: score(FontEntry(fname='C:\\\\Windows\\\\Fonts\\\\Candaral.ttf', name='Candara', style='normal', variant='normal', weight=400, stretch='normal', size='scalable')) = 10.05\n",
      "04-May-24 19:47:42 [DEBUG] findfont: score(FontEntry(fname='C:\\\\Windows\\\\Fonts\\\\calibri.ttf', name='Calibri', style='normal', variant='normal', weight=400, stretch='normal', size='scalable')) = 10.05\n",
      "04-May-24 19:47:42 [DEBUG] findfont: score(FontEntry(fname='C:\\\\Windows\\\\Fonts\\\\SitkaVF.ttf', name='Sitka', style='normal', variant='normal', weight=400, stretch='normal', size='scalable')) = 10.05\n",
      "04-May-24 19:47:42 [DEBUG] findfont: score(FontEntry(fname='C:\\\\Windows\\\\Fonts\\\\corbelli.ttf', name='Corbel', style='italic', variant='normal', weight=300, stretch='normal', size='scalable')) = 11.145\n",
      "04-May-24 19:47:42 [DEBUG] findfont: score(FontEntry(fname='C:\\\\Windows\\\\Fonts\\\\WINGDNG3.TTF', name='Wingdings 3', style='normal', variant='normal', weight=400, stretch='normal', size='scalable')) = 10.05\n",
      "04-May-24 19:47:42 [DEBUG] findfont: score(FontEntry(fname='C:\\\\Windows\\\\Fonts\\\\MTEXTRA.TTF', name='MT Extra', style='normal', variant='normal', weight=400, stretch='normal', size='scalable')) = 10.05\n",
      "04-May-24 19:47:42 [DEBUG] findfont: score(FontEntry(fname='C:\\\\Windows\\\\Fonts\\\\ebrima.ttf', name='Ebrima', style='normal', variant='normal', weight=400, stretch='normal', size='scalable')) = 10.05\n",
      "04-May-24 19:47:42 [DEBUG] findfont: score(FontEntry(fname='C:\\\\Windows\\\\Fonts\\\\INFROMAN.TTF', name='Informal Roman', style='normal', variant='normal', weight=400, stretch='normal', size='scalable')) = 10.05\n",
      "04-May-24 19:47:42 [DEBUG] findfont: score(FontEntry(fname='C:\\\\Windows\\\\Fonts\\\\segoeprb.ttf', name='Segoe Print', style='normal', variant='normal', weight=700, stretch='normal', size='scalable')) = 10.335\n",
      "04-May-24 19:47:42 [DEBUG] findfont: score(FontEntry(fname='C:\\\\Windows\\\\Fonts\\\\BOD_CI.TTF', name='Bodoni MT', style='italic', variant='normal', weight=400, stretch='condensed', size='scalable')) = 11.25\n",
      "04-May-24 19:47:42 [DEBUG] findfont: score(FontEntry(fname='C:\\\\Windows\\\\Fonts\\\\cambriai.ttf', name='Cambria', style='italic', variant='normal', weight=400, stretch='normal', size='scalable')) = 11.05\n",
      "04-May-24 19:47:42 [DEBUG] findfont: score(FontEntry(fname='C:\\\\Windows\\\\Fonts\\\\GIGI.TTF', name='Gigi', style='normal', variant='normal', weight=400, stretch='normal', size='scalable')) = 10.05\n",
      "04-May-24 19:47:42 [DEBUG] findfont: score(FontEntry(fname='C:\\\\Windows\\\\Fonts\\\\constan.ttf', name='Constantia', style='normal', variant='normal', weight=400, stretch='normal', size='scalable')) = 10.05\n",
      "04-May-24 19:47:42 [DEBUG] findfont: score(FontEntry(fname='C:\\\\Windows\\\\Fonts\\\\trebucbd.ttf', name='Trebuchet MS', style='normal', variant='normal', weight=700, stretch='normal', size='scalable')) = 10.335\n",
      "04-May-24 19:47:42 [DEBUG] findfont: score(FontEntry(fname='C:\\\\Windows\\\\Fonts\\\\bahnschrift.ttf', name='Bahnschrift', style='normal', variant='normal', weight=400, stretch='normal', size='scalable')) = 10.05\n",
      "04-May-24 19:47:42 [DEBUG] findfont: score(FontEntry(fname='C:\\\\Windows\\\\Fonts\\\\segoepr.ttf', name='Segoe Print', style='normal', variant='normal', weight=400, stretch='normal', size='scalable')) = 10.05\n",
      "04-May-24 19:47:42 [DEBUG] findfont: score(FontEntry(fname='C:\\\\Windows\\\\Fonts\\\\seguibl.ttf', name='Segoe UI', style='normal', variant='normal', weight=900, stretch='normal', size='scalable')) = 10.525\n",
      "04-May-24 19:47:42 [DEBUG] findfont: score(FontEntry(fname='C:\\\\Windows\\\\Fonts\\\\ARIALNB.TTF', name='Arial', style='normal', variant='normal', weight=700, stretch='condensed', size='scalable')) = 6.8986363636363635\n",
      "04-May-24 19:47:42 [DEBUG] findfont: score(FontEntry(fname='C:\\\\Windows\\\\Fonts\\\\LBRITEDI.TTF', name='Lucida Bright', style='italic', variant='normal', weight=600, stretch='normal', size='scalable')) = 11.24\n",
      "04-May-24 19:47:42 [DEBUG] findfont: score(FontEntry(fname='C:\\\\Windows\\\\Fonts\\\\calibrii.ttf', name='Calibri', style='italic', variant='normal', weight=400, stretch='normal', size='scalable')) = 11.05\n",
      "04-May-24 19:47:42 [DEBUG] findfont: score(FontEntry(fname='C:\\\\Windows\\\\Fonts\\\\SitkaVF-Italic.ttf', name='Sitka', style='italic', variant='normal', weight=400, stretch='normal', size='scalable')) = 11.05\n",
      "04-May-24 19:47:42 [DEBUG] findfont: score(FontEntry(fname='C:\\\\Windows\\\\Fonts\\\\consolai.ttf', name='Consolas', style='italic', variant='normal', weight=400, stretch='normal', size='scalable')) = 11.05\n",
      "04-May-24 19:47:42 [DEBUG] findfont: score(FontEntry(fname='C:\\\\Windows\\\\Fonts\\\\GILLUBCD.TTF', name='Gill Sans Ultra Bold Condensed', style='normal', variant='normal', weight=400, stretch='condensed', size='scalable')) = 10.25\n",
      "04-May-24 19:47:42 [DEBUG] findfont: score(FontEntry(fname='C:\\\\Windows\\\\Fonts\\\\FRAMDCN.TTF', name='Franklin Gothic Medium Cond', style='normal', variant='normal', weight=400, stretch='condensed', size='scalable')) = 10.25\n",
      "04-May-24 19:47:42 [DEBUG] findfont: score(FontEntry(fname='C:\\\\Windows\\\\Fonts\\\\LATINWD.TTF', name='Wide Latin', style='normal', variant='normal', weight=400, stretch='expanded', size='scalable')) = 10.25\n",
      "04-May-24 19:47:42 [DEBUG] findfont: score(FontEntry(fname='C:\\\\Windows\\\\Fonts\\\\seguisbi.ttf', name='Segoe UI', style='italic', variant='normal', weight=600, stretch='normal', size='scalable')) = 11.24\n",
      "04-May-24 19:47:42 [DEBUG] findfont: score(FontEntry(fname='C:\\\\Windows\\\\Fonts\\\\segoeuii.ttf', name='Segoe UI', style='italic', variant='normal', weight=400, stretch='normal', size='scalable')) = 11.05\n",
      "04-May-24 19:47:42 [DEBUG] findfont: score(FontEntry(fname='C:\\\\Windows\\\\Fonts\\\\wingding.ttf', name='Wingdings', style='normal', variant='normal', weight=400, stretch='normal', size='scalable')) = 10.05\n",
      "04-May-24 19:47:42 [DEBUG] findfont: score(FontEntry(fname='C:\\\\Windows\\\\Fonts\\\\YuGothM.ttc', name='Yu Gothic', style='normal', variant='normal', weight=500, stretch='normal', size='scalable')) = 10.145\n",
      "04-May-24 19:47:42 [DEBUG] findfont: score(FontEntry(fname='C:\\\\Windows\\\\Fonts\\\\seguihis.ttf', name='Segoe UI Historic', style='normal', variant='normal', weight=400, stretch='normal', size='scalable')) = 10.05\n",
      "04-May-24 19:47:42 [DEBUG] findfont: score(FontEntry(fname='C:\\\\Windows\\\\Fonts\\\\constanz.ttf', name='Constantia', style='italic', variant='normal', weight=700, stretch='normal', size='scalable')) = 11.335\n",
      "04-May-24 19:47:42 [DEBUG] findfont: score(FontEntry(fname='C:\\\\Windows\\\\Fonts\\\\GOTHICI.TTF', name='Century Gothic', style='italic', variant='normal', weight=400, stretch='normal', size='scalable')) = 11.05\n",
      "04-May-24 19:47:42 [DEBUG] findfont: score(FontEntry(fname='C:\\\\Windows\\\\Fonts\\\\seguibli.ttf', name='Segoe UI', style='italic', variant='normal', weight=900, stretch='normal', size='scalable')) = 11.525\n",
      "04-May-24 19:47:42 [DEBUG] findfont: score(FontEntry(fname='C:\\\\Windows\\\\Fonts\\\\calibril.ttf', name='Calibri', style='normal', variant='normal', weight=300, stretch='normal', size='scalable')) = 10.145\n",
      "04-May-24 19:47:42 [DEBUG] findfont: score(FontEntry(fname='C:\\\\Windows\\\\Fonts\\\\constani.ttf', name='Constantia', style='italic', variant='normal', weight=400, stretch='normal', size='scalable')) = 11.05\n",
      "04-May-24 19:47:42 [DEBUG] findfont: score(FontEntry(fname='C:\\\\Windows\\\\Fonts\\\\ROCC____.TTF', name='Rockwell Condensed', style='normal', variant='normal', weight=400, stretch='condensed', size='scalable')) = 10.25\n",
      "04-May-24 19:47:42 [DEBUG] findfont: score(FontEntry(fname='C:\\\\Windows\\\\Fonts\\\\tahomabd.ttf', name='Tahoma', style='normal', variant='normal', weight=700, stretch='normal', size='scalable')) = 10.335\n",
      "04-May-24 19:47:42 [DEBUG] findfont: score(FontEntry(fname='C:\\\\Windows\\\\Fonts\\\\CALISTI.TTF', name='Calisto MT', style='italic', variant='normal', weight=400, stretch='normal', size='scalable')) = 11.05\n",
      "04-May-24 19:47:42 [DEBUG] findfont: score(FontEntry(fname='C:\\\\Windows\\\\Fonts\\\\OUTLOOK.TTF', name='MS Outlook', style='normal', variant='normal', weight=400, stretch='normal', size='scalable')) = 10.05\n",
      "04-May-24 19:47:42 [DEBUG] findfont: Matching sans\\-serif:style=normal:variant=normal:weight=normal:stretch=normal:size=10.0 to DejaVu Sans ('c:\\\\Users\\\\hayk_\\\\.conda\\\\envs\\\\thesis\\\\lib\\\\site-packages\\\\matplotlib\\\\mpl-data\\\\fonts\\\\ttf\\\\DejaVuSans.ttf') with score of 0.050000.\n"
     ]
    },
    {
     "data": {
      "text/plain": [
       "<Axes: >"
      ]
     },
     "execution_count": 46,
     "metadata": {},
     "output_type": "execute_result"
    },
    {
     "data": {
      "image/png": "[encoded data removed]",
      "text/plain": [
       "<Figure size 1500x500 with 1 Axes>"
      ]
     },
     "metadata": {},
     "output_type": "display_data"
    }
   ],
   "source": [
    "cols_int = [\"mean_kmeans\", \"mean_uniform\", \"mean_random\", \"mean_means_no_clustering\"]\n",
    "cols_int_median = [\"median_kmeans\", \"median_uniform\", \"median_random\", \"median_means_no_clustering\"]\n",
    "df[cols_int_median].plot(kind=\"bar\", figsize=(15, 5))"
   ]
  },
  {
   "cell_type": "code",
   "execution_count": 47,
   "metadata": {},
   "outputs": [
    {
     "data": {
      "text/html": [
       "<div>\n",
       "<style scoped>\n",
       "    .dataframe tbody tr th:only-of-type {\n",
       "        vertical-align: middle;\n",
       "    }\n",
       "\n",
       "    .dataframe tbody tr th {\n",
       "        vertical-align: top;\n",
       "    }\n",
       "\n",
       "    .dataframe thead th {\n",
       "        text-align: right;\n",
       "    }\n",
       "</style>\n",
       "<table border=\"1\" class=\"dataframe\">\n",
       "  <thead>\n",
       "    <tr style=\"text-align: right;\">\n",
       "      <th></th>\n",
       "      <th>MAF method</th>\n",
       "      <th>dataset</th>\n",
       "      <th>accuracy</th>\n",
       "      <th>f1</th>\n",
       "      <th>training_time</th>\n",
       "      <th>epochs</th>\n",
       "      <th>min_loss</th>\n",
       "      <th>initial_loss</th>\n",
       "    </tr>\n",
       "  </thead>\n",
       "  <tbody>\n",
       "    <tr>\n",
       "      <th>139</th>\n",
       "      <td>clustering</td>\n",
       "      <td>Brain Tumor</td>\n",
       "      <td>0.981</td>\n",
       "      <td>0.979</td>\n",
       "      <td>72.832</td>\n",
       "      <td>75</td>\n",
       "      <td>0.023</td>\n",
       "      <td>0.410</td>\n",
       "    </tr>\n",
       "    <tr>\n",
       "      <th>141</th>\n",
       "      <td>random</td>\n",
       "      <td>Brain Tumor</td>\n",
       "      <td>0.983</td>\n",
       "      <td>0.981</td>\n",
       "      <td>288.722</td>\n",
       "      <td>133</td>\n",
       "      <td>0.026</td>\n",
       "      <td>0.241</td>\n",
       "    </tr>\n",
       "    <tr>\n",
       "      <th>145</th>\n",
       "      <td>clustering</td>\n",
       "      <td>breast-cancer-wisconsin</td>\n",
       "      <td>0.966</td>\n",
       "      <td>0.952</td>\n",
       "      <td>32.671</td>\n",
       "      <td>82</td>\n",
       "      <td>0.022</td>\n",
       "      <td>0.614</td>\n",
       "    </tr>\n",
       "    <tr>\n",
       "      <th>147</th>\n",
       "      <td>random</td>\n",
       "      <td>breast-cancer-wisconsin</td>\n",
       "      <td>0.971</td>\n",
       "      <td>0.959</td>\n",
       "      <td>31.940</td>\n",
       "      <td>111</td>\n",
       "      <td>0.030</td>\n",
       "      <td>0.336</td>\n",
       "    </tr>\n",
       "    <tr>\n",
       "      <th>151</th>\n",
       "      <td>clustering</td>\n",
       "      <td>gaussian_df</td>\n",
       "      <td>0.987</td>\n",
       "      <td>0.988</td>\n",
       "      <td>41.419</td>\n",
       "      <td>135</td>\n",
       "      <td>0.020</td>\n",
       "      <td>0.148</td>\n",
       "    </tr>\n",
       "    <tr>\n",
       "      <th>153</th>\n",
       "      <td>random</td>\n",
       "      <td>gaussian_df</td>\n",
       "      <td>0.967</td>\n",
       "      <td>0.969</td>\n",
       "      <td>91.876</td>\n",
       "      <td>273</td>\n",
       "      <td>0.023</td>\n",
       "      <td>0.282</td>\n",
       "    </tr>\n",
       "    <tr>\n",
       "      <th>157</th>\n",
       "      <td>clustering</td>\n",
       "      <td>rectangle_df</td>\n",
       "      <td>1.000</td>\n",
       "      <td>1.000</td>\n",
       "      <td>122.795</td>\n",
       "      <td>168</td>\n",
       "      <td>0.006</td>\n",
       "      <td>0.165</td>\n",
       "    </tr>\n",
       "    <tr>\n",
       "      <th>159</th>\n",
       "      <td>random</td>\n",
       "      <td>rectangle_df</td>\n",
       "      <td>1.000</td>\n",
       "      <td>1.000</td>\n",
       "      <td>212.407</td>\n",
       "      <td>287</td>\n",
       "      <td>0.007</td>\n",
       "      <td>0.253</td>\n",
       "    </tr>\n",
       "    <tr>\n",
       "      <th>163</th>\n",
       "      <td>clustering</td>\n",
       "      <td>uniform_df</td>\n",
       "      <td>0.973</td>\n",
       "      <td>0.970</td>\n",
       "      <td>56.482</td>\n",
       "      <td>191</td>\n",
       "      <td>0.037</td>\n",
       "      <td>0.198</td>\n",
       "    </tr>\n",
       "    <tr>\n",
       "      <th>165</th>\n",
       "      <td>random</td>\n",
       "      <td>uniform_df</td>\n",
       "      <td>0.973</td>\n",
       "      <td>0.970</td>\n",
       "      <td>82.152</td>\n",
       "      <td>273</td>\n",
       "      <td>0.038</td>\n",
       "      <td>0.254</td>\n",
       "    </tr>\n",
       "  </tbody>\n",
       "</table>\n",
       "</div>"
      ],
      "text/plain": [
       "     MAF method                  dataset  accuracy     f1  training_time  \\\n",
       "139  clustering              Brain Tumor     0.981  0.979         72.832   \n",
       "141      random              Brain Tumor     0.983  0.981        288.722   \n",
       "145  clustering  breast-cancer-wisconsin     0.966  0.952         32.671   \n",
       "147      random  breast-cancer-wisconsin     0.971  0.959         31.940   \n",
       "151  clustering              gaussian_df     0.987  0.988         41.419   \n",
       "153      random              gaussian_df     0.967  0.969         91.876   \n",
       "157  clustering             rectangle_df     1.000  1.000        122.795   \n",
       "159      random             rectangle_df     1.000  1.000        212.407   \n",
       "163  clustering               uniform_df     0.973  0.970         56.482   \n",
       "165      random               uniform_df     0.973  0.970         82.152   \n",
       "\n",
       "     epochs  min_loss  initial_loss  \n",
       "139      75     0.023         0.410  \n",
       "141     133     0.026         0.241  \n",
       "145      82     0.022         0.614  \n",
       "147     111     0.030         0.336  \n",
       "151     135     0.020         0.148  \n",
       "153     273     0.023         0.282  \n",
       "157     168     0.006         0.165  \n",
       "159     287     0.007         0.253  \n",
       "163     191     0.037         0.198  \n",
       "165     273     0.038         0.254  "
      ]
     },
     "execution_count": 47,
     "metadata": {},
     "output_type": "execute_result"
    }
   ],
   "source": [
    "res  "
   ]
  },
  {
   "cell_type": "code",
   "execution_count": 26,
   "metadata": {},
   "outputs": [
    {
     "name": "stderr",
     "output_type": "stream",
     "text": [
      "C:\\Users\\hayk_\\AppData\\Local\\Temp\\ipykernel_15416\\881398984.py:23: DeprecationWarning: DataFrameGroupBy.apply operated on the grouping columns. This behavior is deprecated, and in a future version of pandas the grouping columns will be excluded from the operation. Either pass `include_groups=False` to exclude the groupings or explicitly select the grouping columns after groupby to silence this warning.\n",
      "  ratios_df = res.groupby('dataset').apply(ratio_calc).reset_index()\n"
     ]
    }
   ],
   "source": [
    "def ratio_calc(group):\n",
    "    ratios = {}\n",
    "    # Get data for clustering and random methods\n",
    "    clustering = group[group['MAF method'] == 'clustering']\n",
    "    random = group[group['MAF method'] == 'random']\n",
    "    \n",
    "    # Calculate the ratios\n",
    "    # make calss below numeric type\n",
    "    clustering['accuracy'] = pd.to_numeric(clustering['accuracy'])\n",
    "    random['accuracy'] = pd.to_numeric(random['accuracy'])\n",
    "    clustering['f1'] = pd.to_numeric(clustering['f1'])\n",
    "    random['f1'] = pd.to_numeric(random['f1'])\n",
    "    clustering['training_time'] = pd.to_numeric(clustering['training_time'])\n",
    "    random['training_time'] = pd.to_numeric(random['training_time'])\n",
    "    \n",
    "    ratios['accuracy_ratio'] = clustering['accuracy'].values[0] / random['accuracy'].values[0]\n",
    "    ratios['f1_ratio'] = clustering['f1'].values[0] / random['f1'].values[0]\n",
    "    ratios['training_time_speedup'] =  random['training_time'].values[0] / clustering['training_time'].values[0]\n",
    "    \n",
    "    return pd.Series(ratios)\n",
    "\n",
    "# Apply the function to each dataset group and reset index for better format\n",
    "ratios_df = res.groupby('dataset').apply(ratio_calc).reset_index()\n",
    "\n",
    "# Display the new DataFrame\n",
    "ratios_df[\"dataset\"] = ratios_df[\"dataset\"].replace(DATASET_NAME_MAP)\n",
    "ratios_df.rename({\"accuracy_ratio\": \"Accuracy Ratio\", \"f1_ratio\": \"F1 Ratio\", \"training_time_speedup\": \"Training Time Speedup, x\"}, axis=1, inplace=True)\n",
    "ratios_df.round(2).to_latex(\"paper/acc_time_ratios_df.tex\", index=False, float_format=lambda x: '%.2f' % x)\n"
   ]
  },
  {
   "cell_type": "code",
   "execution_count": 28,
   "metadata": {},
   "outputs": [
    {
     "data": {
      "text/plain": [
       "2.0688607354332005"
      ]
     },
     "execution_count": 28,
     "metadata": {},
     "output_type": "execute_result"
    }
   ],
   "source": [
    "ratios_df[\"Training Time Speedup, x\"].mean()"
   ]
  },
  {
   "cell_type": "code",
   "execution_count": 19,
   "metadata": {},
   "outputs": [
    {
     "data": {
      "text/plain": [
       "{'breast-cancer-wisconsin': 'Breast Cancer',\n",
       " 'gaussian_df': 'Gaussian',\n",
       " 'rectangle_df': 'Rectangle',\n",
       " 'uniform_df': 'Uniform',\n",
       " 'Brain Tumor': 'Brain Tumor'}"
      ]
     },
     "execution_count": 19,
     "metadata": {},
     "output_type": "execute_result"
    }
   ],
   "source": [
    "DATASET_NAME_MAP"
   ]
  },
  {
   "cell_type": "code",
   "execution_count": 59,
   "metadata": {},
   "outputs": [
    {
     "name": "stdout",
     "output_type": "stream",
     "text": [
      "                mean                                                       \\\n",
      "  uncertainty_dbscan uncertainty_density_no_clustering uncertainty_kmeans   \n",
      "0           0.264013                          0.263728           0.252323   \n",
      "\n",
      "                                                                          \\\n",
      "  uncertainty_means_no_clustering uncertainty_random uncertainty_uniform   \n",
      "0                        0.274464           0.336454            0.315156   \n",
      "\n",
      "              median                                                       \\\n",
      "  uncertainty_dbscan uncertainty_density_no_clustering uncertainty_kmeans   \n",
      "0           0.290169                           0.29006            0.25793   \n",
      "\n",
      "                                                                          \n",
      "  uncertainty_means_no_clustering uncertainty_random uncertainty_uniform  \n",
      "0                        0.271403           0.314481            0.312642  \n"
     ]
    },
    {
     "data": {
      "text/html": [
       "<div>\n",
       "<style scoped>\n",
       "    .dataframe tbody tr th:only-of-type {\n",
       "        vertical-align: middle;\n",
       "    }\n",
       "\n",
       "    .dataframe tbody tr th {\n",
       "        vertical-align: top;\n",
       "    }\n",
       "\n",
       "    .dataframe thead th {\n",
       "        text-align: right;\n",
       "    }\n",
       "</style>\n",
       "<table border=\"1\" class=\"dataframe\">\n",
       "  <thead>\n",
       "    <tr style=\"text-align: right;\">\n",
       "      <th></th>\n",
       "      <th>mean_dbscan</th>\n",
       "      <th>mean_clustering</th>\n",
       "      <th>mean_kmeans</th>\n",
       "      <th>mean_clustering</th>\n",
       "      <th>mean_random</th>\n",
       "      <th>mean_uniform</th>\n",
       "      <th>median_dbscan</th>\n",
       "      <th>median_clustering</th>\n",
       "      <th>median_kmeans</th>\n",
       "      <th>median_clustering</th>\n",
       "      <th>median_random</th>\n",
       "      <th>median_uniform</th>\n",
       "    </tr>\n",
       "  </thead>\n",
       "  <tbody>\n",
       "    <tr>\n",
       "      <th>ABC</th>\n",
       "      <td>0.264013</td>\n",
       "      <td>0.263728</td>\n",
       "      <td>0.252323</td>\n",
       "      <td>0.274464</td>\n",
       "      <td>0.336454</td>\n",
       "      <td>0.315156</td>\n",
       "      <td>0.290169</td>\n",
       "      <td>0.29006</td>\n",
       "      <td>0.25793</td>\n",
       "      <td>0.271403</td>\n",
       "      <td>0.314481</td>\n",
       "      <td>0.312642</td>\n",
       "    </tr>\n",
       "  </tbody>\n",
       "</table>\n",
       "</div>"
      ],
      "text/plain": [
       "     mean_dbscan  mean_clustering  mean_kmeans  mean_clustering  mean_random  \\\n",
       "ABC     0.264013         0.263728     0.252323         0.274464     0.336454   \n",
       "\n",
       "     mean_uniform  median_dbscan  median_clustering  median_kmeans  \\\n",
       "ABC      0.315156       0.290169            0.29006        0.25793   \n",
       "\n",
       "     median_clustering  median_random  median_uniform  \n",
       "ABC           0.271403       0.314481        0.312642  "
      ]
     },
     "execution_count": 59,
     "metadata": {},
     "output_type": "execute_result"
    }
   ],
   "source": [
    "# means = R.rules_df[uncertainty_cols].mean()\n",
    "# medians = R.rules_df[uncertainty_cols].median()\n",
    "\n",
    "# mean and median of uncertainty for each experiment\n"
   ]
  },
  {
   "cell_type": "code",
   "execution_count": 60,
   "metadata": {},
   "outputs": [
    {
     "data": {
      "text/plain": [
       "mean    uncertainty_dbscan                   0.264013\n",
       "        uncertainty_density_no_clustering    0.263728\n",
       "        uncertainty_kmeans                   0.252323\n",
       "        uncertainty_means_no_clustering      0.274464\n",
       "        uncertainty_random                   0.336454\n",
       "        uncertainty_uniform                  0.315156\n",
       "median  uncertainty_dbscan                   0.290169\n",
       "        uncertainty_density_no_clustering    0.290060\n",
       "        uncertainty_kmeans                   0.257930\n",
       "        uncertainty_means_no_clustering      0.271403\n",
       "        uncertainty_random                   0.314481\n",
       "        uncertainty_uniform                  0.312642\n",
       "dtype: float64"
      ]
     },
     "execution_count": 60,
     "metadata": {},
     "output_type": "execute_result"
    }
   ],
   "source": [
    "r.stack()"
   ]
  },
  {
   "cell_type": "code",
   "execution_count": 55,
   "metadata": {},
   "outputs": [],
   "source": [
    "# # get mean and median of uncertainties\n",
    "# means = R.rules_df[uncertainty_cols].mean()\n",
    "# medians = R.rules_df[uncertainty_cols].median()\n",
    "\n",
    "# combined_df = pd.concat([means, medians], axis=1)#.rename(columns={0: \"DATASET_NAME\"})\n",
    "\n",
    "# combined_df = combined_df.T  # Transpose to switch rows and columns\n",
    "\n",
    "# # # Rename columns to distinguish means from medians\n",
    "# combined_df.columns = [f'{col}_mean' for col in means.index] + [f'{col}_median' for col in medians.index]\n",
    "\n",
    "# # # Set the index to a single row named 'ABC'\n",
    "# # combined_df.index = ['ABC']\n",
    "\n",
    "# combined_df"
   ]
  },
  {
   "cell_type": "code",
   "execution_count": 36,
   "metadata": {},
   "outputs": [
    {
     "data": {
      "application/vnd.plotly.v1+json": {
       "config": {
        "plotlyServerURL": "https://plot.ly"
       },
       "data": [
        {
         "alignmentgroup": "True",
         "hovertemplate": "variable=training_time<br>exp_name=%{x}<br>value=%{y}<extra></extra>",
         "legendgroup": "training_time",
         "marker": {
          "color": "#636efa",
          "pattern": {
           "shape": ""
          }
         },
         "name": "training_time",
         "offsetgroup": "training_time",
         "orientation": "v",
         "showlegend": true,
         "textposition": "auto",
         "type": "bar",
         "x": [
          "kmeans",
          "dbscan",
          "means_no_clustering",
          "density_no_clustering",
          "random",
          "uniform"
         ],
         "xaxis": "x",
         "y": [
          16.316200971603394,
          16.97569751739502,
          22.62153124809265,
          16.690831422805786,
          40.85445308685303,
          30.02367782592773
         ],
         "yaxis": "y"
        },
        {
         "alignmentgroup": "True",
         "hovertemplate": "variable=accuracy<br>exp_name=%{x}<br>value=%{y}<extra></extra>",
         "legendgroup": "accuracy",
         "marker": {
          "color": "#EF553B",
          "pattern": {
           "shape": ""
          }
         },
         "name": "accuracy",
         "offsetgroup": "accuracy",
         "orientation": "v",
         "showlegend": true,
         "textposition": "auto",
         "type": "bar",
         "x": [
          "kmeans",
          "dbscan",
          "means_no_clustering",
          "density_no_clustering",
          "random",
          "uniform"
         ],
         "xaxis": "x",
         "y": [
          0.9866666666666668,
          0.9866666666666668,
          0.9866666666666668,
          0.9866666666666668,
          0.9666666666666668,
          0.9866666666666668
         ],
         "yaxis": "y"
        },
        {
         "alignmentgroup": "True",
         "hovertemplate": "variable=f1<br>exp_name=%{x}<br>value=%{y}<extra></extra>",
         "legendgroup": "f1",
         "marker": {
          "color": "#00cc96",
          "pattern": {
           "shape": ""
          }
         },
         "name": "f1",
         "offsetgroup": "f1",
         "orientation": "v",
         "showlegend": true,
         "textposition": "auto",
         "type": "bar",
         "x": [
          "kmeans",
          "dbscan",
          "means_no_clustering",
          "density_no_clustering",
          "random",
          "uniform"
         ],
         "xaxis": "x",
         "y": [
          0.9875,
          0.9875,
          0.9875,
          0.9875,
          0.9693251533742332,
          0.9875
         ],
         "yaxis": "y"
        },
        {
         "alignmentgroup": "True",
         "hovertemplate": "variable=min_loss<br>exp_name=%{x}<br>value=%{y}<extra></extra>",
         "legendgroup": "min_loss",
         "marker": {
          "color": "#ab63fa",
          "pattern": {
           "shape": ""
          }
         },
         "name": "min_loss",
         "offsetgroup": "min_loss",
         "orientation": "v",
         "showlegend": true,
         "textposition": "auto",
         "type": "bar",
         "x": [
          "kmeans",
          "dbscan",
          "means_no_clustering",
          "density_no_clustering",
          "random",
          "uniform"
         ],
         "xaxis": "x",
         "y": [
          0.0170542746782302,
          0.0183479879051446,
          0.0204172302037477,
          0.0183285363018512,
          0.0225697606801986,
          0.023795498535037
         ],
         "yaxis": "y"
        },
        {
         "alignmentgroup": "True",
         "hovertemplate": "variable=initial_loss<br>exp_name=%{x}<br>value=%{y}<extra></extra>",
         "legendgroup": "initial_loss",
         "marker": {
          "color": "#FFA15A",
          "pattern": {
           "shape": ""
          }
         },
         "name": "initial_loss",
         "offsetgroup": "initial_loss",
         "orientation": "v",
         "showlegend": true,
         "textposition": "auto",
         "type": "bar",
         "x": [
          "kmeans",
          "dbscan",
          "means_no_clustering",
          "density_no_clustering",
          "random",
          "uniform"
         ],
         "xaxis": "x",
         "y": [
          0.09687478095293045,
          0.10890117287635803,
          0.14798612892627716,
          0.10868692398071289,
          0.26817992329597473,
          0.25
         ],
         "yaxis": "y"
        }
       ],
       "layout": {
        "barmode": "group",
        "legend": {
         "title": {
          "text": "variable"
         },
         "tracegroupgap": 0
        },
        "template": {
         "data": {
          "bar": [
           {
            "error_x": {
             "color": "#2a3f5f"
            },
            "error_y": {
             "color": "#2a3f5f"
            },
            "marker": {
             "line": {
              "color": "#E5ECF6",
              "width": 0.5
             },
             "pattern": {
              "fillmode": "overlay",
              "size": 10,
              "solidity": 0.2
             }
            },
            "type": "bar"
           }
          ],
          "barpolar": [
           {
            "marker": {
             "line": {
              "color": "#E5ECF6",
              "width": 0.5
             },
             "pattern": {
              "fillmode": "overlay",
              "size": 10,
              "solidity": 0.2
             }
            },
            "type": "barpolar"
           }
          ],
          "carpet": [
           {
            "aaxis": {
             "endlinecolor": "#2a3f5f",
             "gridcolor": "white",
             "linecolor": "white",
             "minorgridcolor": "white",
             "startlinecolor": "#2a3f5f"
            },
            "baxis": {
             "endlinecolor": "#2a3f5f",
             "gridcolor": "white",
             "linecolor": "white",
             "minorgridcolor": "white",
             "startlinecolor": "#2a3f5f"
            },
            "type": "carpet"
           }
          ],
          "choropleth": [
           {
            "colorbar": {
             "outlinewidth": 0,
             "ticks": ""
            },
            "type": "choropleth"
           }
          ],
          "contour": [
           {
            "colorbar": {
             "outlinewidth": 0,
             "ticks": ""
            },
            "colorscale": [
             [
              0,
              "#0d0887"
             ],
             [
              0.1111111111111111,
              "#46039f"
             ],
             [
              0.2222222222222222,
              "#7201a8"
             ],
             [
              0.3333333333333333,
              "#9c179e"
             ],
             [
              0.4444444444444444,
              "#bd3786"
             ],
             [
              0.5555555555555556,
              "#d8576b"
             ],
             [
              0.6666666666666666,
              "#ed7953"
             ],
             [
              0.7777777777777778,
              "#fb9f3a"
             ],
             [
              0.8888888888888888,
              "#fdca26"
             ],
             [
              1,
              "#f0f921"
             ]
            ],
            "type": "contour"
           }
          ],
          "contourcarpet": [
           {
            "colorbar": {
             "outlinewidth": 0,
             "ticks": ""
            },
            "type": "contourcarpet"
           }
          ],
          "heatmap": [
           {
            "colorbar": {
             "outlinewidth": 0,
             "ticks": ""
            },
            "colorscale": [
             [
              0,
              "#0d0887"
             ],
             [
              0.1111111111111111,
              "#46039f"
             ],
             [
              0.2222222222222222,
              "#7201a8"
             ],
             [
              0.3333333333333333,
              "#9c179e"
             ],
             [
              0.4444444444444444,
              "#bd3786"
             ],
             [
              0.5555555555555556,
              "#d8576b"
             ],
             [
              0.6666666666666666,
              "#ed7953"
             ],
             [
              0.7777777777777778,
              "#fb9f3a"
             ],
             [
              0.8888888888888888,
              "#fdca26"
             ],
             [
              1,
              "#f0f921"
             ]
            ],
            "type": "heatmap"
           }
          ],
          "heatmapgl": [
           {
            "colorbar": {
             "outlinewidth": 0,
             "ticks": ""
            },
            "colorscale": [
             [
              0,
              "#0d0887"
             ],
             [
              0.1111111111111111,
              "#46039f"
             ],
             [
              0.2222222222222222,
              "#7201a8"
             ],
             [
              0.3333333333333333,
              "#9c179e"
             ],
             [
              0.4444444444444444,
              "#bd3786"
             ],
             [
              0.5555555555555556,
              "#d8576b"
             ],
             [
              0.6666666666666666,
              "#ed7953"
             ],
             [
              0.7777777777777778,
              "#fb9f3a"
             ],
             [
              0.8888888888888888,
              "#fdca26"
             ],
             [
              1,
              "#f0f921"
             ]
            ],
            "type": "heatmapgl"
           }
          ],
          "histogram": [
           {
            "marker": {
             "pattern": {
              "fillmode": "overlay",
              "size": 10,
              "solidity": 0.2
             }
            },
            "type": "histogram"
           }
          ],
          "histogram2d": [
           {
            "colorbar": {
             "outlinewidth": 0,
             "ticks": ""
            },
            "colorscale": [
             [
              0,
              "#0d0887"
             ],
             [
              0.1111111111111111,
              "#46039f"
             ],
             [
              0.2222222222222222,
              "#7201a8"
             ],
             [
              0.3333333333333333,
              "#9c179e"
             ],
             [
              0.4444444444444444,
              "#bd3786"
             ],
             [
              0.5555555555555556,
              "#d8576b"
             ],
             [
              0.6666666666666666,
              "#ed7953"
             ],
             [
              0.7777777777777778,
              "#fb9f3a"
             ],
             [
              0.8888888888888888,
              "#fdca26"
             ],
             [
              1,
              "#f0f921"
             ]
            ],
            "type": "histogram2d"
           }
          ],
          "histogram2dcontour": [
           {
            "colorbar": {
             "outlinewidth": 0,
             "ticks": ""
            },
            "colorscale": [
             [
              0,
              "#0d0887"
             ],
             [
              0.1111111111111111,
              "#46039f"
             ],
             [
              0.2222222222222222,
              "#7201a8"
             ],
             [
              0.3333333333333333,
              "#9c179e"
             ],
             [
              0.4444444444444444,
              "#bd3786"
             ],
             [
              0.5555555555555556,
              "#d8576b"
             ],
             [
              0.6666666666666666,
              "#ed7953"
             ],
             [
              0.7777777777777778,
              "#fb9f3a"
             ],
             [
              0.8888888888888888,
              "#fdca26"
             ],
             [
              1,
              "#f0f921"
             ]
            ],
            "type": "histogram2dcontour"
           }
          ],
          "mesh3d": [
           {
            "colorbar": {
             "outlinewidth": 0,
             "ticks": ""
            },
            "type": "mesh3d"
           }
          ],
          "parcoords": [
           {
            "line": {
             "colorbar": {
              "outlinewidth": 0,
              "ticks": ""
             }
            },
            "type": "parcoords"
           }
          ],
          "pie": [
           {
            "automargin": true,
            "type": "pie"
           }
          ],
          "scatter": [
           {
            "fillpattern": {
             "fillmode": "overlay",
             "size": 10,
             "solidity": 0.2
            },
            "type": "scatter"
           }
          ],
          "scatter3d": [
           {
            "line": {
             "colorbar": {
              "outlinewidth": 0,
              "ticks": ""
             }
            },
            "marker": {
             "colorbar": {
              "outlinewidth": 0,
              "ticks": ""
             }
            },
            "type": "scatter3d"
           }
          ],
          "scattercarpet": [
           {
            "marker": {
             "colorbar": {
              "outlinewidth": 0,
              "ticks": ""
             }
            },
            "type": "scattercarpet"
           }
          ],
          "scattergeo": [
           {
            "marker": {
             "colorbar": {
              "outlinewidth": 0,
              "ticks": ""
             }
            },
            "type": "scattergeo"
           }
          ],
          "scattergl": [
           {
            "marker": {
             "colorbar": {
              "outlinewidth": 0,
              "ticks": ""
             }
            },
            "type": "scattergl"
           }
          ],
          "scattermapbox": [
           {
            "marker": {
             "colorbar": {
              "outlinewidth": 0,
              "ticks": ""
             }
            },
            "type": "scattermapbox"
           }
          ],
          "scatterpolar": [
           {
            "marker": {
             "colorbar": {
              "outlinewidth": 0,
              "ticks": ""
             }
            },
            "type": "scatterpolar"
           }
          ],
          "scatterpolargl": [
           {
            "marker": {
             "colorbar": {
              "outlinewidth": 0,
              "ticks": ""
             }
            },
            "type": "scatterpolargl"
           }
          ],
          "scatterternary": [
           {
            "marker": {
             "colorbar": {
              "outlinewidth": 0,
              "ticks": ""
             }
            },
            "type": "scatterternary"
           }
          ],
          "surface": [
           {
            "colorbar": {
             "outlinewidth": 0,
             "ticks": ""
            },
            "colorscale": [
             [
              0,
              "#0d0887"
             ],
             [
              0.1111111111111111,
              "#46039f"
             ],
             [
              0.2222222222222222,
              "#7201a8"
             ],
             [
              0.3333333333333333,
              "#9c179e"
             ],
             [
              0.4444444444444444,
              "#bd3786"
             ],
             [
              0.5555555555555556,
              "#d8576b"
             ],
             [
              0.6666666666666666,
              "#ed7953"
             ],
             [
              0.7777777777777778,
              "#fb9f3a"
             ],
             [
              0.8888888888888888,
              "#fdca26"
             ],
             [
              1,
              "#f0f921"
             ]
            ],
            "type": "surface"
           }
          ],
          "table": [
           {
            "cells": {
             "fill": {
              "color": "#EBF0F8"
             },
             "line": {
              "color": "white"
             }
            },
            "header": {
             "fill": {
              "color": "#C8D4E3"
             },
             "line": {
              "color": "white"
             }
            },
            "type": "table"
           }
          ]
         },
         "layout": {
          "annotationdefaults": {
           "arrowcolor": "#2a3f5f",
           "arrowhead": 0,
           "arrowwidth": 1
          },
          "autotypenumbers": "strict",
          "coloraxis": {
           "colorbar": {
            "outlinewidth": 0,
            "ticks": ""
           }
          },
          "colorscale": {
           "diverging": [
            [
             0,
             "#8e0152"
            ],
            [
             0.1,
             "#c51b7d"
            ],
            [
             0.2,
             "#de77ae"
            ],
            [
             0.3,
             "#f1b6da"
            ],
            [
             0.4,
             "#fde0ef"
            ],
            [
             0.5,
             "#f7f7f7"
            ],
            [
             0.6,
             "#e6f5d0"
            ],
            [
             0.7,
             "#b8e186"
            ],
            [
             0.8,
             "#7fbc41"
            ],
            [
             0.9,
             "#4d9221"
            ],
            [
             1,
             "#276419"
            ]
           ],
           "sequential": [
            [
             0,
             "#0d0887"
            ],
            [
             0.1111111111111111,
             "#46039f"
            ],
            [
             0.2222222222222222,
             "#7201a8"
            ],
            [
             0.3333333333333333,
             "#9c179e"
            ],
            [
             0.4444444444444444,
             "#bd3786"
            ],
            [
             0.5555555555555556,
             "#d8576b"
            ],
            [
             0.6666666666666666,
             "#ed7953"
            ],
            [
             0.7777777777777778,
             "#fb9f3a"
            ],
            [
             0.8888888888888888,
             "#fdca26"
            ],
            [
             1,
             "#f0f921"
            ]
           ],
           "sequentialminus": [
            [
             0,
             "#0d0887"
            ],
            [
             0.1111111111111111,
             "#46039f"
            ],
            [
             0.2222222222222222,
             "#7201a8"
            ],
            [
             0.3333333333333333,
             "#9c179e"
            ],
            [
             0.4444444444444444,
             "#bd3786"
            ],
            [
             0.5555555555555556,
             "#d8576b"
            ],
            [
             0.6666666666666666,
             "#ed7953"
            ],
            [
             0.7777777777777778,
             "#fb9f3a"
            ],
            [
             0.8888888888888888,
             "#fdca26"
            ],
            [
             1,
             "#f0f921"
            ]
           ]
          },
          "colorway": [
           "#636efa",
           "#EF553B",
           "#00cc96",
           "#ab63fa",
           "#FFA15A",
           "#19d3f3",
           "#FF6692",
           "#B6E880",
           "#FF97FF",
           "#FECB52"
          ],
          "font": {
           "color": "#2a3f5f"
          },
          "geo": {
           "bgcolor": "white",
           "lakecolor": "white",
           "landcolor": "#E5ECF6",
           "showlakes": true,
           "showland": true,
           "subunitcolor": "white"
          },
          "hoverlabel": {
           "align": "left"
          },
          "hovermode": "closest",
          "mapbox": {
           "style": "light"
          },
          "paper_bgcolor": "white",
          "plot_bgcolor": "#E5ECF6",
          "polar": {
           "angularaxis": {
            "gridcolor": "white",
            "linecolor": "white",
            "ticks": ""
           },
           "bgcolor": "#E5ECF6",
           "radialaxis": {
            "gridcolor": "white",
            "linecolor": "white",
            "ticks": ""
           }
          },
          "scene": {
           "xaxis": {
            "backgroundcolor": "#E5ECF6",
            "gridcolor": "white",
            "gridwidth": 2,
            "linecolor": "white",
            "showbackground": true,
            "ticks": "",
            "zerolinecolor": "white"
           },
           "yaxis": {
            "backgroundcolor": "#E5ECF6",
            "gridcolor": "white",
            "gridwidth": 2,
            "linecolor": "white",
            "showbackground": true,
            "ticks": "",
            "zerolinecolor": "white"
           },
           "zaxis": {
            "backgroundcolor": "#E5ECF6",
            "gridcolor": "white",
            "gridwidth": 2,
            "linecolor": "white",
            "showbackground": true,
            "ticks": "",
            "zerolinecolor": "white"
           }
          },
          "shapedefaults": {
           "line": {
            "color": "#2a3f5f"
           }
          },
          "ternary": {
           "aaxis": {
            "gridcolor": "white",
            "linecolor": "white",
            "ticks": ""
           },
           "baxis": {
            "gridcolor": "white",
            "linecolor": "white",
            "ticks": ""
           },
           "bgcolor": "#E5ECF6",
           "caxis": {
            "gridcolor": "white",
            "linecolor": "white",
            "ticks": ""
           }
          },
          "title": {
           "x": 0.05
          },
          "xaxis": {
           "automargin": true,
           "gridcolor": "white",
           "linecolor": "white",
           "ticks": "",
           "title": {
            "standoff": 15
           },
           "zerolinecolor": "white",
           "zerolinewidth": 2
          },
          "yaxis": {
           "automargin": true,
           "gridcolor": "white",
           "linecolor": "white",
           "ticks": "",
           "title": {
            "standoff": 15
           },
           "zerolinecolor": "white",
           "zerolinewidth": 2
          }
         }
        },
        "title": {
         "text": "Metrics for dataset `gaussian_df`"
        },
        "xaxis": {
         "anchor": "y",
         "domain": [
          0,
          1
         ],
         "title": {
          "text": "exp_name"
         }
        },
        "yaxis": {
         "anchor": "x",
         "domain": [
          0,
          1
         ],
         "title": {
          "text": "value"
         }
        }
       }
      }
     },
     "metadata": {},
     "output_type": "display_data"
    }
   ],
   "source": [
    "R.get_bar_plots_res(show=False)"
   ]
  },
  {
   "cell_type": "code",
   "execution_count": 23,
   "metadata": {},
   "outputs": [
    {
     "name": "stdout",
     "output_type": "stream",
     "text": [
      "                                                                                                                               name  \\\n",
      "96                  dataset=Brain Tumor, label_for_dist=labels, clust=kmeans, breaks=3, add_mult_rules=False, maf_method=clustering   \n",
      "97                  dataset=Brain Tumor, label_for_dist=labels, clust=dbscan, breaks=3, add_mult_rules=False, maf_method=clustering   \n",
      "98     dataset=Brain Tumor, label_for_dist=labels, clust=means_no_clustering, breaks=3, add_mult_rules=False, maf_method=clustering   \n",
      "99   dataset=Brain Tumor, label_for_dist=labels, clust=density_no_clustering, breaks=3, add_mult_rules=False, maf_method=clustering   \n",
      "100                       dataset=Brain Tumor, label_for_dist=labels, clust=None, breaks=3, add_mult_rules=False, maf_method=random   \n",
      "101                      dataset=Brain Tumor, label_for_dist=labels, clust=None, breaks=3, add_mult_rules=False, maf_method=uniform   \n",
      "\n",
      "            clustering_alg               exp_name  \n",
      "96                  kmeans                 kmeans  \n",
      "97                  dbscan                 dbscan  \n",
      "98     means_no_clustering    means_no_clustering  \n",
      "99   density_no_clustering  density_no_clustering  \n",
      "100                    NaN                 random  \n",
      "101                    NaN                uniform  \n"
     ]
    }
   ],
   "source": [
    "from pandas import option_context\n",
    "\n",
    "with option_context('display.max_colwidth', 400):\n",
    "    print(R.df_res[[\"name\", \"clustering_alg\", \"exp_name\"]])\n",
    "\n",
    "\n"
   ]
  },
  {
   "cell_type": "markdown",
   "metadata": {},
   "source": []
  },
  {
   "cell_type": "code",
   "execution_count": 82,
   "metadata": {},
   "outputs": [
    {
     "data": {
      "text/html": [
       "<div>\n",
       "<style scoped>\n",
       "    .dataframe tbody tr th:only-of-type {\n",
       "        vertical-align: middle;\n",
       "    }\n",
       "\n",
       "    .dataframe tbody tr th {\n",
       "        vertical-align: top;\n",
       "    }\n",
       "\n",
       "    .dataframe thead th {\n",
       "        text-align: right;\n",
       "    }\n",
       "</style>\n",
       "<table border=\"1\" class=\"dataframe\">\n",
       "  <thead>\n",
       "    <tr style=\"text-align: right;\">\n",
       "      <th></th>\n",
       "      <th>rule</th>\n",
       "      <th>mass_first</th>\n",
       "      <th>mass_second</th>\n",
       "      <th>uncertainty</th>\n",
       "      <th>mass_first_kmeans</th>\n",
       "      <th>mass_second_kmeans</th>\n",
       "      <th>uncertainty_kmeans</th>\n",
       "      <th>mass_first_random</th>\n",
       "      <th>mass_second_random</th>\n",
       "      <th>uncertainty_random</th>\n",
       "      <th>mass_first_uniform</th>\n",
       "      <th>mass_second_uniform</th>\n",
       "      <th>uncertainty_uniform</th>\n",
       "    </tr>\n",
       "  </thead>\n",
       "  <tbody>\n",
       "    <tr>\n",
       "      <th>0</th>\n",
       "      <td>x &lt; 0.321</td>\n",
       "      <td>0.0</td>\n",
       "      <td>0.806145</td>\n",
       "      <td>0.193855</td>\n",
       "      <td>0.0</td>\n",
       "      <td>0.834516</td>\n",
       "      <td>0.165484</td>\n",
       "      <td>0.0</td>\n",
       "      <td>0.717049</td>\n",
       "      <td>0.282951</td>\n",
       "      <td>0.0</td>\n",
       "      <td>0.758178</td>\n",
       "      <td>0.241822</td>\n",
       "    </tr>\n",
       "  </tbody>\n",
       "</table>\n",
       "</div>"
      ],
      "text/plain": [
       "        rule  mass_first  mass_second  uncertainty  mass_first_kmeans  \\\n",
       "0  x < 0.321         0.0     0.806145     0.193855                0.0   \n",
       "\n",
       "   mass_second_kmeans  uncertainty_kmeans  mass_first_random  \\\n",
       "0            0.834516            0.165484                0.0   \n",
       "\n",
       "   mass_second_random  uncertainty_random  mass_first_uniform  \\\n",
       "0            0.717049            0.282951                 0.0   \n",
       "\n",
       "   mass_second_uniform  uncertainty_uniform  \n",
       "0             0.758178             0.241822  "
      ]
     },
     "execution_count": 82,
     "metadata": {},
     "output_type": "execute_result"
    }
   ],
   "source": [
    "merged.head(1)"
   ]
  },
  {
   "cell_type": "code",
   "execution_count": 83,
   "metadata": {},
   "outputs": [
    {
     "data": {
      "text/html": [
       "<div>\n",
       "<style scoped>\n",
       "    .dataframe tbody tr th:only-of-type {\n",
       "        vertical-align: middle;\n",
       "    }\n",
       "\n",
       "    .dataframe tbody tr th {\n",
       "        vertical-align: top;\n",
       "    }\n",
       "\n",
       "    .dataframe thead th {\n",
       "        text-align: right;\n",
       "    }\n",
       "</style>\n",
       "<table border=\"1\" class=\"dataframe\">\n",
       "  <thead>\n",
       "    <tr style=\"text-align: right;\">\n",
       "      <th></th>\n",
       "      <th>rule</th>\n",
       "      <th>mass_first</th>\n",
       "      <th>mass_second</th>\n",
       "      <th>uncertainty</th>\n",
       "      <th>mass_first_kmeans</th>\n",
       "      <th>mass_second_kmeans</th>\n",
       "      <th>uncertainty_kmeans</th>\n",
       "      <th>mass_first_random</th>\n",
       "      <th>mass_second_random</th>\n",
       "      <th>uncertainty_random</th>\n",
       "      <th>mass_first_uniform</th>\n",
       "      <th>mass_second_uniform</th>\n",
       "      <th>uncertainty_uniform</th>\n",
       "    </tr>\n",
       "  </thead>\n",
       "  <tbody>\n",
       "    <tr>\n",
       "      <th>0</th>\n",
       "      <td>x &lt; 0.321</td>\n",
       "      <td>0.0</td>\n",
       "      <td>0.806145</td>\n",
       "      <td>0.193855</td>\n",
       "      <td>0.0</td>\n",
       "      <td>0.834516</td>\n",
       "      <td>0.165484</td>\n",
       "      <td>0.0</td>\n",
       "      <td>0.717049</td>\n",
       "      <td>0.282951</td>\n",
       "      <td>0.0</td>\n",
       "      <td>0.758178</td>\n",
       "      <td>0.241822</td>\n",
       "    </tr>\n",
       "  </tbody>\n",
       "</table>\n",
       "</div>"
      ],
      "text/plain": [
       "        rule  mass_first  mass_second  uncertainty  mass_first_kmeans  \\\n",
       "0  x < 0.321         0.0     0.806145     0.193855                0.0   \n",
       "\n",
       "   mass_second_kmeans  uncertainty_kmeans  mass_first_random  \\\n",
       "0            0.834516            0.165484                0.0   \n",
       "\n",
       "   mass_second_random  uncertainty_random  mass_first_uniform  \\\n",
       "0            0.717049            0.282951                 0.0   \n",
       "\n",
       "   mass_second_uniform  uncertainty_uniform  \n",
       "0             0.758178             0.241822  "
      ]
     },
     "execution_count": 83,
     "metadata": {},
     "output_type": "execute_result"
    }
   ],
   "source": [
    "merged_manual.head(1)"
   ]
  },
  {
   "cell_type": "code",
   "execution_count": null,
   "metadata": {},
   "outputs": [],
   "source": []
  }
 ],
 "metadata": {
  "kernelspec": {
   "display_name": "thesis",
   "language": "python",
   "name": "python3"
  },
  "language_info": {
   "codemirror_mode": {
    "name": "ipython",
    "version": 3
   },
   "file_extension": ".py",
   "mimetype": "text/x-python",
   "name": "python",
   "nbconvert_exporter": "python",
   "pygments_lexer": "ipython3",
   "version": "3.10.14"
  }
 },
 "nbformat": 4,
 "nbformat_minor": 2
}
