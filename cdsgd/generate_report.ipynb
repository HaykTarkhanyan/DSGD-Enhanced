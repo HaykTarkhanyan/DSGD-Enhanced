{
 "cells": [
  {
   "cell_type": "code",
   "execution_count": 174,
   "metadata": {},
   "outputs": [],
   "source": [
    "import os\n",
    "import pickle \n",
    "import numpy as np\n",
    "import pandas as pd\n",
    "\n",
    "import plotly.express as px\n",
    "import matplotlib.pyplot as plt\n",
    "\n",
    "from config import *\n",
    "\n",
    "from functools import reduce \n",
    "\n",
    "import logging\n",
    "logging.basicConfig(level=logging.DEBUG, format=\"%(asctime)s [%(levelname)s] %(message)s\", \n",
    "                    datefmt=\"%d-%b-%y %H:%M:%S\")"
   ]
  },
  {
   "cell_type": "code",
   "execution_count": 183,
   "metadata": {},
   "outputs": [],
   "source": [
    "class ReportGenerator:\n",
    "    def __init__(self, dataset: str, num_exps: int = 6,\n",
    "                 rules_folder: str = RULE_FOLDER, \n",
    "                 results_file: str = \"experiments.csv\", \n",
    "                 res_df_cols_ignore: list = [\"breaks\",\t\"mult_rules\", \t\"confusion_matrix\",\t\"label_for_dist\"], \n",
    "                 exps_to_ignore: list = None):\n",
    "        # logging.info(f\"Working with dataset `{dataset}`, num_exps `{num_exps}`, rules_folder `{rules_folder}`, results_file `{results_file}`\")\n",
    "        DATASET_NAME_MAP = {\"breast-cancer-wisconsin\": \"Breast Cancer\", \n",
    "                            \"gaussian_df\": \"Gaussian\", \n",
    "                            \"rectangle_df\": \"Rectangle\", \n",
    "                            \"uniform_df\": \"Uniform\", \n",
    "                            \"Brain Tumor\": \"Brain Tumor\"}\n",
    "        \n",
    "        self.exps_to_ignore = exps_to_ignore\n",
    "                \n",
    "        assert os.path.exists(rules_folder), f\"Rules folder `{rules_folder}` does not exist\"\n",
    "        assert os.path.exists(results_file), f\"Results csv file `{results_file}` does not exist\"\n",
    "        \n",
    "        self.dataset = dataset\n",
    "        self.dataset_lst = os.listdir(rules_folder)\n",
    "        assert self.dataset in self.dataset_lst, \\\n",
    "            f\"No rules folder found for dataset `{dataset}` in folder `{rules_folder}`, found {self.dataset_lst}\"\n",
    "        \n",
    "        self.dataset_name = DATASET_NAME_MAP[self.dataset]\n",
    "        \n",
    "        # ----------------------- Load rules ----------------------- #\n",
    "        self.rules_results_lst = os.listdir(os.path.join(rules_folder, self.dataset))\n",
    "\n",
    "        assert len(self.rules_results_lst) == num_exps, f\"Expected {num_exps} experiments, found list -> {self.rules_results_lst}\"\n",
    "\n",
    "        if self.exps_to_ignore:\n",
    "            self.rules_results_lst = self.ignore_experiments(self.rules_results_lst)\n",
    "                    \n",
    "        self.exp_names = [self.get_experiment_name(i) for i in self.rules_results_lst]\n",
    "\n",
    "        self.exp_full_names = [i.split(\".\")[0] for i in self.rules_results_lst]\n",
    "        \n",
    "        self.rules_dict = {}\n",
    "        for exp_rule in self.rules_results_lst:\n",
    "            exp_name = self.get_experiment_name(exp_rule)\n",
    "            \n",
    "            rule_file_name = os.path.join(rules_folder, self.dataset, exp_rule)\n",
    "            rule_pickle = pickle.load(open(rule_file_name, \"rb\"))\n",
    "            rule_dict = self.extract_rule_info(rule_pickle)\n",
    "            self.rules_dict[exp_name] = pd.DataFrame(rule_dict)\n",
    "\n",
    "        self.rules_df = self.convert_rules_dict_to_df()\n",
    "\n",
    "\n",
    "        logging.info(f\"Rules files for path `{rules_folder}/{dataset}` loaded\")\n",
    "        # ----------------------- Load df results ----------------------- #\n",
    "        self.res_df_cols_ignore = res_df_cols_ignore\n",
    "        self.res_df = pd.read_csv(results_file, usecols=lambda x: x not in self.res_df_cols_ignore)\n",
    "       \n",
    "        self.res_df = self.res_df[self.res_df[\"name\"].isin(self.exp_full_names)].tail(len(self.rules_results_lst))\n",
    "        \n",
    "        # assert len(self.res_df) == num_exps, f\"Expected {num_exps } experiments, found {len(self.res_df)}\"\n",
    "        \n",
    "        self.res_df[\"exp_name\"] = self.res_df.apply(self.get_experiment_name_for_df, axis=1)\n",
    "        assert set(self.res_df[\"exp_name\"]) == set(self.exp_names), \\\n",
    "            f\"Most likely missing some experiments. Found {set(self.res_df['exp_name'])}, expected {set(self.exp_names)}\"\n",
    "            \n",
    "        self.res_df[\"initial_loss\"] = self.res_df[\"all_losses\"].apply(lambda x: eval(x)[0])\n",
    "        logging.info(f\"Experiments {self.exp_names}\")\n",
    "        logging.info(f\"Results for dataset `{dataset}` loaded\") \n",
    "    \n",
    "    def ignore_experiments(self, lst):\n",
    "        exps = []\n",
    "        for i in lst:\n",
    "            if self.get_experiment_name(i) not in self.exps_to_ignore:\n",
    "                exps.append(i)\n",
    "        return exps\n",
    "    \n",
    "    def get_bar_plots_res(self, ys=[\"training_time\", \"accuracy\", \"f1\", \"min_loss\", \"initial_loss\"], \n",
    "                             show=False):\n",
    "        # get_bar = lambda y\n",
    "        fig = px.bar(self.res_df, x=\"exp_name\", y=ys, \n",
    "                     title=f\"Metrics for dataset `{self.dataset}`\", \n",
    "                     barmode='group')\n",
    "                     # stack next to each other\n",
    "                        \n",
    "        return fig\n",
    "    \n",
    "    def get_uncertainty_comparison(self):\n",
    "        uncertainty_cols = [i for i in self.rules_df.columns if \"uncertainty\" in i]\n",
    "        stats = self.rules_df[uncertainty_cols].describe().loc[[\"mean\", \"50%\"]]\n",
    "        stats.rename(index={\"50%\": \"median\"}, inplace=True)\n",
    "\n",
    "        # ChatGPT code\n",
    "        flat_df = stats.stack().to_frame().T  # The to_frame().T converts the series to a single-row DataFrame\n",
    "\n",
    "        new_columns = [f'{stat}_{col[1].split(\"uncertainty_\")[1]}' for col in flat_df.columns for stat in ['mean', 'median'] if stat in col[0]]\n",
    "        flat_df.columns = new_columns\n",
    "\n",
    "        flat_df.index = [self.dataset_name]\n",
    "        \n",
    "        flat_df[\"improvement\"] = flat_df[\"median_random\"] / flat_df[\"median_means_no_clustering\"]\n",
    "\n",
    "        self.uncs_df = flat_df\n",
    "        return flat_df\n",
    "\n",
    "    def convert_rules_dict_to_df(self):\n",
    "        # https://stackoverflow.com/questions/23668427/pandas-three-way-joining-multiple-dataframes-on-columns\n",
    "        dfs_with_suffixes = [(self.rules_dict[exp_name], f\"_{exp_name}\") for exp_name in self.rules_dict]\n",
    "        first_df = dfs_with_suffixes[0][0]\n",
    "        first_df_name = dfs_with_suffixes[0][1]\n",
    "        the_rest_dfs = dfs_with_suffixes[1:]\n",
    "\n",
    "        merge_one = lambda x, y, sfx: pd.merge(x, y, on=['rule'], suffixes=(\"\", sfx))\n",
    "\n",
    "        merged = reduce(lambda left, right: merge_one(left,*right), the_rest_dfs, first_df)\n",
    "        \n",
    "        merged.rename(columns={\"mass_first\": f\"mass_first{first_df_name}\", \n",
    "                                \"mass_second\": f\"mass_second{first_df_name}\",\n",
    "                                \"uncertainty\": f\"uncertainty{first_df_name}\"}, inplace=True)\n",
    "        return merged\n",
    "    \n",
    "    @staticmethod\n",
    "    def extract_rule_info(rules_info):\n",
    "        rules = rules_info[\"preds\"]\n",
    "        mafs = rules_info[\"masses\"]\n",
    "        \n",
    "        rule_names = [str(i) for i in rules]\n",
    "        mass_first = [float(i[0]) for i in mafs]\n",
    "        mass_second = [float(i[1]) for i in mafs]\n",
    "        uncertainty = [float(i[2]) for i in mafs]\n",
    "        \n",
    "        res = {\"rule\": rule_names, \"mass_first\": mass_first, \"mass_second\": mass_second, \"uncertainty\": uncertainty}\n",
    "        return res\n",
    "    \n",
    "    @staticmethod\n",
    "    def get_experiment_name(file_name):\n",
    "        parts = file_name.split(',', 1) \n",
    "        file_name = parts[1].strip() if len(parts) > 1 else ''\n",
    "        # without code above will fail when method and dataset are both `uniform `        \n",
    "        if \"uniform\" in file_name:\n",
    "            return \"uniform\"\n",
    "        elif \"random\" in file_name:\n",
    "            return \"random\"\n",
    "        elif \"means_no_clustering\" in file_name:\n",
    "            return \"means_no_clustering\"\n",
    "        elif \"density_no_clustering\" in file_name:\n",
    "            return \"density_no_clustering\"\n",
    "        elif \"clustering\" in file_name:\n",
    "            if \"kmeans\" in file_name:\n",
    "                return \"kmeans\"\n",
    "            elif \"dbscan\" in file_name:\n",
    "                return \"dbscan\"\n",
    "            \n",
    "    @staticmethod\n",
    "    def get_experiment_name_for_df(df):\n",
    "        if df[\"MAF method\"] != \"clustering\":\n",
    "            return df[\"MAF method\"]\n",
    "        return df[\"clustering_alg\"]"
   ]
  },
  {
   "cell_type": "code",
   "execution_count": 184,
   "metadata": {},
   "outputs": [
    {
     "name": "stderr",
     "output_type": "stream",
     "text": [
      "04-May-24 05:38:47 [INFO] Rules files for path `rules/uniform_df` loaded\n",
      "04-May-24 05:38:47 [INFO] Experiments ['means_no_clustering', 'random']\n",
      "04-May-24 05:38:47 [INFO] Results for dataset `uniform_df` loaded\n"
     ]
    }
   ],
   "source": [
    "R = ReportGenerator(\"uniform_df\", num_exps=6, exps_to_ignore=[\"dbscan\", \"kmeans\", \"uniform\", \"density_no_clustering\"])"
   ]
  },
  {
   "cell_type": "code",
   "execution_count": 185,
   "metadata": {},
   "outputs": [
    {
     "data": {
      "text/html": [
       "<div>\n",
       "<style scoped>\n",
       "    .dataframe tbody tr th:only-of-type {\n",
       "        vertical-align: middle;\n",
       "    }\n",
       "\n",
       "    .dataframe tbody tr th {\n",
       "        vertical-align: top;\n",
       "    }\n",
       "\n",
       "    .dataframe thead th {\n",
       "        text-align: right;\n",
       "    }\n",
       "</style>\n",
       "<table border=\"1\" class=\"dataframe\">\n",
       "  <thead>\n",
       "    <tr style=\"text-align: right;\">\n",
       "      <th></th>\n",
       "      <th>datetime</th>\n",
       "      <th>name</th>\n",
       "      <th>MAF method</th>\n",
       "      <th>dataset</th>\n",
       "      <th>accuracy</th>\n",
       "      <th>f1</th>\n",
       "      <th>training_time</th>\n",
       "      <th>epochs</th>\n",
       "      <th>min_loss</th>\n",
       "      <th>all_losses</th>\n",
       "      <th>clustering_alg</th>\n",
       "      <th>exp_name</th>\n",
       "      <th>initial_loss</th>\n",
       "    </tr>\n",
       "  </thead>\n",
       "  <tbody>\n",
       "    <tr>\n",
       "      <th>163</th>\n",
       "      <td>04-05-2024 04:44:50</td>\n",
       "      <td>dataset=uniform_df, label_for_dist=labels, clu...</td>\n",
       "      <td>clustering</td>\n",
       "      <td>uniform_df</td>\n",
       "      <td>0.973333</td>\n",
       "      <td>0.969697</td>\n",
       "      <td>56.481622</td>\n",
       "      <td>191</td>\n",
       "      <td>0.036866</td>\n",
       "      <td>[0.19784381985664368, 0.1942012906074524, 0.19...</td>\n",
       "      <td>means_no_clustering</td>\n",
       "      <td>means_no_clustering</td>\n",
       "      <td>0.197844</td>\n",
       "    </tr>\n",
       "  </tbody>\n",
       "</table>\n",
       "</div>"
      ],
      "text/plain": [
       "                datetime                                               name  \\\n",
       "163  04-05-2024 04:44:50  dataset=uniform_df, label_for_dist=labels, clu...   \n",
       "\n",
       "     MAF method     dataset  accuracy        f1  training_time  epochs  \\\n",
       "163  clustering  uniform_df  0.973333  0.969697      56.481622     191   \n",
       "\n",
       "     min_loss                                         all_losses  \\\n",
       "163  0.036866  [0.19784381985664368, 0.1942012906074524, 0.19...   \n",
       "\n",
       "          clustering_alg             exp_name  initial_loss  \n",
       "163  means_no_clustering  means_no_clustering      0.197844  "
      ]
     },
     "execution_count": 185,
     "metadata": {},
     "output_type": "execute_result"
    }
   ],
   "source": [
    "R.res_df.head(1)"
   ]
  },
  {
   "cell_type": "code",
   "execution_count": 186,
   "metadata": {},
   "outputs": [
    {
     "data": {
      "text/html": [
       "<div>\n",
       "<style scoped>\n",
       "    .dataframe tbody tr th:only-of-type {\n",
       "        vertical-align: middle;\n",
       "    }\n",
       "\n",
       "    .dataframe tbody tr th {\n",
       "        vertical-align: top;\n",
       "    }\n",
       "\n",
       "    .dataframe thead th {\n",
       "        text-align: right;\n",
       "    }\n",
       "</style>\n",
       "<table border=\"1\" class=\"dataframe\">\n",
       "  <thead>\n",
       "    <tr style=\"text-align: right;\">\n",
       "      <th></th>\n",
       "      <th>datetime</th>\n",
       "      <th>name</th>\n",
       "      <th>MAF method</th>\n",
       "      <th>dataset</th>\n",
       "      <th>accuracy</th>\n",
       "      <th>f1</th>\n",
       "      <th>training_time</th>\n",
       "      <th>epochs</th>\n",
       "      <th>min_loss</th>\n",
       "      <th>all_losses</th>\n",
       "      <th>clustering_alg</th>\n",
       "      <th>exp_name</th>\n",
       "      <th>initial_loss</th>\n",
       "    </tr>\n",
       "  </thead>\n",
       "  <tbody>\n",
       "    <tr>\n",
       "      <th>163</th>\n",
       "      <td>04-05-2024 04:44:50</td>\n",
       "      <td>dataset=uniform_df, label_for_dist=labels, clu...</td>\n",
       "      <td>clustering</td>\n",
       "      <td>uniform_df</td>\n",
       "      <td>0.973333</td>\n",
       "      <td>0.969697</td>\n",
       "      <td>56.481622</td>\n",
       "      <td>191</td>\n",
       "      <td>0.036866</td>\n",
       "      <td>[0.19784381985664368, 0.1942012906074524, 0.19...</td>\n",
       "      <td>means_no_clustering</td>\n",
       "      <td>means_no_clustering</td>\n",
       "      <td>0.197844</td>\n",
       "    </tr>\n",
       "    <tr>\n",
       "      <th>165</th>\n",
       "      <td>04-05-2024 04:46:54</td>\n",
       "      <td>dataset=uniform_df, label_for_dist=labels, clu...</td>\n",
       "      <td>random</td>\n",
       "      <td>uniform_df</td>\n",
       "      <td>0.973333</td>\n",
       "      <td>0.969697</td>\n",
       "      <td>82.151682</td>\n",
       "      <td>273</td>\n",
       "      <td>0.037534</td>\n",
       "      <td>[0.25353994965553284, 0.2508929371833801, 0.24...</td>\n",
       "      <td>NaN</td>\n",
       "      <td>random</td>\n",
       "      <td>0.253540</td>\n",
       "    </tr>\n",
       "  </tbody>\n",
       "</table>\n",
       "</div>"
      ],
      "text/plain": [
       "                datetime                                               name  \\\n",
       "163  04-05-2024 04:44:50  dataset=uniform_df, label_for_dist=labels, clu...   \n",
       "165  04-05-2024 04:46:54  dataset=uniform_df, label_for_dist=labels, clu...   \n",
       "\n",
       "     MAF method     dataset  accuracy        f1  training_time  epochs  \\\n",
       "163  clustering  uniform_df  0.973333  0.969697      56.481622     191   \n",
       "165      random  uniform_df  0.973333  0.969697      82.151682     273   \n",
       "\n",
       "     min_loss                                         all_losses  \\\n",
       "163  0.036866  [0.19784381985664368, 0.1942012906074524, 0.19...   \n",
       "165  0.037534  [0.25353994965553284, 0.2508929371833801, 0.24...   \n",
       "\n",
       "          clustering_alg             exp_name  initial_loss  \n",
       "163  means_no_clustering  means_no_clustering      0.197844  \n",
       "165                  NaN               random      0.253540  "
      ]
     },
     "execution_count": 186,
     "metadata": {},
     "output_type": "execute_result"
    }
   ],
   "source": [
    "R.res_df"
   ]
  },
  {
   "cell_type": "code",
   "execution_count": 187,
   "metadata": {},
   "outputs": [
    {
     "data": {
      "text/html": [
       "<div>\n",
       "<style scoped>\n",
       "    .dataframe tbody tr th:only-of-type {\n",
       "        vertical-align: middle;\n",
       "    }\n",
       "\n",
       "    .dataframe tbody tr th {\n",
       "        vertical-align: top;\n",
       "    }\n",
       "\n",
       "    .dataframe thead th {\n",
       "        text-align: right;\n",
       "    }\n",
       "</style>\n",
       "<table border=\"1\" class=\"dataframe\">\n",
       "  <thead>\n",
       "    <tr style=\"text-align: right;\">\n",
       "      <th></th>\n",
       "      <th>MAF method</th>\n",
       "      <th>dataset</th>\n",
       "      <th>accuracy</th>\n",
       "      <th>f1</th>\n",
       "      <th>training_time</th>\n",
       "      <th>epochs</th>\n",
       "      <th>min_loss</th>\n",
       "      <th>initial_loss</th>\n",
       "    </tr>\n",
       "  </thead>\n",
       "  <tbody>\n",
       "    <tr>\n",
       "      <th>163</th>\n",
       "      <td>clustering</td>\n",
       "      <td>uniform_df</td>\n",
       "      <td>0.973333</td>\n",
       "      <td>0.969697</td>\n",
       "      <td>56.481622</td>\n",
       "      <td>191</td>\n",
       "      <td>0.036866</td>\n",
       "      <td>0.197844</td>\n",
       "    </tr>\n",
       "    <tr>\n",
       "      <th>165</th>\n",
       "      <td>random</td>\n",
       "      <td>uniform_df</td>\n",
       "      <td>0.973333</td>\n",
       "      <td>0.969697</td>\n",
       "      <td>82.151682</td>\n",
       "      <td>273</td>\n",
       "      <td>0.037534</td>\n",
       "      <td>0.253540</td>\n",
       "    </tr>\n",
       "  </tbody>\n",
       "</table>\n",
       "</div>"
      ],
      "text/plain": [
       "     MAF method     dataset  accuracy        f1  training_time  epochs  \\\n",
       "163  clustering  uniform_df  0.973333  0.969697      56.481622     191   \n",
       "165      random  uniform_df  0.973333  0.969697      82.151682     273   \n",
       "\n",
       "     min_loss  initial_loss  \n",
       "163  0.036866      0.197844  \n",
       "165  0.037534      0.253540  "
      ]
     },
     "execution_count": 187,
     "metadata": {},
     "output_type": "execute_result"
    }
   ],
   "source": [
    "# MAF method & dataset & accuracy & f1 & training\\_time & epochs & min\\_loss & initial\\_loss\\\\\n",
    "R.res_df[[\"MAF method\", \"dataset\", \"accuracy\", \"f1\", \"training_time\", \"epochs\", \"min_loss\", \"initial_loss\"]]"
   ]
  },
  {
   "cell_type": "code",
   "execution_count": 189,
   "metadata": {},
   "outputs": [],
   "source": [
    "def get_res_df_all_datasets():\n",
    "    dataset_lst = os.listdir(RULE_FOLDER)\n",
    "    dataset_lst = [i for i in dataset_lst if i not in  [\"gaussian_df_before_fix\", \"wine\"]]\n",
    "    \n",
    "    res_dfs = []\n",
    "    for dataset in dataset_lst:\n",
    "        R = ReportGenerator(dataset, num_exps=6, exps_to_ignore=[\"dbscan\", \"kmeans\", \"uniform\", \"density_no_clustering\"])\n",
    "        res_dfs.append(R.res_df)\n",
    "    return pd.concat(res_dfs)"
   ]
  },
  {
   "cell_type": "code",
   "execution_count": 195,
   "metadata": {},
   "outputs": [
    {
     "name": "stderr",
     "output_type": "stream",
     "text": [
      "04-May-24 05:42:06 [INFO] Rules files for path `rules/Brain Tumor` loaded\n",
      "04-May-24 05:42:06 [INFO] Experiments ['means_no_clustering', 'random']\n",
      "04-May-24 05:42:06 [INFO] Results for dataset `Brain Tumor` loaded\n"
     ]
    },
    {
     "name": "stderr",
     "output_type": "stream",
     "text": [
      "04-May-24 05:42:06 [INFO] Rules files for path `rules/breast-cancer-wisconsin` loaded\n",
      "04-May-24 05:42:06 [INFO] Experiments ['means_no_clustering', 'random']\n",
      "04-May-24 05:42:06 [INFO] Results for dataset `breast-cancer-wisconsin` loaded\n",
      "04-May-24 05:42:06 [INFO] Rules files for path `rules/gaussian_df` loaded\n",
      "04-May-24 05:42:06 [INFO] Experiments ['means_no_clustering', 'random']\n",
      "04-May-24 05:42:06 [INFO] Results for dataset `gaussian_df` loaded\n",
      "04-May-24 05:42:06 [INFO] Rules files for path `rules/rectangle_df` loaded\n",
      "04-May-24 05:42:06 [INFO] Experiments ['means_no_clustering', 'random']\n",
      "04-May-24 05:42:06 [INFO] Results for dataset `rectangle_df` loaded\n",
      "04-May-24 05:42:06 [INFO] Rules files for path `rules/uniform_df` loaded\n",
      "04-May-24 05:42:06 [INFO] Experiments ['means_no_clustering', 'random']\n",
      "04-May-24 05:42:06 [INFO] Results for dataset `uniform_df` loaded\n"
     ]
    }
   ],
   "source": [
    "res = get_res_df_all_datasets()\n",
    "res = res[[\"MAF method\", \"dataset\", \"accuracy\", \"f1\", \"training_time\", \"epochs\", \"min_loss\", \"initial_loss\"]].round(3)\n",
    "\n"
   ]
  },
  {
   "cell_type": "code",
   "execution_count": 197,
   "metadata": {},
   "outputs": [],
   "source": [
    "res.to_latex(\"paper/res_df.tex\", index=False)"
   ]
  },
  {
   "cell_type": "code",
   "execution_count": 157,
   "metadata": {},
   "outputs": [
    {
     "data": {
      "text/html": [
       "<div>\n",
       "<style scoped>\n",
       "    .dataframe tbody tr th:only-of-type {\n",
       "        vertical-align: middle;\n",
       "    }\n",
       "\n",
       "    .dataframe tbody tr th {\n",
       "        vertical-align: top;\n",
       "    }\n",
       "\n",
       "    .dataframe thead th {\n",
       "        text-align: right;\n",
       "    }\n",
       "</style>\n",
       "<table border=\"1\" class=\"dataframe\">\n",
       "  <thead>\n",
       "    <tr style=\"text-align: right;\">\n",
       "      <th></th>\n",
       "      <th>mean_density_no_clustering</th>\n",
       "      <th>mean_means_no_clustering</th>\n",
       "      <th>mean_random</th>\n",
       "      <th>median_density_no_clustering</th>\n",
       "      <th>median_means_no_clustering</th>\n",
       "      <th>median_random</th>\n",
       "    </tr>\n",
       "  </thead>\n",
       "  <tbody>\n",
       "    <tr>\n",
       "      <th>Uniform</th>\n",
       "      <td>0.220156</td>\n",
       "      <td>0.188726</td>\n",
       "      <td>0.266291</td>\n",
       "      <td>0.266034</td>\n",
       "      <td>0.10557</td>\n",
       "      <td>0.128633</td>\n",
       "    </tr>\n",
       "  </tbody>\n",
       "</table>\n",
       "</div>"
      ],
      "text/plain": [
       "         mean_density_no_clustering  mean_means_no_clustering  mean_random  \\\n",
       "Uniform                    0.220156                  0.188726     0.266291   \n",
       "\n",
       "         median_density_no_clustering  median_means_no_clustering  \\\n",
       "Uniform                      0.266034                     0.10557   \n",
       "\n",
       "         median_random  \n",
       "Uniform       0.128633  "
      ]
     },
     "execution_count": 157,
     "metadata": {},
     "output_type": "execute_result"
    }
   ],
   "source": [
    "R.get_uncertainty_comparison()"
   ]
  },
  {
   "cell_type": "code",
   "execution_count": 163,
   "metadata": {},
   "outputs": [],
   "source": [
    "def get_uncertainties_all_datasets():\n",
    "    dataset_lst = os.listdir(RULE_FOLDER)\n",
    "    dataset_lst = [i for i in dataset_lst if i not in  [\"gaussian_df_before_fix\", \"wine\"]]\n",
    "    \n",
    "    all_uncs = pd.DataFrame()\n",
    "    for dataset in dataset_lst:\n",
    "        R = ReportGenerator(dataset, num_exps=6)\n",
    "        res = R.get_uncertainty_comparison()\n",
    "        all_uncs = pd.concat([all_uncs, res])\n",
    "        \n",
    "    average_imp = all_uncs[\"improvement\"].mean()\n",
    "    print(average_imp)\n",
    "    return all_uncs"
   ]
  },
  {
   "cell_type": "code",
   "execution_count": 164,
   "metadata": {},
   "outputs": [
    {
     "name": "stderr",
     "output_type": "stream",
     "text": [
      "04-May-24 04:07:54 [INFO] Rules files for path `rules/Brain Tumor` loaded\n",
      "04-May-24 04:07:55 [INFO] Experiments ['dbscan', 'density_no_clustering', 'kmeans', 'means_no_clustering', 'random', 'uniform']\n",
      "04-May-24 04:07:55 [INFO] Results for dataset `Brain Tumor` loaded\n",
      "04-May-24 04:07:55 [INFO] Rules files for path `rules/breast-cancer-wisconsin` loaded\n",
      "04-May-24 04:07:55 [INFO] Experiments ['dbscan', 'density_no_clustering', 'kmeans', 'means_no_clustering', 'random', 'uniform']\n",
      "04-May-24 04:07:55 [INFO] Results for dataset `breast-cancer-wisconsin` loaded\n",
      "04-May-24 04:07:55 [INFO] Rules files for path `rules/gaussian_df` loaded\n",
      "04-May-24 04:07:55 [INFO] Experiments ['dbscan', 'density_no_clustering', 'kmeans', 'means_no_clustering', 'random', 'uniform']\n",
      "04-May-24 04:07:55 [INFO] Results for dataset `gaussian_df` loaded\n",
      "04-May-24 04:07:55 [INFO] Rules files for path `rules/rectangle_df` loaded\n",
      "04-May-24 04:07:55 [INFO] Experiments ['dbscan', 'density_no_clustering', 'kmeans', 'means_no_clustering', 'random', 'uniform']\n",
      "04-May-24 04:07:55 [INFO] Results for dataset `rectangle_df` loaded\n",
      "04-May-24 04:07:55 [INFO] Rules files for path `rules/uniform_df` loaded\n",
      "04-May-24 04:07:55 [INFO] Experiments ['dbscan', 'density_no_clustering', 'kmeans', 'means_no_clustering', 'random', 'uniform']\n",
      "04-May-24 04:07:55 [INFO] Results for dataset `uniform_df` loaded\n"
     ]
    },
    {
     "name": "stdout",
     "output_type": "stream",
     "text": [
      "1.4822753550643566\n"
     ]
    }
   ],
   "source": [
    "df = get_uncertainties_all_datasets()"
   ]
  },
  {
   "cell_type": "code",
   "execution_count": 161,
   "metadata": {},
   "outputs": [
    {
     "data": {
      "text/plain": [
       "<Axes: >"
      ]
     },
     "execution_count": 161,
     "metadata": {},
     "output_type": "execute_result"
    },
    {
     "data": {
      "image/png": "[encoded data removed]",
      "text/plain": [
       "<Figure size 1500x500 with 1 Axes>"
      ]
     },
     "metadata": {},
     "output_type": "display_data"
    }
   ],
   "source": [
    "cols_int = [\"mean_kmeans\", \"mean_uniform\", \"mean_random\", \"mean_means_no_clustering\"]\n",
    "cols_int_median = [\"median_kmeans\", \"median_uniform\", \"median_random\", \"median_means_no_clustering\"]\n",
    "df[cols_int_median].plot(kind=\"bar\", figsize=(15, 5))"
   ]
  },
  {
   "cell_type": "code",
   "execution_count": 59,
   "metadata": {},
   "outputs": [
    {
     "name": "stdout",
     "output_type": "stream",
     "text": [
      "                mean                                                       \\\n",
      "  uncertainty_dbscan uncertainty_density_no_clustering uncertainty_kmeans   \n",
      "0           0.264013                          0.263728           0.252323   \n",
      "\n",
      "                                                                          \\\n",
      "  uncertainty_means_no_clustering uncertainty_random uncertainty_uniform   \n",
      "0                        0.274464           0.336454            0.315156   \n",
      "\n",
      "              median                                                       \\\n",
      "  uncertainty_dbscan uncertainty_density_no_clustering uncertainty_kmeans   \n",
      "0           0.290169                           0.29006            0.25793   \n",
      "\n",
      "                                                                          \n",
      "  uncertainty_means_no_clustering uncertainty_random uncertainty_uniform  \n",
      "0                        0.271403           0.314481            0.312642  \n"
     ]
    },
    {
     "data": {
      "text/html": [
       "<div>\n",
       "<style scoped>\n",
       "    .dataframe tbody tr th:only-of-type {\n",
       "        vertical-align: middle;\n",
       "    }\n",
       "\n",
       "    .dataframe tbody tr th {\n",
       "        vertical-align: top;\n",
       "    }\n",
       "\n",
       "    .dataframe thead th {\n",
       "        text-align: right;\n",
       "    }\n",
       "</style>\n",
       "<table border=\"1\" class=\"dataframe\">\n",
       "  <thead>\n",
       "    <tr style=\"text-align: right;\">\n",
       "      <th></th>\n",
       "      <th>mean_dbscan</th>\n",
       "      <th>mean_clustering</th>\n",
       "      <th>mean_kmeans</th>\n",
       "      <th>mean_clustering</th>\n",
       "      <th>mean_random</th>\n",
       "      <th>mean_uniform</th>\n",
       "      <th>median_dbscan</th>\n",
       "      <th>median_clustering</th>\n",
       "      <th>median_kmeans</th>\n",
       "      <th>median_clustering</th>\n",
       "      <th>median_random</th>\n",
       "      <th>median_uniform</th>\n",
       "    </tr>\n",
       "  </thead>\n",
       "  <tbody>\n",
       "    <tr>\n",
       "      <th>ABC</th>\n",
       "      <td>0.264013</td>\n",
       "      <td>0.263728</td>\n",
       "      <td>0.252323</td>\n",
       "      <td>0.274464</td>\n",
       "      <td>0.336454</td>\n",
       "      <td>0.315156</td>\n",
       "      <td>0.290169</td>\n",
       "      <td>0.29006</td>\n",
       "      <td>0.25793</td>\n",
       "      <td>0.271403</td>\n",
       "      <td>0.314481</td>\n",
       "      <td>0.312642</td>\n",
       "    </tr>\n",
       "  </tbody>\n",
       "</table>\n",
       "</div>"
      ],
      "text/plain": [
       "     mean_dbscan  mean_clustering  mean_kmeans  mean_clustering  mean_random  \\\n",
       "ABC     0.264013         0.263728     0.252323         0.274464     0.336454   \n",
       "\n",
       "     mean_uniform  median_dbscan  median_clustering  median_kmeans  \\\n",
       "ABC      0.315156       0.290169            0.29006        0.25793   \n",
       "\n",
       "     median_clustering  median_random  median_uniform  \n",
       "ABC           0.271403       0.314481        0.312642  "
      ]
     },
     "execution_count": 59,
     "metadata": {},
     "output_type": "execute_result"
    }
   ],
   "source": [
    "# means = R.rules_df[uncertainty_cols].mean()\n",
    "# medians = R.rules_df[uncertainty_cols].median()\n",
    "\n",
    "# mean and median of uncertainty for each experiment\n"
   ]
  },
  {
   "cell_type": "code",
   "execution_count": 60,
   "metadata": {},
   "outputs": [
    {
     "data": {
      "text/plain": [
       "mean    uncertainty_dbscan                   0.264013\n",
       "        uncertainty_density_no_clustering    0.263728\n",
       "        uncertainty_kmeans                   0.252323\n",
       "        uncertainty_means_no_clustering      0.274464\n",
       "        uncertainty_random                   0.336454\n",
       "        uncertainty_uniform                  0.315156\n",
       "median  uncertainty_dbscan                   0.290169\n",
       "        uncertainty_density_no_clustering    0.290060\n",
       "        uncertainty_kmeans                   0.257930\n",
       "        uncertainty_means_no_clustering      0.271403\n",
       "        uncertainty_random                   0.314481\n",
       "        uncertainty_uniform                  0.312642\n",
       "dtype: float64"
      ]
     },
     "execution_count": 60,
     "metadata": {},
     "output_type": "execute_result"
    }
   ],
   "source": [
    "r.stack()"
   ]
  },
  {
   "cell_type": "code",
   "execution_count": 55,
   "metadata": {},
   "outputs": [],
   "source": [
    "# # get mean and median of uncertainties\n",
    "# means = R.rules_df[uncertainty_cols].mean()\n",
    "# medians = R.rules_df[uncertainty_cols].median()\n",
    "\n",
    "# combined_df = pd.concat([means, medians], axis=1)#.rename(columns={0: \"DATASET_NAME\"})\n",
    "\n",
    "# combined_df = combined_df.T  # Transpose to switch rows and columns\n",
    "\n",
    "# # # Rename columns to distinguish means from medians\n",
    "# combined_df.columns = [f'{col}_mean' for col in means.index] + [f'{col}_median' for col in medians.index]\n",
    "\n",
    "# # # Set the index to a single row named 'ABC'\n",
    "# # combined_df.index = ['ABC']\n",
    "\n",
    "# combined_df"
   ]
  },
  {
   "cell_type": "code",
   "execution_count": 36,
   "metadata": {},
   "outputs": [
    {
     "data": {
      "application/vnd.plotly.v1+json": {
       "config": {
        "plotlyServerURL": "https://plot.ly"
       },
       "data": [
        {
         "alignmentgroup": "True",
         "hovertemplate": "variable=training_time<br>exp_name=%{x}<br>value=%{y}<extra></extra>",
         "legendgroup": "training_time",
         "marker": {
          "color": "#636efa",
          "pattern": {
           "shape": ""
          }
         },
         "name": "training_time",
         "offsetgroup": "training_time",
         "orientation": "v",
         "showlegend": true,
         "textposition": "auto",
         "type": "bar",
         "x": [
          "kmeans",
          "dbscan",
          "means_no_clustering",
          "density_no_clustering",
          "random",
          "uniform"
         ],
         "xaxis": "x",
         "y": [
          16.316200971603394,
          16.97569751739502,
          22.62153124809265,
          16.690831422805786,
          40.85445308685303,
          30.02367782592773
         ],
         "yaxis": "y"
        },
        {
         "alignmentgroup": "True",
         "hovertemplate": "variable=accuracy<br>exp_name=%{x}<br>value=%{y}<extra></extra>",
         "legendgroup": "accuracy",
         "marker": {
          "color": "#EF553B",
          "pattern": {
           "shape": ""
          }
         },
         "name": "accuracy",
         "offsetgroup": "accuracy",
         "orientation": "v",
         "showlegend": true,
         "textposition": "auto",
         "type": "bar",
         "x": [
          "kmeans",
          "dbscan",
          "means_no_clustering",
          "density_no_clustering",
          "random",
          "uniform"
         ],
         "xaxis": "x",
         "y": [
          0.9866666666666668,
          0.9866666666666668,
          0.9866666666666668,
          0.9866666666666668,
          0.9666666666666668,
          0.9866666666666668
         ],
         "yaxis": "y"
        },
        {
         "alignmentgroup": "True",
         "hovertemplate": "variable=f1<br>exp_name=%{x}<br>value=%{y}<extra></extra>",
         "legendgroup": "f1",
         "marker": {
          "color": "#00cc96",
          "pattern": {
           "shape": ""
          }
         },
         "name": "f1",
         "offsetgroup": "f1",
         "orientation": "v",
         "showlegend": true,
         "textposition": "auto",
         "type": "bar",
         "x": [
          "kmeans",
          "dbscan",
          "means_no_clustering",
          "density_no_clustering",
          "random",
          "uniform"
         ],
         "xaxis": "x",
         "y": [
          0.9875,
          0.9875,
          0.9875,
          0.9875,
          0.9693251533742332,
          0.9875
         ],
         "yaxis": "y"
        },
        {
         "alignmentgroup": "True",
         "hovertemplate": "variable=min_loss<br>exp_name=%{x}<br>value=%{y}<extra></extra>",
         "legendgroup": "min_loss",
         "marker": {
          "color": "#ab63fa",
          "pattern": {
           "shape": ""
          }
         },
         "name": "min_loss",
         "offsetgroup": "min_loss",
         "orientation": "v",
         "showlegend": true,
         "textposition": "auto",
         "type": "bar",
         "x": [
          "kmeans",
          "dbscan",
          "means_no_clustering",
          "density_no_clustering",
          "random",
          "uniform"
         ],
         "xaxis": "x",
         "y": [
          0.0170542746782302,
          0.0183479879051446,
          0.0204172302037477,
          0.0183285363018512,
          0.0225697606801986,
          0.023795498535037
         ],
         "yaxis": "y"
        },
        {
         "alignmentgroup": "True",
         "hovertemplate": "variable=initial_loss<br>exp_name=%{x}<br>value=%{y}<extra></extra>",
         "legendgroup": "initial_loss",
         "marker": {
          "color": "#FFA15A",
          "pattern": {
           "shape": ""
          }
         },
         "name": "initial_loss",
         "offsetgroup": "initial_loss",
         "orientation": "v",
         "showlegend": true,
         "textposition": "auto",
         "type": "bar",
         "x": [
          "kmeans",
          "dbscan",
          "means_no_clustering",
          "density_no_clustering",
          "random",
          "uniform"
         ],
         "xaxis": "x",
         "y": [
          0.09687478095293045,
          0.10890117287635803,
          0.14798612892627716,
          0.10868692398071289,
          0.26817992329597473,
          0.25
         ],
         "yaxis": "y"
        }
       ],
       "layout": {
        "barmode": "group",
        "legend": {
         "title": {
          "text": "variable"
         },
         "tracegroupgap": 0
        },
        "template": {
         "data": {
          "bar": [
           {
            "error_x": {
             "color": "#2a3f5f"
            },
            "error_y": {
             "color": "#2a3f5f"
            },
            "marker": {
             "line": {
              "color": "#E5ECF6",
              "width": 0.5
             },
             "pattern": {
              "fillmode": "overlay",
              "size": 10,
              "solidity": 0.2
             }
            },
            "type": "bar"
           }
          ],
          "barpolar": [
           {
            "marker": {
             "line": {
              "color": "#E5ECF6",
              "width": 0.5
             },
             "pattern": {
              "fillmode": "overlay",
              "size": 10,
              "solidity": 0.2
             }
            },
            "type": "barpolar"
           }
          ],
          "carpet": [
           {
            "aaxis": {
             "endlinecolor": "#2a3f5f",
             "gridcolor": "white",
             "linecolor": "white",
             "minorgridcolor": "white",
             "startlinecolor": "#2a3f5f"
            },
            "baxis": {
             "endlinecolor": "#2a3f5f",
             "gridcolor": "white",
             "linecolor": "white",
             "minorgridcolor": "white",
             "startlinecolor": "#2a3f5f"
            },
            "type": "carpet"
           }
          ],
          "choropleth": [
           {
            "colorbar": {
             "outlinewidth": 0,
             "ticks": ""
            },
            "type": "choropleth"
           }
          ],
          "contour": [
           {
            "colorbar": {
             "outlinewidth": 0,
             "ticks": ""
            },
            "colorscale": [
             [
              0,
              "#0d0887"
             ],
             [
              0.1111111111111111,
              "#46039f"
             ],
             [
              0.2222222222222222,
              "#7201a8"
             ],
             [
              0.3333333333333333,
              "#9c179e"
             ],
             [
              0.4444444444444444,
              "#bd3786"
             ],
             [
              0.5555555555555556,
              "#d8576b"
             ],
             [
              0.6666666666666666,
              "#ed7953"
             ],
             [
              0.7777777777777778,
              "#fb9f3a"
             ],
             [
              0.8888888888888888,
              "#fdca26"
             ],
             [
              1,
              "#f0f921"
             ]
            ],
            "type": "contour"
           }
          ],
          "contourcarpet": [
           {
            "colorbar": {
             "outlinewidth": 0,
             "ticks": ""
            },
            "type": "contourcarpet"
           }
          ],
          "heatmap": [
           {
            "colorbar": {
             "outlinewidth": 0,
             "ticks": ""
            },
            "colorscale": [
             [
              0,
              "#0d0887"
             ],
             [
              0.1111111111111111,
              "#46039f"
             ],
             [
              0.2222222222222222,
              "#7201a8"
             ],
             [
              0.3333333333333333,
              "#9c179e"
             ],
             [
              0.4444444444444444,
              "#bd3786"
             ],
             [
              0.5555555555555556,
              "#d8576b"
             ],
             [
              0.6666666666666666,
              "#ed7953"
             ],
             [
              0.7777777777777778,
              "#fb9f3a"
             ],
             [
              0.8888888888888888,
              "#fdca26"
             ],
             [
              1,
              "#f0f921"
             ]
            ],
            "type": "heatmap"
           }
          ],
          "heatmapgl": [
           {
            "colorbar": {
             "outlinewidth": 0,
             "ticks": ""
            },
            "colorscale": [
             [
              0,
              "#0d0887"
             ],
             [
              0.1111111111111111,
              "#46039f"
             ],
             [
              0.2222222222222222,
              "#7201a8"
             ],
             [
              0.3333333333333333,
              "#9c179e"
             ],
             [
              0.4444444444444444,
              "#bd3786"
             ],
             [
              0.5555555555555556,
              "#d8576b"
             ],
             [
              0.6666666666666666,
              "#ed7953"
             ],
             [
              0.7777777777777778,
              "#fb9f3a"
             ],
             [
              0.8888888888888888,
              "#fdca26"
             ],
             [
              1,
              "#f0f921"
             ]
            ],
            "type": "heatmapgl"
           }
          ],
          "histogram": [
           {
            "marker": {
             "pattern": {
              "fillmode": "overlay",
              "size": 10,
              "solidity": 0.2
             }
            },
            "type": "histogram"
           }
          ],
          "histogram2d": [
           {
            "colorbar": {
             "outlinewidth": 0,
             "ticks": ""
            },
            "colorscale": [
             [
              0,
              "#0d0887"
             ],
             [
              0.1111111111111111,
              "#46039f"
             ],
             [
              0.2222222222222222,
              "#7201a8"
             ],
             [
              0.3333333333333333,
              "#9c179e"
             ],
             [
              0.4444444444444444,
              "#bd3786"
             ],
             [
              0.5555555555555556,
              "#d8576b"
             ],
             [
              0.6666666666666666,
              "#ed7953"
             ],
             [
              0.7777777777777778,
              "#fb9f3a"
             ],
             [
              0.8888888888888888,
              "#fdca26"
             ],
             [
              1,
              "#f0f921"
             ]
            ],
            "type": "histogram2d"
           }
          ],
          "histogram2dcontour": [
           {
            "colorbar": {
             "outlinewidth": 0,
             "ticks": ""
            },
            "colorscale": [
             [
              0,
              "#0d0887"
             ],
             [
              0.1111111111111111,
              "#46039f"
             ],
             [
              0.2222222222222222,
              "#7201a8"
             ],
             [
              0.3333333333333333,
              "#9c179e"
             ],
             [
              0.4444444444444444,
              "#bd3786"
             ],
             [
              0.5555555555555556,
              "#d8576b"
             ],
             [
              0.6666666666666666,
              "#ed7953"
             ],
             [
              0.7777777777777778,
              "#fb9f3a"
             ],
             [
              0.8888888888888888,
              "#fdca26"
             ],
             [
              1,
              "#f0f921"
             ]
            ],
            "type": "histogram2dcontour"
           }
          ],
          "mesh3d": [
           {
            "colorbar": {
             "outlinewidth": 0,
             "ticks": ""
            },
            "type": "mesh3d"
           }
          ],
          "parcoords": [
           {
            "line": {
             "colorbar": {
              "outlinewidth": 0,
              "ticks": ""
             }
            },
            "type": "parcoords"
           }
          ],
          "pie": [
           {
            "automargin": true,
            "type": "pie"
           }
          ],
          "scatter": [
           {
            "fillpattern": {
             "fillmode": "overlay",
             "size": 10,
             "solidity": 0.2
            },
            "type": "scatter"
           }
          ],
          "scatter3d": [
           {
            "line": {
             "colorbar": {
              "outlinewidth": 0,
              "ticks": ""
             }
            },
            "marker": {
             "colorbar": {
              "outlinewidth": 0,
              "ticks": ""
             }
            },
            "type": "scatter3d"
           }
          ],
          "scattercarpet": [
           {
            "marker": {
             "colorbar": {
              "outlinewidth": 0,
              "ticks": ""
             }
            },
            "type": "scattercarpet"
           }
          ],
          "scattergeo": [
           {
            "marker": {
             "colorbar": {
              "outlinewidth": 0,
              "ticks": ""
             }
            },
            "type": "scattergeo"
           }
          ],
          "scattergl": [
           {
            "marker": {
             "colorbar": {
              "outlinewidth": 0,
              "ticks": ""
             }
            },
            "type": "scattergl"
           }
          ],
          "scattermapbox": [
           {
            "marker": {
             "colorbar": {
              "outlinewidth": 0,
              "ticks": ""
             }
            },
            "type": "scattermapbox"
           }
          ],
          "scatterpolar": [
           {
            "marker": {
             "colorbar": {
              "outlinewidth": 0,
              "ticks": ""
             }
            },
            "type": "scatterpolar"
           }
          ],
          "scatterpolargl": [
           {
            "marker": {
             "colorbar": {
              "outlinewidth": 0,
              "ticks": ""
             }
            },
            "type": "scatterpolargl"
           }
          ],
          "scatterternary": [
           {
            "marker": {
             "colorbar": {
              "outlinewidth": 0,
              "ticks": ""
             }
            },
            "type": "scatterternary"
           }
          ],
          "surface": [
           {
            "colorbar": {
             "outlinewidth": 0,
             "ticks": ""
            },
            "colorscale": [
             [
              0,
              "#0d0887"
             ],
             [
              0.1111111111111111,
              "#46039f"
             ],
             [
              0.2222222222222222,
              "#7201a8"
             ],
             [
              0.3333333333333333,
              "#9c179e"
             ],
             [
              0.4444444444444444,
              "#bd3786"
             ],
             [
              0.5555555555555556,
              "#d8576b"
             ],
             [
              0.6666666666666666,
              "#ed7953"
             ],
             [
              0.7777777777777778,
              "#fb9f3a"
             ],
             [
              0.8888888888888888,
              "#fdca26"
             ],
             [
              1,
              "#f0f921"
             ]
            ],
            "type": "surface"
           }
          ],
          "table": [
           {
            "cells": {
             "fill": {
              "color": "#EBF0F8"
             },
             "line": {
              "color": "white"
             }
            },
            "header": {
             "fill": {
              "color": "#C8D4E3"
             },
             "line": {
              "color": "white"
             }
            },
            "type": "table"
           }
          ]
         },
         "layout": {
          "annotationdefaults": {
           "arrowcolor": "#2a3f5f",
           "arrowhead": 0,
           "arrowwidth": 1
          },
          "autotypenumbers": "strict",
          "coloraxis": {
           "colorbar": {
            "outlinewidth": 0,
            "ticks": ""
           }
          },
          "colorscale": {
           "diverging": [
            [
             0,
             "#8e0152"
            ],
            [
             0.1,
             "#c51b7d"
            ],
            [
             0.2,
             "#de77ae"
            ],
            [
             0.3,
             "#f1b6da"
            ],
            [
             0.4,
             "#fde0ef"
            ],
            [
             0.5,
             "#f7f7f7"
            ],
            [
             0.6,
             "#e6f5d0"
            ],
            [
             0.7,
             "#b8e186"
            ],
            [
             0.8,
             "#7fbc41"
            ],
            [
             0.9,
             "#4d9221"
            ],
            [
             1,
             "#276419"
            ]
           ],
           "sequential": [
            [
             0,
             "#0d0887"
            ],
            [
             0.1111111111111111,
             "#46039f"
            ],
            [
             0.2222222222222222,
             "#7201a8"
            ],
            [
             0.3333333333333333,
             "#9c179e"
            ],
            [
             0.4444444444444444,
             "#bd3786"
            ],
            [
             0.5555555555555556,
             "#d8576b"
            ],
            [
             0.6666666666666666,
             "#ed7953"
            ],
            [
             0.7777777777777778,
             "#fb9f3a"
            ],
            [
             0.8888888888888888,
             "#fdca26"
            ],
            [
             1,
             "#f0f921"
            ]
           ],
           "sequentialminus": [
            [
             0,
             "#0d0887"
            ],
            [
             0.1111111111111111,
             "#46039f"
            ],
            [
             0.2222222222222222,
             "#7201a8"
            ],
            [
             0.3333333333333333,
             "#9c179e"
            ],
            [
             0.4444444444444444,
             "#bd3786"
            ],
            [
             0.5555555555555556,
             "#d8576b"
            ],
            [
             0.6666666666666666,
             "#ed7953"
            ],
            [
             0.7777777777777778,
             "#fb9f3a"
            ],
            [
             0.8888888888888888,
             "#fdca26"
            ],
            [
             1,
             "#f0f921"
            ]
           ]
          },
          "colorway": [
           "#636efa",
           "#EF553B",
           "#00cc96",
           "#ab63fa",
           "#FFA15A",
           "#19d3f3",
           "#FF6692",
           "#B6E880",
           "#FF97FF",
           "#FECB52"
          ],
          "font": {
           "color": "#2a3f5f"
          },
          "geo": {
           "bgcolor": "white",
           "lakecolor": "white",
           "landcolor": "#E5ECF6",
           "showlakes": true,
           "showland": true,
           "subunitcolor": "white"
          },
          "hoverlabel": {
           "align": "left"
          },
          "hovermode": "closest",
          "mapbox": {
           "style": "light"
          },
          "paper_bgcolor": "white",
          "plot_bgcolor": "#E5ECF6",
          "polar": {
           "angularaxis": {
            "gridcolor": "white",
            "linecolor": "white",
            "ticks": ""
           },
           "bgcolor": "#E5ECF6",
           "radialaxis": {
            "gridcolor": "white",
            "linecolor": "white",
            "ticks": ""
           }
          },
          "scene": {
           "xaxis": {
            "backgroundcolor": "#E5ECF6",
            "gridcolor": "white",
            "gridwidth": 2,
            "linecolor": "white",
            "showbackground": true,
            "ticks": "",
            "zerolinecolor": "white"
           },
           "yaxis": {
            "backgroundcolor": "#E5ECF6",
            "gridcolor": "white",
            "gridwidth": 2,
            "linecolor": "white",
            "showbackground": true,
            "ticks": "",
            "zerolinecolor": "white"
           },
           "zaxis": {
            "backgroundcolor": "#E5ECF6",
            "gridcolor": "white",
            "gridwidth": 2,
            "linecolor": "white",
            "showbackground": true,
            "ticks": "",
            "zerolinecolor": "white"
           }
          },
          "shapedefaults": {
           "line": {
            "color": "#2a3f5f"
           }
          },
          "ternary": {
           "aaxis": {
            "gridcolor": "white",
            "linecolor": "white",
            "ticks": ""
           },
           "baxis": {
            "gridcolor": "white",
            "linecolor": "white",
            "ticks": ""
           },
           "bgcolor": "#E5ECF6",
           "caxis": {
            "gridcolor": "white",
            "linecolor": "white",
            "ticks": ""
           }
          },
          "title": {
           "x": 0.05
          },
          "xaxis": {
           "automargin": true,
           "gridcolor": "white",
           "linecolor": "white",
           "ticks": "",
           "title": {
            "standoff": 15
           },
           "zerolinecolor": "white",
           "zerolinewidth": 2
          },
          "yaxis": {
           "automargin": true,
           "gridcolor": "white",
           "linecolor": "white",
           "ticks": "",
           "title": {
            "standoff": 15
           },
           "zerolinecolor": "white",
           "zerolinewidth": 2
          }
         }
        },
        "title": {
         "text": "Metrics for dataset `gaussian_df`"
        },
        "xaxis": {
         "anchor": "y",
         "domain": [
          0,
          1
         ],
         "title": {
          "text": "exp_name"
         }
        },
        "yaxis": {
         "anchor": "x",
         "domain": [
          0,
          1
         ],
         "title": {
          "text": "value"
         }
        }
       }
      }
     },
     "metadata": {},
     "output_type": "display_data"
    }
   ],
   "source": [
    "R.get_bar_plots_res(show=False)"
   ]
  },
  {
   "cell_type": "code",
   "execution_count": 23,
   "metadata": {},
   "outputs": [
    {
     "name": "stdout",
     "output_type": "stream",
     "text": [
      "                                                                                                                               name  \\\n",
      "96                  dataset=Brain Tumor, label_for_dist=labels, clust=kmeans, breaks=3, add_mult_rules=False, maf_method=clustering   \n",
      "97                  dataset=Brain Tumor, label_for_dist=labels, clust=dbscan, breaks=3, add_mult_rules=False, maf_method=clustering   \n",
      "98     dataset=Brain Tumor, label_for_dist=labels, clust=means_no_clustering, breaks=3, add_mult_rules=False, maf_method=clustering   \n",
      "99   dataset=Brain Tumor, label_for_dist=labels, clust=density_no_clustering, breaks=3, add_mult_rules=False, maf_method=clustering   \n",
      "100                       dataset=Brain Tumor, label_for_dist=labels, clust=None, breaks=3, add_mult_rules=False, maf_method=random   \n",
      "101                      dataset=Brain Tumor, label_for_dist=labels, clust=None, breaks=3, add_mult_rules=False, maf_method=uniform   \n",
      "\n",
      "            clustering_alg               exp_name  \n",
      "96                  kmeans                 kmeans  \n",
      "97                  dbscan                 dbscan  \n",
      "98     means_no_clustering    means_no_clustering  \n",
      "99   density_no_clustering  density_no_clustering  \n",
      "100                    NaN                 random  \n",
      "101                    NaN                uniform  \n"
     ]
    }
   ],
   "source": [
    "from pandas import option_context\n",
    "\n",
    "with option_context('display.max_colwidth', 400):\n",
    "    print(R.df_res[[\"name\", \"clustering_alg\", \"exp_name\"]])\n",
    "\n",
    "\n"
   ]
  },
  {
   "cell_type": "markdown",
   "metadata": {},
   "source": []
  },
  {
   "cell_type": "code",
   "execution_count": 82,
   "metadata": {},
   "outputs": [
    {
     "data": {
      "text/html": [
       "<div>\n",
       "<style scoped>\n",
       "    .dataframe tbody tr th:only-of-type {\n",
       "        vertical-align: middle;\n",
       "    }\n",
       "\n",
       "    .dataframe tbody tr th {\n",
       "        vertical-align: top;\n",
       "    }\n",
       "\n",
       "    .dataframe thead th {\n",
       "        text-align: right;\n",
       "    }\n",
       "</style>\n",
       "<table border=\"1\" class=\"dataframe\">\n",
       "  <thead>\n",
       "    <tr style=\"text-align: right;\">\n",
       "      <th></th>\n",
       "      <th>rule</th>\n",
       "      <th>mass_first</th>\n",
       "      <th>mass_second</th>\n",
       "      <th>uncertainty</th>\n",
       "      <th>mass_first_kmeans</th>\n",
       "      <th>mass_second_kmeans</th>\n",
       "      <th>uncertainty_kmeans</th>\n",
       "      <th>mass_first_random</th>\n",
       "      <th>mass_second_random</th>\n",
       "      <th>uncertainty_random</th>\n",
       "      <th>mass_first_uniform</th>\n",
       "      <th>mass_second_uniform</th>\n",
       "      <th>uncertainty_uniform</th>\n",
       "    </tr>\n",
       "  </thead>\n",
       "  <tbody>\n",
       "    <tr>\n",
       "      <th>0</th>\n",
       "      <td>x &lt; 0.321</td>\n",
       "      <td>0.0</td>\n",
       "      <td>0.806145</td>\n",
       "      <td>0.193855</td>\n",
       "      <td>0.0</td>\n",
       "      <td>0.834516</td>\n",
       "      <td>0.165484</td>\n",
       "      <td>0.0</td>\n",
       "      <td>0.717049</td>\n",
       "      <td>0.282951</td>\n",
       "      <td>0.0</td>\n",
       "      <td>0.758178</td>\n",
       "      <td>0.241822</td>\n",
       "    </tr>\n",
       "  </tbody>\n",
       "</table>\n",
       "</div>"
      ],
      "text/plain": [
       "        rule  mass_first  mass_second  uncertainty  mass_first_kmeans  \\\n",
       "0  x < 0.321         0.0     0.806145     0.193855                0.0   \n",
       "\n",
       "   mass_second_kmeans  uncertainty_kmeans  mass_first_random  \\\n",
       "0            0.834516            0.165484                0.0   \n",
       "\n",
       "   mass_second_random  uncertainty_random  mass_first_uniform  \\\n",
       "0            0.717049            0.282951                 0.0   \n",
       "\n",
       "   mass_second_uniform  uncertainty_uniform  \n",
       "0             0.758178             0.241822  "
      ]
     },
     "execution_count": 82,
     "metadata": {},
     "output_type": "execute_result"
    }
   ],
   "source": [
    "merged.head(1)"
   ]
  },
  {
   "cell_type": "code",
   "execution_count": 83,
   "metadata": {},
   "outputs": [
    {
     "data": {
      "text/html": [
       "<div>\n",
       "<style scoped>\n",
       "    .dataframe tbody tr th:only-of-type {\n",
       "        vertical-align: middle;\n",
       "    }\n",
       "\n",
       "    .dataframe tbody tr th {\n",
       "        vertical-align: top;\n",
       "    }\n",
       "\n",
       "    .dataframe thead th {\n",
       "        text-align: right;\n",
       "    }\n",
       "</style>\n",
       "<table border=\"1\" class=\"dataframe\">\n",
       "  <thead>\n",
       "    <tr style=\"text-align: right;\">\n",
       "      <th></th>\n",
       "      <th>rule</th>\n",
       "      <th>mass_first</th>\n",
       "      <th>mass_second</th>\n",
       "      <th>uncertainty</th>\n",
       "      <th>mass_first_kmeans</th>\n",
       "      <th>mass_second_kmeans</th>\n",
       "      <th>uncertainty_kmeans</th>\n",
       "      <th>mass_first_random</th>\n",
       "      <th>mass_second_random</th>\n",
       "      <th>uncertainty_random</th>\n",
       "      <th>mass_first_uniform</th>\n",
       "      <th>mass_second_uniform</th>\n",
       "      <th>uncertainty_uniform</th>\n",
       "    </tr>\n",
       "  </thead>\n",
       "  <tbody>\n",
       "    <tr>\n",
       "      <th>0</th>\n",
       "      <td>x &lt; 0.321</td>\n",
       "      <td>0.0</td>\n",
       "      <td>0.806145</td>\n",
       "      <td>0.193855</td>\n",
       "      <td>0.0</td>\n",
       "      <td>0.834516</td>\n",
       "      <td>0.165484</td>\n",
       "      <td>0.0</td>\n",
       "      <td>0.717049</td>\n",
       "      <td>0.282951</td>\n",
       "      <td>0.0</td>\n",
       "      <td>0.758178</td>\n",
       "      <td>0.241822</td>\n",
       "    </tr>\n",
       "  </tbody>\n",
       "</table>\n",
       "</div>"
      ],
      "text/plain": [
       "        rule  mass_first  mass_second  uncertainty  mass_first_kmeans  \\\n",
       "0  x < 0.321         0.0     0.806145     0.193855                0.0   \n",
       "\n",
       "   mass_second_kmeans  uncertainty_kmeans  mass_first_random  \\\n",
       "0            0.834516            0.165484                0.0   \n",
       "\n",
       "   mass_second_random  uncertainty_random  mass_first_uniform  \\\n",
       "0            0.717049            0.282951                 0.0   \n",
       "\n",
       "   mass_second_uniform  uncertainty_uniform  \n",
       "0             0.758178             0.241822  "
      ]
     },
     "execution_count": 83,
     "metadata": {},
     "output_type": "execute_result"
    }
   ],
   "source": [
    "merged_manual.head(1)"
   ]
  },
  {
   "cell_type": "code",
   "execution_count": null,
   "metadata": {},
   "outputs": [],
   "source": []
  }
 ],
 "metadata": {
  "kernelspec": {
   "display_name": "thesis",
   "language": "python",
   "name": "python3"
  },
  "language_info": {
   "codemirror_mode": {
    "name": "ipython",
    "version": 3
   },
   "file_extension": ".py",
   "mimetype": "text/x-python",
   "name": "python",
   "nbconvert_exporter": "python",
   "pygments_lexer": "ipython3",
   "version": "3.10.14"
  }
 },
 "nbformat": 4,
 "nbformat_minor": 2
}
