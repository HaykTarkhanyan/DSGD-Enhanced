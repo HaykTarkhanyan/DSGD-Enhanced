{
 "cells": [
  {
   "cell_type": "code",
   "execution_count": 16,
   "metadata": {},
   "outputs": [],
   "source": [
    "import os\n",
    "import pickle \n",
    "import numpy as np\n",
    "import pandas as pd\n",
    "\n",
    "import plotly.express as px\n",
    "import matplotlib.pyplot as plt\n",
    "\n",
    "from config import *\n",
    "\n",
    "from functools import reduce \n",
    "\n",
    "import logging\n",
    "logging.basicConfig(level=logging.DEBUG, format=\"%(asctime)s [%(levelname)s] %(message)s\", \n",
    "                    datefmt=\"%d-%b-%y %H:%M:%S\")"
   ]
  },
  {
   "cell_type": "code",
   "execution_count": 49,
   "metadata": {},
   "outputs": [],
   "source": [
    "class ReportGenerator:\n",
    "    def __init__(self, dataset: str, num_exps: int = 6,\n",
    "                 rules_folder: str = RULE_FOLDER, \n",
    "                 results_file: str = \"experiments.csv\", \n",
    "                 res_df_cols_ignore: list = [\"breaks\",\t\"mult_rules\", \t\"confusion_matrix\",\t\"label_for_dist\"]):\n",
    "        \n",
    "        assert os.path.exists(rules_folder), f\"Rules folder `{rules_folder}` does not exist\"\n",
    "        assert os.path.exists(results_file), f\"Results csv file `{results_file}` does not exist\"\n",
    "        \n",
    "        self.dataset = dataset\n",
    "        self.dataset_lst = os.listdir(rules_folder)\n",
    "        assert self.dataset in self.dataset_lst, \\\n",
    "            f\"No rules folder found for dataset `{dataset}` in folder `{rules_folder}`, found {self.dataset_lst}\"\n",
    "        \n",
    "        # ----------------------- Load rules ----------------------- #\n",
    "        self.rules_results_lst = os.listdir(os.path.join(rules_folder, self.dataset))\n",
    "        \n",
    "        assert len(self.rules_results_lst) == num_exps, f\"Expected 4 experiments, found list -> {self.rules_results_lst}\"\n",
    "        self.exp_full_names = [i.split(\".\")[0] for i in self.rules_results_lst]\n",
    "        \n",
    "        self.rules_dict = {}\n",
    "        for exp_rule in self.rules_results_lst:\n",
    "            exp_name = self.get_experiment_name(exp_rule)\n",
    "            \n",
    "            rule_file_name = os.path.join(rules_folder, self.dataset, exp_rule)\n",
    "            rule_pickle = pickle.load(open(rule_file_name, \"rb\"))\n",
    "            rule_dict = self.extract_rule_info(rule_pickle)\n",
    "            self.rules_dict[exp_name] = pd.DataFrame(rule_dict)\n",
    "\n",
    "        \n",
    "        self.rules_df = self.convert_rules_dict_to_df()\n",
    "        self.exp_names = list(self.rules_dict.keys())\n",
    "\n",
    "        logging.info(f\"Rules for dataset `{dataset}` loaded, found experiments {self.exp_names}\")\n",
    "    \n",
    "        # ----------------------- Load df results ----------------------- #\n",
    "        self.res_df_cols_ignore = res_df_cols_ignore\n",
    "        self.res_df = pd.read_csv(results_file, usecols=lambda x: x not in self.res_df_cols_ignore)\n",
    "        self.res_df = self.res_df[self.res_df[\"name\"].isin(self.exp_full_names)].tail(num_exps)\n",
    "        \n",
    "        assert len(self.res_df) == num_exps, f\"Expected 4 experiments, found {len(self.res_df)}\"\n",
    "        \n",
    "        self.res_df[\"exp_name\"] = self.res_df.apply(self.get_experiment_name_for_df, axis=1)\n",
    "        assert set(self.res_df[\"exp_name\"]) == set(self.exp_names), \\\n",
    "            f\"Most likely missing some experiments. Found {set(self.res_df['exp_name'])}, expected {set(self.exp_names)}\"\n",
    "            \n",
    "        self.res_df[\"initial_loss\"] = self.res_df[\"all_losses\"].apply(lambda x: eval(x)[0])\n",
    "        logging.info(f\"Results for dataset `{dataset}` loaded\") \n",
    "    \n",
    "    def get_bar_plots_res(self, ys=[\"training_time\", \"accuracy\", \"f1\", \"min_loss\", \"initial_loss\"], \n",
    "                             show=False):\n",
    "        # get_bar = lambda y\n",
    "        fig = px.bar(self.res_df, x=\"exp_name\", y=ys, \n",
    "                     title=f\"Metrics for dataset `{self.dataset}`\", \n",
    "                     barmode='group')\n",
    "                     # stack next to each other\n",
    "                        \n",
    "        return fig\n",
    "    \n",
    "    \n",
    "    \n",
    "    def convert_rules_dict_to_df(self):\n",
    "        # https://stackoverflow.com/questions/23668427/pandas-three-way-joining-multiple-dataframes-on-columns\n",
    "        dfs_with_suffixes = [(self.rules_dict[exp_name], f\"_{exp_name}\") for exp_name in self.rules_dict]\n",
    "        first_df = dfs_with_suffixes[0][0]\n",
    "        first_df_name = dfs_with_suffixes[0][1]\n",
    "        the_rest_dfs = dfs_with_suffixes[1:]\n",
    "\n",
    "        merge_one = lambda x, y, sfx: pd.merge(x, y, on=['rule'], suffixes=(\"\", sfx))\n",
    "\n",
    "        merged = reduce(lambda left, right: merge_one(left,*right), the_rest_dfs, first_df)\n",
    "        \n",
    "        merged.rename(columns={\"mass_first\": f\"mass_first{first_df_name}\", \n",
    "                                \"mass_second\": f\"mass_second{first_df_name}\",\n",
    "                                \"uncertainty\": f\"uncertainty{first_df_name}\"}, inplace=True)\n",
    "        return merged\n",
    "    \n",
    "    @staticmethod\n",
    "    def extract_rule_info(rules_info):\n",
    "        rules = rules_info[\"preds\"]\n",
    "        mafs = rules_info[\"masses\"]\n",
    "        \n",
    "        rule_names = [str(i) for i in rules]\n",
    "        mass_first = [float(i[0]) for i in mafs]\n",
    "        mass_second = [float(i[1]) for i in mafs]\n",
    "        uncertainty = [float(i[2]) for i in mafs]\n",
    "        \n",
    "        res = {\"rule\": rule_names, \"mass_first\": mass_first, \"mass_second\": mass_second, \"uncertainty\": uncertainty}\n",
    "        return res\n",
    "    \n",
    "    @staticmethod\n",
    "    def get_experiment_name(file_name):\n",
    "        if \"uniform\" in file_name:\n",
    "            return \"uniform\"\n",
    "        elif \"random\" in file_name:\n",
    "            return \"random\"\n",
    "        elif \"means_no_clustering\" in file_name:\n",
    "            return \"means_no_clustering\"\n",
    "        elif \"density_no_clustering\" in file_name:\n",
    "            return \"density_no_clustering\"\n",
    "        elif \"clustering\" in file_name:\n",
    "            if \"kmeans\" in file_name:\n",
    "                return \"kmeans\"\n",
    "            elif \"dbscan\" in file_name:\n",
    "                return \"dbscan\"\n",
    "            \n",
    "    @staticmethod\n",
    "    def get_experiment_name_for_df(df):\n",
    "        if df[\"MAF method\"] != \"clustering\":\n",
    "            return df[\"MAF method\"]\n",
    "        return df[\"clustering_alg\"]"
   ]
  },
  {
   "cell_type": "code",
   "execution_count": 50,
   "metadata": {},
   "outputs": [
    {
     "name": "stderr",
     "output_type": "stream",
     "text": [
      "04-May-24 00:50:40 [INFO] Rules for dataset `Brain Tumor` loaded, found experiments ['dbscan', 'density_no_clustering', 'kmeans', 'means_no_clustering', 'random', 'uniform']\n",
      "04-May-24 00:50:40 [INFO] Results for dataset `Brain Tumor` loaded\n"
     ]
    }
   ],
   "source": [
    "R = ReportGenerator(\"Brain Tumor\", num_exps=6)"
   ]
  },
  {
   "cell_type": "code",
   "execution_count": 51,
   "metadata": {},
   "outputs": [
    {
     "data": {
      "text/html": [
       "<div>\n",
       "<style scoped>\n",
       "    .dataframe tbody tr th:only-of-type {\n",
       "        vertical-align: middle;\n",
       "    }\n",
       "\n",
       "    .dataframe tbody tr th {\n",
       "        vertical-align: top;\n",
       "    }\n",
       "\n",
       "    .dataframe thead th {\n",
       "        text-align: right;\n",
       "    }\n",
       "</style>\n",
       "<table border=\"1\" class=\"dataframe\">\n",
       "  <thead>\n",
       "    <tr style=\"text-align: right;\">\n",
       "      <th></th>\n",
       "      <th>datetime</th>\n",
       "      <th>name</th>\n",
       "      <th>MAF method</th>\n",
       "      <th>dataset</th>\n",
       "      <th>accuracy</th>\n",
       "      <th>f1</th>\n",
       "      <th>training_time</th>\n",
       "      <th>epochs</th>\n",
       "      <th>min_loss</th>\n",
       "      <th>all_losses</th>\n",
       "      <th>clustering_alg</th>\n",
       "      <th>exp_name</th>\n",
       "      <th>initial_loss</th>\n",
       "    </tr>\n",
       "  </thead>\n",
       "  <tbody>\n",
       "    <tr>\n",
       "      <th>96</th>\n",
       "      <td>04-05-2024 00:24:15</td>\n",
       "      <td>dataset=Brain Tumor, label_for_dist=labels, cl...</td>\n",
       "      <td>clustering</td>\n",
       "      <td>Brain Tumor</td>\n",
       "      <td>0.976667</td>\n",
       "      <td>0.951049</td>\n",
       "      <td>11.600965</td>\n",
       "      <td>55</td>\n",
       "      <td>0.011857</td>\n",
       "      <td>[0.033411476761102676, 0.030747447162866592, 0...</td>\n",
       "      <td>kmeans</td>\n",
       "      <td>kmeans</td>\n",
       "      <td>0.033411</td>\n",
       "    </tr>\n",
       "  </tbody>\n",
       "</table>\n",
       "</div>"
      ],
      "text/plain": [
       "               datetime                                               name  \\\n",
       "96  04-05-2024 00:24:15  dataset=Brain Tumor, label_for_dist=labels, cl...   \n",
       "\n",
       "    MAF method      dataset  accuracy        f1  training_time  epochs  \\\n",
       "96  clustering  Brain Tumor  0.976667  0.951049      11.600965      55   \n",
       "\n",
       "    min_loss                                         all_losses  \\\n",
       "96  0.011857  [0.033411476761102676, 0.030747447162866592, 0...   \n",
       "\n",
       "   clustering_alg exp_name  initial_loss  \n",
       "96         kmeans   kmeans      0.033411  "
      ]
     },
     "execution_count": 51,
     "metadata": {},
     "output_type": "execute_result"
    }
   ],
   "source": [
    "R.res_df.head(1)"
   ]
  },
  {
   "cell_type": "code",
   "execution_count": 53,
   "metadata": {},
   "outputs": [
    {
     "data": {
      "application/vnd.plotly.v1+json": {
       "config": {
        "plotlyServerURL": "https://plot.ly"
       },
       "data": [
        {
         "alignmentgroup": "True",
         "hovertemplate": "variable=training_time<br>exp_name=%{x}<br>value=%{y}<extra></extra>",
         "legendgroup": "training_time",
         "marker": {
          "color": "#636efa",
          "pattern": {
           "shape": ""
          }
         },
         "name": "training_time",
         "offsetgroup": "training_time",
         "orientation": "v",
         "showlegend": true,
         "textposition": "auto",
         "type": "bar",
         "x": [
          "kmeans",
          "dbscan",
          "means_no_clustering",
          "density_no_clustering",
          "random",
          "uniform"
         ],
         "xaxis": "x",
         "y": [
          11.60096549987793,
          24.870733976364136,
          21.255319833755493,
          24.686938047409058,
          33.04553842544556,
          31.009318351745605
         ],
         "yaxis": "y"
        },
        {
         "alignmentgroup": "True",
         "hovertemplate": "variable=accuracy<br>exp_name=%{x}<br>value=%{y}<extra></extra>",
         "legendgroup": "accuracy",
         "marker": {
          "color": "#EF553B",
          "pattern": {
           "shape": ""
          }
         },
         "name": "accuracy",
         "offsetgroup": "accuracy",
         "orientation": "v",
         "showlegend": true,
         "textposition": "auto",
         "type": "bar",
         "x": [
          "kmeans",
          "dbscan",
          "means_no_clustering",
          "density_no_clustering",
          "random",
          "uniform"
         ],
         "xaxis": "x",
         "y": [
          0.9766666666666668,
          0.97,
          0.9733333333333334,
          0.97,
          0.97,
          0.97
         ],
         "yaxis": "y"
        },
        {
         "alignmentgroup": "True",
         "hovertemplate": "variable=f1<br>exp_name=%{x}<br>value=%{y}<extra></extra>",
         "legendgroup": "f1",
         "marker": {
          "color": "#00cc96",
          "pattern": {
           "shape": ""
          }
         },
         "name": "f1",
         "offsetgroup": "f1",
         "orientation": "v",
         "showlegend": true,
         "textposition": "auto",
         "type": "bar",
         "x": [
          "kmeans",
          "dbscan",
          "means_no_clustering",
          "density_no_clustering",
          "random",
          "uniform"
         ],
         "xaxis": "x",
         "y": [
          0.951048951048951,
          0.9361702127659576,
          0.943661971830986,
          0.9361702127659576,
          0.9361702127659576,
          0.9361702127659576
         ],
         "yaxis": "y"
        },
        {
         "alignmentgroup": "True",
         "hovertemplate": "variable=min_loss<br>exp_name=%{x}<br>value=%{y}<extra></extra>",
         "legendgroup": "min_loss",
         "marker": {
          "color": "#ab63fa",
          "pattern": {
           "shape": ""
          }
         },
         "name": "min_loss",
         "offsetgroup": "min_loss",
         "orientation": "v",
         "showlegend": true,
         "textposition": "auto",
         "type": "bar",
         "x": [
          "kmeans",
          "dbscan",
          "means_no_clustering",
          "density_no_clustering",
          "random",
          "uniform"
         ],
         "xaxis": "x",
         "y": [
          0.0118566090241074,
          0.0203575752675533,
          0.0199549589306116,
          0.0202961564064025,
          0.0220412611961364,
          0.0190667882561683
         ],
         "yaxis": "y"
        },
        {
         "alignmentgroup": "True",
         "hovertemplate": "variable=initial_loss<br>exp_name=%{x}<br>value=%{y}<extra></extra>",
         "legendgroup": "initial_loss",
         "marker": {
          "color": "#FFA15A",
          "pattern": {
           "shape": ""
          }
         },
         "name": "initial_loss",
         "offsetgroup": "initial_loss",
         "orientation": "v",
         "showlegend": true,
         "textposition": "auto",
         "type": "bar",
         "x": [
          "kmeans",
          "dbscan",
          "means_no_clustering",
          "density_no_clustering",
          "random",
          "uniform"
         ],
         "xaxis": "x",
         "y": [
          0.033411476761102676,
          0.41880348324775696,
          0.36287713050842285,
          0.4197230339050293,
          0.2573738396167755,
          0.25
         ],
         "yaxis": "y"
        }
       ],
       "layout": {
        "barmode": "group",
        "legend": {
         "title": {
          "text": "variable"
         },
         "tracegroupgap": 0
        },
        "template": {
         "data": {
          "bar": [
           {
            "error_x": {
             "color": "#2a3f5f"
            },
            "error_y": {
             "color": "#2a3f5f"
            },
            "marker": {
             "line": {
              "color": "#E5ECF6",
              "width": 0.5
             },
             "pattern": {
              "fillmode": "overlay",
              "size": 10,
              "solidity": 0.2
             }
            },
            "type": "bar"
           }
          ],
          "barpolar": [
           {
            "marker": {
             "line": {
              "color": "#E5ECF6",
              "width": 0.5
             },
             "pattern": {
              "fillmode": "overlay",
              "size": 10,
              "solidity": 0.2
             }
            },
            "type": "barpolar"
           }
          ],
          "carpet": [
           {
            "aaxis": {
             "endlinecolor": "#2a3f5f",
             "gridcolor": "white",
             "linecolor": "white",
             "minorgridcolor": "white",
             "startlinecolor": "#2a3f5f"
            },
            "baxis": {
             "endlinecolor": "#2a3f5f",
             "gridcolor": "white",
             "linecolor": "white",
             "minorgridcolor": "white",
             "startlinecolor": "#2a3f5f"
            },
            "type": "carpet"
           }
          ],
          "choropleth": [
           {
            "colorbar": {
             "outlinewidth": 0,
             "ticks": ""
            },
            "type": "choropleth"
           }
          ],
          "contour": [
           {
            "colorbar": {
             "outlinewidth": 0,
             "ticks": ""
            },
            "colorscale": [
             [
              0,
              "#0d0887"
             ],
             [
              0.1111111111111111,
              "#46039f"
             ],
             [
              0.2222222222222222,
              "#7201a8"
             ],
             [
              0.3333333333333333,
              "#9c179e"
             ],
             [
              0.4444444444444444,
              "#bd3786"
             ],
             [
              0.5555555555555556,
              "#d8576b"
             ],
             [
              0.6666666666666666,
              "#ed7953"
             ],
             [
              0.7777777777777778,
              "#fb9f3a"
             ],
             [
              0.8888888888888888,
              "#fdca26"
             ],
             [
              1,
              "#f0f921"
             ]
            ],
            "type": "contour"
           }
          ],
          "contourcarpet": [
           {
            "colorbar": {
             "outlinewidth": 0,
             "ticks": ""
            },
            "type": "contourcarpet"
           }
          ],
          "heatmap": [
           {
            "colorbar": {
             "outlinewidth": 0,
             "ticks": ""
            },
            "colorscale": [
             [
              0,
              "#0d0887"
             ],
             [
              0.1111111111111111,
              "#46039f"
             ],
             [
              0.2222222222222222,
              "#7201a8"
             ],
             [
              0.3333333333333333,
              "#9c179e"
             ],
             [
              0.4444444444444444,
              "#bd3786"
             ],
             [
              0.5555555555555556,
              "#d8576b"
             ],
             [
              0.6666666666666666,
              "#ed7953"
             ],
             [
              0.7777777777777778,
              "#fb9f3a"
             ],
             [
              0.8888888888888888,
              "#fdca26"
             ],
             [
              1,
              "#f0f921"
             ]
            ],
            "type": "heatmap"
           }
          ],
          "heatmapgl": [
           {
            "colorbar": {
             "outlinewidth": 0,
             "ticks": ""
            },
            "colorscale": [
             [
              0,
              "#0d0887"
             ],
             [
              0.1111111111111111,
              "#46039f"
             ],
             [
              0.2222222222222222,
              "#7201a8"
             ],
             [
              0.3333333333333333,
              "#9c179e"
             ],
             [
              0.4444444444444444,
              "#bd3786"
             ],
             [
              0.5555555555555556,
              "#d8576b"
             ],
             [
              0.6666666666666666,
              "#ed7953"
             ],
             [
              0.7777777777777778,
              "#fb9f3a"
             ],
             [
              0.8888888888888888,
              "#fdca26"
             ],
             [
              1,
              "#f0f921"
             ]
            ],
            "type": "heatmapgl"
           }
          ],
          "histogram": [
           {
            "marker": {
             "pattern": {
              "fillmode": "overlay",
              "size": 10,
              "solidity": 0.2
             }
            },
            "type": "histogram"
           }
          ],
          "histogram2d": [
           {
            "colorbar": {
             "outlinewidth": 0,
             "ticks": ""
            },
            "colorscale": [
             [
              0,
              "#0d0887"
             ],
             [
              0.1111111111111111,
              "#46039f"
             ],
             [
              0.2222222222222222,
              "#7201a8"
             ],
             [
              0.3333333333333333,
              "#9c179e"
             ],
             [
              0.4444444444444444,
              "#bd3786"
             ],
             [
              0.5555555555555556,
              "#d8576b"
             ],
             [
              0.6666666666666666,
              "#ed7953"
             ],
             [
              0.7777777777777778,
              "#fb9f3a"
             ],
             [
              0.8888888888888888,
              "#fdca26"
             ],
             [
              1,
              "#f0f921"
             ]
            ],
            "type": "histogram2d"
           }
          ],
          "histogram2dcontour": [
           {
            "colorbar": {
             "outlinewidth": 0,
             "ticks": ""
            },
            "colorscale": [
             [
              0,
              "#0d0887"
             ],
             [
              0.1111111111111111,
              "#46039f"
             ],
             [
              0.2222222222222222,
              "#7201a8"
             ],
             [
              0.3333333333333333,
              "#9c179e"
             ],
             [
              0.4444444444444444,
              "#bd3786"
             ],
             [
              0.5555555555555556,
              "#d8576b"
             ],
             [
              0.6666666666666666,
              "#ed7953"
             ],
             [
              0.7777777777777778,
              "#fb9f3a"
             ],
             [
              0.8888888888888888,
              "#fdca26"
             ],
             [
              1,
              "#f0f921"
             ]
            ],
            "type": "histogram2dcontour"
           }
          ],
          "mesh3d": [
           {
            "colorbar": {
             "outlinewidth": 0,
             "ticks": ""
            },
            "type": "mesh3d"
           }
          ],
          "parcoords": [
           {
            "line": {
             "colorbar": {
              "outlinewidth": 0,
              "ticks": ""
             }
            },
            "type": "parcoords"
           }
          ],
          "pie": [
           {
            "automargin": true,
            "type": "pie"
           }
          ],
          "scatter": [
           {
            "fillpattern": {
             "fillmode": "overlay",
             "size": 10,
             "solidity": 0.2
            },
            "type": "scatter"
           }
          ],
          "scatter3d": [
           {
            "line": {
             "colorbar": {
              "outlinewidth": 0,
              "ticks": ""
             }
            },
            "marker": {
             "colorbar": {
              "outlinewidth": 0,
              "ticks": ""
             }
            },
            "type": "scatter3d"
           }
          ],
          "scattercarpet": [
           {
            "marker": {
             "colorbar": {
              "outlinewidth": 0,
              "ticks": ""
             }
            },
            "type": "scattercarpet"
           }
          ],
          "scattergeo": [
           {
            "marker": {
             "colorbar": {
              "outlinewidth": 0,
              "ticks": ""
             }
            },
            "type": "scattergeo"
           }
          ],
          "scattergl": [
           {
            "marker": {
             "colorbar": {
              "outlinewidth": 0,
              "ticks": ""
             }
            },
            "type": "scattergl"
           }
          ],
          "scattermapbox": [
           {
            "marker": {
             "colorbar": {
              "outlinewidth": 0,
              "ticks": ""
             }
            },
            "type": "scattermapbox"
           }
          ],
          "scatterpolar": [
           {
            "marker": {
             "colorbar": {
              "outlinewidth": 0,
              "ticks": ""
             }
            },
            "type": "scatterpolar"
           }
          ],
          "scatterpolargl": [
           {
            "marker": {
             "colorbar": {
              "outlinewidth": 0,
              "ticks": ""
             }
            },
            "type": "scatterpolargl"
           }
          ],
          "scatterternary": [
           {
            "marker": {
             "colorbar": {
              "outlinewidth": 0,
              "ticks": ""
             }
            },
            "type": "scatterternary"
           }
          ],
          "surface": [
           {
            "colorbar": {
             "outlinewidth": 0,
             "ticks": ""
            },
            "colorscale": [
             [
              0,
              "#0d0887"
             ],
             [
              0.1111111111111111,
              "#46039f"
             ],
             [
              0.2222222222222222,
              "#7201a8"
             ],
             [
              0.3333333333333333,
              "#9c179e"
             ],
             [
              0.4444444444444444,
              "#bd3786"
             ],
             [
              0.5555555555555556,
              "#d8576b"
             ],
             [
              0.6666666666666666,
              "#ed7953"
             ],
             [
              0.7777777777777778,
              "#fb9f3a"
             ],
             [
              0.8888888888888888,
              "#fdca26"
             ],
             [
              1,
              "#f0f921"
             ]
            ],
            "type": "surface"
           }
          ],
          "table": [
           {
            "cells": {
             "fill": {
              "color": "#EBF0F8"
             },
             "line": {
              "color": "white"
             }
            },
            "header": {
             "fill": {
              "color": "#C8D4E3"
             },
             "line": {
              "color": "white"
             }
            },
            "type": "table"
           }
          ]
         },
         "layout": {
          "annotationdefaults": {
           "arrowcolor": "#2a3f5f",
           "arrowhead": 0,
           "arrowwidth": 1
          },
          "autotypenumbers": "strict",
          "coloraxis": {
           "colorbar": {
            "outlinewidth": 0,
            "ticks": ""
           }
          },
          "colorscale": {
           "diverging": [
            [
             0,
             "#8e0152"
            ],
            [
             0.1,
             "#c51b7d"
            ],
            [
             0.2,
             "#de77ae"
            ],
            [
             0.3,
             "#f1b6da"
            ],
            [
             0.4,
             "#fde0ef"
            ],
            [
             0.5,
             "#f7f7f7"
            ],
            [
             0.6,
             "#e6f5d0"
            ],
            [
             0.7,
             "#b8e186"
            ],
            [
             0.8,
             "#7fbc41"
            ],
            [
             0.9,
             "#4d9221"
            ],
            [
             1,
             "#276419"
            ]
           ],
           "sequential": [
            [
             0,
             "#0d0887"
            ],
            [
             0.1111111111111111,
             "#46039f"
            ],
            [
             0.2222222222222222,
             "#7201a8"
            ],
            [
             0.3333333333333333,
             "#9c179e"
            ],
            [
             0.4444444444444444,
             "#bd3786"
            ],
            [
             0.5555555555555556,
             "#d8576b"
            ],
            [
             0.6666666666666666,
             "#ed7953"
            ],
            [
             0.7777777777777778,
             "#fb9f3a"
            ],
            [
             0.8888888888888888,
             "#fdca26"
            ],
            [
             1,
             "#f0f921"
            ]
           ],
           "sequentialminus": [
            [
             0,
             "#0d0887"
            ],
            [
             0.1111111111111111,
             "#46039f"
            ],
            [
             0.2222222222222222,
             "#7201a8"
            ],
            [
             0.3333333333333333,
             "#9c179e"
            ],
            [
             0.4444444444444444,
             "#bd3786"
            ],
            [
             0.5555555555555556,
             "#d8576b"
            ],
            [
             0.6666666666666666,
             "#ed7953"
            ],
            [
             0.7777777777777778,
             "#fb9f3a"
            ],
            [
             0.8888888888888888,
             "#fdca26"
            ],
            [
             1,
             "#f0f921"
            ]
           ]
          },
          "colorway": [
           "#636efa",
           "#EF553B",
           "#00cc96",
           "#ab63fa",
           "#FFA15A",
           "#19d3f3",
           "#FF6692",
           "#B6E880",
           "#FF97FF",
           "#FECB52"
          ],
          "font": {
           "color": "#2a3f5f"
          },
          "geo": {
           "bgcolor": "white",
           "lakecolor": "white",
           "landcolor": "#E5ECF6",
           "showlakes": true,
           "showland": true,
           "subunitcolor": "white"
          },
          "hoverlabel": {
           "align": "left"
          },
          "hovermode": "closest",
          "mapbox": {
           "style": "light"
          },
          "paper_bgcolor": "white",
          "plot_bgcolor": "#E5ECF6",
          "polar": {
           "angularaxis": {
            "gridcolor": "white",
            "linecolor": "white",
            "ticks": ""
           },
           "bgcolor": "#E5ECF6",
           "radialaxis": {
            "gridcolor": "white",
            "linecolor": "white",
            "ticks": ""
           }
          },
          "scene": {
           "xaxis": {
            "backgroundcolor": "#E5ECF6",
            "gridcolor": "white",
            "gridwidth": 2,
            "linecolor": "white",
            "showbackground": true,
            "ticks": "",
            "zerolinecolor": "white"
           },
           "yaxis": {
            "backgroundcolor": "#E5ECF6",
            "gridcolor": "white",
            "gridwidth": 2,
            "linecolor": "white",
            "showbackground": true,
            "ticks": "",
            "zerolinecolor": "white"
           },
           "zaxis": {
            "backgroundcolor": "#E5ECF6",
            "gridcolor": "white",
            "gridwidth": 2,
            "linecolor": "white",
            "showbackground": true,
            "ticks": "",
            "zerolinecolor": "white"
           }
          },
          "shapedefaults": {
           "line": {
            "color": "#2a3f5f"
           }
          },
          "ternary": {
           "aaxis": {
            "gridcolor": "white",
            "linecolor": "white",
            "ticks": ""
           },
           "baxis": {
            "gridcolor": "white",
            "linecolor": "white",
            "ticks": ""
           },
           "bgcolor": "#E5ECF6",
           "caxis": {
            "gridcolor": "white",
            "linecolor": "white",
            "ticks": ""
           }
          },
          "title": {
           "x": 0.05
          },
          "xaxis": {
           "automargin": true,
           "gridcolor": "white",
           "linecolor": "white",
           "ticks": "",
           "title": {
            "standoff": 15
           },
           "zerolinecolor": "white",
           "zerolinewidth": 2
          },
          "yaxis": {
           "automargin": true,
           "gridcolor": "white",
           "linecolor": "white",
           "ticks": "",
           "title": {
            "standoff": 15
           },
           "zerolinecolor": "white",
           "zerolinewidth": 2
          }
         }
        },
        "title": {
         "text": "Metrics for dataset `Brain Tumor`"
        },
        "xaxis": {
         "anchor": "y",
         "domain": [
          0,
          1
         ],
         "title": {
          "text": "exp_name"
         }
        },
        "yaxis": {
         "anchor": "x",
         "domain": [
          0,
          1
         ],
         "title": {
          "text": "value"
         }
        }
       }
      }
     },
     "metadata": {},
     "output_type": "display_data"
    }
   ],
   "source": [
    "R.get_bar_plots_res(show=False)"
   ]
  },
  {
   "cell_type": "code",
   "execution_count": 23,
   "metadata": {},
   "outputs": [
    {
     "name": "stdout",
     "output_type": "stream",
     "text": [
      "                                                                                                                               name  \\\n",
      "96                  dataset=Brain Tumor, label_for_dist=labels, clust=kmeans, breaks=3, add_mult_rules=False, maf_method=clustering   \n",
      "97                  dataset=Brain Tumor, label_for_dist=labels, clust=dbscan, breaks=3, add_mult_rules=False, maf_method=clustering   \n",
      "98     dataset=Brain Tumor, label_for_dist=labels, clust=means_no_clustering, breaks=3, add_mult_rules=False, maf_method=clustering   \n",
      "99   dataset=Brain Tumor, label_for_dist=labels, clust=density_no_clustering, breaks=3, add_mult_rules=False, maf_method=clustering   \n",
      "100                       dataset=Brain Tumor, label_for_dist=labels, clust=None, breaks=3, add_mult_rules=False, maf_method=random   \n",
      "101                      dataset=Brain Tumor, label_for_dist=labels, clust=None, breaks=3, add_mult_rules=False, maf_method=uniform   \n",
      "\n",
      "            clustering_alg               exp_name  \n",
      "96                  kmeans                 kmeans  \n",
      "97                  dbscan                 dbscan  \n",
      "98     means_no_clustering    means_no_clustering  \n",
      "99   density_no_clustering  density_no_clustering  \n",
      "100                    NaN                 random  \n",
      "101                    NaN                uniform  \n"
     ]
    }
   ],
   "source": [
    "from pandas import option_context\n",
    "\n",
    "with option_context('display.max_colwidth', 400):\n",
    "    print(R.df_res[[\"name\", \"clustering_alg\", \"exp_name\"]])\n",
    "\n",
    "\n"
   ]
  },
  {
   "cell_type": "markdown",
   "metadata": {},
   "source": []
  },
  {
   "cell_type": "code",
   "execution_count": 82,
   "metadata": {},
   "outputs": [
    {
     "data": {
      "text/html": [
       "<div>\n",
       "<style scoped>\n",
       "    .dataframe tbody tr th:only-of-type {\n",
       "        vertical-align: middle;\n",
       "    }\n",
       "\n",
       "    .dataframe tbody tr th {\n",
       "        vertical-align: top;\n",
       "    }\n",
       "\n",
       "    .dataframe thead th {\n",
       "        text-align: right;\n",
       "    }\n",
       "</style>\n",
       "<table border=\"1\" class=\"dataframe\">\n",
       "  <thead>\n",
       "    <tr style=\"text-align: right;\">\n",
       "      <th></th>\n",
       "      <th>rule</th>\n",
       "      <th>mass_first</th>\n",
       "      <th>mass_second</th>\n",
       "      <th>uncertainty</th>\n",
       "      <th>mass_first_kmeans</th>\n",
       "      <th>mass_second_kmeans</th>\n",
       "      <th>uncertainty_kmeans</th>\n",
       "      <th>mass_first_random</th>\n",
       "      <th>mass_second_random</th>\n",
       "      <th>uncertainty_random</th>\n",
       "      <th>mass_first_uniform</th>\n",
       "      <th>mass_second_uniform</th>\n",
       "      <th>uncertainty_uniform</th>\n",
       "    </tr>\n",
       "  </thead>\n",
       "  <tbody>\n",
       "    <tr>\n",
       "      <th>0</th>\n",
       "      <td>x &lt; 0.321</td>\n",
       "      <td>0.0</td>\n",
       "      <td>0.806145</td>\n",
       "      <td>0.193855</td>\n",
       "      <td>0.0</td>\n",
       "      <td>0.834516</td>\n",
       "      <td>0.165484</td>\n",
       "      <td>0.0</td>\n",
       "      <td>0.717049</td>\n",
       "      <td>0.282951</td>\n",
       "      <td>0.0</td>\n",
       "      <td>0.758178</td>\n",
       "      <td>0.241822</td>\n",
       "    </tr>\n",
       "  </tbody>\n",
       "</table>\n",
       "</div>"
      ],
      "text/plain": [
       "        rule  mass_first  mass_second  uncertainty  mass_first_kmeans  \\\n",
       "0  x < 0.321         0.0     0.806145     0.193855                0.0   \n",
       "\n",
       "   mass_second_kmeans  uncertainty_kmeans  mass_first_random  \\\n",
       "0            0.834516            0.165484                0.0   \n",
       "\n",
       "   mass_second_random  uncertainty_random  mass_first_uniform  \\\n",
       "0            0.717049            0.282951                 0.0   \n",
       "\n",
       "   mass_second_uniform  uncertainty_uniform  \n",
       "0             0.758178             0.241822  "
      ]
     },
     "execution_count": 82,
     "metadata": {},
     "output_type": "execute_result"
    }
   ],
   "source": [
    "merged.head(1)"
   ]
  },
  {
   "cell_type": "code",
   "execution_count": 83,
   "metadata": {},
   "outputs": [
    {
     "data": {
      "text/html": [
       "<div>\n",
       "<style scoped>\n",
       "    .dataframe tbody tr th:only-of-type {\n",
       "        vertical-align: middle;\n",
       "    }\n",
       "\n",
       "    .dataframe tbody tr th {\n",
       "        vertical-align: top;\n",
       "    }\n",
       "\n",
       "    .dataframe thead th {\n",
       "        text-align: right;\n",
       "    }\n",
       "</style>\n",
       "<table border=\"1\" class=\"dataframe\">\n",
       "  <thead>\n",
       "    <tr style=\"text-align: right;\">\n",
       "      <th></th>\n",
       "      <th>rule</th>\n",
       "      <th>mass_first</th>\n",
       "      <th>mass_second</th>\n",
       "      <th>uncertainty</th>\n",
       "      <th>mass_first_kmeans</th>\n",
       "      <th>mass_second_kmeans</th>\n",
       "      <th>uncertainty_kmeans</th>\n",
       "      <th>mass_first_random</th>\n",
       "      <th>mass_second_random</th>\n",
       "      <th>uncertainty_random</th>\n",
       "      <th>mass_first_uniform</th>\n",
       "      <th>mass_second_uniform</th>\n",
       "      <th>uncertainty_uniform</th>\n",
       "    </tr>\n",
       "  </thead>\n",
       "  <tbody>\n",
       "    <tr>\n",
       "      <th>0</th>\n",
       "      <td>x &lt; 0.321</td>\n",
       "      <td>0.0</td>\n",
       "      <td>0.806145</td>\n",
       "      <td>0.193855</td>\n",
       "      <td>0.0</td>\n",
       "      <td>0.834516</td>\n",
       "      <td>0.165484</td>\n",
       "      <td>0.0</td>\n",
       "      <td>0.717049</td>\n",
       "      <td>0.282951</td>\n",
       "      <td>0.0</td>\n",
       "      <td>0.758178</td>\n",
       "      <td>0.241822</td>\n",
       "    </tr>\n",
       "  </tbody>\n",
       "</table>\n",
       "</div>"
      ],
      "text/plain": [
       "        rule  mass_first  mass_second  uncertainty  mass_first_kmeans  \\\n",
       "0  x < 0.321         0.0     0.806145     0.193855                0.0   \n",
       "\n",
       "   mass_second_kmeans  uncertainty_kmeans  mass_first_random  \\\n",
       "0            0.834516            0.165484                0.0   \n",
       "\n",
       "   mass_second_random  uncertainty_random  mass_first_uniform  \\\n",
       "0            0.717049            0.282951                 0.0   \n",
       "\n",
       "   mass_second_uniform  uncertainty_uniform  \n",
       "0             0.758178             0.241822  "
      ]
     },
     "execution_count": 83,
     "metadata": {},
     "output_type": "execute_result"
    }
   ],
   "source": [
    "merged_manual.head(1)"
   ]
  },
  {
   "cell_type": "code",
   "execution_count": null,
   "metadata": {},
   "outputs": [],
   "source": []
  }
 ],
 "metadata": {
  "kernelspec": {
   "display_name": "thesis",
   "language": "python",
   "name": "python3"
  },
  "language_info": {
   "codemirror_mode": {
    "name": "ipython",
    "version": 3
   },
   "file_extension": ".py",
   "mimetype": "text/x-python",
   "name": "python",
   "nbconvert_exporter": "python",
   "pygments_lexer": "ipython3",
   "version": "3.10.14"
  }
 },
 "nbformat": 4,
 "nbformat_minor": 2
}
