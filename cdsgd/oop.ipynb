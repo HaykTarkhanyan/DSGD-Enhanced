{
 "cells": [
  {
   "cell_type": "code",
   "execution_count": 1,
   "metadata": {},
   "outputs": [
    {
     "name": "stderr",
     "output_type": "stream",
     "text": [
      "c:\\Users\\hayk_\\.conda\\envs\\thesis\\lib\\site-packages\\tqdm\\auto.py:21: TqdmWarning: IProgress not found. Please update jupyter and ipywidgets. See https://ipywidgets.readthedocs.io/en/stable/user_install.html\n",
      "  from .autonotebook import tqdm as notebook_tqdm\n"
     ]
    }
   ],
   "source": [
    "from DSEnhanced import DSEnhanced\n",
    "from config import *\n",
    "import os"
   ]
  },
  {
   "cell_type": "code",
   "execution_count": 2,
   "metadata": {},
   "outputs": [],
   "source": [
    "# os.listdir(DATASET_FOLDER)"
   ]
  },
  {
   "cell_type": "code",
   "execution_count": 3,
   "metadata": {},
   "outputs": [
    {
     "name": "stderr",
     "output_type": "stream",
     "text": [
      "24-05-03 23:18:51 [INFO] Methods list: ['clustering']\n",
      "24-05-03 23:18:51 [INFO] Found 6 datasets\n",
      "24-05-03 23:18:51 [INFO] Using the first dataset: Brain Tumor.csv\n",
      "24-05-03 23:18:51 [DEBUG] Dataset: Brain Tumor | Shape: (100, 14)\n",
      "24-05-03 23:18:51 [DEBUG] (100, 14) - dropped columns with more than 20% missing values\n",
      "24-05-03 23:18:51 [DEBUG] (100, 14) - drop rows with missing values\n",
      "24-05-03 23:18:51 [DEBUG] (100, 14) drop non-numeric columns\n",
      "24-05-03 23:18:51 [INFO] ------ Dataset: Brain Tumor | Shape: (100, 14) | Label ratio: 0.64 -------\n",
      "24-05-03 23:18:51 [INFO] Step 0: Data split done | 70 - 30\n",
      "24-05-03 23:18:51 [INFO] ----------- Running clustering method -----------\n",
      "24-05-03 23:18:51 [DEBUG] Step 1: Standard scaling complete\n",
      "24-05-03 23:18:51 [INFO] ----------- Running kmeans clustering -----------\n",
      "24-05-03 23:18:51 [INFO] Step 2.1: Performing kmeans clustering\n",
      "Exception in thread Thread-6 (_readerthread):\n",
      "Traceback (most recent call last):\n",
      "  File \"c:\\Users\\hayk_\\.conda\\envs\\thesis\\lib\\threading.py\", line 1016, in _bootstrap_inner\n",
      "    self.run()\n",
      "  File \"c:\\Users\\hayk_\\.conda\\envs\\thesis\\lib\\threading.py\", line 953, in run\n",
      "    self._target(*self._args, **self._kwargs)\n",
      "  File \"c:\\Users\\hayk_\\.conda\\envs\\thesis\\lib\\subprocess.py\", line 1515, in _readerthread\n",
      "    buffer.append(fh.read())\n",
      "  File \"c:\\Users\\hayk_\\.conda\\envs\\thesis\\lib\\codecs.py\", line 322, in decode\n",
      "    (result, consumed) = self._buffer_decode(data, self.errors, final)\n",
      "UnicodeDecodeError: 'utf-8' codec can't decode byte 0x81 in position 3: invalid start byte\n",
      "  File \"c:\\Users\\hayk_\\.conda\\envs\\thesis\\lib\\site-packages\\joblib\\externals\\loky\\backend\\context.py\", line 282, in _count_physical_cores\n",
      "    raise ValueError(f\"found {cpu_count_physical} physical cores < 1\")\n",
      "24-05-03 23:18:52 [INFO] Step 2.1: Clustering and inference done\n",
      "24-05-03 23:18:52 [INFO] Step 2.2: Evaluate clustering\n",
      "24-05-03 23:18:52 [DEBUG] Evaluation on train\n",
      "24-05-03 23:18:52 [DEBUG] \tsilhouette = 0.374\n",
      "24-05-03 23:18:52 [DEBUG] \tcalinski_harabasz = 28.968\n",
      "24-05-03 23:18:52 [DEBUG] \tinertia = 600.122\n",
      "24-05-03 23:18:52 [DEBUG] Evaluation on test\n",
      "24-05-03 23:18:52 [DEBUG] \tsilhouette = 0.367\n",
      "24-05-03 23:18:52 [DEBUG] \tcalinski_harabasz = 23.247\n",
      "24-05-03 23:18:52 [INFO] Step 2.2: Clustering evaluation done\n",
      "24-05-03 23:18:52 [DEBUG] Evaluation on train\n",
      "24-05-03 23:18:52 [DEBUG] \tAccuracy:  0.96\n",
      "24-05-03 23:18:52 [DEBUG] \tF1 Score: 0.94\n",
      "24-05-03 23:18:52 [DEBUG] \tConfusion Matrix: \n",
      "[[45  1]\n",
      " [ 2 22]]\n",
      "24-05-03 23:18:52 [DEBUG] Evaluation on test\n",
      "24-05-03 23:18:52 [DEBUG] \tAccuracy:  1.00\n",
      "24-05-03 23:18:52 [DEBUG] \tF1 Score: 1.00\n",
      "24-05-03 23:18:52 [DEBUG] \tConfusion Matrix: \n",
      "[[18  0]\n",
      " [ 0 12]]\n",
      "24-05-03 23:18:52 [INFO] Step 3: Clustering as a classifier, evaluation done\n",
      "24-05-03 23:18:52 [INFO] Step 4: Opacity calculation done\n",
      "24-05-03 23:18:52 [DEBUG] Train: 70\n",
      "24-05-03 23:18:52 [INFO] Step 5: Run DST (dataset=Brain Tumor, label_for_dist=labels, clust=kmeans, breaks=3, add_mult_rules=False, maf_method=clustering)\n",
      "24-05-03 23:18:52 [DEBUG] \tModel init done\n"
     ]
    },
    {
     "name": "stdout",
     "output_type": "stream",
     "text": [
      "Optimization started\n",
      "Processing epoch\t35\t0.0026\t"
     ]
    },
    {
     "name": "stderr",
     "output_type": "stream",
     "text": [
      "24-05-03 23:18:54 [DEBUG] \tModel fit done\n",
      "24-05-03 23:18:54 [INFO] Step 6: Inference done\n",
      "24-05-03 23:18:54 [DEBUG] Training Time: 1.72s\n",
      "24-05-03 23:18:54 [DEBUG] Epochs: 37\n",
      "24-05-03 23:18:54 [DEBUG] Min Loss: 0.002\n",
      "24-05-03 23:18:54 [DEBUG] Loaded backend module://matplotlib_inline.backend_inline version unknown.\n",
      "24-05-03 23:18:54 [DEBUG] Loaded backend module://matplotlib_inline.backend_inline version unknown.\n"
     ]
    },
    {
     "name": "stdout",
     "output_type": "stream",
     "text": [
      "Processing epoch\t37\t0.0024\t\n",
      "Training time: 1.72s, epochs: 37\n",
      "\n",
      "Least training loss reached: 0.002\n",
      "DSModelMultiQ(\n",
      "  DS Classifier using 49 rules\n",
      "  \n",
      "  Rule 1: Mean < 4.463\n",
      "  \tC1: 0.225\tC2: 0.429\tUnc: 0.347\n",
      "  \n",
      "  Rule 2: 4.463 < Mean < 8.260\n",
      "  \tC1: 0.397\tC2: 0.298\tUnc: 0.305\n",
      "  \n",
      "  Rule 3: 8.260 < Mean < 12.057\n",
      "  \tC1: 0.379\tC2: 0.316\tUnc: 0.306\n",
      "  \n",
      "  Rule 4: Mean > 12.057\n",
      "  \tC1: 0.323\tC2: 0.268\tUnc: 0.410\n",
      "  \n",
      "  Rule 5: Variance < 327.641\n",
      "  \tC1: 0.267\tC2: 0.371\tUnc: 0.361\n",
      "  \n",
      "  Rule 6: 327.641 < Variance < 638.278\n",
      "  \tC1: 0.868\tC2: 0.000\tUnc: 0.132\n",
      "  \n",
      "  Rule 7: 638.278 < Variance < 948.915\n",
      "  \tC1: 0.259\tC2: 0.399\tUnc: 0.343\n",
      "  \n",
      "  Rule 8: Variance > 948.915\n",
      "  \tC1: 0.375\tC2: 0.273\tUnc: 0.352\n",
      "  \n",
      "  Rule 9: Standard Deviation < 17.535\n",
      "  \tC1: 0.267\tC2: 0.371\tUnc: 0.361\n",
      "  \n",
      "  Rule 10: 17.535 < Standard Deviation < 23.606\n",
      "  \tC1: 0.831\tC2: 0.008\tUnc: 0.161\n",
      "  \n",
      "  Rule 11: 23.606 < Standard Deviation < 29.677\n",
      "  \tC1: 0.384\tC2: 0.313\tUnc: 0.303\n",
      "  \n",
      "  Rule 12: Standard Deviation > 29.677\n",
      "  \tC1: 0.373\tC2: 0.269\tUnc: 0.359\n",
      "  \n",
      "  Rule 13: Entropy < 0.040\n",
      "  \tC1: 0.115\tC2: 0.665\tUnc: 0.220\n",
      "  \n",
      "  Rule 14: 0.040 < Entropy < 0.094\n",
      "  \tC1: 0.583\tC2: 0.150\tUnc: 0.267\n",
      "  \n",
      "  Rule 15: 0.094 < Entropy < 0.149\n",
      "  \tC1: 0.824\tC2: 0.000\tUnc: 0.176\n",
      "  \n",
      "  Rule 16: Entropy > 0.149\n",
      "  \tC1: 0.646\tC2: 0.088\tUnc: 0.265\n",
      "  \n",
      "  Rule 17: Skewness < 2.594\n",
      "  \tC1: 0.560\tC2: 0.145\tUnc: 0.295\n",
      "  \n",
      "  Rule 18: 2.594 < Skewness < 4.414\n",
      "  \tC1: 0.380\tC2: 0.310\tUnc: 0.310\n",
      "  \n",
      "  Rule 19: 4.414 < Skewness < 6.233\n",
      "  \tC1: 0.329\tC2: 0.256\tUnc: 0.415\n",
      "  \n",
      "  Rule 20: Skewness > 6.233\n",
      "  \tC1: 0.236\tC2: 0.308\tUnc: 0.456\n",
      "  \n",
      "  Rule 21: Kurtosis < -5.050\n",
      "  \tC1: 0.000\tC2: 0.000\tUnc: 1.000\n",
      "  \n",
      "  Rule 22: -5.050 < Kurtosis < 27.757\n",
      "  \tC1: 0.419\tC2: 0.279\tUnc: 0.302\n",
      "  \n",
      "  Rule 23: 27.757 < Kurtosis < 60.563\n",
      "  \tC1: 0.096\tC2: 0.643\tUnc: 0.261\n",
      "  \n",
      "  Rule 24: Kurtosis > 60.563\n",
      "  \tC1: 0.308\tC2: 0.227\tUnc: 0.465\n",
      "  \n",
      "  Rule 25: Contrast < 33.989\n",
      "  \tC1: 0.218\tC2: 0.430\tUnc: 0.351\n",
      "  \n",
      "  Rule 26: 33.989 < Contrast < 131.478\n",
      "  \tC1: 0.358\tC2: 0.321\tUnc: 0.321\n",
      "  \n",
      "  Rule 27: 131.478 < Contrast < 228.967\n",
      "  \tC1: 0.316\tC2: 0.293\tUnc: 0.391\n",
      "  \n",
      "  Rule 28: Contrast > 228.967\n",
      "  \tC1: 0.000\tC2: 0.536\tUnc: 0.464\n",
      "  \n",
      "  Rule 29: Energy < 0.146\n",
      "  \tC1: 0.102\tC2: 0.691\tUnc: 0.207\n",
      "  \n",
      "  Rule 30: 0.146 < Energy < 0.239\n",
      "  \tC1: 0.507\tC2: 0.174\tUnc: 0.319\n",
      "  \n",
      "  Rule 31: 0.239 < Energy < 0.332\n",
      "  \tC1: 0.512\tC2: 0.243\tUnc: 0.244\n",
      "  \n",
      "  Rule 32: Energy > 0.332\n",
      "  \tC1: 0.676\tC2: 0.073\tUnc: 0.251\n",
      "  \n",
      "  Rule 33: ASM < 0.030\n",
      "  \tC1: 0.115\tC2: 0.665\tUnc: 0.220\n",
      "  \n",
      "  Rule 34: 0.030 < ASM < 0.076\n",
      "  \tC1: 0.564\tC2: 0.158\tUnc: 0.278\n",
      "  \n",
      "  Rule 35: 0.076 < ASM < 0.122\n",
      "  \tC1: 0.846\tC2: 0.000\tUnc: 0.154\n",
      "  \n",
      "  Rule 36: ASM > 0.122\n",
      "  \tC1: 0.654\tC2: 0.084\tUnc: 0.262\n",
      "  \n",
      "  Rule 37: Homogeneity < 0.422\n",
      "  \tC1: 0.115\tC2: 0.675\tUnc: 0.210\n",
      "  \n",
      "  Rule 38: 0.422 < Homogeneity < 0.511\n",
      "  \tC1: 0.311\tC2: 0.298\tUnc: 0.391\n",
      "  \n",
      "  Rule 39: 0.511 < Homogeneity < 0.601\n",
      "  \tC1: 0.452\tC2: 0.277\tUnc: 0.271\n",
      "  \n",
      "  Rule 40: Homogeneity > 0.601\n",
      "  \tC1: 0.714\tC2: 0.050\tUnc: 0.236\n",
      "  \n",
      "  Rule 41: Dissimilarity < 3.081\n",
      "  \tC1: 0.447\tC2: 0.269\tUnc: 0.283\n",
      "  \n",
      "  Rule 42: 3.081 < Dissimilarity < 4.460\n",
      "  \tC1: 0.450\tC2: 0.276\tUnc: 0.274\n",
      "  \n",
      "  Rule 43: 4.460 < Dissimilarity < 5.839\n",
      "  \tC1: 0.149\tC2: 0.574\tUnc: 0.277\n",
      "  \n",
      "  Rule 44: Dissimilarity > 5.839\n",
      "  \tC1: 0.450\tC2: 0.167\tUnc: 0.384\n",
      "  \n",
      "  Rule 45: Correlation < 0.926\n",
      "  \tC1: 0.472\tC2: 0.039\tUnc: 0.489\n",
      "  \n",
      "  Rule 46: 0.926 < Correlation < 0.952\n",
      "  \tC1: 0.253\tC2: 0.400\tUnc: 0.347\n",
      "  \n",
      "  Rule 47: 0.952 < Correlation < 0.978\n",
      "  \tC1: 0.338\tC2: 0.329\tUnc: 0.332\n",
      "  \n",
      "  Rule 48: Correlation > 0.978\n",
      "  \tC1: 0.675\tC2: 0.083\tUnc: 0.242\n",
      "  \n",
      "  Rule 49: Coarseness = 7.46e-155\n",
      "  \tC1: 0.384\tC2: 0.308\tUnc: 0.308\n",
      ")\n"
     ]
    },
    {
     "name": "stderr",
     "output_type": "stream",
     "text": [
      "24-05-03 23:18:55 [DEBUG] Accuracy:  0.87\n",
      "24-05-03 23:18:55 [DEBUG] F1 Score: 0.80\n",
      "24-05-03 23:18:55 [DEBUG] Confusion Matrix: [[18  0]\n",
      " [ 4  8]]\n",
      "24-05-03 23:18:55 [INFO] ------------------------------\n",
      "24-05-03 23:18:55 [INFO] Finished Brain Tumor\n",
      "24-05-03 23:18:55 [INFO] Finished all MAF methods\n"
     ]
    }
   ],
   "source": [
    "DST = DSEnhanced(run_for_all_mafs=False, nrows=100, method=\"clustering\", clustering_alg_list=[\"kmeans\"])\n",
    "\n",
    "DST.run()\n"
   ]
  },
  {
   "cell_type": "code",
   "execution_count": 4,
   "metadata": {},
   "outputs": [],
   "source": [
    "import numpy as np \n",
    "def get_distance(df, model=None, alg=\"kmeans\", density_radius=None, penalty_rate=penalty_rate):\n",
    "    labels = df[:, -1]\n",
    "    assert len(np.unique(labels)) == 2\n",
    "    if alg == \"kmeans\":\n",
    "        distances = - np.min(\n",
    "            np.linalg.norm(df[:, np.newaxis] - model.cluster_centers_, axis=2), axis=1) \n",
    "    elif alg == \"distance from label centers withoud using the model, not the minimal\":git status\n",
    "\n",
    "        \n",
    "      \n",
    "      \n",
    "    else:\n",
    "        distances= calculate_adjusted_density(df, model.labels_, radius=density_radius, \n",
    "                                              penalty_rate=penalty_rate, \n",
    "                                              remove_outliers=False, normalize=False)\n",
    "    \n",
    "    return distances"
   ]
  },
  {
   "cell_type": "code",
   "execution_count": 5,
   "metadata": {},
   "outputs": [
    {
     "name": "stdout",
     "output_type": "stream",
     "text": [
      "[0. 1. 0. 0. 0. 0. 0. 1. 1. 0. 0. 0. 0. 1. 0. 0. 0. 1. 1. 1. 0. 1. 0. 0.\n",
      " 0. 1. 0. 0. 1. 1. 1. 0. 1. 0. 1. 0. 0. 0. 0. 1. 0. 0. 0. 1. 0. 0. 1. 1.\n",
      " 0. 0. 0. 1. 0. 0. 0. 1. 0. 0. 1. 0. 1. 0. 1. 0. 0. 0. 0. 1. 0. 0.]\n"
     ]
    },
    {
     "data": {
      "text/plain": [
       "array([-2.59072657, -2.41127115, -3.28245824, -2.88379577, -2.47354473,\n",
       "       -2.19662933, -1.20728145, -7.23678323, -1.9938842 , -1.10318762,\n",
       "       -1.11039271, -1.62933775, -2.15543771, -4.4205285 , -1.28576239,\n",
       "       -1.95717852, -1.60670661, -1.55570377, -2.0964111 , -2.3768824 ,\n",
       "       -1.5495497 , -6.94288984, -6.23144419, -2.02446791, -7.02299748,\n",
       "       -2.1226432 , -2.25111237, -1.87438083, -1.83158901, -1.87447382,\n",
       "       -1.83361779, -0.88442252, -1.17558002, -2.32038464, -2.92910839,\n",
       "       -1.68944537, -2.34146739, -1.82124801, -3.90179877, -2.28933177,\n",
       "       -1.43049326, -2.48110003, -2.41762018, -2.71758558, -1.6445658 ,\n",
       "       -1.59006827, -4.71331925, -1.5418799 , -1.47995821, -1.29597936,\n",
       "       -0.83172834, -1.6415978 , -0.64588077, -2.13354595, -3.11955049,\n",
       "       -3.34262268, -1.74286943, -2.71778745, -3.06626069, -3.09852887,\n",
       "       -3.06602548, -0.76280597, -1.39775576, -1.52837732, -2.53290809,\n",
       "       -1.44962393, -1.55614011, -9.48288936, -2.01892564, -1.57743743])"
      ]
     },
     "execution_count": 5,
     "metadata": {},
     "output_type": "execute_result"
    }
   ],
   "source": [
    "get_distance(DST.X_train_scaled, model=DST.clustering_model)"
   ]
  },
  {
   "cell_type": "code",
   "execution_count": 6,
   "metadata": {},
   "outputs": [
    {
     "name": "stdout",
     "output_type": "stream",
     "text": [
      "[0. 1. 0. 0. 0. 0. 0. 1. 1. 0. 0. 0. 0. 1. 0. 0. 0. 1. 1. 1. 0. 1. 0. 0.\n",
      " 0. 1. 0. 0. 1. 1. 1. 0. 1. 0. 1. 0. 0. 0. 0. 1. 0. 0. 0. 1. 0. 0. 1. 1.\n",
      " 0. 0. 0. 1. 0. 0. 0. 1. 0. 0. 1. 0. 1. 0. 1. 0. 0. 0. 0. 1. 0. 0.]\n"
     ]
    },
    {
     "ename": "NameError",
     "evalue": "name 'calculate_adjusted_density' is not defined",
     "output_type": "error",
     "traceback": [
      "\u001b[1;31m---------------------------------------------------------------------------\u001b[0m",
      "\u001b[1;31mNameError\u001b[0m                                 Traceback (most recent call last)",
      "Cell \u001b[1;32mIn[6], line 1\u001b[0m\n\u001b[1;32m----> 1\u001b[0m \u001b[43mget_distance\u001b[49m\u001b[43m(\u001b[49m\u001b[43mDST\u001b[49m\u001b[38;5;241;43m.\u001b[39;49m\u001b[43mX_train_scaled\u001b[49m\u001b[43m,\u001b[49m\u001b[43m \u001b[49m\u001b[43malg\u001b[49m\u001b[38;5;241;43m=\u001b[39;49m\u001b[38;5;124;43m\"\u001b[39;49m\u001b[38;5;124;43mno_clustering\u001b[39;49m\u001b[38;5;124;43m\"\u001b[39;49m\u001b[43m)\u001b[49m\n",
      "Cell \u001b[1;32mIn[4], line 17\u001b[0m, in \u001b[0;36mget_distance\u001b[1;34m(df, model, alg, density_radius, penalty_rate)\u001b[0m\n\u001b[0;32m     10\u001b[0m     distances \u001b[38;5;241m=\u001b[39m \u001b[38;5;241m-\u001b[39m np\u001b[38;5;241m.\u001b[39mmin(\n\u001b[0;32m     11\u001b[0m         np\u001b[38;5;241m.\u001b[39mlinalg\u001b[38;5;241m.\u001b[39mnorm(df[:, np\u001b[38;5;241m.\u001b[39mnewaxis] \u001b[38;5;241m-\u001b[39m np\u001b[38;5;241m.\u001b[39marray([df[labels \u001b[38;5;241m==\u001b[39m \u001b[38;5;241m0\u001b[39m]\u001b[38;5;241m.\u001b[39mmean(axis\u001b[38;5;241m=\u001b[39m\u001b[38;5;241m0\u001b[39m), df[labels \u001b[38;5;241m==\u001b[39m \u001b[38;5;241m1\u001b[39m]\u001b[38;5;241m.\u001b[39mmean(axis\u001b[38;5;241m=\u001b[39m\u001b[38;5;241m0\u001b[39m)]), axis\u001b[38;5;241m=\u001b[39m\u001b[38;5;241m2\u001b[39m), axis\u001b[38;5;241m=\u001b[39m\u001b[38;5;241m1\u001b[39m)\n\u001b[0;32m     16\u001b[0m \u001b[38;5;28;01melse\u001b[39;00m:\n\u001b[1;32m---> 17\u001b[0m     distances\u001b[38;5;241m=\u001b[39m \u001b[43mcalculate_adjusted_density\u001b[49m(df, model\u001b[38;5;241m.\u001b[39mlabels_, radius\u001b[38;5;241m=\u001b[39mdensity_radius, \n\u001b[0;32m     18\u001b[0m                                           penalty_rate\u001b[38;5;241m=\u001b[39mpenalty_rate, \n\u001b[0;32m     19\u001b[0m                                           remove_outliers\u001b[38;5;241m=\u001b[39m\u001b[38;5;28;01mFalse\u001b[39;00m, normalize\u001b[38;5;241m=\u001b[39m\u001b[38;5;28;01mFalse\u001b[39;00m)\n\u001b[0;32m     21\u001b[0m \u001b[38;5;28;01mreturn\u001b[39;00m distances\n",
      "\u001b[1;31mNameError\u001b[0m: name 'calculate_adjusted_density' is not defined"
     ]
    }
   ],
   "source": [
    "get_distance(DST.X_train_scaled, alg=\"no_clustering\")"
   ]
  },
  {
   "cell_type": "code",
   "execution_count": null,
   "metadata": {},
   "outputs": [],
   "source": []
  }
 ],
 "metadata": {
  "kernelspec": {
   "display_name": "thesis",
   "language": "python",
   "name": "python3"
  },
  "language_info": {
   "codemirror_mode": {
    "name": "ipython",
    "version": 3
   },
   "file_extension": ".py",
   "mimetype": "text/x-python",
   "name": "python",
   "nbconvert_exporter": "python",
   "pygments_lexer": "ipython3",
   "version": "3.10.14"
  }
 },
 "nbformat": 4,
 "nbformat_minor": 2
}
