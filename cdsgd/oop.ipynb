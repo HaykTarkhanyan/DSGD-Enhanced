{
 "cells": [
  {
   "cell_type": "code",
   "execution_count": 1,
   "metadata": {},
   "outputs": [
    {
     "name": "stderr",
     "output_type": "stream",
     "text": [
      "c:\\Users\\hayk_\\.conda\\envs\\thesis\\lib\\site-packages\\tqdm\\auto.py:21: TqdmWarning: IProgress not found. Please update jupyter and ipywidgets. See https://ipywidgets.readthedocs.io/en/stable/user_install.html\n",
      "  from .autonotebook import tqdm as notebook_tqdm\n"
     ]
    }
   ],
   "source": [
    "from DSEnhanced import DSEnhanced\n",
    "from config import *\n",
    "import os"
   ]
  },
  {
   "cell_type": "code",
   "execution_count": 2,
   "metadata": {},
   "outputs": [
    {
     "data": {
      "text/plain": [
       "['Brain Tumor.csv',\n",
       " 'breast-cancer-wisconsin.csv',\n",
       " 'gaussian_df.csv',\n",
       " 'rectangle_df.csv',\n",
       " 'uniform_df.csv',\n",
       " 'wine.csv']"
      ]
     },
     "execution_count": 2,
     "metadata": {},
     "output_type": "execute_result"
    }
   ],
   "source": [
    "os.listdir(DATASET_FOLDER)"
   ]
  },
  {
   "cell_type": "code",
   "execution_count": 3,
   "metadata": {},
   "outputs": [
    {
     "name": "stderr",
     "output_type": "stream",
     "text": [
      "24-05-03 20:57:09 [INFO] Methods list: ['clustering', 'random', 'uniform']\n",
      "24-05-03 20:57:09 [INFO] Found 6 datasets\n",
      "24-05-03 20:57:09 [INFO] Using the first dataset: Brain Tumor.csv\n",
      "24-05-03 20:57:09 [DEBUG] Dataset: Brain Tumor | Shape: (3762, 14)\n",
      "24-05-03 20:57:09 [DEBUG] (3762, 14) - dropped columns with more than 20% missing values\n",
      "24-05-03 20:57:09 [DEBUG] (3762, 14) - drop rows with missing values\n",
      "24-05-03 20:57:09 [DEBUG] (3762, 14) drop non-numeric columns\n",
      "24-05-03 20:57:09 [INFO] ------ Dataset: Brain Tumor | Shape: (3762, 14) | Label ratio: 0.55 -------\n",
      "24-05-03 20:57:09 [INFO] Step 0: Data split done | 2633 - 1129\n",
      "24-05-03 20:57:09 [INFO] ----------- Running clustering method -----------\n",
      "24-05-03 20:57:09 [DEBUG] Step 1: Standard scaling complete\n",
      "24-05-03 20:57:09 [INFO] ----------- Running kmeans clustering -----------\n",
      "24-05-03 20:57:09 [INFO] Step 2.1: Performing kmeans clustering\n",
      "Exception in thread Thread-6 (_readerthread):\n",
      "Traceback (most recent call last):\n",
      "  File \"c:\\Users\\hayk_\\.conda\\envs\\thesis\\lib\\threading.py\", line 1016, in _bootstrap_inner\n",
      "    self.run()\n",
      "  File \"c:\\Users\\hayk_\\.conda\\envs\\thesis\\lib\\threading.py\", line 953, in run\n",
      "    self._target(*self._args, **self._kwargs)\n",
      "  File \"c:\\Users\\hayk_\\.conda\\envs\\thesis\\lib\\subprocess.py\", line 1515, in _readerthread\n",
      "    buffer.append(fh.read())\n",
      "  File \"c:\\Users\\hayk_\\.conda\\envs\\thesis\\lib\\codecs.py\", line 322, in decode\n",
      "    (result, consumed) = self._buffer_decode(data, self.errors, final)\n",
      "UnicodeDecodeError: 'utf-8' codec can't decode byte 0x81 in position 3: invalid start byte\n",
      "  File \"c:\\Users\\hayk_\\.conda\\envs\\thesis\\lib\\site-packages\\joblib\\externals\\loky\\backend\\context.py\", line 282, in _count_physical_cores\n",
      "    raise ValueError(f\"found {cpu_count_physical} physical cores < 1\")\n",
      "24-05-03 20:57:10 [INFO] Step 2.1: Clustering and inference done\n",
      "24-05-03 20:57:10 [INFO] Step 2.2: Evaluate clustering\n",
      "24-05-03 20:57:10 [DEBUG] Evaluation on train\n",
      "24-05-03 20:57:10 [DEBUG] \tsilhouette = 0.378\n",
      "24-05-03 20:57:10 [DEBUG] \tcalinski_harabasz = 1373.973\n",
      "24-05-03 20:57:10 [DEBUG] \tinertia = 22486.171\n",
      "24-05-03 20:57:10 [DEBUG] Evaluation on test\n",
      "24-05-03 20:57:10 [DEBUG] \tsilhouette = 0.381\n",
      "24-05-03 20:57:10 [DEBUG] \tcalinski_harabasz = 503.306\n",
      "24-05-03 20:57:10 [INFO] Step 2.2: Clustering evaluation done\n",
      "24-05-03 20:57:10 [DEBUG] Evaluation on train\n",
      "24-05-03 20:57:10 [DEBUG] \tAccuracy:  0.99\n",
      "24-05-03 20:57:10 [DEBUG] \tF1 Score: 0.99\n",
      "24-05-03 20:57:10 [DEBUG] \tConfusion Matrix: \n",
      "[[1460    8]\n",
      " [  23 1142]]\n",
      "24-05-03 20:57:10 [DEBUG] Evaluation on test\n",
      "24-05-03 20:57:10 [DEBUG] \tAccuracy:  0.99\n",
      "24-05-03 20:57:10 [DEBUG] \tF1 Score: 0.99\n",
      "24-05-03 20:57:10 [DEBUG] \tConfusion Matrix: \n",
      "[[609   2]\n",
      " [  8 510]]\n",
      "24-05-03 20:57:10 [INFO] Step 3: Clustering as a classifier, evaluation done\n",
      "24-05-03 20:57:10 [INFO] Step 4: Opacity calculation done\n",
      "24-05-03 20:57:10 [DEBUG] Train: 2633\n",
      "24-05-03 20:57:10 [INFO] Step 5: Run DST (dataset=Brain Tumor, label_for_dist=labels, clust=kmeans, breaks=3, add_mult_rules=False, maf_method=clustering)\n",
      "24-05-03 20:57:10 [DEBUG] \tModel init done\n"
     ]
    },
    {
     "name": "stdout",
     "output_type": "stream",
     "text": [
      "Optimization started\n",
      "Processing epoch\t37\t0.0183\t"
     ]
    },
    {
     "name": "stderr",
     "output_type": "stream",
     "text": [
      "24-05-03 20:57:51 [DEBUG] \tModel fit done\n"
     ]
    },
    {
     "name": "stdout",
     "output_type": "stream",
     "text": [
      "\n",
      "Training time: 37.42s, epochs: 37\n",
      "\n",
      "Least training loss reached: 0.018\n",
      "DSModelMultiQ(\n",
      "  DS Classifier using 49 rules\n",
      "  \n",
      "  Rule 1: Mean < 5.660\n",
      "  \tC1: 0.224\tC2: 0.394\tUnc: 0.381\n",
      "  \n",
      "  Rule 2: 5.660 < Mean < 9.563\n",
      "  \tC1: 0.292\tC2: 0.365\tUnc: 0.342\n",
      "  \n",
      "  Rule 3: 9.563 < Mean < 13.466\n",
      "  \tC1: 0.363\tC2: 0.326\tUnc: 0.311\n",
      "  \n",
      "  Rule 4: Mean > 13.466\n",
      "  \tC1: 0.353\tC2: 0.273\tUnc: 0.374\n",
      "  \n",
      "  Rule 5: Variance < 396.340\n",
      "  \tC1: 0.288\tC2: 0.367\tUnc: 0.345\n",
      "  \n",
      "  Rule 6: 396.340 < Variance < 708.627\n",
      "  \tC1: 0.350\tC2: 0.333\tUnc: 0.318\n",
      "  \n",
      "  Rule 7: 708.627 < Variance < 1020.914\n",
      "  \tC1: 0.308\tC2: 0.338\tUnc: 0.353\n",
      "  \n",
      "  Rule 8: Variance > 1020.914\n",
      "  \tC1: 0.260\tC2: 0.430\tUnc: 0.310\n",
      "  \n",
      "  Rule 9: Standard Deviation < 19.243\n",
      "  \tC1: 0.274\tC2: 0.380\tUnc: 0.346\n",
      "  \n",
      "  Rule 10: 19.243 < Standard Deviation < 25.142\n",
      "  \tC1: 0.354\tC2: 0.330\tUnc: 0.316\n",
      "  \n",
      "  Rule 11: 25.142 < Standard Deviation < 31.042\n",
      "  \tC1: 0.333\tC2: 0.332\tUnc: 0.334\n",
      "  \n",
      "  Rule 12: Standard Deviation > 31.042\n",
      "  \tC1: 0.258\tC2: 0.434\tUnc: 0.307\n",
      "  \n",
      "  Rule 13: Entropy < 0.027\n",
      "  \tC1: 0.091\tC2: 0.727\tUnc: 0.182\n",
      "  \n",
      "  Rule 14: 0.027 < Entropy < 0.074\n",
      "  \tC1: 0.305\tC2: 0.345\tUnc: 0.351\n",
      "  \n",
      "  Rule 15: 0.074 < Entropy < 0.121\n",
      "  \tC1: 0.679\tC2: 0.136\tUnc: 0.185\n",
      "  \n",
      "  Rule 16: Entropy > 0.121\n",
      "  \tC1: 0.728\tC2: 0.069\tUnc: 0.202\n",
      "  \n",
      "  Rule 17: Skewness < 2.365\n",
      "  \tC1: 0.631\tC2: 0.124\tUnc: 0.245\n",
      "  \n",
      "  Rule 18: 2.365 < Skewness < 4.077\n",
      "  \tC1: 0.332\tC2: 0.343\tUnc: 0.325\n",
      "  \n",
      "  Rule 19: 4.077 < Skewness < 5.788\n",
      "  \tC1: 0.197\tC2: 0.552\tUnc: 0.251\n",
      "  \n",
      "  Rule 20: Skewness > 5.788\n",
      "  \tC1: 0.129\tC2: 0.572\tUnc: 0.299\n",
      "  \n",
      "  Rule 21: Kurtosis < -12.431\n",
      "  \tC1: 0.000\tC2: 0.000\tUnc: 1.000\n",
      "  \n",
      "  Rule 22: -12.431 < Kurtosis < 24.043\n",
      "  \tC1: 0.385\tC2: 0.304\tUnc: 0.311\n",
      "  \n",
      "  Rule 23: 24.043 < Kurtosis < 60.516\n",
      "  \tC1: 0.072\tC2: 0.712\tUnc: 0.216\n",
      "  \n",
      "  Rule 24: Kurtosis > 60.516\n",
      "  \tC1: 0.217\tC2: 0.372\tUnc: 0.412\n",
      "  \n",
      "  Rule 25: Contrast < 62.985\n",
      "  \tC1: 0.316\tC2: 0.356\tUnc: 0.329\n",
      "  \n",
      "  Rule 26: 62.985 < Contrast < 126.198\n",
      "  \tC1: 0.320\tC2: 0.348\tUnc: 0.332\n",
      "  \n",
      "  Rule 27: 126.198 < Contrast < 189.411\n",
      "  \tC1: 0.338\tC2: 0.308\tUnc: 0.354\n",
      "  \n",
      "  Rule 28: Contrast > 189.411\n",
      "  \tC1: 0.265\tC2: 0.339\tUnc: 0.396\n",
      "  \n",
      "  Rule 29: Energy < 0.119\n",
      "  \tC1: 0.095\tC2: 0.726\tUnc: 0.179\n",
      "  \n",
      "  Rule 30: 0.119 < Energy < 0.206\n",
      "  \tC1: 0.137\tC2: 0.585\tUnc: 0.278\n",
      "  \n",
      "  Rule 31: 0.206 < Energy < 0.292\n",
      "  \tC1: 0.723\tC2: 0.072\tUnc: 0.204\n",
      "  \n",
      "  Rule 32: Energy > 0.292\n",
      "  \tC1: 0.762\tC2: 0.054\tUnc: 0.184\n",
      "  \n",
      "  Rule 33: ASM < 0.020\n",
      "  \tC1: 0.091\tC2: 0.727\tUnc: 0.182\n",
      "  \n",
      "  Rule 34: 0.020 < ASM < 0.059\n",
      "  \tC1: 0.334\tC2: 0.331\tUnc: 0.335\n",
      "  \n",
      "  Rule 35: 0.059 < ASM < 0.098\n",
      "  \tC1: 0.689\tC2: 0.126\tUnc: 0.185\n",
      "  \n",
      "  Rule 36: ASM > 0.098\n",
      "  \tC1: 0.716\tC2: 0.078\tUnc: 0.206\n",
      "  \n",
      "  Rule 37: Homogeneity < 0.395\n",
      "  \tC1: 0.098\tC2: 0.724\tUnc: 0.178\n",
      "  \n",
      "  Rule 38: 0.395 < Homogeneity < 0.481\n",
      "  \tC1: 0.172\tC2: 0.587\tUnc: 0.241\n",
      "  \n",
      "  Rule 39: 0.481 < Homogeneity < 0.567\n",
      "  \tC1: 0.502\tC2: 0.249\tUnc: 0.249\n",
      "  \n",
      "  Rule 40: Homogeneity > 0.567\n",
      "  \tC1: 0.781\tC2: 0.030\tUnc: 0.189\n",
      "  \n",
      "  Rule 41: Dissimilarity < 3.465\n",
      "  \tC1: 0.395\tC2: 0.312\tUnc: 0.293\n",
      "  \n",
      "  Rule 42: 3.465 < Dissimilarity < 4.660\n",
      "  \tC1: 0.404\tC2: 0.300\tUnc: 0.296\n",
      "  \n",
      "  Rule 43: 4.660 < Dissimilarity < 5.856\n",
      "  \tC1: 0.300\tC2: 0.370\tUnc: 0.330\n",
      "  \n",
      "  Rule 44: Dissimilarity > 5.856\n",
      "  \tC1: 0.226\tC2: 0.499\tUnc: 0.275\n",
      "  \n",
      "  Rule 45: Correlation < 0.939\n",
      "  \tC1: 0.401\tC2: 0.183\tUnc: 0.416\n",
      "  \n",
      "  Rule 46: 0.939 < Correlation < 0.956\n",
      "  \tC1: 0.399\tC2: 0.261\tUnc: 0.340\n",
      "  \n",
      "  Rule 47: 0.956 < Correlation < 0.973\n",
      "  \tC1: 0.253\tC2: 0.400\tUnc: 0.347\n",
      "  \n",
      "  Rule 48: Correlation > 0.973\n",
      "  \tC1: 0.252\tC2: 0.400\tUnc: 0.348\n",
      "  \n",
      "  Rule 49: Coarseness = 7.46e-155\n",
      "  \tC1: 0.365\tC2: 0.317\tUnc: 0.317\n",
      ")\n"
     ]
    },
    {
     "name": "stderr",
     "output_type": "stream",
     "text": [
      "24-05-03 20:57:52 [INFO] Step 6: Inference done\n",
      "24-05-03 20:57:52 [DEBUG] Training Time: 37.42s\n",
      "24-05-03 20:57:52 [DEBUG] Epochs: 37\n",
      "24-05-03 20:57:52 [DEBUG] Min Loss: 0.018\n",
      "24-05-03 20:57:52 [DEBUG] Loaded backend module://matplotlib_inline.backend_inline version unknown.\n",
      "24-05-03 20:57:52 [DEBUG] Loaded backend module://matplotlib_inline.backend_inline version unknown.\n",
      "24-05-03 20:57:52 [DEBUG] Accuracy:  0.98\n",
      "24-05-03 20:57:52 [DEBUG] F1 Score: 0.98\n",
      "24-05-03 20:57:52 [DEBUG] Confusion Matrix: [[608   3]\n",
      " [ 16 502]]\n",
      "24-05-03 20:57:52 [INFO] ------------------------------\n",
      "24-05-03 20:57:52 [INFO] ----------- Running dbscan clustering -----------\n",
      "24-05-03 20:57:52 [INFO] Step 2.1: Performing dbscan clustering\n"
     ]
    },
    {
     "name": "stdout",
     "output_type": "stream",
     "text": [
      "Found the desired number of clusters: 2 at eps=0.8100000000000003\n"
     ]
    },
    {
     "name": "stderr",
     "output_type": "stream",
     "text": [
      "24-05-03 20:57:54 [INFO] Step 2.1: Clustering and inference done\n",
      "24-05-03 20:57:54 [INFO] Step 2.2: Evaluate clustering\n",
      "24-05-03 20:57:54 [DEBUG] Evaluation on train\n",
      "24-05-03 20:57:54 [DEBUG] \tsilhouette = 0.088\n",
      "24-05-03 20:57:54 [DEBUG] \tcalinski_harabasz = 379.206\n",
      "24-05-03 20:57:54 [DEBUG] Evaluation on test\n",
      "24-05-03 20:57:54 [DEBUG] \tsilhouette = 0.065\n",
      "24-05-03 20:57:54 [DEBUG] \tcalinski_harabasz = 137.358\n",
      "24-05-03 20:57:54 [INFO] Step 2.2: Clustering evaluation done\n",
      "24-05-03 20:57:54 [DEBUG] Evaluation on train\n",
      "24-05-03 20:57:54 [DEBUG] \tAccuracy:  0.50\n",
      "24-05-03 20:57:54 [DEBUG] \tF1 Score: 1.00\n",
      "24-05-03 20:57:54 [DEBUG] \tConfusion Matrix: \n",
      "[[1065    0]\n",
      " [   0  263]]\n",
      "24-05-03 20:57:54 [DEBUG] Evaluation on test\n",
      "24-05-03 20:57:54 [DEBUG] \tAccuracy:  0.16\n",
      "24-05-03 20:57:54 [DEBUG] \tF1 Score: 0.00\n",
      "24-05-03 20:57:54 [DEBUG] \tConfusion Matrix: \n",
      "[[181 430]\n",
      " [518   0]]\n",
      "24-05-03 20:57:54 [INFO] Step 3: Clustering as a classifier, evaluation done\n",
      "24-05-03 20:57:55 [INFO] Step 4: Opacity calculation done\n",
      "24-05-03 20:57:55 [DEBUG] Train: 2633\n",
      "24-05-03 20:57:55 [INFO] Step 5: Run DST (dataset=Brain Tumor, label_for_dist=labels, clust=dbscan, breaks=3, add_mult_rules=False, maf_method=clustering)\n",
      "24-05-03 20:57:55 [DEBUG] \tModel init done\n"
     ]
    },
    {
     "name": "stdout",
     "output_type": "stream",
     "text": [
      "Optimization started\n",
      "Processing epoch\t10\t0.3167\t"
     ]
    }
   ],
   "source": [
    "DST = DSEnhanced(run_for_all_mafs=True)\n",
    "\n",
    "DST.run_all_datasets()\n"
   ]
  },
  {
   "cell_type": "code",
   "execution_count": 5,
   "metadata": {},
   "outputs": [
    {
     "data": {
      "text/plain": [
       "<DSEnhanced.DSEnhanced at 0x1c172768910>"
      ]
     },
     "execution_count": 5,
     "metadata": {},
     "output_type": "execute_result"
    }
   ],
   "source": []
  },
  {
   "cell_type": "code",
   "execution_count": null,
   "metadata": {},
   "outputs": [],
   "source": []
  }
 ],
 "metadata": {
  "kernelspec": {
   "display_name": "thesis",
   "language": "python",
   "name": "python3"
  },
  "language_info": {
   "codemirror_mode": {
    "name": "ipython",
    "version": 3
   },
   "file_extension": ".py",
   "mimetype": "text/x-python",
   "name": "python",
   "nbconvert_exporter": "python",
   "pygments_lexer": "ipython3",
   "version": "3.10.14"
  }
 },
 "nbformat": 4,
 "nbformat_minor": 2
}
