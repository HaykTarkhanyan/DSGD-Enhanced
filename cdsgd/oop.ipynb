{
 "cells": [
  {
   "cell_type": "code",
   "execution_count": 2,
   "metadata": {},
   "outputs": [],
   "source": [
    "from DSEnhanced import DSEnhanced\n",
    "from config import *\n",
    "import os"
   ]
  },
  {
   "cell_type": "code",
   "execution_count": 3,
   "metadata": {},
   "outputs": [
    {
     "data": {
      "text/plain": [
       "['Brain Tumor.csv',\n",
       " 'breast-cancer-wisconsin.csv',\n",
       " 'gaussian_df.csv',\n",
       " 'rectangle_df.csv',\n",
       " 'uniform_df.csv',\n",
       " 'wine.csv']"
      ]
     },
     "execution_count": 3,
     "metadata": {},
     "output_type": "execute_result"
    }
   ],
   "source": [
    "os.listdir(DATASET_FOLDER)"
   ]
  },
  {
   "cell_type": "code",
   "execution_count": 4,
   "metadata": {},
   "outputs": [
    {
     "name": "stderr",
     "output_type": "stream",
     "text": [
      "24-05-03 02:09:30 [INFO] Methods list: ['clustering', 'random', 'uniform']\n",
      "24-05-03 02:09:30 [INFO] Found 6 datasets\n",
      "24-05-03 02:09:31 [DEBUG] Dataset: gaussian_df | Shape: (500, 3)\n",
      "24-05-03 02:09:31 [DEBUG] (500, 3) - dropped columns with more than 20% missing values\n",
      "24-05-03 02:09:31 [DEBUG] (500, 3) - drop rows with missing values\n",
      "24-05-03 02:09:31 [DEBUG] (500, 3) drop non-numeric columns\n",
      "24-05-03 02:09:31 [INFO] ------ Dataset: gaussian_df | Shape: (500, 3) | Label ratio: 0.50 -------\n",
      "24-05-03 02:09:31 [INFO] Step 0: Data split done | 350 - 150\n",
      "24-05-03 02:09:31 [INFO] ----------- Running clustering method -----------\n",
      "24-05-03 02:09:31 [DEBUG] Step 1: Standard scaling complete\n",
      "24-05-03 02:09:31 [INFO] ----------- Running kmeans clustering -----------\n",
      "24-05-03 02:09:31 [INFO] Step 2.1: Performing kmeans clustering\n",
      "Exception in thread Thread-6 (_readerthread):\n",
      "Traceback (most recent call last):\n",
      "  File \"c:\\Users\\hayk_\\.conda\\envs\\thesis\\lib\\threading.py\", line 1016, in _bootstrap_inner\n",
      "    self.run()\n",
      "  File \"c:\\Users\\hayk_\\.conda\\envs\\thesis\\lib\\threading.py\", line 953, in run\n",
      "    self._target(*self._args, **self._kwargs)\n",
      "  File \"c:\\Users\\hayk_\\.conda\\envs\\thesis\\lib\\subprocess.py\", line 1515, in _readerthread\n",
      "    buffer.append(fh.read())\n",
      "  File \"c:\\Users\\hayk_\\.conda\\envs\\thesis\\lib\\codecs.py\", line 322, in decode\n",
      "    (result, consumed) = self._buffer_decode(data, self.errors, final)\n",
      "UnicodeDecodeError: 'utf-8' codec can't decode byte 0x81 in position 3: invalid start byte\n",
      "  File \"c:\\Users\\hayk_\\.conda\\envs\\thesis\\lib\\site-packages\\joblib\\externals\\loky\\backend\\context.py\", line 282, in _count_physical_cores\n",
      "    raise ValueError(f\"found {cpu_count_physical} physical cores < 1\")\n",
      "24-05-03 02:09:31 [INFO] Step 2.1: Clustering and inference done\n",
      "24-05-03 02:09:31 [INFO] Step 2.2: Evaluate clustering\n",
      "24-05-03 02:09:31 [DEBUG] Evaluation on train\n",
      "24-05-03 02:09:31 [DEBUG] \tsilhouette = 0.719\n",
      "24-05-03 02:09:31 [DEBUG] \tcalinski_harabasz = 1653.432\n",
      "24-05-03 02:09:31 [DEBUG] \tinertia = 182.569\n",
      "24-05-03 02:09:31 [DEBUG] Evaluation on test\n",
      "24-05-03 02:09:31 [DEBUG] \tsilhouette = 0.727\n",
      "24-05-03 02:09:31 [DEBUG] \tcalinski_harabasz = 764.49\n",
      "24-05-03 02:09:31 [INFO] Step 2.2: Clustering evaluation done\n",
      "24-05-03 02:09:31 [DEBUG] Evaluation on train\n",
      "24-05-03 02:09:31 [DEBUG] \tAccuracy:  1.00\n",
      "24-05-03 02:09:31 [DEBUG] \tF1 Score: 1.00\n",
      "24-05-03 02:09:31 [DEBUG] \tConfusion Matrix: \n",
      "[[179   0]\n",
      " [  0 171]]\n",
      "24-05-03 02:09:31 [DEBUG] Evaluation on test\n",
      "24-05-03 02:09:31 [DEBUG] \tAccuracy:  1.00\n",
      "24-05-03 02:09:31 [DEBUG] \tF1 Score: 1.00\n",
      "24-05-03 02:09:31 [DEBUG] \tConfusion Matrix: \n",
      "[[71  0]\n",
      " [ 0 79]]\n",
      "24-05-03 02:09:32 [INFO] Step 3: Clustering as a classifier, evaluation done\n",
      "24-05-03 02:09:32 [INFO] Step 4: Opacity calculation done\n",
      "24-05-03 02:09:32 [DEBUG] Train: 350\n",
      "24-05-03 02:09:32 [INFO] Step 5: Run DST (dataset=gaussian_df, label_for_dist=labels, clust=kmeans, breaks=3, add_mult_rules=False, maf_method=clustering)\n",
      "24-05-03 02:09:32 [DEBUG] \tModel init done\n"
     ]
    },
    {
     "name": "stdout",
     "output_type": "stream",
     "text": [
      "Optimization started\n",
      "Processing epoch\t99\t0.0166\t"
     ]
    },
    {
     "name": "stderr",
     "output_type": "stream",
     "text": [
      "24-05-03 02:09:57 [DEBUG] \tModel fit done\n",
      "24-05-03 02:09:57 [INFO] Step 6: Inference done\n",
      "24-05-03 02:09:57 [DEBUG] Training Time: 24.79s\n",
      "24-05-03 02:09:57 [DEBUG] Epochs: 99\n",
      "24-05-03 02:09:57 [DEBUG] Min Loss: 0.017\n",
      "24-05-03 02:09:57 [DEBUG] Loaded backend module://matplotlib_inline.backend_inline version unknown.\n",
      "24-05-03 02:09:57 [DEBUG] Loaded backend module://matplotlib_inline.backend_inline version unknown.\n"
     ]
    },
    {
     "name": "stdout",
     "output_type": "stream",
     "text": [
      "\n",
      "Training time: 24.79s, epochs: 99\n",
      "\n",
      "Least training loss reached: 0.017\n",
      "DSModelMultiQ(\n",
      "  DS Classifier using 8 rules\n",
      "  \n",
      "  Rule 1: x < 0.321\n",
      "  \tC1: 0.000\tC2: 0.847\tUnc: 0.153\n",
      "  \n",
      "  Rule 2: 0.321 < x < 0.705\n",
      "  \tC1: 0.004\tC2: 0.723\tUnc: 0.273\n",
      "  \n",
      "  Rule 3: 0.705 < x < 1.089\n",
      "  \tC1: 0.723\tC2: 0.000\tUnc: 0.277\n",
      "  \n",
      "  Rule 4: x > 1.089\n",
      "  \tC1: 0.826\tC2: 0.000\tUnc: 0.174\n",
      "  \n",
      "  Rule 5: y < 0.228\n",
      "  \tC1: 0.790\tC2: 0.000\tUnc: 0.210\n",
      "  \n",
      "  Rule 6: 0.228 < y < 0.530\n",
      "  \tC1: 0.639\tC2: 0.132\tUnc: 0.229\n",
      "  \n",
      "  Rule 7: 0.530 < y < 0.833\n",
      "  \tC1: 0.221\tC2: 0.534\tUnc: 0.245\n",
      "  \n",
      "  Rule 8: y > 0.833\n",
      "  \tC1: 0.000\tC2: 0.779\tUnc: 0.221\n",
      ")\n"
     ]
    },
    {
     "name": "stderr",
     "output_type": "stream",
     "text": [
      "24-05-03 02:09:57 [DEBUG] Accuracy:  0.99\n",
      "24-05-03 02:09:57 [DEBUG] F1 Score: 0.99\n",
      "24-05-03 02:09:57 [DEBUG] Confusion Matrix: [[69  2]\n",
      " [ 0 79]]\n",
      "24-05-03 02:09:57 [INFO] ------------------------------\n",
      "24-05-03 02:09:57 [INFO] ----------- Running dbscan clustering -----------\n",
      "24-05-03 02:09:57 [INFO] Step 2.1: Performing dbscan clustering\n",
      "24-05-03 02:09:57 [INFO] Step 2.1: Clustering and inference done\n",
      "24-05-03 02:09:57 [INFO] Step 2.2: Evaluate clustering\n",
      "24-05-03 02:09:57 [DEBUG] Evaluation on train\n",
      "24-05-03 02:09:57 [DEBUG] \tsilhouette = 0.586\n",
      "24-05-03 02:09:57 [DEBUG] \tcalinski_harabasz = 711.825\n",
      "24-05-03 02:09:57 [DEBUG] Evaluation on test\n",
      "24-05-03 02:09:57 [DEBUG] \tsilhouette = 0.574\n",
      "24-05-03 02:09:57 [DEBUG] \tcalinski_harabasz = 359.978\n",
      "24-05-03 02:09:57 [INFO] Step 2.2: Clustering evaluation done\n",
      "24-05-03 02:09:57 [DEBUG] Evaluation on train\n",
      "24-05-03 02:09:57 [DEBUG] \tAccuracy:  0.99\n",
      "24-05-03 02:09:57 [DEBUG] \tF1 Score: 0.99\n",
      "24-05-03 02:09:57 [DEBUG] \tConfusion Matrix: \n",
      "[[179   0]\n",
      " [  4 167]]\n",
      "24-05-03 02:09:57 [DEBUG] Evaluation on test\n",
      "24-05-03 02:09:57 [DEBUG] \tAccuracy:  0.99\n",
      "24-05-03 02:09:57 [DEBUG] \tF1 Score: 0.99\n",
      "24-05-03 02:09:57 [DEBUG] \tConfusion Matrix: \n",
      "[[71  0]\n",
      " [ 1 78]]\n",
      "24-05-03 02:09:57 [INFO] Step 3: Clustering as a classifier, evaluation done\n",
      "24-05-03 02:09:58 [INFO] Step 4: Opacity calculation done\n"
     ]
    },
    {
     "name": "stdout",
     "output_type": "stream",
     "text": [
      "Found the desired number of clusters: 2 at eps=0.31\n"
     ]
    },
    {
     "name": "stderr",
     "output_type": "stream",
     "text": [
      "24-05-03 02:09:58 [DEBUG] Train: 350\n",
      "24-05-03 02:09:58 [INFO] Step 5: Run DST (dataset=gaussian_df, label_for_dist=labels, clust=dbscan, breaks=3, add_mult_rules=False, maf_method=clustering)\n",
      "24-05-03 02:09:58 [DEBUG] \tModel init done\n"
     ]
    },
    {
     "name": "stdout",
     "output_type": "stream",
     "text": [
      "Optimization started\n",
      "Processing epoch\t136\t0.0181\t"
     ]
    },
    {
     "name": "stderr",
     "output_type": "stream",
     "text": [
      "24-05-03 02:10:23 [DEBUG] \tModel fit done\n",
      "24-05-03 02:10:23 [INFO] Step 6: Inference done\n",
      "24-05-03 02:10:23 [DEBUG] Training Time: 25.21s\n",
      "24-05-03 02:10:23 [DEBUG] Epochs: 136\n",
      "24-05-03 02:10:23 [DEBUG] Min Loss: 0.018\n"
     ]
    },
    {
     "name": "stdout",
     "output_type": "stream",
     "text": [
      "\n",
      "Training time: 25.21s, epochs: 136\n",
      "\n",
      "Least training loss reached: 0.018\n",
      "DSModelMultiQ(\n",
      "  DS Classifier using 8 rules\n",
      "  \n",
      "  Rule 1: x < 0.321\n",
      "  \tC1: 0.000\tC2: 0.842\tUnc: 0.158\n",
      "  \n",
      "  Rule 2: 0.321 < x < 0.705\n",
      "  \tC1: 0.050\tC2: 0.723\tUnc: 0.227\n",
      "  \n",
      "  Rule 3: 0.705 < x < 1.089\n",
      "  \tC1: 0.774\tC2: 0.005\tUnc: 0.221\n",
      "  \n",
      "  Rule 4: x > 1.089\n",
      "  \tC1: 0.754\tC2: 0.000\tUnc: 0.246\n",
      "  \n",
      "  Rule 5: y < 0.228\n",
      "  \tC1: 0.718\tC2: 0.000\tUnc: 0.282\n",
      "  \n",
      "  Rule 6: 0.228 < y < 0.530\n",
      "  \tC1: 0.641\tC2: 0.105\tUnc: 0.254\n",
      "  \n",
      "  Rule 7: 0.530 < y < 0.833\n",
      "  \tC1: 0.194\tC2: 0.498\tUnc: 0.308\n",
      "  \n",
      "  Rule 8: y > 0.833\n",
      "  \tC1: 0.000\tC2: 0.848\tUnc: 0.152\n",
      ")\n"
     ]
    },
    {
     "name": "stderr",
     "output_type": "stream",
     "text": [
      "24-05-03 02:10:23 [DEBUG] Accuracy:  0.99\n",
      "24-05-03 02:10:23 [DEBUG] F1 Score: 0.99\n",
      "24-05-03 02:10:23 [DEBUG] Confusion Matrix: [[69  2]\n",
      " [ 0 79]]\n",
      "24-05-03 02:10:23 [INFO] ------------------------------\n",
      "24-05-03 02:10:23 [DEBUG] Train: 350\n",
      "24-05-03 02:10:23 [INFO] Step 5: Run DST (dataset=gaussian_df, label_for_dist=labels, clust=dbscan, breaks=3, add_mult_rules=False, maf_method=clustering)\n",
      "24-05-03 02:10:23 [DEBUG] \tModel init done\n"
     ]
    },
    {
     "name": "stdout",
     "output_type": "stream",
     "text": [
      "Optimization started\n",
      "Processing epoch\t136\t0.0181\t"
     ]
    },
    {
     "name": "stderr",
     "output_type": "stream",
     "text": [
      "24-05-03 02:10:51 [DEBUG] \tModel fit done\n",
      "24-05-03 02:10:51 [INFO] Step 6: Inference done\n",
      "24-05-03 02:10:51 [DEBUG] Training Time: 27.50s\n",
      "24-05-03 02:10:51 [DEBUG] Epochs: 136\n",
      "24-05-03 02:10:51 [DEBUG] Min Loss: 0.018\n"
     ]
    },
    {
     "name": "stdout",
     "output_type": "stream",
     "text": [
      "\n",
      "Training time: 27.50s, epochs: 136\n",
      "\n",
      "Least training loss reached: 0.018\n",
      "DSModelMultiQ(\n",
      "  DS Classifier using 8 rules\n",
      "  \n",
      "  Rule 1: x < 0.321\n",
      "  \tC1: 0.000\tC2: 0.842\tUnc: 0.158\n",
      "  \n",
      "  Rule 2: 0.321 < x < 0.705\n",
      "  \tC1: 0.050\tC2: 0.723\tUnc: 0.227\n",
      "  \n",
      "  Rule 3: 0.705 < x < 1.089\n",
      "  \tC1: 0.774\tC2: 0.005\tUnc: 0.221\n",
      "  \n",
      "  Rule 4: x > 1.089\n",
      "  \tC1: 0.754\tC2: 0.000\tUnc: 0.246\n",
      "  \n",
      "  Rule 5: y < 0.228\n",
      "  \tC1: 0.718\tC2: 0.000\tUnc: 0.282\n",
      "  \n",
      "  Rule 6: 0.228 < y < 0.530\n",
      "  \tC1: 0.641\tC2: 0.105\tUnc: 0.254\n",
      "  \n",
      "  Rule 7: 0.530 < y < 0.833\n",
      "  \tC1: 0.194\tC2: 0.498\tUnc: 0.308\n",
      "  \n",
      "  Rule 8: y > 0.833\n",
      "  \tC1: 0.000\tC2: 0.848\tUnc: 0.152\n",
      ")\n"
     ]
    },
    {
     "name": "stderr",
     "output_type": "stream",
     "text": [
      "24-05-03 02:10:52 [DEBUG] Accuracy:  0.99\n",
      "24-05-03 02:10:52 [DEBUG] F1 Score: 0.99\n",
      "24-05-03 02:10:52 [DEBUG] Confusion Matrix: [[69  2]\n",
      " [ 0 79]]\n",
      "24-05-03 02:10:52 [INFO] ------------------------------\n",
      "24-05-03 02:10:52 [INFO] Finished gaussian_df\n",
      "24-05-03 02:10:52 [INFO] ----------- Running random method -----------\n",
      "24-05-03 02:10:52 [DEBUG] Train: 350\n",
      "24-05-03 02:10:52 [INFO] Step 5: Run DST (dataset=gaussian_df, label_for_dist=labels, clust=None, breaks=3, add_mult_rules=False, maf_method=random)\n",
      "24-05-03 02:10:52 [DEBUG] \tModel init done\n"
     ]
    },
    {
     "name": "stdout",
     "output_type": "stream",
     "text": [
      "Optimization started\n",
      "Processing epoch\t260\t0.0231\t\n",
      "Training time: 49.33s, epochs: 260\n",
      "\n",
      "Least training loss reached: 0.023\n",
      "DSModelMultiQ(\n",
      "  DS Classifier using 8 rules\n",
      "  \n",
      "  Rule 1: x < 0.321\n",
      "  \tC1: 0.000\tC2: 0.774\tUnc: 0.226\n",
      "  \n",
      "  Rule 2: 0.321 < x < 0.705\n",
      "  \tC1: 0.000\tC2: 0.662\tUnc: 0.338\n",
      "  \n",
      "  Rule 3: 0.705 < x < 1.089\n",
      "  \tC1: 0.688\tC2: 0.000\tUnc: 0.312\n",
      "  \n",
      "  Rule 4: x > 1.089\n",
      "  \tC1: 0.760\tC2: 0.000\tUnc: 0.240\n",
      "  \n",
      "  Rule 5: y < 0.228\n",
      "  \tC1: 0.734\tC2: 0.000\tUnc: 0.266\n",
      "  \n",
      "  Rule 6: 0.228 < y < 0.530\n",
      "  \tC1: 0.541\tC2: 0.000\tUnc: 0.459\n",
      "  \n",
      "  Rule 7: 0.530 < y < 0.833\n",
      "  \tC1: 0.027\tC2: 0.477\tUnc: 0.496\n",
      "  \n",
      "  Rule 8: y > 0.833\n",
      "  \tC1: 0.000\tC2: 0.665\tUnc: 0.335\n",
      ")\n"
     ]
    },
    {
     "name": "stderr",
     "output_type": "stream",
     "text": [
      "24-05-03 02:11:41 [DEBUG] \tModel fit done\n",
      "24-05-03 02:11:41 [INFO] Step 6: Inference done\n",
      "24-05-03 02:11:41 [DEBUG] Training Time: 49.33s\n",
      "24-05-03 02:11:41 [DEBUG] Epochs: 260\n",
      "24-05-03 02:11:41 [DEBUG] Min Loss: 0.023\n",
      "24-05-03 02:11:41 [DEBUG] Accuracy:  0.98\n",
      "24-05-03 02:11:41 [DEBUG] F1 Score: 0.98\n",
      "24-05-03 02:11:41 [DEBUG] Confusion Matrix: [[69  2]\n",
      " [ 1 78]]\n",
      "24-05-03 02:11:41 [INFO] ------------------------------\n",
      "24-05-03 02:11:41 [INFO] Finished gaussian_df\n",
      "24-05-03 02:11:41 [INFO] ----------- Running uniform method -----------\n",
      "24-05-03 02:11:41 [DEBUG] Train: 350\n",
      "24-05-03 02:11:41 [INFO] Step 5: Run DST (dataset=gaussian_df, label_for_dist=labels, clust=None, breaks=3, add_mult_rules=False, maf_method=uniform)\n",
      "24-05-03 02:11:41 [DEBUG] \tModel init done\n"
     ]
    },
    {
     "name": "stdout",
     "output_type": "stream",
     "text": [
      "Optimization started\n",
      "Processing epoch\t190\t0.0239\t"
     ]
    },
    {
     "name": "stderr",
     "output_type": "stream",
     "text": [
      "24-05-03 02:12:33 [DEBUG] \tModel fit done\n",
      "24-05-03 02:12:33 [INFO] Step 6: Inference done\n",
      "24-05-03 02:12:33 [DEBUG] Training Time: 51.48s\n",
      "24-05-03 02:12:33 [DEBUG] Epochs: 190\n",
      "24-05-03 02:12:33 [DEBUG] Min Loss: 0.024\n"
     ]
    },
    {
     "name": "stdout",
     "output_type": "stream",
     "text": [
      "\n",
      "Training time: 51.48s, epochs: 190\n",
      "\n",
      "Least training loss reached: 0.024\n",
      "DSModelMultiQ(\n",
      "  DS Classifier using 8 rules\n",
      "  \n",
      "  Rule 1: x < 0.321\n",
      "  \tC1: 0.000\tC2: 0.758\tUnc: 0.242\n",
      "  \n",
      "  Rule 2: 0.321 < x < 0.705\n",
      "  \tC1: 0.000\tC2: 0.664\tUnc: 0.336\n",
      "  \n",
      "  Rule 3: 0.705 < x < 1.089\n",
      "  \tC1: 0.682\tC2: 0.000\tUnc: 0.318\n",
      "  \n",
      "  Rule 4: x > 1.089\n",
      "  \tC1: 0.744\tC2: 0.000\tUnc: 0.256\n",
      "  \n",
      "  Rule 5: y < 0.228\n",
      "  \tC1: 0.693\tC2: 0.000\tUnc: 0.307\n",
      "  \n",
      "  Rule 6: 0.228 < y < 0.530\n",
      "  \tC1: 0.577\tC2: 0.042\tUnc: 0.381\n",
      "  \n",
      "  Rule 7: 0.530 < y < 0.833\n",
      "  \tC1: 0.095\tC2: 0.513\tUnc: 0.393\n",
      "  \n",
      "  Rule 8: y > 0.833\n",
      "  \tC1: 0.000\tC2: 0.711\tUnc: 0.289\n",
      ")\n"
     ]
    },
    {
     "name": "stderr",
     "output_type": "stream",
     "text": [
      "24-05-03 02:12:33 [DEBUG] Accuracy:  0.99\n",
      "24-05-03 02:12:33 [DEBUG] F1 Score: 0.99\n",
      "24-05-03 02:12:33 [DEBUG] Confusion Matrix: [[69  2]\n",
      " [ 0 79]]\n",
      "24-05-03 02:12:33 [INFO] ------------------------------\n",
      "24-05-03 02:12:33 [INFO] Finished gaussian_df\n",
      "24-05-03 02:12:33 [INFO] Finished all MAF methods\n"
     ]
    }
   ],
   "source": [
    "DST = DSEnhanced(run_for_all_mafs=True, dataset=\"gaussian_df.csv\")\n",
    "\n",
    "DST.run()\n"
   ]
  },
  {
   "cell_type": "code",
   "execution_count": null,
   "metadata": {},
   "outputs": [],
   "source": []
  }
 ],
 "metadata": {
  "kernelspec": {
   "display_name": "thesis",
   "language": "python",
   "name": "python3"
  },
  "language_info": {
   "codemirror_mode": {
    "name": "ipython",
    "version": 3
   },
   "file_extension": ".py",
   "mimetype": "text/x-python",
   "name": "python",
   "nbconvert_exporter": "python",
   "pygments_lexer": "ipython3",
   "version": "3.10.14"
  }
 },
 "nbformat": 4,
 "nbformat_minor": 2
}
