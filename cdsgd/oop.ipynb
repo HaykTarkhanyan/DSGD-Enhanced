{
 "cells": [
  {
   "cell_type": "code",
   "execution_count": 1,
   "metadata": {},
   "outputs": [
    {
     "name": "stderr",
     "output_type": "stream",
     "text": [
      "c:\\Users\\hayk_\\.conda\\envs\\thesis\\lib\\site-packages\\tqdm\\auto.py:21: TqdmWarning: IProgress not found. Please update jupyter and ipywidgets. See https://ipywidgets.readthedocs.io/en/stable/user_install.html\n",
      "  from .autonotebook import tqdm as notebook_tqdm\n"
     ]
    }
   ],
   "source": [
    "from DSEnhanced import DSEnhanced\n",
    "from config import *\n",
    "import os"
   ]
  },
  {
   "cell_type": "code",
   "execution_count": 2,
   "metadata": {},
   "outputs": [
    {
     "data": {
      "text/plain": [
       "['Brain Tumor.csv',\n",
       " 'breast-cancer-wisconsin.csv',\n",
       " 'gaussian_df.csv',\n",
       " 'rectangle_df.csv',\n",
       " 'uniform_df.csv',\n",
       " 'wine.csv']"
      ]
     },
     "execution_count": 2,
     "metadata": {},
     "output_type": "execute_result"
    }
   ],
   "source": [
    "os.listdir(DATASET_FOLDER)"
   ]
  },
  {
   "cell_type": "code",
   "execution_count": 3,
   "metadata": {},
   "outputs": [
    {
     "name": "stderr",
     "output_type": "stream",
     "text": [
      "24-05-03 01:42:51 [INFO] Methods list: ['clustering', 'random', 'uniform']\n",
      "24-05-03 01:42:51 [INFO] Found 6 datasets\n",
      "24-05-03 01:42:51 [DEBUG] Dataset: gaussian_df | Shape: (500, 3)\n",
      "24-05-03 01:42:51 [DEBUG] (500, 3) - dropped columns with more than 20% missing values\n",
      "24-05-03 01:42:51 [DEBUG] (500, 3) - drop rows with missing values\n",
      "24-05-03 01:42:51 [DEBUG] (500, 3) drop non-numeric columns\n",
      "24-05-03 01:42:51 [INFO] ------ Dataset: gaussian_df | Shape: (500, 3) | Label ratio: 0.50 -------\n",
      "24-05-03 01:42:51 [INFO] Step 0: Data split done | 350 - 150\n",
      "24-05-03 01:42:51 [INFO] ----------- Running clustering method -----------\n",
      "24-05-03 01:42:51 [DEBUG] Step 1: Standard scaling complete\n",
      "24-05-03 01:42:51 [INFO] Step 2.1: Performing kmeans clustering\n",
      "Exception in thread Thread-6 (_readerthread):\n",
      "Traceback (most recent call last):\n",
      "  File \"c:\\Users\\hayk_\\.conda\\envs\\thesis\\lib\\threading.py\", line 1016, in _bootstrap_inner\n",
      "    self.run()\n",
      "  File \"c:\\Users\\hayk_\\.conda\\envs\\thesis\\lib\\threading.py\", line 953, in run\n",
      "    self._target(*self._args, **self._kwargs)\n",
      "  File \"c:\\Users\\hayk_\\.conda\\envs\\thesis\\lib\\subprocess.py\", line 1515, in _readerthread\n",
      "    buffer.append(fh.read())\n",
      "  File \"c:\\Users\\hayk_\\.conda\\envs\\thesis\\lib\\codecs.py\", line 322, in decode\n",
      "    (result, consumed) = self._buffer_decode(data, self.errors, final)\n",
      "UnicodeDecodeError: 'utf-8' codec can't decode byte 0x81 in position 3: invalid start byte\n",
      "  File \"c:\\Users\\hayk_\\.conda\\envs\\thesis\\lib\\site-packages\\joblib\\externals\\loky\\backend\\context.py\", line 282, in _count_physical_cores\n",
      "    raise ValueError(f\"found {cpu_count_physical} physical cores < 1\")\n",
      "24-05-03 01:42:51 [INFO] Step 2.1: Clustering and inference done\n",
      "24-05-03 01:42:51 [INFO] Step 2.2: Evaluate clustering\n",
      "24-05-03 01:42:51 [DEBUG] Evaluation on train\n",
      "24-05-03 01:42:51 [DEBUG] \tsilhouette = 0.719\n",
      "24-05-03 01:42:51 [DEBUG] \tcalinski_harabasz = 1653.432\n",
      "24-05-03 01:42:51 [DEBUG] \tinertia = 182.569\n",
      "24-05-03 01:42:51 [DEBUG] Evaluation on test\n",
      "24-05-03 01:42:51 [DEBUG] \tsilhouette = 0.727\n",
      "24-05-03 01:42:51 [DEBUG] \tcalinski_harabasz = 764.49\n",
      "24-05-03 01:42:51 [INFO] Step 2.2: Clustering evaluation done\n",
      "24-05-03 01:42:51 [DEBUG] Evaluation on train\n",
      "24-05-03 01:42:51 [DEBUG] \tAccuracy:  1.00\n",
      "24-05-03 01:42:51 [DEBUG] \tF1 Score: 1.00\n",
      "24-05-03 01:42:51 [DEBUG] \tConfusion Matrix: \n",
      "[[179   0]\n",
      " [  0 171]]\n",
      "24-05-03 01:42:51 [DEBUG] Evaluation on test\n",
      "24-05-03 01:42:51 [DEBUG] \tAccuracy:  1.00\n",
      "24-05-03 01:42:51 [DEBUG] \tF1 Score: 1.00\n",
      "24-05-03 01:42:51 [DEBUG] \tConfusion Matrix: \n",
      "[[71  0]\n",
      " [ 0 79]]\n",
      "24-05-03 01:42:51 [INFO] Step 3: Clustering as a classifier, evaluation done\n",
      "24-05-03 01:42:51 [INFO] Step 4: Opacity calculation done\n",
      "24-05-03 01:42:51 [DEBUG] Step 1: Standard scaling complete\n",
      "24-05-03 01:42:51 [INFO] Step 2.1: Performing dbscan clustering\n",
      "24-05-03 01:42:51 [INFO] Step 2.1: Clustering and inference done\n",
      "24-05-03 01:42:51 [INFO] Step 2.2: Evaluate clustering\n",
      "24-05-03 01:42:51 [DEBUG] Evaluation on train\n",
      "24-05-03 01:42:51 [DEBUG] \tsilhouette = 0.051\n",
      "24-05-03 01:42:51 [DEBUG] \tcalinski_harabasz = 66.719\n",
      "24-05-03 01:42:51 [DEBUG] Evaluation on test\n",
      "24-05-03 01:42:51 [DEBUG] \tsilhouette = 0.05\n",
      "24-05-03 01:42:51 [DEBUG] \tcalinski_harabasz = 28.881\n",
      "24-05-03 01:42:51 [INFO] Step 2.2: Clustering evaluation done\n",
      "24-05-03 01:42:51 [DEBUG] Evaluation on train\n",
      "24-05-03 01:42:51 [DEBUG] \tAccuracy:  0.34\n",
      "24-05-03 01:42:51 [DEBUG] \tF1 Score: 0.00\n",
      "24-05-03 01:42:51 [DEBUG] \tConfusion Matrix: \n",
      "[[119  60]\n",
      " [171   0]]\n",
      "24-05-03 01:42:51 [DEBUG] Evaluation on test\n",
      "24-05-03 01:42:51 [DEBUG] \tAccuracy:  0.32\n",
      "24-05-03 01:42:51 [DEBUG] \tF1 Score: 0.00\n",
      "24-05-03 01:42:51 [DEBUG] \tConfusion Matrix: \n",
      "[[48 23]\n",
      " [79  0]]\n",
      "24-05-03 01:42:51 [INFO] Step 3: Clustering as a classifier, evaluation done\n",
      "24-05-03 01:42:51 [INFO] Step 4: Opacity calculation done\n",
      "24-05-03 01:42:51 [DEBUG] Train: 350\n",
      "24-05-03 01:42:51 [INFO] Step 5: Run DST (dataset=gaussian_df, label_for_dist=labels, clust=dbscan, breaks=3, add_mult_rules=False, maf_method=clustering)\n",
      "24-05-03 01:42:51 [DEBUG] \tModel init done\n"
     ]
    },
    {
     "name": "stdout",
     "output_type": "stream",
     "text": [
      "Found the desired number of clusters: 2 at eps=0.41\n",
      "Optimization started\n",
      "Processing epoch\t103\t0.0147\t"
     ]
    },
    {
     "name": "stderr",
     "output_type": "stream",
     "text": [
      "24-05-03 01:43:02 [DEBUG] \tModel fit done\n",
      "24-05-03 01:43:02 [INFO] Step 6: Inference done\n",
      "24-05-03 01:43:02 [DEBUG] Training Time: 10.89s\n",
      "24-05-03 01:43:02 [DEBUG] Epochs: 104\n",
      "24-05-03 01:43:02 [DEBUG] Min Loss: 0.014\n"
     ]
    },
    {
     "name": "stdout",
     "output_type": "stream",
     "text": [
      "Processing epoch\t104\t0.0146\t\n",
      "Training time: 10.89s, epochs: 104\n",
      "\n",
      "Least training loss reached: 0.014\n",
      "DSModelMultiQ(\n",
      "  DS Classifier using 8 rules\n",
      "  \n",
      "  Rule 1: x < 0.321\n",
      "  \tC1: 0.000\tC2: 0.909\tUnc: 0.091\n",
      "  \n",
      "  Rule 2: 0.321 < x < 0.705\n",
      "  \tC1: 0.068\tC2: 0.764\tUnc: 0.168\n",
      "  \n",
      "  Rule 3: 0.705 < x < 1.089\n",
      "  \tC1: 0.789\tC2: 0.000\tUnc: 0.211\n",
      "  \n",
      "  Rule 4: x > 1.089\n",
      "  \tC1: 0.756\tC2: 0.000\tUnc: 0.244\n",
      "  \n",
      "  Rule 5: y < 0.228\n",
      "  \tC1: 0.732\tC2: 0.000\tUnc: 0.268\n",
      "  \n",
      "  Rule 6: 0.228 < y < 0.530\n",
      "  \tC1: 0.694\tC2: 0.073\tUnc: 0.234\n",
      "  \n",
      "  Rule 7: 0.530 < y < 0.833\n",
      "  \tC1: 0.280\tC2: 0.452\tUnc: 0.268\n",
      "  \n",
      "  Rule 8: y > 0.833\n",
      "  \tC1: 0.000\tC2: 0.924\tUnc: 0.076\n",
      ")\n"
     ]
    },
    {
     "name": "stderr",
     "output_type": "stream",
     "text": [
      "24-05-03 01:43:02 [DEBUG] Loaded backend module://matplotlib_inline.backend_inline version unknown.\n",
      "24-05-03 01:43:02 [DEBUG] Loaded backend module://matplotlib_inline.backend_inline version unknown.\n",
      "24-05-03 01:43:02 [DEBUG] Accuracy:  0.97\n",
      "24-05-03 01:43:02 [DEBUG] F1 Score: 0.97\n",
      "24-05-03 01:43:02 [DEBUG] Confusion Matrix: \n",
      "[[66  5]\n",
      " [ 0 79]]\n",
      "24-05-03 01:43:03 [INFO] ------------------------------\n",
      "24-05-03 01:43:03 [INFO] Finished gaussian_df\n",
      "24-05-03 01:43:03 [INFO] ----------- Running random method -----------\n",
      "24-05-03 01:43:03 [DEBUG] Train: 350\n",
      "24-05-03 01:43:03 [INFO] Step 5: Run DST (dataset=gaussian_df, label_for_dist=labels, clust=dbscan, breaks=3, add_mult_rules=False, maf_method=random)\n",
      "24-05-03 01:43:03 [DEBUG] \tModel init done\n"
     ]
    },
    {
     "name": "stdout",
     "output_type": "stream",
     "text": [
      "Optimization started\n",
      "Processing epoch\t254\t0.0227\t"
     ]
    },
    {
     "name": "stderr",
     "output_type": "stream",
     "text": [
      "24-05-03 01:43:34 [DEBUG] \tModel fit done\n",
      "24-05-03 01:43:34 [INFO] Step 6: Inference done\n",
      "24-05-03 01:43:34 [DEBUG] Training Time: 31.56s\n",
      "24-05-03 01:43:34 [DEBUG] Epochs: 254\n",
      "24-05-03 01:43:34 [DEBUG] Min Loss: 0.023\n"
     ]
    },
    {
     "name": "stdout",
     "output_type": "stream",
     "text": [
      "\n",
      "Training time: 31.56s, epochs: 254\n",
      "\n",
      "Least training loss reached: 0.023\n",
      "DSModelMultiQ(\n",
      "  DS Classifier using 8 rules\n",
      "  \n",
      "  Rule 1: x < 0.321\n",
      "  \tC1: 0.000\tC2: 0.740\tUnc: 0.260\n",
      "  \n",
      "  Rule 2: 0.321 < x < 0.705\n",
      "  \tC1: 0.000\tC2: 0.658\tUnc: 0.342\n",
      "  \n",
      "  Rule 3: 0.705 < x < 1.089\n",
      "  \tC1: 0.706\tC2: 0.000\tUnc: 0.294\n",
      "  \n",
      "  Rule 4: x > 1.089\n",
      "  \tC1: 0.802\tC2: 0.000\tUnc: 0.198\n",
      "  \n",
      "  Rule 5: y < 0.228\n",
      "  \tC1: 0.679\tC2: 0.000\tUnc: 0.321\n",
      "  \n",
      "  Rule 6: 0.228 < y < 0.530\n",
      "  \tC1: 0.516\tC2: 0.020\tUnc: 0.464\n",
      "  \n",
      "  Rule 7: 0.530 < y < 0.833\n",
      "  \tC1: 0.015\tC2: 0.521\tUnc: 0.464\n",
      "  \n",
      "  Rule 8: y > 0.833\n",
      "  \tC1: 0.000\tC2: 0.715\tUnc: 0.285\n",
      ")\n"
     ]
    },
    {
     "name": "stderr",
     "output_type": "stream",
     "text": [
      "24-05-03 01:43:34 [DEBUG] Accuracy:  0.99\n",
      "24-05-03 01:43:34 [DEBUG] F1 Score: 0.99\n",
      "24-05-03 01:43:34 [DEBUG] Confusion Matrix: \n",
      "[[69  2]\n",
      " [ 0 79]]\n",
      "24-05-03 01:43:34 [INFO] ------------------------------\n",
      "24-05-03 01:43:34 [INFO] Finished gaussian_df\n",
      "24-05-03 01:43:34 [INFO] ----------- Running uniform method -----------\n",
      "24-05-03 01:43:34 [DEBUG] Train: 350\n",
      "24-05-03 01:43:34 [INFO] Step 5: Run DST (dataset=gaussian_df, label_for_dist=labels, clust=dbscan, breaks=3, add_mult_rules=False, maf_method=uniform)\n",
      "24-05-03 01:43:34 [DEBUG] \tModel init done\n"
     ]
    },
    {
     "name": "stdout",
     "output_type": "stream",
     "text": [
      "Optimization started\n",
      "Processing epoch\t189\t0.0240\t"
     ]
    },
    {
     "name": "stderr",
     "output_type": "stream",
     "text": [
      "24-05-03 01:44:01 [DEBUG] \tModel fit done\n",
      "24-05-03 01:44:01 [INFO] Step 6: Inference done\n",
      "24-05-03 01:44:01 [DEBUG] Training Time: 26.37s\n",
      "24-05-03 01:44:01 [DEBUG] Epochs: 190\n",
      "24-05-03 01:44:01 [DEBUG] Min Loss: 0.024\n"
     ]
    },
    {
     "name": "stdout",
     "output_type": "stream",
     "text": [
      "Processing epoch\t190\t0.0239\t\n",
      "Training time: 26.37s, epochs: 190\n",
      "\n",
      "Least training loss reached: 0.024\n",
      "DSModelMultiQ(\n",
      "  DS Classifier using 8 rules\n",
      "  \n",
      "  Rule 1: x < 0.321\n",
      "  \tC1: 0.000\tC2: 0.758\tUnc: 0.242\n",
      "  \n",
      "  Rule 2: 0.321 < x < 0.705\n",
      "  \tC1: 0.000\tC2: 0.664\tUnc: 0.336\n",
      "  \n",
      "  Rule 3: 0.705 < x < 1.089\n",
      "  \tC1: 0.682\tC2: 0.000\tUnc: 0.318\n",
      "  \n",
      "  Rule 4: x > 1.089\n",
      "  \tC1: 0.744\tC2: 0.000\tUnc: 0.256\n",
      "  \n",
      "  Rule 5: y < 0.228\n",
      "  \tC1: 0.693\tC2: 0.000\tUnc: 0.307\n",
      "  \n",
      "  Rule 6: 0.228 < y < 0.530\n",
      "  \tC1: 0.577\tC2: 0.042\tUnc: 0.381\n",
      "  \n",
      "  Rule 7: 0.530 < y < 0.833\n",
      "  \tC1: 0.095\tC2: 0.513\tUnc: 0.393\n",
      "  \n",
      "  Rule 8: y > 0.833\n",
      "  \tC1: 0.000\tC2: 0.711\tUnc: 0.289\n",
      ")\n"
     ]
    },
    {
     "name": "stderr",
     "output_type": "stream",
     "text": [
      "24-05-03 01:44:01 [DEBUG] Accuracy:  0.99\n",
      "24-05-03 01:44:01 [DEBUG] F1 Score: 0.99\n",
      "24-05-03 01:44:01 [DEBUG] Confusion Matrix: \n",
      "[[69  2]\n",
      " [ 0 79]]\n",
      "24-05-03 01:44:01 [INFO] ------------------------------\n",
      "24-05-03 01:44:01 [INFO] Finished gaussian_df\n",
      "24-05-03 01:44:01 [INFO] Finished all MAF methods\n"
     ]
    }
   ],
   "source": [
    "DST = DSEnhanced(run_for_all_mafs=True, dataset=\"gaussian_df.csv\")\n",
    "\n",
    "DST.run()\n"
   ]
  },
  {
   "cell_type": "code",
   "execution_count": null,
   "metadata": {},
   "outputs": [],
   "source": []
  }
 ],
 "metadata": {
  "kernelspec": {
   "display_name": "thesis",
   "language": "python",
   "name": "python3"
  },
  "language_info": {
   "codemirror_mode": {
    "name": "ipython",
    "version": 3
   },
   "file_extension": ".py",
   "mimetype": "text/x-python",
   "name": "python",
   "nbconvert_exporter": "python",
   "pygments_lexer": "ipython3",
   "version": "3.10.14"
  }
 },
 "nbformat": 4,
 "nbformat_minor": 2
}
